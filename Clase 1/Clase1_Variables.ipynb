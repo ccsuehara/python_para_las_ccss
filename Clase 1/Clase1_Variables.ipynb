{
 "cells": [
  {
   "cell_type": "markdown",
   "metadata": {
    "slideshow": {
     "slide_type": "slide"
    }
   },
   "source": [
    "# Clase 1: Variables, tipos de datos, operadores y expresiones"
   ]
  },
  {
   "cell_type": "markdown",
   "metadata": {},
   "source": [
    "<a class=\"anchor\" id=\"principio\"></a> \n",
    "- [Introdución](#intro)\n",
    "- [0. Estructura Léxica](#lexic)\n",
    "- [1. Variables](#variables)\n",
    "    - [Nombres de las variables](#name_vars)\n",
    "    - [Asignando múltiples valores](#multivals)\n",
    "- [2. Tipos de datos](#tipos-de-datos) \n",
    "    - [Números](#numbers)  \n",
    "    - [Strings](#strings)  \n",
    "    - [Trabajando con strings](#metodosstrings)\n",
    "    - [Booleanos](#boleans)\n",
    "    - [Convirtiendo a otro tipo](#casting)\n",
    "    - [Dynamic Typing](#dynamictyping)\n",
    "- [3. Operadores](#operadores)\n",
    "    - [Aritméticos](#aritmeticos)\n",
    "    - [Comparación](#comparacion)\n",
    "    - [Lógicos](#logicos)\n",
    "    - [Identidad](#identidad)\n",
    "    - [Asignación aumentada](#asignacion)\n",
    "    - [Membresía](#membresia)\n",
    "    - [Bitwise](#bitwise)\n",
    "- [4. Delimitadores](#delimitadores)\n",
    "- [5. Keywords](#claves)\n",
    "[6. Expresiones y Sentencias](#expresiones) \n"
   ]
  },
  {
   "cell_type": "markdown",
   "metadata": {
    "slideshow": {
     "slide_type": "slide"
    }
   },
   "source": [
    "<a class=\"anchor\" id=\"intro\"></a>\n",
    "\n",
    "## Introducción"
   ]
  },
  {
   "cell_type": "markdown",
   "metadata": {
    "slideshow": {
     "slide_type": "fragment"
    }
   },
   "source": [
    "<a class=\"anchor\" id=\"lexic\"></a>\n",
    "\n",
    "Estructura léxica\n",
    "---  \n",
    "Así como el lenguaje natural (español, inglés), todo lenguaje de programación tiene una estructura léxica, o conjunto de reglas básicas que dictan cómo escribir programas en dicho lenguaje. \n",
    "\n",
    "En esencia un programa es una serie de instrucciones que escribimos en un lenguaje de programación determinado para que la máquina nos entienda. \n",
    "\n",
    "Vamos a abordar el corazón del Python al explorar la estructura léxica, la cual constituye las piezas más pequeñas que conforman un programa. \n",
    "\n",
    "Veremos los elementos fundamentales para escribir programas: variables, operadores, delimitadores, keywords y finalmente, sentencias y expresiones. \n",
    "\n"
   ]
  },
  {
   "cell_type": "markdown",
   "metadata": {
    "slideshow": {
     "slide_type": "slide"
    }
   },
   "source": [
    "<a class=\"anchor\" id=\"variables\"></a>\n",
    "## 1. Variables"
   ]
  },
  {
   "cell_type": "markdown",
   "metadata": {
    "slideshow": {
     "slide_type": "fragment"
    }
   },
   "source": [
    "Las variables son todo aquello que definiremos con un nombre, y a lo que nos referiremos después si queremos usarlo. Las variables pueden ser datos, texto, números, pero también cosas más complicadas como funciones, o incluso otros programas. \n",
    "\n",
    "Las variables son, también, un nombre simbólico que representa la ubicación en la memoria de una computadora. "
   ]
  },
  {
   "cell_type": "markdown",
   "metadata": {
    "slideshow": {
     "slide_type": "fragment"
    }
   },
   "source": [
    "Se utiliza el operador ```=``` para asignarle el valor a la variable. "
   ]
  },
  {
   "cell_type": "code",
   "execution_count": 1,
   "metadata": {
    "slideshow": {
     "slide_type": "fragment"
    }
   },
   "outputs": [],
   "source": [
    "bienvenida = \"Mañana será bonito.\""
   ]
  },
  {
   "cell_type": "code",
   "execution_count": 2,
   "metadata": {},
   "outputs": [
    {
     "name": "stdout",
     "output_type": "stream",
     "text": [
      "Mañana será bonito.\n"
     ]
    }
   ],
   "source": [
    "print(bienvenida)"
   ]
  },
  {
   "cell_type": "code",
   "execution_count": null,
   "metadata": {
    "slideshow": {
     "slide_type": "fragment"
    }
   },
   "outputs": [],
   "source": [
    "operacion = 1 + 2 + 3\n",
    "print(operacion)"
   ]
  },
  {
   "cell_type": "markdown",
   "metadata": {
    "slideshow": {
     "slide_type": "slide"
    }
   },
   "source": [
    "Se puede reasignar el valor de una variable: "
   ]
  },
  {
   "cell_type": "code",
   "execution_count": null,
   "metadata": {
    "slideshow": {
     "slide_type": "fragment"
    }
   },
   "outputs": [],
   "source": [
    "operacion = 4 + 5 + 6\n",
    "print(operacion)"
   ]
  },
  {
   "cell_type": "markdown",
   "metadata": {
    "slideshow": {
     "slide_type": "subslide"
    }
   },
   "source": [
    "No se puede llamar a una variable no definida."
   ]
  },
  {
   "cell_type": "markdown",
   "metadata": {},
   "source": [
    "En resumen:\n",
    "\n",
    "<img src=\"img/literal_identi.png\" alt=\"vars\" width=\"400\" height=\"300\">\n",
    "\n",
    "Donde: \n",
    "- Los literales son los valores en sí.\n",
    "- Los identificadores son los nombres de la variable. "
   ]
  },
  {
   "cell_type": "markdown",
   "metadata": {},
   "source": [
    "<a class=\"anchor\" id=\"name_vars\"></a>\n",
    "\n",
    "### Nombres de las variables: \n",
    "- El nombre de una variable debe comenzar con una letra o un _ (no puede comenzar con un número).   \n",
    " "
   ]
  },
  {
   "cell_type": "code",
   "execution_count": null,
   "metadata": {},
   "outputs": [],
   "source": [
    "09_var = 'da error'"
   ]
  },
  {
   "cell_type": "markdown",
   "metadata": {},
   "source": [
    "- El nombre de una variable solo puede contener caracteres alfanuméricos y guiones bajos (A-z, 0-9 y _).  \n"
   ]
  },
  {
   "cell_type": "code",
   "execution_count": null,
   "metadata": {},
   "outputs": [],
   "source": [
    "$$%^^ = \"otro error\""
   ]
  },
  {
   "cell_type": "markdown",
   "metadata": {},
   "source": [
    "- Los nombres de las variables distinguen entre mayúsculas y minúsculas (edad, Edad y EDAD son tres variables diferentes).  \n"
   ]
  },
  {
   "cell_type": "code",
   "execution_count": null,
   "metadata": {},
   "outputs": [],
   "source": [
    "edad = 12\n",
    "EDAD = 24\n",
    "Edad = 36\n",
    "print(edad + Edad + EDAD)"
   ]
  },
  {
   "cell_type": "markdown",
   "metadata": {},
   "source": [
    "- Un nombre de variable no puede ser ninguna de las palabras clave de Python. \n",
    "\n",
    "OJO: Python tiene palabras reservadas. No llamar a una variable como un tipo de dato _int_, _str_, _float_. Estos son ejemplos de palabras reservadas en Python que no se deben utilizar como nombres."
   ]
  },
  {
   "cell_type": "code",
   "execution_count": null,
   "metadata": {},
   "outputs": [],
   "source": [
    "import keyword\n",
    "print(keyword.kwlist)"
   ]
  },
  {
   "cell_type": "code",
   "execution_count": null,
   "metadata": {},
   "outputs": [],
   "source": [
    "import builtins\n",
    "dir(builtins)"
   ]
  },
  {
   "cell_type": "markdown",
   "metadata": {},
   "source": [
    "Hay convenciones para nombrar variables en python. Nosotros usaremos el snake case, o el _minusculas_con_guion_bajo_ \n",
    "(Este es el default para nombrar variables en python)   \n",
    "- `mi_variable_nueva = \"INEI\"`\n",
    "\n",
    "- CamelCase, que es primera letra mayúscula (excepto primera) y sin espacios.  \n",
    "`miVariableNueva = \"INEI\"`\n",
    "\n",
    "- PascalCase  \n",
    "`MiVariableNueva = \"INEI\"`\n"
   ]
  },
  {
   "cell_type": "markdown",
   "metadata": {},
   "source": [
    "<a class=\"anchor\" id=\"multivals\"></a>\n",
    "\n",
    "### Asignando múltiples valores: "
   ]
  },
  {
   "cell_type": "code",
   "execution_count": null,
   "metadata": {},
   "outputs": [],
   "source": [
    "x, y, z = \"Palta\", \"Mango\", \"Yuca\"\n",
    "print(x)\n",
    "print(y)\n",
    "print(z)\n",
    "\n",
    "a = b = c = \"Membrillo\"\n",
    "print(a)\n",
    "print(b)\n",
    "print(c)"
   ]
  },
  {
   "cell_type": "markdown",
   "metadata": {},
   "source": [
    "#### Ejercicios\n",
    "\n",
    "- \n",
    "Asigna el valor entero 10 a una variable denominada tareas. Imprima el valor de esta variable.\n",
    "\n",
    "- Define tres variables: una con un nombre válido, otra con un nombre que comience con un número y otra que utilice una palabra reservada de Python. Identifique cuáles son incorrectas y explique por qué.\n",
    "\n",
    "- Asigne simultáneamente los valores 'perro', 'gato' y 'hámster' a las variables a, b y c, respectivamente. Imprime los valores de a, b y c.\n",
    "\n",
    "- Arregle los siguientes nombres de variables: `hola!`, `9grados`, `list`, `import`, `$dinero`, `Nombre Completo`. "
   ]
  },
  {
   "cell_type": "markdown",
   "metadata": {},
   "source": [
    "### NameError\n",
    "Es un error común al definir una variable. Ocurre seguido en el contexto del llamado a una variable inexistente. "
   ]
  },
  {
   "cell_type": "code",
   "execution_count": null,
   "metadata": {},
   "outputs": [],
   "source": [
    "mensaje = \"Thank you for sharing Python with the world, Guido!\"\n"
   ]
  },
  {
   "cell_type": "code",
   "execution_count": null,
   "metadata": {},
   "outputs": [],
   "source": [
    "mesaje"
   ]
  },
  {
   "cell_type": "markdown",
   "metadata": {
    "slideshow": {
     "slide_type": "skip"
    }
   },
   "source": [
    "[Volver a inicio](#principio)"
   ]
  },
  {
   "cell_type": "markdown",
   "metadata": {
    "slideshow": {
     "slide_type": "slide"
    }
   },
   "source": [
    "<a class=\"anchor\" id=\"tipos-de-datos\"></a>\n",
    "\n",
    "## 2. Tipos de datos"
   ]
  },
  {
   "cell_type": "markdown",
   "metadata": {
    "slideshow": {
     "slide_type": "fragment"
    }
   },
   "source": [
    "Todas las variables de python son de algún (y único) tipo. \n",
    "El _tipo_ determina los atributos y procedimientos que tiene un objeto.   \n",
    "\n",
    "De los ejemplos anteriores tenemos: "
   ]
  },
  {
   "cell_type": "code",
   "execution_count": null,
   "metadata": {
    "slideshow": {
     "slide_type": "fragment"
    }
   },
   "outputs": [],
   "source": [
    "type(bienvenida)"
   ]
  },
  {
   "cell_type": "code",
   "execution_count": null,
   "metadata": {
    "slideshow": {
     "slide_type": "fragment"
    }
   },
   "outputs": [],
   "source": [
    "type(operacion)"
   ]
  },
  {
   "cell_type": "markdown",
   "metadata": {
    "slideshow": {
     "slide_type": "fragment"
    }
   },
   "source": [
    "Los tipos más básicos, o llamados *primitivos*, son: \n",
    "- integers\n",
    "- floats \n",
    "- strings  \n",
    "- booleans  \n",
    "  \n",
    "Se llaman primitivos porque los otros tipos de datos los utilizarán para "
   ]
  },
  {
   "cell_type": "markdown",
   "metadata": {
    "slideshow": {
     "slide_type": "subslide"
    }
   },
   "source": [
    "Más generalmente,  los tipos de datos son:  \n",
    "\n",
    "<table>\n",
    "  <tr>\n",
    "    <th>Tipo</th>\n",
    "    <th>Nombre</th>\n",
    "    <th>Built-in</th>\n",
    "  </tr>\n",
    "  <tr>\n",
    "    <td rowspan=\"1\" style=\"vertical-align: middle;\">Texto</td>\n",
    "    <td>Cadena de texto</td>\n",
    "    <td>str</td>\n",
    "  </tr>\n",
    "  <tr>\n",
    "    <td rowspan=\"2\" style=\"vertical-align: middle;\">Números</td>\n",
    "    <td>Integers</td>\n",
    "    <td>int</td>\n",
    "  </tr>\n",
    "  <tr>\n",
    "    <td>Flotantes</td>\n",
    "    <td>float</td>\n",
    "  </tr>\n",
    "  <tr>\n",
    "    <td rowspan=\"3\" style=\"vertical-align: middle;\">Secuencias</td>\n",
    "    <td>Listas</td>\n",
    "    <td>list</td>\n",
    "  </tr>\n",
    "  <tr>\n",
    "    <td>Tuplas</td>\n",
    "    <td>tuple</td>\n",
    "  </tr>\n",
    "  <tr>\n",
    "    <td>Rango</td>\n",
    "    <td>range</td>\n",
    "  </tr>\n",
    "  <tr>\n",
    "    <td rowspan=\"2\" style=\"vertical-align: middle;\">Conjuntos</td>\n",
    "    <td>Conjuntos</td>\n",
    "    <td>set</td>\n",
    "  </tr>\n",
    "  <tr>\n",
    "    <td>Conjuntos Inmutables</td>\n",
    "    <td>frozenset</td>\n",
    "  </tr>\n",
    "  <tr>\n",
    "    <td style=\"vertical-align: middle;\">Mapeo</td>\n",
    "    <td>Diccionarios</td>\n",
    "    <td>dict</td>\n",
    "  </tr>\n",
    "  <tr>\n",
    "    <td style=\"vertical-align: middle;\">Booleans</td>\n",
    "    <td>Booleanos</td>\n",
    "    <td>bool</td>\n",
    "  </tr>\n",
    "  <tr>\n",
    "    <td rowspan=\"3\" style=\"vertical-align: middle;\">Binarios</td>\n",
    "    <td>Bytes</td>\n",
    "    <td>bytes</td>\n",
    "  </tr>\n",
    "  <tr>\n",
    "    <td>Array de bytes</td>\n",
    "    <td>bytearray</td>\n",
    "  </tr>\n",
    "  <tr>\n",
    "    <td>Memory view</td>\n",
    "    <td>memoryview</td>\n",
    "  </tr>\n",
    "  <tr>\n",
    "    <td style=\"vertical-align: middle;\">None type</td>\n",
    "    <td>Tipo None</td>\n",
    "    <td>None</td>\n",
    "  </tr>\n",
    "</table>\n",
    "\n",
    "Esta clase pondrá énfasis en los más básicos.\n"
   ]
  },
  {
   "cell_type": "markdown",
   "metadata": {
    "slideshow": {
     "slide_type": "slide"
    }
   },
   "source": [
    "<a class=\"anchor\" id=\"numbers\"></a>\n",
    "\n",
    "### Números (Integers y floats)"
   ]
  },
  {
   "cell_type": "code",
   "execution_count": null,
   "metadata": {
    "slideshow": {
     "slide_type": "fragment"
    }
   },
   "outputs": [],
   "source": [
    "num = 20\n",
    "type(num)"
   ]
  },
  {
   "cell_type": "code",
   "execution_count": null,
   "metadata": {
    "slideshow": {
     "slide_type": "fragment"
    }
   },
   "outputs": [],
   "source": [
    "num = 20.1\n",
    "type(num)"
   ]
  },
  {
   "cell_type": "markdown",
   "metadata": {
    "slideshow": {
     "slide_type": "fragment"
    }
   },
   "source": [
    "Los integers almacenan el número exacto asignado. \n",
    "En cambio, los floats almacenan una aproximación de ese número, llamado _punto flotante_. La diferencia entre ambos es la parte decimal."
   ]
  },
  {
   "cell_type": "code",
   "execution_count": null,
   "metadata": {
    "slideshow": {
     "slide_type": "fragment"
    }
   },
   "outputs": [],
   "source": [
    "num = 20.0\n",
    "type(num)"
   ]
  },
  {
   "cell_type": "code",
   "execution_count": null,
   "metadata": {},
   "outputs": [],
   "source": [
    "print(0.2+0.2)\n"
   ]
  },
  {
   "cell_type": "code",
   "execution_count": null,
   "metadata": {},
   "outputs": [],
   "source": [
    "print(0.4-0.1)\n"
   ]
  },
  {
   "cell_type": "markdown",
   "metadata": {},
   "source": [
    "Esto sucede por la forma en que las computadoras representan los números internamente, no con Python en sí. Básicamente, estamos acostumbrados a trabajar en potencias de diez, donde una décima más dos décimas son sólo tres décimas. Pero las computadoras funcionan en potencias de dos. Entonces su computadora tiene que representar 0.1 en una potencia de dos, y luego 0.2 como una potencia de dos, y expresar su suma como una potencia de dos. No existe una representación exacta de 0,3 en potencias de dos, y eso lo vemos en la respuesta a 0,4-0,1"
   ]
  },
  {
   "cell_type": "markdown",
   "metadata": {
    "slideshow": {
     "slide_type": "slide"
    }
   },
   "source": [
    "<a class=\"anchor\" id=\"strings\"></a>\n",
    "\n",
    "### Strings"
   ]
  },
  {
   "cell_type": "markdown",
   "metadata": {
    "slideshow": {
     "slide_type": "fragment"
    }
   },
   "source": [
    "Hay diferentes formas de crear strings, por ejemplo:"
   ]
  },
  {
   "cell_type": "code",
   "execution_count": null,
   "metadata": {
    "slideshow": {
     "slide_type": "fragment"
    }
   },
   "outputs": [],
   "source": [
    "mensaje = \"Aquí uso dos apóstrofes\"\n",
    "print(mensaje)"
   ]
  },
  {
   "cell_type": "code",
   "execution_count": null,
   "metadata": {
    "slideshow": {
     "slide_type": "fragment"
    }
   },
   "outputs": [],
   "source": [
    "mensaje = 'Aquí uso un apóstrofe'\n",
    "print(mensaje)"
   ]
  },
  {
   "cell_type": "code",
   "execution_count": null,
   "metadata": {
    "slideshow": {
     "slide_type": "fragment"
    }
   },
   "outputs": [],
   "source": [
    "haiku = '''¿Es un imperio\n",
    "esa luz que se apaga\n",
    "o una luciérnaga?'''\n",
    "print(haiku)"
   ]
  },
  {
   "cell_type": "code",
   "execution_count": null,
   "metadata": {
    "slideshow": {
     "slide_type": "fragment"
    }
   },
   "outputs": [],
   "source": [
    "haiku = \"\"\"Al Fuji subes\n",
    "despacio —pero subes,\n",
    "caracolito.\"\"\"\n",
    "print(haiku)"
   ]
  },
  {
   "cell_type": "code",
   "execution_count": null,
   "metadata": {},
   "outputs": [],
   "source": [
    "mantra = \"Alguien alguna vez dijo: 'Medir el progreso de la programación por líneas de código es como medir el progreso en la construcción de aviones por el peso'.\""
   ]
  },
  {
   "cell_type": "markdown",
   "metadata": {},
   "source": [
    "<a class=\"anchor\" id=\"metodosstrings\"></a>\n",
    "\n",
    "### Trabajando con strings"
   ]
  },
  {
   "cell_type": "code",
   "execution_count": null,
   "metadata": {},
   "outputs": [],
   "source": [
    "nombre = \"juana\""
   ]
  },
  {
   "cell_type": "code",
   "execution_count": null,
   "metadata": {},
   "outputs": [],
   "source": [
    "print(nombre)\n",
    "print(nombre.title())\n",
    "print(nombre.upper())\n",
    "print(nombre.lower())"
   ]
  },
  {
   "cell_type": "code",
   "execution_count": null,
   "metadata": {},
   "outputs": [],
   "source": [
    "apellido = \"gómez\"\n",
    "\n",
    "nombre_completo = nombre + \" \" + apellido\n",
    "print(nombre_completo.title())\n",
    "print(nombre_completo.capitalize())"
   ]
  },
  {
   "cell_type": "code",
   "execution_count": null,
   "metadata": {},
   "outputs": [],
   "source": [
    "'ua' in nombre"
   ]
  },
  {
   "cell_type": "code",
   "execution_count": null,
   "metadata": {},
   "outputs": [],
   "source": [
    "nombre.replace(\"j\", \"l\")"
   ]
  },
  {
   "cell_type": "code",
   "execution_count": null,
   "metadata": {},
   "outputs": [],
   "source": [
    "dicho = \"Alguien alguna vez dijo: 'Medir el progreso de la programación por líneas de código es como medir el progreso en la construcción de aviones por el peso'.\"\n",
    "dicho.split(\".\")\n",
    "dicho.split(\" \")\n",
    "dicho.split(\":\")"
   ]
  },
  {
   "cell_type": "code",
   "execution_count": null,
   "metadata": {},
   "outputs": [],
   "source": [
    "#El método format nos permite agregar una variable como string.\n",
    "print(\"Mi mamá se llama {}\".format(nombre.title()))\n",
    "print(\"este es un float: {}\".format(20))"
   ]
  },
  {
   "cell_type": "code",
   "execution_count": null,
   "metadata": {},
   "outputs": [],
   "source": [
    "print(\"{} por {} es igual a {}\".format(5, 7, 7*5))\n",
    "print(\"{:.1f} por {:.3f} es igual a {}\".format(5.34, 7.566777, 5.34*7.566777))"
   ]
  },
  {
   "cell_type": "markdown",
   "metadata": {},
   "source": [
    "En general, los _strings_ vendrán con estos _métodos_ adicionales con los que valen la pena familarizarse. Ahondaremos esto en expresiones regulares. "
   ]
  },
  {
   "cell_type": "markdown",
   "metadata": {
    "slideshow": {
     "slide_type": "slide"
    }
   },
   "source": [
    "<a class=\"anchor\" id=\"booleans\"></a>\n",
    "### Booleans"
   ]
  },
  {
   "cell_type": "markdown",
   "metadata": {
    "slideshow": {
     "slide_type": "fragment"
    }
   },
   "source": [
    "Los booleans son variables que simplemente indican Verdadero (True) o Falso (False)"
   ]
  },
  {
   "cell_type": "code",
   "execution_count": null,
   "metadata": {
    "slideshow": {
     "slide_type": "fragment"
    }
   },
   "outputs": [],
   "source": [
    "verdadero = True\n",
    "falso = False"
   ]
  },
  {
   "cell_type": "code",
   "execution_count": null,
   "metadata": {
    "slideshow": {
     "slide_type": "fragment"
    }
   },
   "outputs": [],
   "source": [
    "print(verdadero)\n",
    "print(falso)"
   ]
  },
  {
   "cell_type": "markdown",
   "metadata": {
    "slideshow": {
     "slide_type": "slide"
    }
   },
   "source": [
    "Los booleans se evalúan como 1 (True) y 0 (False), por ello: "
   ]
  },
  {
   "cell_type": "code",
   "execution_count": null,
   "metadata": {
    "slideshow": {
     "slide_type": "fragment"
    }
   },
   "outputs": [],
   "source": [
    "verdadero > falso"
   ]
  },
  {
   "cell_type": "markdown",
   "metadata": {
    "slideshow": {
     "slide_type": "slide"
    }
   },
   "source": [
    "\n",
    "### el valor `None`"
   ]
  },
  {
   "cell_type": "markdown",
   "metadata": {
    "slideshow": {
     "slide_type": "fragment"
    }
   },
   "source": [
    "Este es un valor especial que se usa cuando queremos definir una variable que aún no tiene un valor, y que usualmente será actualizada luego. Es como una variable vacía. "
   ]
  },
  {
   "cell_type": "code",
   "execution_count": null,
   "metadata": {
    "slideshow": {
     "slide_type": "fragment"
    }
   },
   "outputs": [],
   "source": [
    "almuerzo  = None\n",
    "if almuerzo is None:\n",
    "    print (\"Ve a almorzar\")\n",
    "    almuerzo = 1\n",
    "    print(\"Ya almorcé\")\n"
   ]
  },
  {
   "cell_type": "markdown",
   "metadata": {},
   "source": [
    "<a class=\"anchor\" id=\"casting\"></a>\n",
    "### Convirtiendo variables a otro tipo. \n",
    "_Casting_, o conversión de tipos, es un proceso en el que un tipo de dato se convierte en otro tipo de dato. "
   ]
  },
  {
   "cell_type": "code",
   "execution_count": null,
   "metadata": {},
   "outputs": [],
   "source": [
    "int('300') # 300\n",
    "int(3.1416) # 3\n",
    "\n",
    "str(True) # '1'\n",
    "str(3.1416) # '3.1416'\n",
    "\n",
    "float(1) # 1.0"
   ]
  },
  {
   "cell_type": "markdown",
   "metadata": {},
   "source": [
    "Consideraciones:\n",
    "- Pérdida de información y precisión. \n",
    "- Conversión entre tipos incompatibles. "
   ]
  },
  {
   "cell_type": "markdown",
   "metadata": {
    "slideshow": {
     "slide_type": "slide"
    }
   },
   "source": [
    "<a class=\"anchor\" id=\"dynamictyping\"></a>\n",
    "\n",
    "#### Dynamic Typing\n",
    "\n",
    "El lenguaje python es lo que se conoce como tipeado dinámicamente. Es decir, cuando creamos una variable, no hace falta definir de qué tipo es ya que Python _adivina_ a qué tipo corresponde la variable. Asimismo, cuando reemplazamos la variable por otra, este reemplazo puede ser _de otro tipo_. Esto debido a que el tipo de una variable se determina en tiempo de ejecución y no necesita ser especificado en el código. \n",
    "\n",
    "\n",
    "- código C: \n",
    "```\n",
    "int result = 0;\n",
    "for(int i=0; i<100; i++){\n",
    "    result += i;\n",
    "```\n",
    "- En python, lo mismo se expresa de esta forma: \n",
    "```\n",
    "result = 0\n",
    "for i in range(100):\n",
    "    result += i\n",
    "```\n",
    "-  *Diferencia esencial*: En C, el tipo de la variable es declarada explícitamente, en python, es inferida dinámicamente. \n",
    "Podemos asignar cualquier tipo de datos a cualquier variable.\n",
    "     \n",
    "- Código Python:\n",
    "```\n",
    "x = 4\n",
    "x = \"four\"\n",
    "```\n",
    "\n",
    "Aquí hemos cambiado el contenido de x de un integer a un string. Lo mismo en C provocaría (según la configuración del compilador) un error de compilación u otras consecuencias no deseadas:\n",
    "\n",
    "- código C: \n",
    "```\n",
    "int x = 4;\n",
    "x = \"four\";  //FAILS (en C, los comentarios se asignan con //)\n",
    "```\n",
    "\n",
    "Source: https://github.com/jakevdp/PythonDataScienceHandbook/blob/master/notebooks_v1/02.01-Understanding-Data-Types.ipynb\n"
   ]
  },
  {
   "cell_type": "markdown",
   "metadata": {},
   "source": [
    "El dynamic typing puede puede crear inconvenientes: \n"
   ]
  },
  {
   "cell_type": "code",
   "execution_count": null,
   "metadata": {
    "slideshow": {
     "slide_type": "subslide"
    }
   },
   "outputs": [],
   "source": [
    "num_a = 15\n",
    "num_b = 20\n",
    "num_c = num_a + num_b \n",
    "print(\"num_c:\", num_c)\n",
    "num_a = \"ah\"  # Volví a definir num_a, cambié el tipo y sale error\n",
    "num_d = num_a + num_b \n",
    "print(num_d)"
   ]
  },
  {
   "cell_type": "markdown",
   "metadata": {},
   "source": [
    "#### Ejercicios\n",
    "1. Los tipos de datos son compatibles entre sí, comprúebalo realizando los siguientes ejercicios:\n",
    "  - Suma un entero y un float.\n",
    "  - Concatena dos strings, uno de los cuales fue originalmente un entero.\n",
    "  - Multiplica un string por 2. \n",
    "2. Conversión de datos:\n",
    "  - Convierte el boolean `False` a string.\n",
    "  - Convierte el string '223345' a un entero.\n",
    "  - Convierte el número `2.7182818284590` a un entero.\n",
    "\n",
    "3. Sé una computadora:\n",
    " - Sin correr  ningún código, evalúa las siguientes operaciones y explica la salida del código a continuación.\n",
    "```\n",
    "print(\"12\" + str(3))\n",
    "print(\"Data\" + \"Science\")\n",
    "print(7 + 8.5)\n",
    "print(int(\"5\") + bool(False))\n",
    "```\n"
   ]
  },
  {
   "cell_type": "markdown",
   "metadata": {
    "slideshow": {
     "slide_type": "skip"
    }
   },
   "source": [
    "[Volver a inicio](#principio)"
   ]
  },
  {
   "cell_type": "markdown",
   "metadata": {
    "slideshow": {
     "slide_type": "slide"
    }
   },
   "source": [
    "<a class=\"anchor\" id=\"operadores\"></a>\n",
    "\n",
    "## 3. Operadores"
   ]
  },
  {
   "cell_type": "markdown",
   "metadata": {
    "slideshow": {
     "slide_type": "fragment"
    }
   },
   "source": [
    "Los operadores son utilizados para realizar operaciones en variables y values. \n",
    "\n",
    "Los operadores son: \n",
    "\n",
    "- Operadores aritméticos  \n",
    "- Operadores de comparación\n",
    "- Operadores lógicos\n",
    "- Operadores de identidad\n",
    "- Operadores de asignación aumentada\n",
    "- Operadores de membresía\n",
    "- Operadores bitwise\n",
    "\n"
   ]
  },
  {
   "cell_type": "markdown",
   "metadata": {
    "slideshow": {
     "slide_type": "subslide"
    }
   },
   "source": [
    "<a class=\"anchor\" id=\"aritmeticos\"></a>\n",
    "\n",
    "### Operadores aritméticos\n",
    "- `+` (suma)\n",
    "- `-` (resta)\n",
    "- `*` (multiplicación)\n",
    "- `/ `(división)\n",
    "- `%` (módulo, devuelve el resto de una división, o la parte decimal expresada en enteros)\n",
    "- `**` (exponente, potenciación)\n",
    "- `// ` (división entera cuyo resultado es el entero redondeado al más bajo)"
   ]
  },
  {
   "cell_type": "markdown",
   "metadata": {},
   "source": [
    "#### Ejercicios \n",
    "\n",
    "- Calcula el total de gastos semanales en pasajes. Los gastos diarios son: lunes S/.5.50, martes S/. 18.90, miércoles S/.12.80, jueves S/.50, y viernes S/.25.20. Asigna una variable al resultado. \n",
    "\n",
    "- Si un automóvil recorre 350 kilómetros en un día y se detiene a 150 kilómetros antes de llegar a su destino, calcula la distancia que aún falta por recorrer.\n",
    "\n",
    "- Un productor de café tiene 15 sacos de 5 (12.5kg) arrobas cada una. Calcula cuántas bolsas de 3 kilos se utilizarían para redistribuir esta cantidad. \n",
    "\n",
    "- En un curso de 400 estudiantes hay 1121 lapiceros. Determina cuántos lapiceros le corresponden a cada estudiante.\n",
    "\n",
    "- Hay 42 computadores disponibles para estos 400 estudiantes. Todo estudiante debe ser asignado a una computadora. ¿Cuántas computadoras tiene asignado un estudiante de más? \n",
    "\n",
    "- Encuentra el promedio de las siguientes cinco calificaciones: 11, 08, 20, 15, 16\n",
    "\n",
    "- Calcula el área de un cuadrado cuyo lado mide 8 centímetros utilizando el operador de potencia.\n",
    "\n",
    "\n"
   ]
  },
  {
   "cell_type": "markdown",
   "metadata": {
    "slideshow": {
     "slide_type": "subslide"
    }
   },
   "source": [
    "Python puede mezclar operadores aritméticos:\n"
   ]
  },
  {
   "cell_type": "code",
   "execution_count": null,
   "metadata": {
    "slideshow": {
     "slide_type": "fragment"
    }
   },
   "outputs": [],
   "source": [
    "1 + 5 + 7 / 6  ** 2 + 250 % 8"
   ]
  },
  {
   "cell_type": "markdown",
   "metadata": {
    "slideshow": {
     "slide_type": "subslide"
    }
   },
   "source": [
    "Esto hace variar la prioridad del operador. La forma como \"rompemos\" esta prioridad es utilizando paréntesis (), que forma parte de los delimitadores (los veremos más adelante). En el ejemplo anterior:  "
   ]
  },
  {
   "cell_type": "code",
   "execution_count": null,
   "metadata": {
    "slideshow": {
     "slide_type": "fragment"
    }
   },
   "outputs": [],
   "source": [
    "(1 + 5 + 7) / 6 ** 2 + 250 % 8"
   ]
  },
  {
   "cell_type": "code",
   "execution_count": null,
   "metadata": {
    "slideshow": {
     "slide_type": "fragment"
    }
   },
   "outputs": [],
   "source": [
    "(1 + 5 + 7) / 6 ** (2 + 250) % 8"
   ]
  },
  {
   "cell_type": "code",
   "execution_count": null,
   "metadata": {
    "slideshow": {
     "slide_type": "fragment"
    }
   },
   "outputs": [],
   "source": [
    "1 + ((5 + 7) / 6 ** 2) + (250 % 8)"
   ]
  },
  {
   "cell_type": "markdown",
   "metadata": {
    "slideshow": {
     "slide_type": "slide"
    }
   },
   "source": [
    "<a class=\"anchor\" id=\"comparacion\"></a>\n",
    "\n",
    "### Operadores de comparación\n",
    "\n",
    "Los siguientes operadores realizan comparaciones entre valores/variables\n",
    "\n",
    "* `>`     Mayor que\n",
    "* `<`     Menor que\n",
    "* `>=`  Mayor o igual que\n",
    "* `<=`  Menor o igual que\n",
    "* `==`  Igual a\n",
    "* `!=`  No igual a\n",
    "\n",
    "Cuando se comparan estos valores, el resultado será un Booleano: True o False. "
   ]
  },
  {
   "cell_type": "code",
   "execution_count": null,
   "metadata": {
    "slideshow": {
     "slide_type": "fragment"
    }
   },
   "outputs": [],
   "source": [
    "10 > 12"
   ]
  },
  {
   "cell_type": "code",
   "execution_count": null,
   "metadata": {
    "slideshow": {
     "slide_type": "fragment"
    }
   },
   "outputs": [],
   "source": [
    "1 < 4"
   ]
  },
  {
   "cell_type": "code",
   "execution_count": null,
   "metadata": {
    "slideshow": {
     "slide_type": "slide"
    }
   },
   "outputs": [],
   "source": [
    "10 == 10"
   ]
  },
  {
   "cell_type": "code",
   "execution_count": null,
   "metadata": {
    "slideshow": {
     "slide_type": "fragment"
    }
   },
   "outputs": [],
   "source": [
    "10 >= 10"
   ]
  },
  {
   "cell_type": "code",
   "execution_count": null,
   "metadata": {
    "slideshow": {
     "slide_type": "fragment"
    }
   },
   "outputs": [],
   "source": [
    "3.14 == 3.1416"
   ]
  },
  {
   "cell_type": "markdown",
   "metadata": {
    "slideshow": {
     "slide_type": "subslide"
    }
   },
   "source": [
    "Los operadores aritméticos y de comparación se pueden mezclar!"
   ]
  },
  {
   "cell_type": "code",
   "execution_count": null,
   "metadata": {
    "slideshow": {
     "slide_type": "fragment"
    }
   },
   "outputs": [],
   "source": [
    "5 * 6 > 3 ** 2 - 1"
   ]
  },
  {
   "cell_type": "markdown",
   "metadata": {
    "slideshow": {
     "slide_type": "slide"
    }
   },
   "source": [
    "<a class=\"anchor\" id=\"logicos\"></a>\n",
    "\n",
    "### Operadores lógicos/ booleanos\n",
    "\n",
    "Python usa los siguientes 3 operadores booleanos:\n",
    "* `and`\n",
    "* `or`\n",
    "* `not`\n",
    "\n",
    "Estos operadores evalúan dos expresiones que tienen que devolver True o False"
   ]
  },
  {
   "cell_type": "code",
   "execution_count": null,
   "metadata": {
    "slideshow": {
     "slide_type": "fragment"
    }
   },
   "outputs": [],
   "source": [
    "(5 > 4) and (8 > 6)"
   ]
  },
  {
   "cell_type": "code",
   "execution_count": null,
   "metadata": {
    "slideshow": {
     "slide_type": "fragment"
    }
   },
   "outputs": [],
   "source": [
    "(8 * 5) < 64 and (10 < 7)"
   ]
  },
  {
   "cell_type": "code",
   "execution_count": null,
   "metadata": {
    "slideshow": {
     "slide_type": "slide"
    }
   },
   "outputs": [],
   "source": [
    "(5 > 4) or (8 < 6)"
   ]
  },
  {
   "cell_type": "code",
   "execution_count": null,
   "metadata": {
    "slideshow": {
     "slide_type": "fragment"
    }
   },
   "outputs": [],
   "source": [
    "not (8 < 6)"
   ]
  },
  {
   "cell_type": "markdown",
   "metadata": {
    "slideshow": {
     "slide_type": "fragment"
    }
   },
   "source": [
    "Existe un orden de evaluación de estos operadores, que corresponden a las reglas matemáticas convencionales. \n",
    "\n",
    "\n",
    "|Orden| Operador              | Nombre                                                  |\n",
    "|------|------------------------|-------------------------------------------------------|\n",
    "|1| `**`                   | Exponencial                                        |\n",
    "|2| `*, /, //, %, @`       | multiplicación, división, piso, módulo, at |\n",
    "|3| `+, -`                 | más, menos                            |\n",
    "|4| `<, <=, >, >=, !=, ==` | Operadores de comparación                                  |\n",
    "|5| `not`                   | Booleano NOT                                        |\n",
    "|6| `and`                   | Booleano AND                                        |\n",
    "|7| `or`                   | Booleano OR                                        |\n"
   ]
  },
  {
   "cell_type": "markdown",
   "metadata": {},
   "source": [
    "<a class=\"anchor\" id=\"identidad\"></a>\n",
    "\n",
    "### Operadores de identidad\n",
    "Utizados para comparar objetos, no en su valor, sino si refieren al mismo lugar en la memoria. \n",
    "\n",
    "- `is`\n",
    "- `is not`\n"
   ]
  },
  {
   "cell_type": "code",
   "execution_count": null,
   "metadata": {},
   "outputs": [],
   "source": [
    "x = 1226\n",
    "y = x\n",
    "\n",
    "x is y"
   ]
  },
  {
   "cell_type": "code",
   "execution_count": null,
   "metadata": {},
   "outputs": [],
   "source": [
    "id(x)"
   ]
  },
  {
   "cell_type": "code",
   "execution_count": null,
   "metadata": {},
   "outputs": [],
   "source": [
    "id(y)"
   ]
  },
  {
   "cell_type": "code",
   "execution_count": null,
   "metadata": {},
   "outputs": [],
   "source": [
    "x2 = 1226\n",
    "y2 = 1226"
   ]
  },
  {
   "cell_type": "code",
   "execution_count": null,
   "metadata": {},
   "outputs": [],
   "source": [
    "x2 is y2"
   ]
  },
  {
   "cell_type": "code",
   "execution_count": null,
   "metadata": {},
   "outputs": [],
   "source": [
    "## Ejercicios: \n",
    "Opcional: \n",
    "- Crea 2 variables a y b con un valor igual a 1. Comprueba si son el mismo objeto. ¿A qué se debe este comportamiento? Investiga. "
   ]
  },
  {
   "cell_type": "markdown",
   "metadata": {
    "slideshow": {
     "slide_type": "slide"
    }
   },
   "source": [
    "<a class=\"anchor\" id=\"asignacion\"></a>\n",
    "\n",
    "### Operadores de asignación aumentada\n",
    "\n",
    "Estos operadores se vale del `=` y los operadores aritméticos para reasignar un valor, en base a un valor base. Estos son: \n",
    "|Operador| Ejemplo              | Igual a                                                 |\n",
    "|------|------------------------|-------------------------------------------------------|\n",
    "|`+=`|    `x += 2`               | `x = x + 2   `                              |\n",
    "|`-=`| `x -= 3` | `x = x - 3` |\n",
    "|`*=`| `x *= 2` | `x = x * 2`                         |\n",
    "|`/=`| `x /= 10` | `x = x / 10`                                  |\n",
    "|`//=`| `x //= 4`  | `x = x // 4`                                        |\n",
    "|`%=`| `x %= 3` | `x = x % 3`                                       |\n",
    "|`**=` | `x **= 2` | `x = x ** 2`                                     |\n",
    "|`&=`| `x&=3` | `x = x & 3`                                  |\n",
    "| `\\|=`     | `x \\|= 3` | `x = x \\| 3`             |\n",
    "|`^=`| `x ^= 3` | `x = x ^ 3`                                       |\n",
    "|`>>=` | `x >>= 3` | `x = x >> 3`                                     |\n",
    "\n",
    "\n",
    "\n",
    "\n",
    "Algunas fuentes también clasifican a estos símbolos como delimitadores, que veremos más adelante. Esto es debido a su función dual de operaciones y de sintaxis de separación.  "
   ]
  },
  {
   "cell_type": "markdown",
   "metadata": {
    "jp-MarkdownHeadingCollapsed": true
   },
   "source": [
    "<a class=\"anchor\" id=\"membresia\"></a>\n",
    "\n",
    "### Operadores de membresía\n",
    "Son aquellos que indican si una secuencia pertenece un objeto. \n",
    "|Operador|Definición             | Ejemplo                                                |\n",
    "|------|------------------------|-------------------------------------------------------|\n",
    "|`in`|   Evalúa a `True` si una secuencia está presente en el objeto              | `2 in [1,2,3,4]`                              |\n",
    "|`not in`| Evalúa a `True` si una secuencia *no* está presente en el objeto | `2 not in [1,2,3,4]` |"
   ]
  },
  {
   "cell_type": "markdown",
   "metadata": {},
   "source": [
    "<a class=\"anchor\" id=\"bitwise\"></a>\n",
    "\n",
    "### Operadores Bitwise\n",
    "\n",
    "Los operadores bitwise operan sobre números, pero en lugar de tratar ese número como si fuera un valor único (decimal), operan en el string de la representación de bits, escrita en binario. Un número binario es un número expresado en el sistema de numeración de base 2, también llamado sistema de numeración binario, que consta de solo dos símbolos distintos: 0 (cero) y 1 (uno).\n",
    "\n",
    "Esos operadores son útiles al realizar operaciones a nivel de bits. No profundizaremos en ellos pues programaremos utilizando operadores lógicos. "
   ]
  },
  {
   "cell_type": "markdown",
   "metadata": {
    "slideshow": {
     "slide_type": "skip"
    }
   },
   "source": [
    "<a class=\"anchor\" id=\"delimitadores\"></a>\n",
    "\n",
    "## 4. Delimitadores: \n",
    "Son tokens que sirven para separar sentencias entre sí.   \n",
    "Estos son: \n",
    "`(`    `)`    `[`    `]`    `{`    `}`   `,`    `:`    `.`    ``` ` ```    `=`    `; `"
   ]
  },
  {
   "cell_type": "markdown",
   "metadata": {},
   "source": [
    "<a class=\"anchor\" id=\"claves\"></a>\n",
    "\n",
    "## 5. Keywords\n",
    "Son identificadores de python, reservados para usos sintácticos especiales. Son identificadores regulares(o palabras reservadas). Algunos keywords comienzan sentencias simples o compuestas, otros son operadores. \n"
   ]
  },
  {
   "cell_type": "code",
   "execution_count": null,
   "metadata": {},
   "outputs": [],
   "source": [
    "import keyword\n",
    "print(keyword.kwlist)"
   ]
  },
  {
   "cell_type": "markdown",
   "metadata": {
    "slideshow": {
     "slide_type": "slide"
    }
   },
   "source": [
    "<a class=\"anchor\" id=\"expresiones\"></a>\n",
    "\n",
    "## 6. Expresiones\n",
    "\n",
    "\n",
    "Las expresiones se producen cuando producimos una \"frase\" de código, combinando variables, operadores, las cuales se se evalún a un valor\n",
    "\n",
    "Podemos usar los elementos que tenemos para armar reglas lógicas complejas.   \n",
    "Ejemplo: Criterios de elegibilidad de Cuna Más \n",
    "\n",
    "En la siguiente clase veremos los statements. \n",
    "\n",
    "Ejemplo:  \n",
    "Los criterios de elegibilidad de Cuna Más son:\n",
    "\n"
   ]
  },
  {
   "cell_type": "markdown",
   "metadata": {
    "slideshow": {
     "slide_type": "subslide"
    }
   },
   "source": [
    "<img src=\"img/focalizacion.png\" width=\"1000\">\n"
   ]
  },
  {
   "cell_type": "code",
   "execution_count": null,
   "metadata": {
    "slideshow": {
     "slide_type": "fragment"
    }
   },
   "outputs": [],
   "source": [
    "#para distritos con centros  poblados rurales:\n",
    "UMBRAL_POBREZA = 50\n",
    "UMBRAL_RURAL = 50\n",
    "DESNUTRICION_CRONICA = 30\n",
    "\n",
    "#Definiendo un distrito \n",
    "pobreza = 20\n",
    "centros_rural = 60\n",
    "desnutricion_cronica = 35\n",
    "es_juntos = True\n",
    "rural = True ## Significa que es el area a evaluar es rural o no\n",
    "\n",
    "((pobreza >= UMBRAL_POBREZA) and (centros_rural >= UMBRAL_RURAL) and \\\n",
    "(desnutricion_cronica >= DESNUTRICION_CRONICA)  \\\n",
    "and es_juntos) and rural  \n"
   ]
  },
  {
   "cell_type": "markdown",
   "metadata": {},
   "source": [
    "### Cómo comentar tu código"
   ]
  },
  {
   "cell_type": "code",
   "execution_count": null,
   "metadata": {},
   "outputs": [],
   "source": [
    "a = 1 # Este es un comentario!\n",
    "\n",
    "# Todo lo que escribamos despues del michi será ignorado por el programa y tomado como comentario. \n"
   ]
  },
  {
   "cell_type": "markdown",
   "metadata": {},
   "source": [
    "¿Qué hace un buen comentario?\n",
    "- Es breve y va al grano, pero es una reflexión completa. La mayoría de los comentarios deben escribirse en oraciones completas.\n",
    "- Explica cómo estás pensando el problema, de modo que cuando vuelvas al código comprenderás cómo estabas abordándolo.\n",
    "- Explica tu pensamiento, de modo que otros que trabajan con tu código comprendan tu enfoque general ante un problema.\n",
    "- Explica en detalle secciones de código particularmente difíciles.\n",
    "  \n",
    "¿Cuándo deberías escribir comentarios?\n",
    "- Cuando tienes que pensar en el código antes de escribirlo.\n",
    "- Cuando es probable que luego olvides cómo estabas abordando un problema.\n",
    "- Cuando hay más de una manera de resolver un problema.\n",
    "- Cuando es poco probable que los demás anticipen tu forma de pensar sobre un problema.\n",
    "\n",
    "Escribir buenos comentarios es una de las señales claras de un buen programador. Si tiene algún interés real en tomarse la programación en serio, comience a utilizar comentarios ahora. Los verá a lo largo de los ejemplos de estos cuadernos.\n",
    "\n",
    "De Python Crash Course"
   ]
  },
  {
   "cell_type": "markdown",
   "metadata": {
    "slideshow": {
     "slide_type": "skip"
    }
   },
   "source": [
    "[Volver a inicio](#principio)"
   ]
  },
  {
   "cell_type": "markdown",
   "metadata": {},
   "source": [
    "Referencias:\n",
    "- Martelli, A., Ravenscroft, A., & Holden, S. (2017). Python in a Nutshell: The definitive reference (3rd ed.). O'Reilly Media.\n",
    "- Matthes, E. (2019). Python Crash Course: A Hands-On, Project-Based Introduction to Programming (2nd ed.). No Starch Press. "
   ]
  }
 ],
 "metadata": {
  "celltoolbar": "Slideshow",
  "kernelspec": {
   "display_name": "Python 3 (ipykernel)",
   "language": "python",
   "name": "python3"
  },
  "language_info": {
   "codemirror_mode": {
    "name": "ipython",
    "version": 3
   },
   "file_extension": ".py",
   "mimetype": "text/x-python",
   "name": "python",
   "nbconvert_exporter": "python",
   "pygments_lexer": "ipython3",
   "version": "3.11.5"
  }
 },
 "nbformat": 4,
 "nbformat_minor": 4
}
