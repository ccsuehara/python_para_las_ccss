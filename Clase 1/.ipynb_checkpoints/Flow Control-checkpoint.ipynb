{
 "cells": [
  {
   "cell_type": "markdown",
   "metadata": {
    "slideshow": {
     "slide_type": "slide"
    }
   },
   "source": [
    "# Flow Control (Control de flujos)"
   ]
  },
  {
   "cell_type": "markdown",
   "metadata": {
    "slideshow": {
     "slide_type": "fragment"
    }
   },
   "source": [
    "- El flow control se refiere a cómo queremos que nuestras instrucciones (programa) se ejecuten.\n",
    "- Por cómo, se referirá sobre todo al **_orden_** que queremos que tengan nuestras declaraciones y las **_condiciones_** bajo las que queremos que se ejecuten.\n",
    "\n",
    "- Suele suceder que no necesitamos que _todas las líneas_ de nuestras instrucciones se ejecuten, sino establecer condicionalidades para que aquellas que las cumplen, se activen.\n"
   ]
  },
  {
   "cell_type": "markdown",
   "metadata": {
    "slideshow": {
     "slide_type": "subslide"
    }
   },
   "source": [
    "\n",
    "Esta clase tendrá 3 grandes partes: \n",
    "\n",
    "[- Declaraciones condicionales](#scondic)   \n",
    "[- Declaraciones en bucle](#loop)  \n",
    "[- Declaraciones de transferencia](#transf)\n"
   ]
  },
  {
   "cell_type": "markdown",
   "metadata": {
    "slideshow": {
     "slide_type": "slide"
    }
   },
   "source": [
    "<a class=\"anchor\" id=\"scondic\"></a>\n",
    "\n",
    "## Declaraciones condicionales\n",
    "\n",
    "[- if statements](#if_est)    \n",
    "[- else statements](#els_est)  \n",
    "[- elif statements](#elif_est)   \n",
    "[- Diferencias if elif statements](#ifeli_est)   "
   ]
  },
  {
   "cell_type": "markdown",
   "metadata": {
    "slideshow": {
     "slide_type": "slide"
    }
   },
   "source": [
    "<a class=\"anchor\" id=\"if_est\"></a>\n",
    "\n",
    "### ``` if ``` statements\n",
    "Los statements condifionales (if statements) nos permiten realizar acciones basadas en una condicionalidad.\n",
    "\n",
    "La estructura general de un statement condicional es la siguiente:  \n",
    "\n",
    "```python\n",
    "if condition <booleano>:\n",
    "        <un statement condicional>\n",
    "else:\n",
    "        <otro statement condicional>\n",
    "```\n",
    "       \n",
    "        \n",
    "El ```if``` siempre es evaluado basado en un booleano!       \n",
    "\n"
   ]
  },
  {
   "cell_type": "markdown",
   "metadata": {
    "slideshow": {
     "slide_type": "slide"
    }
   },
   "source": [
    "Estructura importante:   \n",
    "- la palabra ``` if ```  \n",
    "- ``` condition ```  \n",
    "- ``` :```  \n",
    "- ``` indented block (bloque indentado) ```  \n",
    "\n",
    "A continuación un ejemplo:\n"
   ]
  },
  {
   "cell_type": "code",
   "execution_count": null,
   "metadata": {
    "slideshow": {
     "slide_type": "subslide"
    }
   },
   "outputs": [],
   "source": [
    "x = 5 \n",
    "\n",
    "if x > 1:\n",
    "    print(\"mayor que 1\")\n",
    "print(\"esto igual se imprime porque está fuera del bloque indentado\")"
   ]
  },
  {
   "cell_type": "code",
   "execution_count": null,
   "metadata": {
    "slideshow": {
     "slide_type": "fragment"
    }
   },
   "outputs": [],
   "source": [
    "x = 50 \n",
    "if  x % 5 == 0:\n",
    "    print (\"divisible por 5\")\n"
   ]
  },
  {
   "cell_type": "code",
   "execution_count": null,
   "metadata": {},
   "outputs": [],
   "source": [
    "voz = True\n",
    "if voz:\n",
    "    print(\"Tu voz existe.\")\n",
    "print(\"Esto está fuera del if.\")"
   ]
  },
  {
   "cell_type": "code",
   "execution_count": null,
   "metadata": {},
   "outputs": [],
   "source": [
    "if 10 < 5:\n",
    "    print(\"Esto no es cierto\")"
   ]
  },
  {
   "cell_type": "markdown",
   "metadata": {
    "slideshow": {
     "slide_type": "slide"
    }
   },
   "source": [
    "<a class=\"anchor\" id=\"els_est\"></a>\n",
    "\n",
    "### Agregando el ```else```\n",
    "\n",
    "El statement else se evalúa si el ```if``` es falso"
   ]
  },
  {
   "cell_type": "code",
   "execution_count": null,
   "metadata": {
    "slideshow": {
     "slide_type": "fragment"
    }
   },
   "outputs": [],
   "source": [
    "x = 0\n",
    "\n",
    "if x >= 0:\n",
    "    print(\"{} es un número no negativo\".format(x))\n",
    "else:\n",
    "    print(\"{} es un número negativo\".format(x))"
   ]
  },
  {
   "cell_type": "code",
   "execution_count": null,
   "metadata": {},
   "outputs": [],
   "source": [
    "# Declaración if edad = 18\n",
    "edad = 18\n",
    "if edad >= 18:\n",
    "  print(\"Eres mayor de edad\")\n",
    "else:\n",
    "  print(\"Eres menor de edad\")\n"
   ]
  },
  {
   "cell_type": "markdown",
   "metadata": {
    "slideshow": {
     "slide_type": "slide"
    }
   },
   "source": [
    "<a class=\"anchor\" id=\"elif_est\"></a>\n",
    "\n",
    "### Agregando el ```elif```\n",
    "\n",
    "- Los ```elif``` van antes de los ```else``` y evalúa alguna otra condición que nos importa cuando el ```if``` no se cumple. \n",
    "- Los elif son _mutuamente excluyentes_ entre sí y el ``` if ```. "
   ]
  },
  {
   "cell_type": "code",
   "execution_count": null,
   "metadata": {
    "slideshow": {
     "slide_type": "fragment"
    }
   },
   "outputs": [],
   "source": [
    "x = 0\n",
    "\n",
    "if x >= 0:\n",
    "    print(\"número positivo\")\n",
    "elif x == 0:\n",
    "    print(\"cero\")\n",
    "else:\n",
    "    print(\"número negativo\")\n",
    "\n",
    "          "
   ]
  },
  {
   "cell_type": "markdown",
   "metadata": {
    "slideshow": {
     "slide_type": "slide"
    }
   },
   "source": [
    "<a class=\"anchor\" id=\"ifeli_est\"></a>\n",
    "\n",
    "### La diferencia entre el ```elif``` y el ```if```\n",
    "\n",
    "**Importante**: \n",
    "- Todas las condiciones ```if``` serán evaluadas (múltiples if pueden ser verdaderos).  \n",
    "- Los  ```elif``` sólo se evalúan si las condiciones precedentes son falsas. \n",
    "- De ser cierta alguna condición previa al elif, el loop acaba. \n",
    "- Si ninguna de las condiciones se cumple, se ejecuta el bloque de código del else.\n"
   ]
  },
  {
   "cell_type": "markdown",
   "metadata": {},
   "source": [
    "### Ejemplos con if"
   ]
  },
  {
   "cell_type": "code",
   "execution_count": null,
   "metadata": {
    "slideshow": {
     "slide_type": "subslide"
    }
   },
   "outputs": [],
   "source": [
    "x = 1200\n",
    "\n",
    "if x > 0:\n",
    "    print(\"número positivo\")\n",
    "if x > 4:\n",
    "    print(\"número > 4\")\n",
    "if x > 1000:\n",
    "    print(\"número mayor a 1000\")\n",
    "else:\n",
    "    print(\"no imprime porque el anterior if es True\")"
   ]
  },
  {
   "cell_type": "code",
   "execution_count": null,
   "metadata": {},
   "outputs": [],
   "source": [
    "# El último else es evaluado porque no se cumple el if inmediatamente previo. \n",
    "x = 10000\n",
    "\n",
    "if x > 0:\n",
    "    print(\"número positivo\")\n",
    "if x > 4:\n",
    "    print(\"número > 4\")\n",
    "if x > 10000:  ## si lo cambio a x >= evalúa a True y ya no evalúa el else\n",
    "    print(\"número mayor a 10000\")\n",
    "else:\n",
    "    print(\"esto llega hasta aquí\")"
   ]
  },
  {
   "cell_type": "markdown",
   "metadata": {},
   "source": [
    "### Sentencia If-Elif-Else\n",
    "\n",
    "La sentencia if-elif-else se utiliza para verificar múltiples condiciones y ejecutar diferentes bloques de código basados en la primera condición que se evalúa como Verdadera."
   ]
  },
  {
   "cell_type": "code",
   "execution_count": null,
   "metadata": {
    "slideshow": {
     "slide_type": "subslide"
    }
   },
   "outputs": [],
   "source": [
    "# Ejemplo 2: Declaración if-elif-else\n",
    "\n",
    "calificacion = 75\n",
    "\n",
    "if calificacion >= 90:\n",
    "    print(\"Excelente\")\n",
    "elif calificacion >= 80:\n",
    "    print(\"Muy bien\")\n",
    "elif calificacion >= 70:\n",
    "    print(\"Bien\")\n",
    "else:\n",
    "    print(\"Practica más!\")"
   ]
  },
  {
   "cell_type": "code",
   "execution_count": null,
   "metadata": {
    "slideshow": {
     "slide_type": "slide"
    }
   },
   "outputs": [],
   "source": [
    "calificacion = 85\n",
    "\n",
    "# Ejemplo:\n",
    "if calificacion >= 90:\n",
    "    print(\"Calificación: A\")\n",
    "elif calificacion >= 80:\n",
    "    print(\"Calificación: B\")\n",
    "elif calificacion >= 70:\n",
    "    print(\"Calificación: C\")\n",
    "else:\n",
    "    print(\"Calificación: F\")\n",
    "\n",
    "# Salida: Calificación: B"
   ]
  },
  {
   "cell_type": "markdown",
   "metadata": {
    "slideshow": {
     "slide_type": "-"
    }
   },
   "source": [
    "### Ejercicios\n",
    "\n",
    "1. Crea un programa que defina dos variables: edad (int) y permiso de conducir (booleano).\n",
    "Si la edad es mayor a 18 y el permiso de conducir es igual a True, imprime \"puedes manejar un carro\". \n",
    "En caso alguna condición falle, imprime \"no puedes manejar un carro\".   \n",
    "\n",
    "\n",
    "\n",
    "\n",
    "2. Crea un programa que defina dos variables strings: un usuario y una contraseña.  \n",
    "- Define el usuario y la contraseña que quieres quieres que sea la correcta (e.g. usuario: csolisu, contraseña: micontraseñasegura). \n",
    "- Crea declaraciones condicionales con lo siguiente:\n",
    "- Si el usuario y contraseña coinciden, imprime \"acceso concedido\". \n",
    "- Si el usuario coincide y la contraseña no, imprime \"contraseña incorrecta\". \n",
    "- Si el usuario no coincide, imprime \"usuario incorrecto\".\n",
    "- Si ninguno coincide, imprime \"usuario y contraseña incorrectas\". \n",
    "\n",
    "\n"
   ]
  },
  {
   "cell_type": "markdown",
   "metadata": {
    "slideshow": {
     "slide_type": "skip"
    }
   },
   "source": [
    "[Vuelve al principio](#scondic)"
   ]
  },
  {
   "cell_type": "markdown",
   "metadata": {
    "slideshow": {
     "slide_type": "slide"
    }
   },
   "source": [
    "<a class=\"anchor\" id=\"loop\"></a>\n",
    "\n",
    "## Declaraciones en bucle\n",
    "\n",
    "[- for loops](#forloop)  \n",
    "[- loops anidados](#nested)  \n",
    "[- while loops](#while)  \n",
    "[- break y continue](#break)  "
   ]
  },
  {
   "cell_type": "markdown",
   "metadata": {
    "slideshow": {
     "slide_type": "subslide"
    }
   },
   "source": [
    "<a class=\"anchor\" id=\"forloop\"></a>\n",
    "\n",
    "### ``` for ``` loops\n",
    "\n",
    "Los for loops sirven para **repetir** una misma acción en una serie de valores. Es decir, el ``for`` **itera** a través de valores\n",
    "\n",
    "La estructura de los ```for``` es:\n",
    "\n",
    "```python\n",
    "for valor in <grupo de valores>:\n",
    "    hacer algo\n",
    "\n",
    "```"
   ]
  },
  {
   "cell_type": "code",
   "execution_count": null,
   "metadata": {
    "slideshow": {
     "slide_type": "subslide"
    }
   },
   "outputs": [],
   "source": [
    "edades = [5, 13, 17, 33, 45, 60]\n",
    "\n",
    "for edad in edades:\n",
    "    edad_mayor = edad + 5\n",
    "    print(\"hoy tengo {}, en 5 años tendré {}\".format(edad, edad_mayor))\n",
    "    "
   ]
  },
  {
   "cell_type": "code",
   "execution_count": null,
   "metadata": {
    "slideshow": {
     "slide_type": "subslide"
    }
   },
   "outputs": [],
   "source": [
    "total = 0\n",
    "\n",
    "for i in range(1, 11, 5):\n",
    "    print(i)\n",
    "    #total += i\n",
    "#print(\"el total es\", total) "
   ]
  },
  {
   "cell_type": "code",
   "execution_count": null,
   "metadata": {
    "slideshow": {
     "slide_type": "fragment"
    }
   },
   "outputs": [],
   "source": [
    "edades = [5, 17, 33, 45, 60]\n",
    "\n",
    "new_lst = []\n",
    "\n",
    "for edad in edades:\n",
    "    edad +=5\n",
    "    new_lst.append(edad) ## se puede usar los métodos \n",
    "print(new_lst)\n",
    "print(edades) ## el término \"edad\" no modifica la lista en sí"
   ]
  },
  {
   "cell_type": "markdown",
   "metadata": {
    "slideshow": {
     "slide_type": "slide"
    }
   },
   "source": [
    "Podemos introducir statements condicionales a nuestros `for` loops"
   ]
  },
  {
   "cell_type": "code",
   "execution_count": null,
   "metadata": {
    "slideshow": {
     "slide_type": "fragment"
    }
   },
   "outputs": [],
   "source": [
    "edades = [5, 17, 33, 45, 60]\n",
    "\n",
    "for edad in edades:\n",
    "    if edad > 20:\n",
    "        print(edad)\n",
    "    else:\n",
    "        edad += 1\n",
    "        print(edad)\n"
   ]
  },
  {
   "cell_type": "markdown",
   "metadata": {
    "slideshow": {
     "slide_type": "slide"
    }
   },
   "source": [
    "## Ejemplo de impuestos y UIT \n",
    "\n",
    "https://personas.sunat.gob.pe/trabajador-dependiente/como-se-calcula-impuesto-renta-quinta-categoria\n",
    "\n",
    "<img src=\"img/sunat.jpeg\">    "
   ]
  },
  {
   "cell_type": "code",
   "execution_count": 1,
   "metadata": {},
   "outputs": [],
   "source": [
    "#SOLUCION\n"
   ]
  },
  {
   "cell_type": "markdown",
   "metadata": {
    "slideshow": {
     "slide_type": "slide"
    }
   },
   "source": [
    "En el ejemplo anterior que teníamos de focalización de Cuna más\n",
    "\n",
    "<img src=\"img/focalizacion.png\">"
   ]
  },
  {
   "cell_type": "code",
   "execution_count": null,
   "metadata": {
    "slideshow": {
     "slide_type": "slide"
    }
   },
   "outputs": [],
   "source": [
    "rural = False\n",
    "#Definiendo un distrito rural\n",
    "## Significa que es el area a evaluar es rural o no\n",
    "# pobreza = 20\n",
    "# centros_rural = 60\n",
    "# desnutricion_cronica = 35\n",
    "# es_juntos = True\n",
    "\n",
    "pobreza = 30\n",
    "num_ccpp_urbano = 3\n",
    "\n",
    "if rural:\n",
    "    UMBRAL_POBREZA = 50\n",
    "    UMBRAL_RURAL = 50\n",
    "    DESNUTRICION_CRONICA = 30\n",
    "    \n",
    "    es_cunamas = ((pobreza >= UMBRAL_POBREZA) and (centros_rural >= UMBRAL_RURAL) and \\\n",
    "    (desnutricion_cronica >= DESNUTRICION_CRONICA)  \\\n",
    "    and es_juntos) \n",
    "if not rural:\n",
    "    UMBRAL_POBREZA = 19.1\n",
    "    CCPP_URBANO = 1\n",
    "    es_cunamas =((pobreza >= UMBRAL_POBREZA) and (num_ccpp_urbano >= CCPP_URBANO)) "
   ]
  },
  {
   "cell_type": "code",
   "execution_count": null,
   "metadata": {
    "slideshow": {
     "slide_type": "subslide"
    }
   },
   "outputs": [],
   "source": [
    "es_cunamas"
   ]
  },
  {
   "cell_type": "markdown",
   "metadata": {
    "slideshow": {
     "slide_type": "slide"
    }
   },
   "source": [
    "Qué pasaría si tenemos varios distritos?"
   ]
  },
  {
   "cell_type": "code",
   "execution_count": null,
   "metadata": {
    "slideshow": {
     "slide_type": "slide"
    }
   },
   "outputs": [],
   "source": [
    "rural = [True, True, False, True, False]\n",
    "pobreza = [40, 55, 25, 60, 30]\n",
    "num_ccpp_urbano =[1,2,3,4,5]\n",
    "desnutricion_cronica = [50,30,40,20,45]\n",
    "centros_rural = [60,55,40,50,20]\n",
    "es_juntos = [True, True, True, True, True]\n",
    "cuna_o_no = []"
   ]
  },
  {
   "cell_type": "code",
   "execution_count": null,
   "metadata": {
    "slideshow": {
     "slide_type": "subslide"
    }
   },
   "outputs": [],
   "source": [
    "for i in range(5):\n",
    "    \n",
    "    distrito_rural = rural[i]\n",
    "    distrito_pobreza = pobreza[i]\n",
    "    distrito_cc_rural = centros_rural[i]\n",
    "    distrito_dc = desnutricion_cronica[i]\n",
    "    distrito_ccpp_urb = num_ccpp_urbano[i]\n",
    "    distrito_juntos = es_juntos[i]\n",
    "    \n",
    "    if distrito_rural:\n",
    "        UMBRAL_POBREZA = 50\n",
    "        UMBRAL_RURAL = 50\n",
    "        DESNUTRICION_CRONICA = 30\n",
    "    \n",
    "        es_cunamas = ((distrito_pobreza >= UMBRAL_POBREZA) and (distrito_cc_rural >= UMBRAL_RURAL) and \\\n",
    "        (distrito_dc >= DESNUTRICION_CRONICA)  \\\n",
    "        and distrito_juntos) \n",
    "        cuna_o_no.append(es_cunamas)\n",
    "    if not distrito_rural:\n",
    "        UMBRAL_POBREZA = 19.1\n",
    "        CCPP_URBANO = 1\n",
    "        es_cunamas =((distrito_pobreza >= UMBRAL_POBREZA) and (distrito_ccpp_urb >= CCPP_URBANO)) \n",
    "        cuna_o_no.append(es_cunamas)"
   ]
  },
  {
   "cell_type": "code",
   "execution_count": null,
   "metadata": {
    "slideshow": {
     "slide_type": "subslide"
    }
   },
   "outputs": [],
   "source": [
    "cuna_o_no"
   ]
  },
  {
   "cell_type": "markdown",
   "metadata": {
    "slideshow": {
     "slide_type": "skip"
    }
   },
   "source": [
    "[Vuelve al principio de la sección](#loop)"
   ]
  },
  {
   "cell_type": "markdown",
   "metadata": {
    "slideshow": {
     "slide_type": "slide"
    }
   },
   "source": [
    "<a class=\"anchor\" id=\"nested\"></a>\n",
    "\n",
    "### Loops anidados\n",
    "\n",
    "Son los loops dentro de loops. En el ejemplo, imaginemos que queramos exponenciar los elementos de ```lst_a``` por los elementos de la ```lst_b```"
   ]
  },
  {
   "cell_type": "code",
   "execution_count": 4,
   "metadata": {
    "slideshow": {
     "slide_type": "fragment"
    }
   },
   "outputs": [
    {
     "name": "stdout",
     "output_type": "stream",
     "text": [
      "1 elevado  al valor de 2 es 1\n",
      "1 elevado  al valor de 3 es 1\n",
      "2 elevado  al valor de 2 es 4\n",
      "2 elevado  al valor de 3 es 8\n",
      "3 elevado  al valor de 2 es 9\n",
      "3 elevado  al valor de 3 es 27\n",
      "4 elevado  al valor de 2 es 16\n",
      "4 elevado  al valor de 3 es 64\n",
      "5 elevado  al valor de 2 es 25\n",
      "5 elevado  al valor de 3 es 125\n"
     ]
    }
   ],
   "source": [
    "lst_a = [1, 2, 3, 4, 5]\n",
    "lst_b  = [2, 3]\n",
    "\n",
    "for num in lst_a:\n",
    "    for exp in lst_b:\n",
    "        result = num ** exp\n",
    "        print(f\"{num} elevado  al valor de {exp} es {result}\")"
   ]
  },
  {
   "cell_type": "code",
   "execution_count": null,
   "metadata": {
    "slideshow": {
     "slide_type": "subslide"
    }
   },
   "outputs": [],
   "source": [
    "lst_a = [1, 2, 3, 4, 5]\n",
    "lst_b  = [2, 3]\n",
    "\n",
    "for exp in lst_b:\n",
    "    for num in lst_a:\n",
    "        result = num ** exp\n",
    "        print(\"{0} elevado  al valor de {1} es {2}\".format(num, exp, result))"
   ]
  },
  {
   "cell_type": "markdown",
   "metadata": {
    "slideshow": {
     "slide_type": "slide"
    }
   },
   "source": [
    "El teorema de Pitágoras dice que la hipotenusa al cuadrago de un triángulo rectángulo es igual a la suma de los cuadrados de sus lados, o que $a^2 + b^2 = c^2$. Un trío pitagórico es el conjunto de 3 números enteros que cumplen dicha igualdad. ¿Qué set de números cumplirían dicha igualdad en los 25 primeros números enteros?"
   ]
  },
  {
   "cell_type": "code",
   "execution_count": null,
   "metadata": {
    "slideshow": {
     "slide_type": "fragment"
    }
   },
   "outputs": [],
   "source": [
    "set_a = range(1,25)\n",
    "set_b = range(1,25)\n",
    "set_c = range(1,25)\n",
    "\n",
    "for a in set_a:\n",
    "    for b in set_b:\n",
    "        for c in set_c:\n",
    "            if a**2 + b**2 == c**2:\n",
    "                print(a,b,c)\n"
   ]
  },
  {
   "cell_type": "markdown",
   "metadata": {
    "slideshow": {
     "slide_type": "skip"
    }
   },
   "source": [
    "[Vuelve al principio de la sección](#loop)"
   ]
  },
  {
   "cell_type": "markdown",
   "metadata": {
    "slideshow": {
     "slide_type": "slide"
    }
   },
   "source": [
    "<a class=\"anchor\" id=\"while\"></a>\n",
    "\n",
    "###  ```while``` loops\n",
    "\n",
    "Los while loops repiten una acción siempre y cuando **se cumpla** una condición. La estructura de esta operación es:\n",
    "\n",
    "```python\n",
    "while condicion is True:\n",
    "    repetir una acción\n",
    "    hasta que la condicion sea False\n",
    "\n",
    "```"
   ]
  },
  {
   "cell_type": "code",
   "execution_count": null,
   "metadata": {
    "slideshow": {
     "slide_type": "subslide"
    }
   },
   "outputs": [],
   "source": [
    "suma = 0\n",
    "N = 1000\n",
    "i = 0\n",
    "\n",
    "while i < N:\n",
    "    suma +=i\n",
    "    i+=1\n",
    "    if i %100 == 0:\n",
    "        print(i)\n",
    "print(suma)"
   ]
  },
  {
   "cell_type": "markdown",
   "metadata": {
    "slideshow": {
     "slide_type": "slide"
    }
   },
   "source": [
    "Imaginemos que mis ingresos son 100 soles y solo los gasto en juegos de switch, que cuestan 7 soles. Mientras que me alcance el dinero, quiero  comprar un juego de switch por día. ¿Cuántos juegos (adquiridos por día) puedo  comprar?"
   ]
  },
  {
   "cell_type": "code",
   "execution_count": null,
   "metadata": {
    "slideshow": {
     "slide_type": "subslide"
    }
   },
   "outputs": [],
   "source": [
    "ingresos = 100\n",
    "gastos = 0\n",
    "\n",
    "precio_juegos_switch = 7\n",
    "\n",
    "juegos_que_compre = 0\n",
    "\n",
    "while gastos < ingresos:\n",
    "    gastos += precio_juegos_switch\n",
    "    juegos_que_compre += 1\n",
    "    \n",
    "print(f'Me alcanzan para {juegos_que_compre} juegos, en {juegos_que_compre} días y me gasté {gastos} soles')\n",
    "\n"
   ]
  },
  {
   "cell_type": "markdown",
   "metadata": {
    "slideshow": {
     "slide_type": "slide"
    }
   },
   "source": [
    "¿cómo modifico el programa en caso quiera comprar más de un juego por día?"
   ]
  },
  {
   "cell_type": "code",
   "execution_count": null,
   "metadata": {
    "slideshow": {
     "slide_type": "subslide"
    }
   },
   "outputs": [],
   "source": [
    "ingresos = 100\n",
    "gastos = 0\n",
    "\n",
    "precio_juegos_switch = 7\n",
    "juegos_por_dia = 3\n",
    "juegos_que_compre = 0\n",
    "dias = 0 \n",
    "while gastos < ingresos:\n",
    "    gastos += precio_juegos_switch*juegos_por_dia\n",
    "    juegos_que_compre += juegos_por_dia\n",
    "    dias += 1\n",
    "    \n",
    "print(f'Me alcanzan para {juegos_que_compre} juegos, en {dias} días y me gasté {gastos} soles')\n",
    "\n",
    "\n"
   ]
  },
  {
   "cell_type": "markdown",
   "metadata": {
    "slideshow": {
     "slide_type": "skip"
    }
   },
   "source": [
    "[Vuelve al principio de la sección](#loop)"
   ]
  },
  {
   "cell_type": "markdown",
   "metadata": {},
   "source": [
    "<a class=\"anchor\" id=\"transf\"></a>\n",
    "\n",
    "## Declaraciones de transferencia\n",
    "Estas son utilizadas para transferir el control a diferentes partes del código. "
   ]
  },
  {
   "cell_type": "markdown",
   "metadata": {
    "slideshow": {
     "slide_type": "slide"
    }
   },
   "source": [
    "<a class=\"anchor\" id=\"break\"></a>\n",
    "\n",
    "### ``` break``` \n",
    "A veces queremos que nuestro programa termine temprano cuando una condición dentro de nuestro buccle ya se ha cumplido. Cuando este es el caso, usamos el ```break``` para que el programa arroje los resultados que tiene a dicho \"corte\". \n"
   ]
  },
  {
   "cell_type": "code",
   "execution_count": null,
   "metadata": {},
   "outputs": [],
   "source": [
    "#Ejemplo:\n",
    "for i in range(10):\n",
    "  if i == 5:\n",
    "    break\n",
    "    print(i)"
   ]
  },
  {
   "cell_type": "code",
   "execution_count": null,
   "metadata": {
    "slideshow": {
     "slide_type": "subslide"
    }
   },
   "outputs": [],
   "source": [
    "## Ejemplo de break\n",
    "suma = 0\n",
    "N = 1000\n",
    "i = 0\n",
    "while i < N:\n",
    "    suma +=i\n",
    "    i+= 1\n",
    "    #print(i)\n",
    "    if suma > 5000:\n",
    "        break\n",
    "    \n",
    "\n"
   ]
  },
  {
   "cell_type": "code",
   "execution_count": null,
   "metadata": {
    "slideshow": {
     "slide_type": "subslide"
    }
   },
   "outputs": [],
   "source": [
    "ingresos = 100\n",
    "gastos = 0\n",
    "\n",
    "precio_juegos_switch = 7\n",
    "juegos_que_compre = 0\n",
    "\n",
    "while gastos < ingresos:\n",
    "    if gastos + juegos_switch > ingresos:\n",
    "        break\n",
    "    else:\n",
    "        gastos += juegos_switch\n",
    "        juegos_que_compre += 1\n",
    "    \n",
    "print(f'Me alcanzan para {juegos_que_compre} juegos y me gasté {gastos} soles')"
   ]
  },
  {
   "cell_type": "markdown",
   "metadata": {},
   "source": [
    "\n",
    "### ``` continue```\n",
    "Por otro lado, hay veces donde queremos que el programa \"ignore\" nuestras instrucciones dependiendo de una condición. Es decir, el bucle pasará por alto esto"
   ]
  },
  {
   "cell_type": "code",
   "execution_count": null,
   "metadata": {},
   "outputs": [],
   "source": [
    "#Ejemplo:\n",
    "for i in range(10):\n",
    "  if i == 5:\n",
    "    continue\n",
    "    print(i)"
   ]
  },
  {
   "cell_type": "code",
   "execution_count": null,
   "metadata": {
    "slideshow": {
     "slide_type": "subslide"
    }
   },
   "outputs": [],
   "source": [
    "### Ejemplo de continue\n",
    "abecedario = list('abcdefghijklmnopqrstuvwxyz')\n",
    "vocales = ['a','e','i','o','u']\n",
    "for letra in abecedario:\n",
    "    if  letra in vocales:\n",
    "        continue\n",
    "    print(letra, \"no es una vocal\")"
   ]
  },
  {
   "cell_type": "code",
   "execution_count": null,
   "metadata": {
    "slideshow": {
     "slide_type": "subslide"
    }
   },
   "outputs": [],
   "source": [
    "## el list es un constructor que vuelve una serie de strings en elementos individuales de una lista\n",
    "abecedario = list('abcdefghijklmnopqrstuvwxyz')\n",
    "abecedario"
   ]
  },
  {
   "cell_type": "markdown",
   "metadata": {
    "slideshow": {
     "slide_type": "slide"
    }
   },
   "source": [
    "## Excepciones\n",
    "\n",
    "Las excepciones se utilizan para manejar los errores que pueden surgir cuando se ejecuta un programa, tal que el programa pueda seguir ejecutándose. Si esta no se maneja, el programa se detiene. La forma de las excepciones es la siguiente:\n",
    "\n",
    "```\n",
    "try:\n",
    "       <Tratar de hacer algo>\n",
    "except NombredelError:\n",
    "    print(\"aquí sucede algo\")\n",
    "else:\n",
    "```\n",
    "\n",
    "Los usuarios del programa podrán seguir ejecutando el programa con mensajes más manejables que el traceback. "
   ]
  },
  {
   "cell_type": "code",
   "execution_count": null,
   "metadata": {
    "slideshow": {
     "slide_type": "subslide"
    }
   },
   "outputs": [],
   "source": [
    "numerador = 5\n",
    "denominador = 0\n",
    "\n",
    "try: \n",
    "    division = numerador/denominador\n",
    "except ZeroDivisionError:\n",
    "    print(\"No se puede dividir por cero\")\n",
    "else: \n",
    "    print(division)"
   ]
  },
  {
   "cell_type": "markdown",
   "metadata": {
    "slideshow": {
     "slide_type": "skip"
    }
   },
   "source": [
    "#### Más ejemplos"
   ]
  },
  {
   "cell_type": "markdown",
   "metadata": {
    "slideshow": {
     "slide_type": "subslide"
    }
   },
   "source": [
    "1.  Si listamos todos los números naturales por debajo de 10, que son múltiplos de 3 o 5, nos quedamos con 3, 5, 6 y 9. La suma de estos es 23. Propón una solución tal que la suma de todos los múltiplos debajo de 3 o 5 debajo de un número n sean pasados. \n"
   ]
  },
  {
   "cell_type": "code",
   "execution_count": null,
   "metadata": {
    "slideshow": {
     "slide_type": "fragment"
    }
   },
   "outputs": [],
   "source": [
    "N = 35\n",
    "\n",
    "suma = 0\n",
    "\n",
    "for n in range(N):\n",
    "    if (n % 3) == 0 or (n % 5) == 0:\n",
    "        print(n)\n",
    "        suma +=n\n",
    "print(suma)"
   ]
  },
  {
   "cell_type": "markdown",
   "metadata": {
    "slideshow": {
     "slide_type": "subslide"
    }
   },
   "source": [
    "2. #### Un juego de dados (adaptado de (https://www.geeksforgeeks.org/game-of-craps-in-python)\n",
    "\n",
    "Cuando tiro 2 dados, hay 6 combinaciones que suman 7 [(1,6), (6,1), (2,5), (5,2), (3,4), (4,3)], mientras que hay solo 2 combinaciones que suman 11 [(5,6), (6,5)], lo cual nos dice  que hay 3 veces más probabilidad de obtener 7 que 11. Chequea esto realizando una simulación en donde se lanzan los dados 1000 veces; comprueba que el ratio del número de veces en los que sale 7 respecto al número de veces donde sale 11 es 3.\n"
   ]
  },
  {
   "cell_type": "code",
   "execution_count": null,
   "metadata": {
    "slideshow": {
     "slide_type": "subslide"
    }
   },
   "outputs": [],
   "source": [
    "import random\n",
    "sims = 10000\n",
    "es_7 = 0\n",
    "es_11 = 0\n",
    "\n",
    "for i in range(sims):\n",
    "    suma_dados = random.randint(1,6) + random.randint(1,6)\n",
    "    if suma_dados == 7:\n",
    "        es_7 +=1\n",
    "    elif suma_dados == 11:\n",
    "        es_11 += 1\n",
    "        "
   ]
  },
  {
   "cell_type": "code",
   "execution_count": null,
   "metadata": {
    "slideshow": {
     "slide_type": "fragment"
    }
   },
   "outputs": [],
   "source": [
    "es_7 / es_11"
   ]
  },
  {
   "cell_type": "markdown",
   "metadata": {
    "slideshow": {
     "slide_type": "skip"
    }
   },
   "source": [
    "[Vuelve al principio](#scondic)  \n",
    "[Vuelve al principio de la sección](#loop)"
   ]
  },
  {
   "cell_type": "markdown",
   "metadata": {},
   "source": [
    "## Referencias:\n",
    "\n",
    "Para esta clase, el capítulo de Flow Control de \"Automating the Boring Stuff\". https://automatetheboringstuff.com/"
   ]
  }
 ],
 "metadata": {
  "celltoolbar": "Slideshow",
  "kernelspec": {
   "display_name": "Python 3 (ipykernel)",
   "language": "python",
   "name": "python3"
  },
  "language_info": {
   "codemirror_mode": {
    "name": "ipython",
    "version": 3
   },
   "file_extension": ".py",
   "mimetype": "text/x-python",
   "name": "python",
   "nbconvert_exporter": "python",
   "pygments_lexer": "ipython3",
   "version": "3.11.5"
  }
 },
 "nbformat": 4,
 "nbformat_minor": 4
}
