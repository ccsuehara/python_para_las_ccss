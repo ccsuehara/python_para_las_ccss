{
 "cells": [
  {
   "cell_type": "code",
   "execution_count": 9,
   "id": "5f7cb409-7f63-4abc-abb4-51f337004e44",
   "metadata": {},
   "outputs": [],
   "source": [
    "import pandas as pd\n",
    "import altair as alt\n"
   ]
  },
  {
   "cell_type": "code",
   "execution_count": 11,
   "id": "111a1d91-8197-4341-be50-151b82dc88f8",
   "metadata": {},
   "outputs": [
    {
     "name": "stdout",
     "output_type": "stream",
     "text": [
      "  nivel_gobierno nivel_gobierno_nombre sector sector_nombre pliego  \\\n",
      "0              M     GOBIERNOS LOCALES                               \n",
      "1              M     GOBIERNOS LOCALES                               \n",
      "2              M     GOBIERNOS LOCALES                               \n",
      "3              M     GOBIERNOS LOCALES                               \n",
      "4              M     GOBIERNOS LOCALES                               \n",
      "\n",
      "  pliego_nombre departamento_ejecutora departamento_ejecutora_nombre  \\\n",
      "0                                   09                  HUANCAVELICA   \n",
      "1                                   17                 MADRE DE DIOS   \n",
      "2                                   02                        ANCASH   \n",
      "3                                   17                 MADRE DE DIOS   \n",
      "4                                   21                          PUNO   \n",
      "\n",
      "  provincia_ejecutora provincia_ejecutora_nombre  ... monto_recaudado_2021  \\\n",
      "0                  01               HUANCAVELICA  ...                  0.0   \n",
      "1                  02                       MANU  ...                  0.0   \n",
      "2                  17                     RECUAY  ...                  0.0   \n",
      "3                  02                       MANU  ...                  0.0   \n",
      "4                  01                       PUNO  ...                  0.0   \n",
      "\n",
      "  monto_pia_2022  monto_pim_2022 monto_recaudado_2022 monto_pia_2023  \\\n",
      "0              0               0                  0.0              0   \n",
      "1              0               0                  0.0              0   \n",
      "2              0          100339                  0.0              0   \n",
      "3              0               0                  0.0              0   \n",
      "4              0               0                  0.0              0   \n",
      "\n",
      "   monto_pim_2023 monto_recaudado_2023  monto_pia_2024 monto_pim_2024  \\\n",
      "0               0                  0.0               0              0   \n",
      "1               0                  0.0               0              0   \n",
      "2           15000                  0.0               0          15000   \n",
      "3               0                  0.0               0              0   \n",
      "4               0                  0.0               0              0   \n",
      "\n",
      "  monto_recaudado_2024  \n",
      "0                  0.0  \n",
      "1                  0.0  \n",
      "2                  0.0  \n",
      "3                  0.0  \n",
      "4                  0.0  \n",
      "\n",
      "[5 rows x 70 columns]\n"
     ]
    },
    {
     "data": {
      "text/plain": [
       "(482689, 70)"
      ]
     },
     "execution_count": 11,
     "metadata": {},
     "output_type": "execute_result"
    }
   ],
   "source": [
    "\n",
    "# Cargando el archivo CSV\n",
    "df_ingresos2012_2014 = pd.read_csv('C:\\\\Users\\\\cri18\\\\Documents\\\\Tarea 3\\\\comparativo_ingresos_2012_2024.csv',low_memory=False)\n",
    "\n",
    "#cambiando a minusculas \n",
    "df_ingresos2012_2014.columns= df_ingresos2012_2014.columns.str.lower()\n",
    "\n",
    "# Mostrando las primeras filas del DataFrame\n",
    "print(df_ingresos2012_2014.head())\n",
    "\n",
    "# Mostrando las dimensiones del data frame\n",
    "df_ingresos2012_2014.shape\n"
   ]
  },
  {
   "cell_type": "code",
   "execution_count": 13,
   "id": "34445b86-c453-4a36-9021-6aaa0cb78526",
   "metadata": {},
   "outputs": [
    {
     "name": "stdout",
     "output_type": "stream",
     "text": [
      "       departamento_ejecutora_nombre  \\\n",
      "0                       HUANCAVELICA   \n",
      "1                      MADRE DE DIOS   \n",
      "2                             ANCASH   \n",
      "3                      MADRE DE DIOS   \n",
      "4                               PUNO   \n",
      "...                              ...   \n",
      "482684                   LA LIBERTAD   \n",
      "482685                         JUNIN   \n",
      "482686                      AMAZONAS   \n",
      "482687                         CUSCO   \n",
      "482688                      MOQUEGUA   \n",
      "\n",
      "                                          generica_nombre  \\\n",
      "0                             DONACIONES Y TRANSFERENCIAS   \n",
      "1       VENTA DE BIENES Y SERVICIOS Y DERECHOS ADMINIS...   \n",
      "2                                       SALDOS DE BALANCE   \n",
      "3       VENTA DE BIENES Y SERVICIOS Y DERECHOS ADMINIS...   \n",
      "4                             DONACIONES Y TRANSFERENCIAS   \n",
      "...                                                   ...   \n",
      "482684                                  SALDOS DE BALANCE   \n",
      "482685  VENTA DE BIENES Y SERVICIOS Y DERECHOS ADMINIS...   \n",
      "482686                        DONACIONES Y TRANSFERENCIAS   \n",
      "482687  VENTA DE BIENES Y SERVICIOS Y DERECHOS ADMINIS...   \n",
      "482688  VENTA DE BIENES Y SERVICIOS Y DERECHOS ADMINIS...   \n",
      "\n",
      "        monto_recaudado_2020  monto_recaudado_2021  monto_recaudado_2022  \\\n",
      "0                        0.0                   0.0                   0.0   \n",
      "1                        0.0                   0.0                   0.0   \n",
      "2                        0.0                   0.0                   0.0   \n",
      "3                        0.0                   0.0                   0.0   \n",
      "4                        0.0                   0.0                   0.0   \n",
      "...                      ...                   ...                   ...   \n",
      "482684                   0.0                   0.0                   0.0   \n",
      "482685                   0.0                   0.0                   0.0   \n",
      "482686                   0.0                   0.0                   0.0   \n",
      "482687                   0.0                   0.0                   0.0   \n",
      "482688                   0.0                 138.9                   0.0   \n",
      "\n",
      "        monto_recaudado_2023  monto_recaudado_2024  \n",
      "0                        0.0                   0.0  \n",
      "1                        0.0                   0.0  \n",
      "2                        0.0                   0.0  \n",
      "3                        0.0                   0.0  \n",
      "4                        0.0                   0.0  \n",
      "...                      ...                   ...  \n",
      "482684                   0.0                   0.0  \n",
      "482685                   0.0                   0.0  \n",
      "482686                   0.0                   0.0  \n",
      "482687                   0.0                   0.0  \n",
      "482688                   0.0                   0.0  \n",
      "\n",
      "[482689 rows x 7 columns]\n"
     ]
    }
   ],
   "source": [
    "# Seleccionar múltiples columnas \n",
    "df_ingresos2020_2024 = df_ingresos2012_2014[['departamento_ejecutora_nombre','generica_nombre','monto_recaudado_2020','monto_recaudado_2021','monto_recaudado_2022','monto_recaudado_2023','monto_recaudado_2024']]\n",
    "print(df_ingresos2020_2024)"
   ]
  },
  {
   "cell_type": "code",
   "execution_count": null,
   "id": "d055d41f-beed-4de1-b355-89d9c7f0f80c",
   "metadata": {},
   "outputs": [],
   "source": []
  },
  {
   "cell_type": "code",
   "execution_count": 15,
   "id": "00ba07f5-c0f0-43ab-a149-b314af47bc0f",
   "metadata": {},
   "outputs": [],
   "source": [
    "# Aumentar el límite de filas permitidas \n",
    "alt.data_transformers.disable_max_rows()\n",
    "# Crear el gráfico de barras\n",
    "chart_recaudacion = alt.Chart(df_ingresos2020_2024).mark_bar().encode(\n",
    "    x='departamento_ejecutora_nombre',\n",
    "    y='monto_recaudado_2020',\n",
    "    tooltip=['monto_recaudado_2020']\n",
    ").properties(\n",
    "    title='Recaudación 2020 por todo nivel de gobierno',\n",
    "    width=600,\n",
    "    height=400)\n"
   ]
  },
  {
   "cell_type": "code",
   "execution_count": 17,
   "id": "4ea18751-91d0-4ef7-81c1-dab3ab67f4c1",
   "metadata": {},
   "outputs": [],
   "source": [
    "# Aumentar el límite de filas permitidas \n",
    "alt.data_transformers.disable_max_rows()\n",
    "# Crear el gráfico de barras\n",
    "chart_recaudacion_tipo_ingreso = alt.Chart(df_ingresos2020_2024).mark_bar().encode(\n",
    "    x='generica_nombre',\n",
    "    y='monto_recaudado_2024',\n",
    ").properties(\n",
    "    title='Recaudación 2024 por tipo de ingreso',\n",
    "    width=600,\n",
    "    height=400)\n"
   ]
  }
 ],
 "metadata": {
  "kernelspec": {
   "display_name": "Python [conda env:base] *",
   "language": "python",
   "name": "conda-base-py"
  },
  "language_info": {
   "codemirror_mode": {
    "name": "ipython",
    "version": 3
   },
   "file_extension": ".py",
   "mimetype": "text/x-python",
   "name": "python",
   "nbconvert_exporter": "python",
   "pygments_lexer": "ipython3",
   "version": "3.12.7"
  }
 },
 "nbformat": 4,
 "nbformat_minor": 5
}
