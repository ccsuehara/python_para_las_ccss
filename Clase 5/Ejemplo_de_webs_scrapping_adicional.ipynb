{
 "cells": [
  {
   "cell_type": "markdown",
   "metadata": {
    "colab_type": "text",
    "id": "view-in-github"
   },
   "source": [
    "# Scrapeando la página de cursos de Antropología"
   ]
  },
  {
   "cell_type": "code",
   "execution_count": null,
   "metadata": {
    "id": "GWzmbKUXSv1R"
   },
   "outputs": [],
   "source": [
    "import requests #html requestor\n",
    "from bs4 import BeautifulSoup #html parser\n",
    "import pandas as pd #dataframe manipulator"
   ]
  },
  {
   "cell_type": "code",
   "execution_count": null,
   "metadata": {
    "id": "881x4R2wUecv"
   },
   "outputs": [],
   "source": [
    "headers = {'User-Agent': 'Mozilla/5.0'}\n",
    "url = 'https://facultad.pucp.edu.pe/ciencias-sociales/carreras/antropologia/listado-de-cursos'"
   ]
  },
  {
   "cell_type": "code",
   "execution_count": null,
   "metadata": {
    "colab": {
     "base_uri": "https://localhost:8080/"
    },
    "id": "HHF-nFefUoVe",
    "outputId": "179e4e3f-9492-444c-9b94-833830593ad8"
   },
   "outputs": [],
   "source": [
    "# response = requests.get(url, headers=headers) # we use the headers so that requests imitates the request of a browser\n",
    "# print(response.status_code)"
   ]
  },
  {
   "cell_type": "code",
   "execution_count": null,
   "metadata": {},
   "outputs": [],
   "source": []
  },
  {
   "cell_type": "code",
   "execution_count": null,
   "metadata": {},
   "outputs": [],
   "source": [
    "## Para no scrapear la pagina de la pucp, sino una copia local\n",
    "#https://stackoverflow.com/questions/21570780/using-python-and-beautifulsoup-saved-webpage-source-codes-into-a-local-file\n",
    "\n",
    "# from bs4 import BeautifulSoup\n",
    "\n",
    "# with open(\"./Listado de cursos - Facultad de Ciencias Sociales.html\") as fp:\n",
    "#     soup = BeautifulSoup(fp, 'html.parser')\n",
    "# print(soup.prettify())"
   ]
  },
  {
   "cell_type": "code",
   "execution_count": null,
   "metadata": {
    "colab": {
     "base_uri": "https://localhost:8080/"
    },
    "id": "hWYirYSCUtXe",
    "outputId": "f41cd8ea-25c6-4cc8-a919-74fe16502714"
   },
   "outputs": [],
   "source": [
    "soup = BeautifulSoup(response.text, 'html.parser')\n",
    "type(soup)"
   ]
  },
  {
   "cell_type": "code",
   "execution_count": null,
   "metadata": {
    "colab": {
     "base_uri": "https://localhost:8080/"
    },
    "id": "blK4kRNAUyBV",
    "outputId": "92884c2d-e95a-47bc-c300-141ba7c70bfc"
   },
   "outputs": [],
   "source": [
    "print(soup.prettify())"
   ]
  },
  {
   "cell_type": "code",
   "execution_count": null,
   "metadata": {
    "colab": {
     "base_uri": "https://localhost:8080/"
    },
    "id": "Npq69O7yUy2B",
    "outputId": "5570857a-4953-4ba4-ac36-ee626f04fde4"
   },
   "outputs": [],
   "source": [
    "#cursos = soup.find_all('h2')\n",
    "#cursos[1].text"
   ]
  },
  {
   "cell_type": "code",
   "execution_count": null,
   "metadata": {},
   "outputs": [],
   "source": [
    "cursos2[1].find('p').text"
   ]
  },
  {
   "cell_type": "code",
   "execution_count": null,
   "metadata": {
    "colab": {
     "base_uri": "https://localhost:8080/"
    },
    "id": "LL_SRSnWhd6z",
    "outputId": "c2488f08-0f93-40f7-cde7-c654472346e9"
   },
   "outputs": [],
   "source": [
    "print(cursos[len(cursos) - 1].text)"
   ]
  },
  {
   "cell_type": "code",
   "execution_count": null,
   "metadata": {
    "id": "w6Ni5im3vGOr"
   },
   "outputs": [],
   "source": [
    "cursos2 = soup.find_all('div', {\"class\":[\"col-sm-12 listas-internas\"]})"
   ]
  },
  {
   "cell_type": "code",
   "execution_count": null,
   "metadata": {},
   "outputs": [],
   "source": [
    "#cursos2[1].find('span').text"
   ]
  },
  {
   "cell_type": "code",
   "execution_count": null,
   "metadata": {},
   "outputs": [],
   "source": [
    "cursos2[1].find('h2').text"
   ]
  },
  {
   "cell_type": "code",
   "execution_count": null,
   "metadata": {
    "colab": {
     "base_uri": "https://localhost:8080/",
     "height": 70
    },
    "id": "ZTIDx_Cri_z1",
    "outputId": "af9df768-4e8a-4cbc-bf9c-3b6a32e47dc5"
   },
   "outputs": [],
   "source": [
    "#cursos2[0].find('p').text\n",
    "cursos2[3].find('p').text"
   ]
  },
  {
   "cell_type": "code",
   "execution_count": null,
   "metadata": {
    "colab": {
     "base_uri": "https://localhost:8080/",
     "height": 35
    },
    "id": "T4Jfpndbvw2V",
    "outputId": "914f61fb-6f39-4dd2-bc8d-f516004aab09"
   },
   "outputs": [],
   "source": [
    "#cursos2[0].find('h2').text"
   ]
  },
  {
   "cell_type": "code",
   "execution_count": null,
   "metadata": {
    "colab": {
     "base_uri": "https://localhost:8080/",
     "height": 52
    },
    "id": "-xrBynZ7vxka",
    "outputId": "7bd7e536-59d3-4c5c-a0af-618e10924e84"
   },
   "outputs": [],
   "source": [
    "#cursos2[len(cursos2) - 1].find('p').text \n"
   ]
  },
  {
   "cell_type": "code",
   "execution_count": null,
   "metadata": {},
   "outputs": [],
   "source": [
    "\n",
    "for curso in cursos:\n",
    "    nombres.append(curso.text)"
   ]
  },
  {
   "cell_type": "code",
   "execution_count": null,
   "metadata": {},
   "outputs": [],
   "source": [
    "descripciones = []\n",
    "nombres = []\n",
    "creditos = []\n",
    "for descrip in cursos2:\n",
    "    nombre = descrip.find('h2').text\n",
    "    des = descrip.find('p').text\n",
    "    cred = descrip.find('span').text\n",
    "    \n",
    "    creditos.append(cred)\n",
    "    descripciones.append(des)\n",
    "    nombres.append(nombre)\n",
    "    #print(nombres)"
   ]
  },
  {
   "cell_type": "code",
   "execution_count": null,
   "metadata": {},
   "outputs": [],
   "source": [
    "cursos2[2].find('h2').text"
   ]
  },
  {
   "cell_type": "code",
   "execution_count": null,
   "metadata": {},
   "outputs": [],
   "source": [
    "df = pd.DataFrame()\n",
    "\n",
    "df['nombre'] = nombres\n",
    "df['descripcion'] = descripciones\n"
   ]
  },
  {
   "cell_type": "code",
   "execution_count": null,
   "metadata": {},
   "outputs": [],
   "source": [
    "df = pd.DataFrame()\n",
    "\n",
    "df['nombre'] = nombres\n",
    "df['descripcion'] = descripciones\n",
    "df['credito'] = creditos"
   ]
  },
  {
   "cell_type": "code",
   "execution_count": null,
   "metadata": {},
   "outputs": [],
   "source": []
  }
 ],
 "metadata": {
  "colab": {
   "authorship_tag": "ABX9TyNRnmJv79wegZGiBNdq18Xd",
   "include_colab_link": true,
   "name": "Ejemplo de webs scrapping adicional.ipynb",
   "provenance": []
  },
  "kernelspec": {
   "display_name": "Python 3 (ipykernel)",
   "language": "python",
   "name": "python3"
  },
  "language_info": {
   "codemirror_mode": {
    "name": "ipython",
    "version": 3
   },
   "file_extension": ".py",
   "mimetype": "text/x-python",
   "name": "python",
   "nbconvert_exporter": "python",
   "pygments_lexer": "ipython3",
   "version": "3.11.7"
  }
 },
 "nbformat": 4,
 "nbformat_minor": 1
}
