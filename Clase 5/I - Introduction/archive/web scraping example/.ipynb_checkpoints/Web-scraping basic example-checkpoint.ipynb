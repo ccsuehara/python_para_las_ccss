{
 "cells": [
  {
   "cell_type": "code",
   "execution_count": null,
   "metadata": {
    "id": "mdyCMopfbM_6"
   },
   "outputs": [],
   "source": [
    "## Original file from  https://github.com/worldbank/dime-python-training/blob/main/I%20-%20Introduction/archive/web%20scraping%20example/Web-scraping%20basic%20example.ipynb\n",
    "import requests #html requestor\n",
    "from bs4 import BeautifulSoup #html parser\n",
    "import pandas as pd #dataframe manipulator"
   ]
  },
  {
   "cell_type": "code",
   "execution_count": null,
   "metadata": {
    "id": "-I26r2whbM_7"
   },
   "outputs": [],
   "source": [
    "#headers = {'User-Agent': 'Mozilla/5.0'}\n",
    "url = 'https://datatables.net/examples/basic_init/zero_configuration.html'"
   ]
  },
  {
   "cell_type": "markdown",
   "metadata": {
    "id": "qSRGlv4FbM_7"
   },
   "source": [
    "Now we request the html site. A response of 200 means that the request was successful"
   ]
  },
  {
   "cell_type": "code",
   "execution_count": null,
   "metadata": {
    "colab": {
     "base_uri": "https://localhost:8080/"
    },
    "id": "r7QBAprvbM_8",
    "outputId": "14076c1f-8c80-479c-f89c-1e6dc4f58d47"
   },
   "outputs": [],
   "source": [
    "response = requests.get(url) # we use the headers so that requests imitates the request of a browser\n",
    "print(response.status_code)"
   ]
  },
  {
   "cell_type": "markdown",
   "metadata": {
    "id": "Oevpc6KjbM_9"
   },
   "source": [
    "Now we parse the result with `BeautifulSoup`."
   ]
  },
  {
   "cell_type": "code",
   "execution_count": null,
   "metadata": {
    "colab": {
     "base_uri": "https://localhost:8080/"
    },
    "id": "whTQEDMHbM_-",
    "outputId": "81a7d035-158c-4031-8061-5d6b1cdce574"
   },
   "outputs": [],
   "source": [
    "soup = BeautifulSoup(response.text, 'html.parser')\n",
    "type(soup)"
   ]
  },
  {
   "cell_type": "markdown",
   "metadata": {
    "id": "8CGvcCFTbM_-"
   },
   "source": [
    "Printing the result:"
   ]
  },
  {
   "cell_type": "code",
   "execution_count": null,
   "metadata": {
    "colab": {
     "base_uri": "https://localhost:8080/"
    },
    "id": "q3ShM-sCbM_-",
    "outputId": "3772091f-3470-4e33-e2c6-bbbb55866559",
    "scrolled": true
   },
   "outputs": [],
   "source": [
    "print(soup.prettify())"
   ]
  },
  {
   "cell_type": "markdown",
   "metadata": {
    "id": "pix6p-RZbM_-"
   },
   "source": [
    "We see that the information we want to extract is enclosed in tags named `tr`. Now we find every one of these tags"
   ]
  },
  {
   "cell_type": "code",
   "execution_count": null,
   "metadata": {
    "colab": {
     "base_uri": "https://localhost:8080/"
    },
    "id": "c9wU0nYBbM__",
    "outputId": "3a2967dd-84f1-4ee5-e427-db6e9107d324"
   },
   "outputs": [],
   "source": [
    "info = soup.find_all('tr')\n",
    "print(len(info))"
   ]
  },
  {
   "cell_type": "code",
   "execution_count": null,
   "metadata": {
    "colab": {
     "base_uri": "https://localhost:8080/"
    },
    "id": "66FFt-4SdQzU",
    "outputId": "af115274-dce6-4419-af1d-e5111823d526"
   },
   "outputs": [],
   "source": [
    "print(type(info))"
   ]
  },
  {
   "cell_type": "code",
   "execution_count": null,
   "metadata": {
    "colab": {
     "base_uri": "https://localhost:8080/"
    },
    "id": "chD3pmoAbM__",
    "outputId": "31462523-6ada-43da-8f25-13ac7bb3fd05",
    "scrolled": true
   },
   "outputs": [],
   "source": [
    "primer_elemento = info[1].find_all('td')\n",
    "\n",
    "for value in primer_elemento:\n",
    "            print(value.text)"
   ]
  },
  {
   "cell_type": "code",
   "execution_count": null,
   "metadata": {
    "colab": {
     "base_uri": "https://localhost:8080/"
    },
    "id": "TAC11b_tdwNy",
    "outputId": "60f1613a-df54-4d16-8804-19ff3700d76f"
   },
   "outputs": [],
   "source": [
    "print(info[len(info) - 1])"
   ]
  },
  {
   "cell_type": "markdown",
   "metadata": {
    "id": "ShWan3cFbM__"
   },
   "source": [
    "We note that every observation except the first and the last contain the info we need. We also note that the name, position, office, age, start date, and salary always have the same order. We can make use of these patterns to extract the information in a dataframe."
   ]
  },
  {
   "cell_type": "code",
   "execution_count": null,
   "metadata": {
    "colab": {
     "base_uri": "https://localhost:8080/",
     "height": 49
    },
    "id": "6RQLrP9PbNAA",
    "outputId": "32e6d9f6-46c1-449b-9b76-1f403e3dc9d7"
   },
   "outputs": [],
   "source": [
    "df = pd.DataFrame(columns=['name', 'position', 'office', 'age', 'start date', 'salary'])\n",
    "#this created an empty dataframe with these column names\n",
    "df"
   ]
  },
  {
   "cell_type": "code",
   "execution_count": null,
   "metadata": {
    "colab": {
     "base_uri": "https://localhost:8080/"
    },
    "id": "o_lOFaXvbNAA",
    "outputId": "0777d51f-d423-4e85-f305-5a9738c4e3fc",
    "scrolled": true
   },
   "outputs": [],
   "source": [
    "for i, item in enumerate(info): #enumerate gives us the order of the element and the element\n",
    "    #now we skip the first and last elements. Note that\n",
    "    #Python starts indexing at zero, as opposed to R\n",
    "    if i != 0 and i != len(info)-1:\n",
    "        #We previously saw that every data point was inside a \"tr\" tag\n",
    "        #Now we note that every variable (column) inside the \"tr\" tags\n",
    "        #is enclosed by tags named \"td\". This is what we want to extract\n",
    "        data_point = item.find_all('td')\n",
    "        row = [] #we'll append the variables to this empty row\n",
    "        for value in data_point:\n",
    "            row.append(value.text)\n",
    "        print('\\nObservation:', i)\n",
    "        print(row)\n",
    "        df.loc[i-1] = row #this adds a new row to the dataframe\n",
    "        #we use i-1 because we skipped the first element\n",
    "        print(\"Info added to the dataframe\")"
   ]
  },
  {
   "cell_type": "code",
   "execution_count": null,
   "metadata": {
    "colab": {
     "base_uri": "https://localhost:8080/",
     "height": 1000
    },
    "id": "2_2EikpFbNAA",
    "outputId": "42a18b99-c119-478d-9338-d62ace7e8abc",
    "scrolled": true
   },
   "outputs": [],
   "source": [
    "display(df)"
   ]
  },
  {
   "cell_type": "markdown",
   "metadata": {
    "id": "ct0BHf4tbNAB"
   },
   "source": [
    "And now this dataframe can be easily exported to a `csv` file:"
   ]
  },
  {
   "cell_type": "code",
   "execution_count": null,
   "metadata": {
    "id": "YNBdeHlkbNAB"
   },
   "outputs": [],
   "source": [
    "df.to_csv('final_output.csv', index=False)"
   ]
  }
 ],
 "metadata": {
  "colab": {
   "name": "Web-scraping basic example.ipynb",
   "provenance": []
  },
  "kernelspec": {
   "display_name": "Python 3 (ipykernel)",
   "language": "python",
   "name": "python3"
  },
  "language_info": {
   "codemirror_mode": {
    "name": "ipython",
    "version": 3
   },
   "file_extension": ".py",
   "mimetype": "text/x-python",
   "name": "python",
   "nbconvert_exporter": "python",
   "pygments_lexer": "ipython3",
   "version": "3.11.7"
  }
 },
 "nbformat": 4,
 "nbformat_minor": 1
}
