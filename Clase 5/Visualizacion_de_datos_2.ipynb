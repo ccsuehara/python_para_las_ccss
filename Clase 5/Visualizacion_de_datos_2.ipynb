{
 "cells": [
  {
   "cell_type": "code",
   "execution_count": 4,
   "metadata": {},
   "outputs": [],
   "source": [
    "import pandas as pd\n",
    "import altair as alt\n",
    "import wbgapi as wb"
   ]
  },
  {
   "cell_type": "code",
   "execution_count": 3,
   "metadata": {},
   "outputs": [],
   "source": [
    "#pip install wbgapi"
   ]
  },
  {
   "cell_type": "code",
   "execution_count": null,
   "metadata": {},
   "outputs": [],
   "source": [
    "happy_all = pd.read_csv(\"./data/world-happiness-report-2023.csv\")\n",
    "happy_23 = pd.read_csv(\"./data/world-happiness-report-2023-countries.csv\")\n",
    "\n",
    "happy = pd.merge(happy_all[happy_all['year'] == 2022],\n",
    "                  happy_23[['Country name', \"Regional indicator\" ]],\n",
    "                  on = \"Country name\",\n",
    "                  how  = \"inner\",\n",
    "                 indicator = True)"
   ]
  },
  {
   "cell_type": "code",
   "execution_count": null,
   "metadata": {},
   "outputs": [],
   "source": [
    "\n",
    "#alt.themes.enable('urbaninstitute')\n",
    "#latimes\n",
    "#ggplot2\n",
    "\n",
    "# Definir un tema, más sobre esto: \n",
    "#https://towardsdatascience.com/consistently-beautiful-visualizations-with-altair-themes-c7f9f889602\n",
    "def tema_graf():\n",
    "    font = \"Helvetica\"\n",
    "    labelFont = \"Garamond\"\n",
    "    sourceFont = \"Calibri\"\n",
    "    \n",
    "    return {\n",
    "        \"config\" : {\n",
    "             \"title\": {'font': font, \n",
    "                       'fontSize': 15,\n",
    "                       'fontWeight': 300,\n",
    "                       'offset':0,\n",
    "                       'anchor':'left'\n",
    "                      },\n",
    "             \"axis\": {\n",
    "                  \"labelFont\": font,\n",
    "                  \"titleFont\": font,\n",
    "                  \"domainColor\": \"gray\"\n",
    "                     },\n",
    "             \"header\": {\n",
    "                  \"labelFont\": font,\n",
    "                  \"titleFont\": font\n",
    "                        },\n",
    "             \"legend\": {\n",
    "                  \"labelFont\": labelFont,\n",
    "                  \"titleFont\": labelFont,\n",
    "                  \"symbolType\": 'circle',\n",
    "                  \"padding\": 1\n",
    "                  \n",
    "                         }\n",
    "             ,\n",
    "             'background': '#47e6e6'             \n",
    "                }\n",
    "    }\n",
    "\n",
    "alt.themes.register('mitema', tema_graf)\n",
    "alt.themes.enable('mitema')"
   ]
  },
  {
   "cell_type": "code",
   "execution_count": null,
   "metadata": {},
   "outputs": [],
   "source": [
    "# Poniendo título a nuestro gráfico \n",
    "alt.Chart(happy, height = 500, width = 800).mark_point().encode(\n",
    "    x = alt.X(\"Life Ladder:Q\"),\n",
    "    y = alt.Y(\"Log GDP per capita:Q\", scale = alt.Scale()),\n",
    "    color = alt.Color(\"Regional indicator\"),\n",
    "    size = alt.Size('Generosity')\n",
    "    ).interactive().properties(\n",
    "    title={\n",
    "      \"text\": [\"Esto parece un gráfico inspirado en Rosling\"], \n",
    "      \"subtitle\": [\"Es un homenaje\",\n",
    "                   \"Fuente: Happiness Report\"],\n",
    "      \"color\": \"Black\",\n",
    "      \"subtitleColor\": \"Red\"\n",
    "    })"
   ]
  },
  {
   "cell_type": "code",
   "execution_count": null,
   "metadata": {},
   "outputs": [],
   "source": [
    "#Cambiando los titulos de los ejes\n",
    "\n",
    "alt.Chart(happy).mark_point().encode(\n",
    "    x = alt.X(\"Life Ladder:Q\",  title = \"índice de felicidad\"),\n",
    "    y = alt.Y(\"Log GDP per capita:Q\" ,  title = \"PBi per capita (logs)\"),\n",
    "    color = alt.Color(\"Regional indicator\"),\n",
    "    size = alt.Size('Generosity')\n",
    "    ).interactive().properties(\n",
    "    title={\n",
    "      \"text\": [\"Esto parece un gráfico inspirado en Rosling\"], \n",
    "      \"subtitle\": [\"Es un homenaje\",\n",
    "                   \"Fuente: Happiness Report\"],\n",
    "      \"color\": \"Black\",\n",
    "      \"subtitleColor\": \"Red\"\n",
    "    })"
   ]
  },
  {
   "cell_type": "code",
   "execution_count": null,
   "metadata": {},
   "outputs": [],
   "source": [
    "#Cambiando los titulos de los ejes\n",
    "## Para ver los palettes disponibles https://vega.github.io/vega/docs/schemes/\n",
    "alt.Chart(happy).mark_point().encode(\n",
    "    x = alt.X(\"Life Ladder:Q\",  title = \"índice de felicidad\"),\n",
    "    y = alt.Y(\"Log GDP per capita:Q\" ,  title = \"PBi per capita (logs)\"),\n",
    "    color = alt.Color(\"Regional indicator\"),\n",
    "    size = alt.Size('Generosity')\n",
    "    ).interactive().properties(\n",
    "    title={\n",
    "      \"text\": [\"Esto parece un gráfico inspirado en Rosling\"], \n",
    "      \"subtitle\": [\"Es un homenaje\",\n",
    "                   \"Fuente: Happiness Report\"],\n",
    "      \"color\": \"Black\",\n",
    "      \"subtitleColor\": \"Red\"\n",
    "    })"
   ]
  },
  {
   "cell_type": "code",
   "execution_count": null,
   "metadata": {},
   "outputs": [],
   "source": [
    "#happy_peru = happy_all[happy_all['Country name'] == 'Peru']"
   ]
  },
  {
   "cell_type": "code",
   "execution_count": null,
   "metadata": {},
   "outputs": [],
   "source": [
    "## Usando la api para descargar información del Banco mundial\n",
    "## pip install wbgapi\n",
    "## si no puedes usar pip, prueba hacer conda install pip\n",
    "## Fuente: https://stackoverflow.com/questions/41060382/using-pip-to-install-packages-to-anaconda-environment\n",
    "\n",
    "# tbl = wb.data.DataFrame('SP.POP.TOTL',\n",
    "#                   time = range(2000, 2019), labels = True)\n",
    "\n",
    "# tbl = tbl.reset_index()\n",
    "\n",
    "# tbl.rename(columns = {'SP.POP.TOTL': 'poblacion'}, inplace = True)\n",
    "\n",
    "\n",
    "lst = wb.economy.info().table()\n",
    "lst.pop()\n",
    "nombres = pd.DataFrame(data = lst, columns = [\"economy\", \"Country\", \"Region\", \"income_classification\"])\n",
    "nombres.head(5)\n",
    "\n",
    "tbl_f = pd.merge(tbl, nombres, on = [\"economy\", \"Country\"], how = \"inner\")"
   ]
  },
  {
   "cell_type": "code",
   "execution_count": null,
   "metadata": {},
   "outputs": [],
   "source": [
    "tbl_f"
   ]
  },
  {
   "cell_type": "code",
   "execution_count": null,
   "metadata": {},
   "outputs": [],
   "source": [
    "tbl_f = tbl_f.loc[tbl_f['Region'] != '']"
   ]
  },
  {
   "cell_type": "code",
   "execution_count": null,
   "metadata": {},
   "outputs": [],
   "source": [
    "tbl_melt = tbl_f.melt( id_vars = ['economy', 'Country', 'Region', 'income_classification'],\n",
    "                   value_vars = [col for col in tbl if col.startswith('YR')])"
   ]
  },
  {
   "cell_type": "code",
   "execution_count": null,
   "metadata": {},
   "outputs": [],
   "source": [
    "tbl_melt['year'] = tbl_melt['variable'].str.replace('YR', '').astype('int')\n",
    "\n",
    "tbl_melt.head(10)"
   ]
  },
  {
   "cell_type": "code",
   "execution_count": null,
   "metadata": {},
   "outputs": [],
   "source": [
    "\n",
    "## agregaciones, y otros gráficos\n",
    "\n",
    "g1 = alt.Chart(tbl_melt).mark_area().encode(\n",
    "    x=\"year\",\n",
    "    y=\"sum(value):Q\",\n",
    "    color=\"Region:N\"\n",
    ")\n",
    "\n",
    "g1"
   ]
  },
  {
   "cell_type": "code",
   "execution_count": null,
   "metadata": {},
   "outputs": [],
   "source": [
    "peru = tbl_melt.loc[tbl_melt['Country'] == 'Peru']\n",
    "peru.head()"
   ]
  },
  {
   "cell_type": "code",
   "execution_count": null,
   "metadata": {},
   "outputs": [],
   "source": [
    "g2 = alt.Chart(tbl_melt).mark_bar().encode(\n",
    "    x = alt.X(\"year\"),\n",
    "    y=\"value:Q\",\n",
    "    color=alt.condition(\n",
    "        alt.datum.year == 2005,\n",
    "        alt.value(\"red\"),  # The positive color\n",
    "        alt.value(\"blue\")  # The negative color\n",
    "    )\n",
    ")"
   ]
  },
  {
   "cell_type": "code",
   "execution_count": null,
   "metadata": {},
   "outputs": [],
   "source": [
    "g3 = alt.Chart(tbl_melt).mark_area().encode(\n",
    "    x='year:Q',\n",
    "    y='sum(value):Q',\n",
    "    color='Region:N',\n",
    "    row = alt.Row('Region:N')\n",
    ").properties(height=50, width=800)\n",
    "\n",
    "g3"
   ]
  },
  {
   "cell_type": "code",
   "execution_count": null,
   "metadata": {},
   "outputs": [],
   "source": [
    "alt.hconcat(g1, g2)"
   ]
  },
  {
   "cell_type": "code",
   "execution_count": null,
   "metadata": {},
   "outputs": [],
   "source": [
    "alt.vconcat(alt.hconcat(g1, g2), g3)"
   ]
  },
  {
   "cell_type": "code",
   "execution_count": null,
   "metadata": {},
   "outputs": [],
   "source": []
  }
 ],
 "metadata": {
  "kernelspec": {
   "display_name": "Python 3 (ipykernel)",
   "language": "python",
   "name": "python3"
  },
  "language_info": {
   "codemirror_mode": {
    "name": "ipython",
    "version": 3
   },
   "file_extension": ".py",
   "mimetype": "text/x-python",
   "name": "python",
   "nbconvert_exporter": "python",
   "pygments_lexer": "ipython3",
   "version": "3.11.7"
  }
 },
 "nbformat": 4,
 "nbformat_minor": 4
}
