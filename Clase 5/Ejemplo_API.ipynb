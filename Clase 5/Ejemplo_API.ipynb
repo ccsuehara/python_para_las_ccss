{
 "cells": [
  {
   "cell_type": "markdown",
   "id": "3c541e5e",
   "metadata": {},
   "source": [
    "# Un ejemplo de API\n"
   ]
  },
  {
   "cell_type": "code",
   "execution_count": 2,
   "id": "9aba50c5",
   "metadata": {},
   "outputs": [],
   "source": [
    "#Api del BCR\n",
    "import requests\n",
    "import pandas as pd\n",
    "import json"
   ]
  },
  {
   "cell_type": "code",
   "execution_count": 10,
   "id": "ed155fef",
   "metadata": {},
   "outputs": [],
   "source": [
    "cod = [\"PN38706PM\", \"PN38707PM\"]\n",
    "\n",
    "url = \"https://estadisticas.bcrp.gob.pe/estadisticas/series/api/\""
   ]
  },
  {
   "cell_type": "code",
   "execution_count": 11,
   "id": "96ad3b24",
   "metadata": {},
   "outputs": [],
   "source": [
    "import pandas as pd\n",
    "import requests"
   ]
  },
  {
   "cell_type": "code",
   "execution_count": 12,
   "id": "cc153eb5",
   "metadata": {},
   "outputs": [],
   "source": [
    "class APIBCRP:\n",
    "    \"\"\"api manager que hace querys al bcrp\"\"\"\n",
    "    \n",
    "    def __init__(self, url, code_s,  format):\n",
    "        # falta implementar rangos y convertir a dataframe. \n",
    "        \n",
    "        self.code_s = code_s\n",
    "        self.all_codes = self.make_query()\n",
    "        self.url = f\"{url}/{self.all_codes}/{format}\"\n",
    "        self.data = self.download()\n",
    "        print(self.url)\n",
    "        \n",
    "\n",
    "    def make_query(self):\n",
    "        codes = ''\n",
    "        for i, code in enumerate(self.code_s):\n",
    "            if i < len(self.code_s) - 1:\n",
    "                codes += f\"{code}-\"\n",
    "            else:\n",
    "                codes += f\"{code}\"\n",
    "        return codes\n",
    "    \n",
    "    def download(self):\n",
    "        try:\n",
    "            response = requests.get(self.url)\n",
    "            response.raise_for_status()\n",
    "            print(\"datos descargados\")\n",
    "        except requests.RequestException as e:\n",
    "            print(f\"No hubo rpta: {e}\")\n",
    "        return response.json()\n",
    "        \n",
    "\n"
   ]
  },
  {
   "cell_type": "code",
   "execution_count": 13,
   "id": "aa3339f6",
   "metadata": {},
   "outputs": [
    {
     "name": "stdout",
     "output_type": "stream",
     "text": [
      "datos descargados\n",
      "https://estadisticas.bcrp.gob.pe/estadisticas/series/api//PN38706PM-PN38707PM/json\n"
     ]
    }
   ],
   "source": [
    "obj = APIBCRP(url, cod, \"json\")"
   ]
  },
  {
   "cell_type": "code",
   "execution_count": 14,
   "id": "3de2e0d1",
   "metadata": {},
   "outputs": [],
   "source": [
    "lista_fechas = []\n",
    "lista_valores = []\n",
    "\n",
    "for elem in obj.data['periods']:\n",
    "    lista_fechas.append(elem['name'])\n",
    "    lista_valores.append(elem['values'][0])\n",
    "\n"
   ]
  },
  {
   "cell_type": "code",
   "execution_count": 15,
   "id": "126eb93f",
   "metadata": {},
   "outputs": [],
   "source": [
    "\n",
    "df = pd.DataFrame()\n",
    "df['fecha'] = lista_fechas\n",
    "df['valores'] = lista_valores\n"
   ]
  }
 ],
 "metadata": {
  "kernelspec": {
   "display_name": "strmlt",
   "language": "python",
   "name": "python3"
  },
  "language_info": {
   "codemirror_mode": {
    "name": "ipython",
    "version": 3
   },
   "file_extension": ".py",
   "mimetype": "text/x-python",
   "name": "python",
   "nbconvert_exporter": "python",
   "pygments_lexer": "ipython3",
   "version": "3.12.3"
  }
 },
 "nbformat": 4,
 "nbformat_minor": 5
}
