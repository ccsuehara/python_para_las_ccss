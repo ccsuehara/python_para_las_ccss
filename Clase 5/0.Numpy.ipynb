{
 "cells": [
  {
   "cell_type": "markdown",
   "metadata": {},
   "source": [
    "#  Numpy\n",
    "\n",
    "Numpy (Numeric Python) \\es la librería sobre la que se construye Pandas. Sin embargo, puede ser menos intuitiva ya que da a los datos un tratamiento matricial más que de base de datos. \n",
    "\n",
    "Es importante saber al menos un poco de numpy porque:\n",
    "- Varias aplicaciones de machine  learning se hacen puramente en numpy (como Deep Learning, o aplicaciones en computer vision).  Esto se debe a que: \n",
    "    - Es muy, muy rápido y eficiente haciendo cálculos. \n",
    "    - Provee un vector multidimensional de alto rendimiento (high performance multidimensional array). \n",
    "    \n",
    "\n",
    "Numpy se especializa  en trabajar tipos de datos numéricos. \n",
    "\n",
    "\n",
    "notas reforzadas con el material del [DEC Python Course](https://github.com/worldbank/dec-python-course/blob/main/1-foundations/3-numpy-and-pandas/foundations-s3-numpy.ipynb)\n",
    "\n"
   ]
  },
  {
   "cell_type": "markdown",
   "metadata": {},
   "source": [
    "<img src=\"../img/arraysn.png\" width=\"600\">"
   ]
  },
  {
   "cell_type": "markdown",
   "metadata": {},
   "source": [
    "### Importando numpy"
   ]
  },
  {
   "cell_type": "code",
   "execution_count": 1,
   "metadata": {},
   "outputs": [],
   "source": [
    "import numpy as np"
   ]
  },
  {
   "cell_type": "markdown",
   "metadata": {},
   "source": [
    "Numpy puede asemejarse a las listas, pero tiene mucho mejor almacenamiento y mayor alcance en cuanto a hacer operaciones. \n"
   ]
  },
  {
   "cell_type": "code",
   "execution_count": 2,
   "metadata": {},
   "outputs": [],
   "source": [
    "import numpy as np\n",
    "\n",
    "py_list = [1.0, 2, '3']\n",
    "np_array = np.array([1, 2, 3])"
   ]
  },
  {
   "cell_type": "markdown",
   "metadata": {},
   "source": [
    "Ahora crearemos los arrays del gráfico: "
   ]
  },
  {
   "cell_type": "code",
   "execution_count": 3,
   "metadata": {},
   "outputs": [],
   "source": [
    "\n",
    "\n",
    "mat_1d = np.array([7,2,9,10]) ## array  de 1-dimensión. \n",
    "\n",
    "mat_2d = np.array([[5.2,3.0,4.5],\n",
    "                   [9.1,0.1,0.3]]) ## array  de 2-dimensiones. \n",
    "\n",
    "mat_3d = array_3d = np.array([\n",
    "    [\n",
    "        [1, 2],\n",
    "        [4, 3],\n",
    "        [7, 4]\n",
    "    ],\n",
    "    [\n",
    "        [2, 6],\n",
    "        [9, 7],\n",
    "        [7, 5]\n",
    "    ],\n",
    "    [\n",
    "        [1, 3],\n",
    "        [3, 1],\n",
    "        [0, 2]\n",
    "    ],\n",
    "    [\n",
    "        [9, 4],\n",
    "        [6, 5],\n",
    "        [9, 8]\n",
    "    ]\n",
    "]) ## array  de 3-dimensiones. "
   ]
  },
  {
   "cell_type": "markdown",
   "metadata": {},
   "source": [
    "#### Ejercicios:\n",
    "- ¿Cómo se vería el array si se traspusieran los ejes 1 y 2?\n",
    "- Elige como eje 0 al eje 1 o 2 y propón otro array de 3 dimensiones basado en el gráfico. "
   ]
  },
  {
   "cell_type": "markdown",
   "metadata": {},
   "source": [
    "### Atributos del array. \n",
    "\n",
    "\n",
    "Lo primero que hacemos al tener un objeto array,  es verificar los siguentes **a**atributos**:\n",
    "\n",
    "| Atributo            | Descripción                                                                                   |\n",
    "|---------------------|-----------------------------------------------------------------------------------------------|\n",
    "| `ndarray.ndim`      | El número de dimensiones/ejes del array.                                                |\n",
    "| `ndarray.shape`     | Tupla con las dimensiones del array.|\n",
    "| `ndarray.size`      | El número total de elementos del array.                                                       |\n",
    "| `ndarray.dtype`     | El tipo de los elementos en el array.                                                         |\n",
    "| `ndarray.itemsize`  | El tamaño en bytes de cada elemento en el array.                                              |\n",
    "\n",
    "** ps. acordarse de los atributos y métodos de oop. "
   ]
  },
  {
   "cell_type": "code",
   "execution_count": null,
   "metadata": {},
   "outputs": [],
   "source": [
    "print(mat_1d.shape) ## Tamaño de cada una de las dimensiones\n",
    "print(mat_1d.ndim) ## Número de dimensiones\n",
    "print(mat_1d.size) ## Tamaño total\n",
    "\n",
    "print(mat_2d.shape)\n",
    "print(mat_2d.ndim)\n",
    "print(mat_2d.size) \n",
    "\n",
    "print(mat_3d.shape)\n",
    "print(mat_3d.ndim)\n",
    "print(mat_3d.size)"
   ]
  },
  {
   "cell_type": "markdown",
   "metadata": {},
   "source": [
    "### Creación de ndarrays\n",
    "Podemos crear arrays de distintas formas. Para ello utilizaremos los **métodos** proporcionados por el objeto _array_: \n",
    "\n",
    "| Método               | Descripción                                                                                   |\n",
    "|----------------------|-----------------------------------------------------------------------------------------------|\n",
    "| `np.array()`         | Da array a partir de una lista o tupla regular de Python.                                |\n",
    "| `np.zeros()`         | Da array lleno de ceros.                                                                 |\n",
    "| `np.ones()`          | Da array lleno de unos.                                                                  |\n",
    "| `np.empty()`         | Da array sin inicializar sus entradas (los valores son asignados al azar).               |\n",
    "| `np.arange()`        | Da array con valores en un rango dado, similar a `range()` en Python.                    |\n",
    "| `np.linspace()`      | Da array con un número fijo de elementos espaciados uniformemente entre dos valores dados.|\n",
    "| `np.full()`          | Da array lleno de un valor específico.                                                   |\n",
    "| `np.eye()`           | Crea una matriz identidad (2D).                                                               |\n",
    "| `np.random.rand()`   | Da array con muestras aleatorias de una distribución uniforme sobre `[0, 1)`.            |\n",
    "| `np.random.randn()`  | Crea un array con muestras de la distribución normal.      |\n",
    "| `np.random.randint()`| Crea un array de enteros aleatorios desde un rango bajo (inclusive) a un rango alto (exclusivo).|\n"
   ]
  },
  {
   "cell_type": "code",
   "execution_count": 5,
   "metadata": {},
   "outputs": [],
   "source": [
    "#np.zeros((3, 3)) ## array de 3x3 con ceros\n",
    "#np.ones((2, 2, 2)) ## array de 2x2x2 con unos\n",
    "#np.ones((2,3,4),dtype=np.int16) ## array de 2x3x4 con unos de tipo int16\n",
    "#np.arange(0, 10, 2) ## array de 0 a 10 de 2 en 2\n",
    "#np.linspace(0, 1, 5) ## array de 0 a 1 con 5 elementos\n",
    "#np.linspace(0,3,15) ## array de 0 a 3 con 15 elementos\n",
    "#np.eye(3) ## matriz identidad de 3x3\n",
    "#np.full((2, 2), 7) ## array de 2x2 con todos los elementos iguales a 7\n",
    "#e = np.full((2,2,2),10) #hasta ahora no le hemos asignado una variable\n",
    "#np.random.rand(4, 4) ## array de 2x2 con valores aleatorios de la distribución uniforme\n",
    "#np.random.randn(2, 2) ## array de 2x2 con valores aleatorios de la distribución normal "
   ]
  },
  {
   "cell_type": "code",
   "execution_count": 6,
   "metadata": {},
   "outputs": [],
   "source": [
    "# Diferentes \n",
    "np.random.seed(2)  # seed for reproducibility\n",
    "\n",
    "x1 = np.random.randint(10, size = 6) # Array de 1-dimensión con 6 elementos\n",
    "\n",
    "x2 = np.random.randint(100, size = 100) # Array de 1-dimensión con 100 elementos\n",
    "\n",
    "x3 = np.random.randint(100, size = (3, 4)) # Array de 2-dimensiones con 3 filas y 4 columnas\n",
    "\n",
    "x4 = np.random.randint(100, size = (3, 4, 5))  # Array de 3-dimensiones con 3 matrices de 4 filas y 5 columnas\n"
   ]
  },
  {
   "cell_type": "markdown",
   "metadata": {},
   "source": [
    "### Seleccionando, Indexando y Rebanando un array"
   ]
  },
  {
   "cell_type": "code",
   "execution_count": null,
   "metadata": {},
   "outputs": [],
   "source": [
    "mat_2d[1][0]"
   ]
  },
  {
   "cell_type": "code",
   "execution_count": null,
   "metadata": {},
   "outputs": [],
   "source": [
    "mat_2d[1,1:]"
   ]
  },
  {
   "cell_type": "code",
   "execution_count": null,
   "metadata": {},
   "outputs": [],
   "source": [
    "mat_3d"
   ]
  },
  {
   "cell_type": "code",
   "execution_count": null,
   "metadata": {},
   "outputs": [],
   "source": [
    "mat_3d[3,1,1]"
   ]
  },
  {
   "cell_type": "code",
   "execution_count": null,
   "metadata": {},
   "outputs": [],
   "source": [
    "mat_3d[3][1][1]"
   ]
  },
  {
   "cell_type": "markdown",
   "metadata": {},
   "source": [
    "### - Indexación elegante (fancy indexing):\n",
    "Numpy permite opciones mucho más amplias de indexar que trascienden a las de las listas. Consideremos el siguiente array\n",
    "\n"
   ]
  },
  {
   "cell_type": "code",
   "execution_count": 12,
   "metadata": {},
   "outputs": [],
   "source": [
    "ejm_a = np.array([10, 11, 12, 13, 14, 15, 16, 17, 18, 19])"
   ]
  },
  {
   "cell_type": "code",
   "execution_count": null,
   "metadata": {
    "scrolled": true
   },
   "outputs": [],
   "source": [
    "ejm_a[[0, 4, 7]]"
   ]
  },
  {
   "cell_type": "code",
   "execution_count": null,
   "metadata": {},
   "outputs": [],
   "source": [
    "ejm_a[np.array([[0, 4, 7], [1, 2, 3]])]"
   ]
  },
  {
   "cell_type": "code",
   "execution_count": null,
   "metadata": {},
   "outputs": [],
   "source": [
    "b = np.array([(1,2,3), (4,5,6)], dtype = float)\n",
    "b"
   ]
  },
  {
   "cell_type": "code",
   "execution_count": null,
   "metadata": {},
   "outputs": [],
   "source": [
    "b[[1, 0, 1, 0]]"
   ]
  },
  {
   "cell_type": "code",
   "execution_count": null,
   "metadata": {},
   "outputs": [],
   "source": [
    "b[[1, 0, 1, 0],[0, 1, 2, 0]]"
   ]
  },
  {
   "cell_type": "code",
   "execution_count": null,
   "metadata": {},
   "outputs": [],
   "source": [
    "b[[1, 0, 1, 0]][:,[0,1,2,0]]"
   ]
  },
  {
   "cell_type": "markdown",
   "metadata": {},
   "source": [
    "### Agregaciones"
   ]
  },
  {
   "cell_type": "code",
   "execution_count": null,
   "metadata": {},
   "outputs": [],
   "source": [
    "mat_2d_n = np.array([[1,2,3], [4,5,6], [7,8,9]])\n",
    "mat_2d_n"
   ]
  },
  {
   "cell_type": "code",
   "execution_count": null,
   "metadata": {},
   "outputs": [],
   "source": [
    "mat_2d_n.sum() ### Suma de todo el array"
   ]
  },
  {
   "cell_type": "code",
   "execution_count": null,
   "metadata": {},
   "outputs": [],
   "source": [
    "mat_2d_n.mean() ### Resta de todo el array"
   ]
  },
  {
   "cell_type": "code",
   "execution_count": null,
   "metadata": {},
   "outputs": [],
   "source": [
    "mat_2d_n.mean(axis = 1) ## Calcula promedio de las filas"
   ]
  },
  {
   "cell_type": "code",
   "execution_count": null,
   "metadata": {},
   "outputs": [],
   "source": [
    "mat_2d_n.mean(axis = 0)  ## Calcula promedio de las columnas"
   ]
  },
  {
   "cell_type": "code",
   "execution_count": null,
   "metadata": {},
   "outputs": [],
   "source": [
    "a = np.arange(0,12).reshape(3,4)\n",
    "a"
   ]
  },
  {
   "cell_type": "code",
   "execution_count": null,
   "metadata": {},
   "outputs": [],
   "source": [
    "a.T"
   ]
  },
  {
   "cell_type": "code",
   "execution_count": null,
   "metadata": {},
   "outputs": [],
   "source": [
    "b = (np.arange(0,12) * 2).reshape(3,4)\n",
    "b"
   ]
  },
  {
   "cell_type": "code",
   "execution_count": null,
   "metadata": {},
   "outputs": [],
   "source": [
    "a + b"
   ]
  },
  {
   "cell_type": "code",
   "execution_count": null,
   "metadata": {},
   "outputs": [],
   "source": [
    "a * b #### ESTA NO ES LA FORMA DE MULTIPLICACION MATRICIAL COMO APRENDEMOS EN MATE!! "
   ]
  },
  {
   "cell_type": "markdown",
   "metadata": {},
   "source": [
    "### Operaciones con matrices II\n",
    "\n",
    "Las siguentes son funciones generales de numpy para realizar operaciones. \n",
    "\n",
    "| Método               | Descripción                                                                                   |\n",
    "|----------------------|-----------------------------------------------------------------------------------------------|\n",
    "| `np.dot()`           | Calcula el dot product de dos matrices.          |\n",
    "| `np.transpose()`     | Transpone la matriz, invierte sus dimensiones.                                                |\n",
    "| `np.trace()`         | Calcula la traza de una matriz (suma de los elementos en la diagonal principal).            |\n",
    "| `np.matmul()`        | Multiplica arrays de dos dimensiones.         |\n",
    "| `np.vstack()` | Apila arrays verticalmente (por filas).                    | \n",
    "| `np.hstack()` | Apila arrays horizontalmente (por columnas).               | \n",
    "| `np.arange()` | Crea arrays con un rango (como el constructor). |\n",
    "| `np.cross()`         | Calcula el producto cruzado entre dos vectores en 3D o 2D.                                       |\n",
    "| `np.linalg.inv()`    | Calcula la inversa de una matriz.                                                             |\n",
    "| `np.linalg.det()`    | Calcula el determinante de una matriz.                                                        |\n",
    "| `np.linalg.eig()`    | Calcula los valores propios y vectores propios de una matriz cuadrada.                        |\n",
    "| `np.linalg.solve()`  | Resuelve un sistema de ecuaciones lineales.                                                   |\n",
    "| `np.linalg.svd()`    | Realiza la descomposición en valores singulares de una matriz.                                |"
   ]
  },
  {
   "cell_type": "code",
   "execution_count": 29,
   "metadata": {},
   "outputs": [],
   "source": [
    "# ejemplos\n",
    "# con matrices 2x2\n",
    "# a = np.array([[1, 2], [3, 4]])\n",
    "# b = np.array([[5, 6], [7, 8]])\n",
    "\n",
    "# np.dot(a, b)\n",
    "# np.transpose(a)\n",
    "# np.trace(a)\n",
    "# np.linalg.det(a)\n",
    "# np.linalg.inv(a)\n",
    "# np.cross(a,b) \n"
   ]
  },
  {
   "cell_type": "code",
   "execution_count": null,
   "metadata": {},
   "outputs": [],
   "source": [
    "a = (np.arange(0,12)*1).reshape(4,3)\n",
    "c = (np.arange(0,15)).reshape(3,5)\n",
    "np.dot(a,c)"
   ]
  },
  {
   "cell_type": "code",
   "execution_count": null,
   "metadata": {},
   "outputs": [],
   "source": [
    "c.T ## Trasponer un array"
   ]
  },
  {
   "cell_type": "code",
   "execution_count": null,
   "metadata": {},
   "outputs": [],
   "source": [
    "c = np.linalg.inv(np.eye(4))\n",
    "c"
   ]
  },
  {
   "cell_type": "markdown",
   "metadata": {},
   "source": [
    "### Ejemplo: MCO\n",
    "\n",
    "La estimación por Mínimos Cuadrados Ordinarios en su  forma compacta se puede expresar de la siguiente manera: \n",
    "\n",
    "$$\n",
    "\\hat{\\beta} = (X^\\top X)^{-1} X^\\top y\n",
    "$$\n",
    "\n",
    "donde:  \n",
    "\n",
    "$\\hat{\\beta}$ es el vector de coeficientes estimados del modelo.  \n",
    "$X$ es la matriz de observaciones con las variables explicativas. La primera columna suele ser el vector de interceptos.   \n",
    "$y$ es es el vector de observaciones con la variable independiente.\n"
   ]
  },
  {
   "cell_type": "code",
   "execution_count": 33,
   "metadata": {},
   "outputs": [],
   "source": [
    "# creando una X y una y de juguete con datos normales: \n",
    "\n",
    "X = np.random.rand(250, 4) \n",
    "y = np.random.rand(250, 1)"
   ]
  },
  {
   "cell_type": "code",
   "execution_count": 34,
   "metadata": {},
   "outputs": [],
   "source": [
    "xtx = np.dot(X.T, X)\n",
    "\n",
    "xt_x_1 = np.linalg.inv(xtx)\n"
   ]
  },
  {
   "cell_type": "code",
   "execution_count": 35,
   "metadata": {},
   "outputs": [],
   "source": [
    "xty = np.dot(X.T, y)"
   ]
  },
  {
   "cell_type": "code",
   "execution_count": null,
   "metadata": {},
   "outputs": [],
   "source": [
    "xt_x_1"
   ]
  },
  {
   "cell_type": "code",
   "execution_count": null,
   "metadata": {},
   "outputs": [],
   "source": [
    "xty"
   ]
  },
  {
   "cell_type": "code",
   "execution_count": 38,
   "metadata": {},
   "outputs": [],
   "source": [
    "beta = np.dot(xt_x_1, xty)"
   ]
  },
  {
   "cell_type": "code",
   "execution_count": 39,
   "metadata": {},
   "outputs": [],
   "source": [
    "yhat = np.dot(X, beta)\n"
   ]
  },
  {
   "cell_type": "markdown",
   "metadata": {},
   "source": [
    "Fuentes de esta  sesión:\n",
    "\n",
    "- Numpy cheatsheet de DataCamp:  https://datacamp-community-prod.s3.amazonaws.com/e9f83f72-a81b-42c7-af44-4e35b48b20b7\n",
    "- Data science handbook by Jake Van der Plas https://jakevdp.github.io/PythonDataScienceHandbook/02.02-the-basics-of-numpy-arrays.html"
   ]
  }
 ],
 "metadata": {
  "kernelspec": {
   "display_name": "strmlt",
   "language": "python",
   "name": "python3"
  },
  "language_info": {
   "codemirror_mode": {
    "name": "ipython",
    "version": 3
   },
   "file_extension": ".py",
   "mimetype": "text/x-python",
   "name": "python",
   "nbconvert_exporter": "python",
   "pygments_lexer": "ipython3",
   "version": "3.12.3"
  }
 },
 "nbformat": 4,
 "nbformat_minor": 4
}
