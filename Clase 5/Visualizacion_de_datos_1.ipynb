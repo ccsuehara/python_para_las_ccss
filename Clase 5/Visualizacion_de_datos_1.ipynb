{
 "cells": [
  {
   "cell_type": "markdown",
   "metadata": {},
   "source": [
    "# Visualización de datos en Altair\n",
    "\n",
    "[Altair](https://altair-viz.github.io/index.html) is a declarative statistical visualization library for Python, based on Vega and Vega-Lite, and the source is available on GitHub.\n",
    "\n",
    "With Altair, you can spend more time understanding your data and its meaning. Altair’s API is simple, friendly and consistent and built on top of the powerful Vega-Lite visualization grammar. This elegant simplicity produces beautiful and effective visualizations with a minimal amount of code. Altair offers a powerful and concise visualization grammar that enables you to build a wide range of statistical visualizations quickly.\n",
    "\n",
    "Qué significa [**declarativo (declarative)**](https://en.wikipedia.org/wiki/Declarative_programming)\n",
    "Declarativo  quiere decir que esta lenguaje se enfoca en **qué** queremos y no en cómo lo tendremos (no tenemos que escribir instrucciones detalladas de cómo hará el programa para graficar nuestros datos). \n",
    "\n",
    "Está basado en la gramática de los gráficos: \n",
    "\n",
    "A grammar of graphics is a tool that enables us to concisely describe the components of a graphic. Such a grammar allows us to move beyond named graphics (e.g., the “scatterplot”) and gain insight into the deep structure that underlies statistical graphics. [(Wickham, 2010)](https://byrneslab.net/classes/biol607/readings/wickham_layered-grammar.pdf).\n",
    "\n",
    "Los elementos que componen al GoG son:\n",
    "- Datos\n",
    "- Coordenadas\n",
    "- Escalas\n",
    "- Estética\n",
    "- Geometrías\n",
    "- Estadísticas\n",
    "- Facetas \n",
    "\n",
    "\n",
    "https://towardsdatascience.com/a-comprehensive-guide-to-the-grammar-of-graphics-for-effective-visualization-of-multi-dimensional-1f92b4ed4149\n",
    "\n",
    "\n"
   ]
  },
  {
   "cell_type": "code",
   "execution_count": 1,
   "metadata": {},
   "outputs": [],
   "source": [
    "import pandas as pd\n",
    "import altair as alt"
   ]
  },
  {
   "cell_type": "markdown",
   "metadata": {},
   "source": [
    "Vamos a trabajar con los datos del último [reporte de felicidad](https://www.kaggle.com/ajaypalsinghlo/world-happiness-report-2021/code). Altair asume que nuestra base de datos es _ordenada_(\"tidy\")<sup>1</sup>.\n",
    "\n",
    "\n",
    "<sup>1</sup>Las bases de datos _tidy_ son fáciles de manejar, modelar y visualizar, y tienen una estructura específica: cada variable es una columna, cada observación es una fila, y cada tipo de unidad observacional es una tabla. [(Wickham, 2014)](https://www.jstatsoft.org/article/view/v059i10)"
   ]
  },
  {
   "cell_type": "code",
   "execution_count": 12,
   "metadata": {},
   "outputs": [],
   "source": [
    "happy_all = pd.read_csv(\"./data/world-happiness-report-2023.csv\")\n",
    "happy_23 = pd.read_csv(\"./data/world-happiness-report-2023-countries.csv\")\n",
    "\n",
    "happy_21 = pd.read_csv(\"./data/world-happiness-report-2021.csv\")"
   ]
  },
  {
   "cell_type": "code",
   "execution_count": 19,
   "metadata": {},
   "outputs": [],
   "source": [
    "happy = pd.merge(happy_all[happy_all['year'] == 2022],\n",
    "                  happy_21[['Country name', \"Regional indicator\" ]],\n",
    "                  on = \"Country name\",\n",
    "                  #how  = \"left\",\n",
    "                 how  = \"inner\",\n",
    "                 indicator = True)"
   ]
  },
  {
   "cell_type": "markdown",
   "metadata": {},
   "source": [
    "## El objeto `Chart`\n",
    "\n",
    "El objeto más importante de Altair es el `Chart`, que toma como único argumento un dataframe. \n"
   ]
  },
  {
   "cell_type": "code",
   "execution_count": 21,
   "metadata": {},
   "outputs": [
    {
     "data": {
      "text/html": [
       "\n",
       "<style>\n",
       "  #altair-viz-64284e3833354a8788c01bcd94cfa562.vega-embed {\n",
       "    width: 100%;\n",
       "    display: flex;\n",
       "  }\n",
       "\n",
       "  #altair-viz-64284e3833354a8788c01bcd94cfa562.vega-embed details,\n",
       "  #altair-viz-64284e3833354a8788c01bcd94cfa562.vega-embed details summary {\n",
       "    position: relative;\n",
       "  }\n",
       "</style>\n",
       "<div id=\"altair-viz-64284e3833354a8788c01bcd94cfa562\"></div>\n",
       "<script type=\"text/javascript\">\n",
       "  var VEGA_DEBUG = (typeof VEGA_DEBUG == \"undefined\") ? {} : VEGA_DEBUG;\n",
       "  (function(spec, embedOpt){\n",
       "    let outputDiv = document.currentScript.previousElementSibling;\n",
       "    if (outputDiv.id !== \"altair-viz-64284e3833354a8788c01bcd94cfa562\") {\n",
       "      outputDiv = document.getElementById(\"altair-viz-64284e3833354a8788c01bcd94cfa562\");\n",
       "    }\n",
       "    const paths = {\n",
       "      \"vega\": \"https://cdn.jsdelivr.net/npm/vega@5?noext\",\n",
       "      \"vega-lib\": \"https://cdn.jsdelivr.net/npm/vega-lib?noext\",\n",
       "      \"vega-lite\": \"https://cdn.jsdelivr.net/npm/vega-lite@5.16.3?noext\",\n",
       "      \"vega-embed\": \"https://cdn.jsdelivr.net/npm/vega-embed@6?noext\",\n",
       "    };\n",
       "\n",
       "    function maybeLoadScript(lib, version) {\n",
       "      var key = `${lib.replace(\"-\", \"\")}_version`;\n",
       "      return (VEGA_DEBUG[key] == version) ?\n",
       "        Promise.resolve(paths[lib]) :\n",
       "        new Promise(function(resolve, reject) {\n",
       "          var s = document.createElement('script');\n",
       "          document.getElementsByTagName(\"head\")[0].appendChild(s);\n",
       "          s.async = true;\n",
       "          s.onload = () => {\n",
       "            VEGA_DEBUG[key] = version;\n",
       "            return resolve(paths[lib]);\n",
       "          };\n",
       "          s.onerror = () => reject(`Error loading script: ${paths[lib]}`);\n",
       "          s.src = paths[lib];\n",
       "        });\n",
       "    }\n",
       "\n",
       "    function showError(err) {\n",
       "      outputDiv.innerHTML = `<div class=\"error\" style=\"color:red;\">${err}</div>`;\n",
       "      throw err;\n",
       "    }\n",
       "\n",
       "    function displayChart(vegaEmbed) {\n",
       "      vegaEmbed(outputDiv, spec, embedOpt)\n",
       "        .catch(err => showError(`Javascript Error: ${err.message}<br>This usually means there's a typo in your chart specification. See the javascript console for the full traceback.`));\n",
       "    }\n",
       "\n",
       "    if(typeof define === \"function\" && define.amd) {\n",
       "      requirejs.config({paths});\n",
       "      require([\"vega-embed\"], displayChart, err => showError(`Error loading script: ${err.message}`));\n",
       "    } else {\n",
       "      maybeLoadScript(\"vega\", \"5\")\n",
       "        .then(() => maybeLoadScript(\"vega-lite\", \"5.16.3\"))\n",
       "        .then(() => maybeLoadScript(\"vega-embed\", \"6\"))\n",
       "        .catch(showError)\n",
       "        .then(() => displayChart(vegaEmbed));\n",
       "    }\n",
       "  })({\"config\": {\"view\": {\"continuousWidth\": 300, \"continuousHeight\": 300}}, \"data\": {\"name\": \"data-742ec1160fc9d4348488a9fdca22afef\"}, \"mark\": {\"type\": \"rect\"}, \"$schema\": \"https://vega.github.io/schema/vega-lite/v5.16.3.json\", \"datasets\": {\"data-742ec1160fc9d4348488a9fdca22afef\": [{\"Country name\": \"Afghanistan\", \"year\": 2022, \"Life Ladder\": 1.281, \"Log GDP per capita\": null, \"Social support\": 0.228, \"Healthy life expectancy at birth\": 54.875, \"Freedom to make life choices\": 0.368, \"Generosity\": null, \"Perceptions of corruption\": 0.733, \"Positive affect\": 0.206, \"Negative affect\": 0.576, \"Regional indicator\": \"South Asia\", \"_merge\": \"both\"}, {\"Country name\": \"Albania\", \"year\": 2022, \"Life Ladder\": 5.212, \"Log GDP per capita\": 9.626, \"Social support\": 0.724, \"Healthy life expectancy at birth\": 69.175, \"Freedom to make life choices\": 0.802, \"Generosity\": -0.066, \"Perceptions of corruption\": 0.846, \"Positive affect\": 0.547, \"Negative affect\": 0.255, \"Regional indicator\": \"Central and Eastern Europe\", \"_merge\": \"both\"}, {\"Country name\": \"Argentina\", \"year\": 2022, \"Life Ladder\": 6.261, \"Log GDP per capita\": 10.011, \"Social support\": 0.893, \"Healthy life expectancy at birth\": 67.25, \"Freedom to make life choices\": 0.825, \"Generosity\": -0.128, \"Perceptions of corruption\": 0.81, \"Positive affect\": 0.724, \"Negative affect\": 0.284, \"Regional indicator\": \"Latin America and Caribbean\", \"_merge\": \"both\"}, {\"Country name\": \"Armenia\", \"year\": 2022, \"Life Ladder\": 5.382, \"Log GDP per capita\": 9.668, \"Social support\": 0.811, \"Healthy life expectancy at birth\": 67.925, \"Freedom to make life choices\": 0.79, \"Generosity\": -0.154, \"Perceptions of corruption\": 0.705, \"Positive affect\": 0.531, \"Negative affect\": 0.549, \"Regional indicator\": \"Commonwealth of Independent States\", \"_merge\": \"both\"}, {\"Country name\": \"Australia\", \"year\": 2022, \"Life Ladder\": 7.035, \"Log GDP per capita\": 10.854, \"Social support\": 0.942, \"Healthy life expectancy at birth\": 71.125, \"Freedom to make life choices\": 0.854, \"Generosity\": 0.153, \"Perceptions of corruption\": 0.545, \"Positive affect\": 0.711, \"Negative affect\": 0.244, \"Regional indicator\": \"North America and ANZ\", \"_merge\": \"both\"}, {\"Country name\": \"Austria\", \"year\": 2022, \"Life Ladder\": 6.999, \"Log GDP per capita\": 10.939, \"Social support\": 0.876, \"Healthy life expectancy at birth\": 71.275, \"Freedom to make life choices\": 0.856, \"Generosity\": 0.139, \"Perceptions of corruption\": 0.524, \"Positive affect\": 0.718, \"Negative affect\": 0.226, \"Regional indicator\": \"Western Europe\", \"_merge\": \"both\"}, {\"Country name\": \"Bangladesh\", \"year\": 2022, \"Life Ladder\": 3.408, \"Log GDP per capita\": 8.743, \"Social support\": 0.404, \"Healthy life expectancy at birth\": 64.675, \"Freedom to make life choices\": 0.865, \"Generosity\": -0.055, \"Perceptions of corruption\": 0.617, \"Positive affect\": 0.394, \"Negative affect\": 0.448, \"Regional indicator\": \"South Asia\", \"_merge\": \"both\"}, {\"Country name\": \"Belgium\", \"year\": 2022, \"Life Ladder\": 6.857, \"Log GDP per capita\": 10.878, \"Social support\": 0.923, \"Healthy life expectancy at birth\": 71.05, \"Freedom to make life choices\": 0.89, \"Generosity\": 0.097, \"Perceptions of corruption\": 0.483, \"Positive affect\": 0.718, \"Negative affect\": 0.235, \"Regional indicator\": \"Western Europe\", \"_merge\": \"both\"}, {\"Country name\": \"Benin\", \"year\": 2022, \"Life Ladder\": 4.217, \"Log GDP per capita\": 8.137, \"Social support\": 0.366, \"Healthy life expectancy at birth\": 56.4, \"Freedom to make life choices\": 0.714, \"Generosity\": -0.03, \"Perceptions of corruption\": 0.58, \"Positive affect\": 0.571, \"Negative affect\": 0.444, \"Regional indicator\": \"Sub-Saharan Africa\", \"_merge\": \"both\"}, {\"Country name\": \"Bolivia\", \"year\": 2022, \"Life Ladder\": 5.929, \"Log GDP per capita\": 9.014, \"Social support\": 0.824, \"Healthy life expectancy at birth\": 63.75, \"Freedom to make life choices\": 0.865, \"Generosity\": -0.08, \"Perceptions of corruption\": 0.84, \"Positive affect\": 0.738, \"Negative affect\": 0.426, \"Regional indicator\": \"Latin America and Caribbean\", \"_merge\": \"both\"}, {\"Country name\": \"Botswana\", \"year\": 2022, \"Life Ladder\": 3.435, \"Log GDP per capita\": 9.629, \"Social support\": 0.75, \"Healthy life expectancy at birth\": 54.725, \"Freedom to make life choices\": 0.739, \"Generosity\": -0.215, \"Perceptions of corruption\": 0.831, \"Positive affect\": 0.623, \"Negative affect\": 0.287, \"Regional indicator\": \"Sub-Saharan Africa\", \"_merge\": \"both\"}, {\"Country name\": \"Brazil\", \"year\": 2022, \"Life Ladder\": 6.257, \"Log GDP per capita\": 9.611, \"Social support\": 0.866, \"Healthy life expectancy at birth\": 65.925, \"Freedom to make life choices\": 0.83, \"Generosity\": -0.061, \"Perceptions of corruption\": 0.742, \"Positive affect\": 0.681, \"Negative affect\": 0.341, \"Regional indicator\": \"Latin America and Caribbean\", \"_merge\": \"both\"}, {\"Country name\": \"Bulgaria\", \"year\": 2022, \"Life Ladder\": 5.378, \"Log GDP per capita\": 10.138, \"Social support\": 0.953, \"Healthy life expectancy at birth\": 66.6, \"Freedom to make life choices\": 0.741, \"Generosity\": -0.145, \"Perceptions of corruption\": 0.942, \"Positive affect\": 0.582, \"Negative affect\": 0.165, \"Regional indicator\": \"Central and Eastern Europe\", \"_merge\": \"both\"}, {\"Country name\": \"Cambodia\", \"year\": 2022, \"Life Ladder\": 4.25, \"Log GDP per capita\": 8.415, \"Social support\": 0.784, \"Healthy life expectancy at birth\": 62.1, \"Freedom to make life choices\": 0.946, \"Generosity\": 0.154, \"Perceptions of corruption\": 0.86, \"Positive affect\": 0.756, \"Negative affect\": 0.388, \"Regional indicator\": \"Southeast Asia\", \"_merge\": \"both\"}, {\"Country name\": \"Cameroon\", \"year\": 2022, \"Life Ladder\": 4.712, \"Log GDP per capita\": 8.227, \"Social support\": 0.629, \"Healthy life expectancy at birth\": 56.525, \"Freedom to make life choices\": 0.675, \"Generosity\": 0.025, \"Perceptions of corruption\": 0.849, \"Positive affect\": 0.586, \"Negative affect\": 0.362, \"Regional indicator\": \"Sub-Saharan Africa\", \"_merge\": \"both\"}, {\"Country name\": \"Canada\", \"year\": 2022, \"Life Ladder\": 6.918, \"Log GDP per capita\": 10.803, \"Social support\": 0.929, \"Healthy life expectancy at birth\": 71.45, \"Freedom to make life choices\": 0.838, \"Generosity\": 0.222, \"Perceptions of corruption\": 0.442, \"Positive affect\": 0.719, \"Negative affect\": 0.287, \"Regional indicator\": \"North America and ANZ\", \"_merge\": \"both\"}, {\"Country name\": \"Chad\", \"year\": 2022, \"Life Ladder\": 4.397, \"Log GDP per capita\": 7.261, \"Social support\": 0.72, \"Healthy life expectancy at birth\": 53.125, \"Freedom to make life choices\": 0.679, \"Generosity\": 0.221, \"Perceptions of corruption\": 0.805, \"Positive affect\": 0.588, \"Negative affect\": 0.499, \"Regional indicator\": \"Sub-Saharan Africa\", \"_merge\": \"both\"}, {\"Country name\": \"Chile\", \"year\": 2022, \"Life Ladder\": 6.415, \"Log GDP per capita\": 10.154, \"Social support\": 0.887, \"Healthy life expectancy at birth\": 70.45, \"Freedom to make life choices\": 0.793, \"Generosity\": -0.011, \"Perceptions of corruption\": 0.796, \"Positive affect\": 0.775, \"Negative affect\": 0.253, \"Regional indicator\": \"Latin America and Caribbean\", \"_merge\": \"both\"}, {\"Country name\": \"Colombia\", \"year\": 2022, \"Life Ladder\": 5.892, \"Log GDP per capita\": 9.66, \"Social support\": 0.877, \"Healthy life expectancy at birth\": 69.525, \"Freedom to make life choices\": 0.799, \"Generosity\": -0.162, \"Perceptions of corruption\": 0.863, \"Positive affect\": 0.762, \"Negative affect\": 0.306, \"Regional indicator\": \"Latin America and Caribbean\", \"_merge\": \"both\"}, {\"Country name\": \"Comoros\", \"year\": 2022, \"Life Ladder\": 3.545, \"Log GDP per capita\": 8.075, \"Social support\": 0.472, \"Healthy life expectancy at birth\": 59.425, \"Freedom to make life choices\": 0.481, \"Generosity\": -0.014, \"Perceptions of corruption\": 0.732, \"Positive affect\": 0.603, \"Negative affect\": 0.352, \"Regional indicator\": \"Sub-Saharan Africa\", \"_merge\": \"both\"}, {\"Country name\": \"Congo (Brazzaville)\", \"year\": 2022, \"Life Ladder\": 5.805, \"Log GDP per capita\": 8.077, \"Social support\": 0.646, \"Healthy life expectancy at birth\": 57.175, \"Freedom to make life choices\": 0.698, \"Generosity\": 0.028, \"Perceptions of corruption\": 0.76, \"Positive affect\": 0.583, \"Negative affect\": 0.477, \"Regional indicator\": \"Sub-Saharan Africa\", \"_merge\": \"both\"}, {\"Country name\": \"Costa Rica\", \"year\": 2022, \"Life Ladder\": 7.077, \"Log GDP per capita\": 9.998, \"Social support\": 0.902, \"Healthy life expectancy at birth\": 70.0, \"Freedom to make life choices\": 0.91, \"Generosity\": -0.047, \"Perceptions of corruption\": 0.751, \"Positive affect\": 0.793, \"Negative affect\": 0.272, \"Regional indicator\": \"Latin America and Caribbean\", \"_merge\": \"both\"}, {\"Country name\": \"Croatia\", \"year\": 2022, \"Life Ladder\": 5.579, \"Log GDP per capita\": 10.458, \"Social support\": 0.91, \"Healthy life expectancy at birth\": 69.125, \"Freedom to make life choices\": 0.593, \"Generosity\": -0.213, \"Perceptions of corruption\": 0.875, \"Positive affect\": 0.573, \"Negative affect\": 0.267, \"Regional indicator\": \"Central and Eastern Europe\", \"_merge\": \"both\"}, {\"Country name\": \"Cyprus\", \"year\": 2022, \"Life Ladder\": 5.865, \"Log GDP per capita\": null, \"Social support\": 0.82, \"Healthy life expectancy at birth\": 73.0, \"Freedom to make life choices\": 0.698, \"Generosity\": null, \"Perceptions of corruption\": 0.887, \"Positive affect\": 0.659, \"Negative affect\": 0.297, \"Regional indicator\": \"Western Europe\", \"_merge\": \"both\"}, {\"Country name\": \"Denmark\", \"year\": 2022, \"Life Ladder\": 7.545, \"Log GDP per capita\": 10.994, \"Social support\": 0.97, \"Healthy life expectancy at birth\": 71.375, \"Freedom to make life choices\": 0.93, \"Generosity\": 0.224, \"Perceptions of corruption\": 0.203, \"Positive affect\": 0.787, \"Negative affect\": 0.205, \"Regional indicator\": \"Western Europe\", \"_merge\": \"both\"}, {\"Country name\": \"Dominican Republic\", \"year\": 2022, \"Life Ladder\": 5.518, \"Log GDP per capita\": 9.874, \"Social support\": 0.82, \"Healthy life expectancy at birth\": 64.6, \"Freedom to make life choices\": 0.853, \"Generosity\": -0.084, \"Perceptions of corruption\": 0.656, \"Positive affect\": 0.723, \"Negative affect\": 0.306, \"Regional indicator\": \"Latin America and Caribbean\", \"_merge\": \"both\"}, {\"Country name\": \"Ecuador\", \"year\": 2022, \"Life Ladder\": 5.887, \"Log GDP per capita\": 9.29, \"Social support\": 0.825, \"Healthy life expectancy at birth\": 69.25, \"Freedom to make life choices\": 0.759, \"Generosity\": -0.08, \"Perceptions of corruption\": 0.866, \"Positive affect\": 0.777, \"Negative affect\": 0.356, \"Regional indicator\": \"Latin America and Caribbean\", \"_merge\": \"both\"}, {\"Country name\": \"Egypt\", \"year\": 2022, \"Life Ladder\": 4.024, \"Log GDP per capita\": 9.404, \"Social support\": 0.769, \"Healthy life expectancy at birth\": 63.75, \"Freedom to make life choices\": 0.733, \"Generosity\": -0.208, \"Perceptions of corruption\": null, \"Positive affect\": 0.486, \"Negative affect\": 0.307, \"Regional indicator\": \"Middle East and North Africa\", \"_merge\": \"both\"}, {\"Country name\": \"El Salvador\", \"year\": 2022, \"Life Ladder\": 6.492, \"Log GDP per capita\": 9.135, \"Social support\": 0.772, \"Healthy life expectancy at birth\": 65.95, \"Freedom to make life choices\": 0.914, \"Generosity\": -0.112, \"Perceptions of corruption\": 0.621, \"Positive affect\": 0.823, \"Negative affect\": 0.296, \"Regional indicator\": \"Latin America and Caribbean\", \"_merge\": \"both\"}, {\"Country name\": \"Estonia\", \"year\": 2022, \"Life Ladder\": 6.357, \"Log GDP per capita\": 10.571, \"Social support\": 0.933, \"Healthy life expectancy at birth\": 69.875, \"Freedom to make life choices\": 0.904, \"Generosity\": 0.136, \"Perceptions of corruption\": 0.39, \"Positive affect\": 0.767, \"Negative affect\": 0.187, \"Regional indicator\": \"Central and Eastern Europe\", \"_merge\": \"both\"}, {\"Country name\": \"Ethiopia\", \"year\": 2022, \"Life Ladder\": 3.628, \"Log GDP per capita\": 7.757, \"Social support\": 0.74, \"Healthy life expectancy at birth\": 61.1, \"Freedom to make life choices\": 0.674, \"Generosity\": 0.361, \"Perceptions of corruption\": 0.793, \"Positive affect\": 0.56, \"Negative affect\": 0.335, \"Regional indicator\": \"Sub-Saharan Africa\", \"_merge\": \"both\"}, {\"Country name\": \"Finland\", \"year\": 2022, \"Life Ladder\": 7.729, \"Log GDP per capita\": 10.814, \"Social support\": 0.974, \"Healthy life expectancy at birth\": 71.225, \"Freedom to make life choices\": 0.959, \"Generosity\": 0.102, \"Perceptions of corruption\": 0.19, \"Positive affect\": 0.741, \"Negative affect\": 0.191, \"Regional indicator\": \"Western Europe\", \"_merge\": \"both\"}, {\"Country name\": \"France\", \"year\": 2022, \"Life Ladder\": 6.614, \"Log GDP per capita\": 10.737, \"Social support\": 0.866, \"Healthy life expectancy at birth\": 72.4, \"Freedom to make life choices\": 0.798, \"Generosity\": -0.025, \"Perceptions of corruption\": 0.533, \"Positive affect\": 0.688, \"Negative affect\": 0.249, \"Regional indicator\": \"Western Europe\", \"_merge\": \"both\"}, {\"Country name\": \"Gabon\", \"year\": 2022, \"Life Ladder\": 5.14, \"Log GDP per capita\": 9.539, \"Social support\": 0.775, \"Healthy life expectancy at birth\": 58.575, \"Freedom to make life choices\": 0.699, \"Generosity\": -0.164, \"Perceptions of corruption\": 0.803, \"Positive affect\": 0.661, \"Negative affect\": 0.414, \"Regional indicator\": \"Sub-Saharan Africa\", \"_merge\": \"both\"}, {\"Country name\": \"Gambia\", \"year\": 2022, \"Life Ladder\": 4.279, \"Log GDP per capita\": 7.648, \"Social support\": 0.588, \"Healthy life expectancy at birth\": 57.9, \"Freedom to make life choices\": 0.599, \"Generosity\": 0.364, \"Perceptions of corruption\": 0.884, \"Positive affect\": 0.722, \"Negative affect\": 0.438, \"Regional indicator\": \"Sub-Saharan Africa\", \"_merge\": \"both\"}, {\"Country name\": \"Georgia\", \"year\": 2022, \"Life Ladder\": 5.293, \"Log GDP per capita\": 9.746, \"Social support\": 0.754, \"Healthy life expectancy at birth\": 65.075, \"Freedom to make life choices\": 0.821, \"Generosity\": -0.253, \"Perceptions of corruption\": 0.655, \"Positive affect\": 0.503, \"Negative affect\": 0.233, \"Regional indicator\": \"Commonwealth of Independent States\", \"_merge\": \"both\"}, {\"Country name\": \"Germany\", \"year\": 2022, \"Life Ladder\": 6.608, \"Log GDP per capita\": 10.899, \"Social support\": 0.916, \"Healthy life expectancy at birth\": 71.5, \"Freedom to make life choices\": 0.895, \"Generosity\": 0.081, \"Perceptions of corruption\": 0.417, \"Positive affect\": 0.668, \"Negative affect\": 0.201, \"Regional indicator\": \"Western Europe\", \"_merge\": \"both\"}, {\"Country name\": \"Ghana\", \"year\": 2022, \"Life Ladder\": 4.191, \"Log GDP per capita\": 8.615, \"Social support\": 0.628, \"Healthy life expectancy at birth\": 59.125, \"Freedom to make life choices\": 0.786, \"Generosity\": 0.117, \"Perceptions of corruption\": 0.909, \"Positive affect\": 0.62, \"Negative affect\": 0.292, \"Regional indicator\": \"Sub-Saharan Africa\", \"_merge\": \"both\"}, {\"Country name\": \"Greece\", \"year\": 2022, \"Life Ladder\": 5.9, \"Log GDP per capita\": 10.364, \"Social support\": 0.875, \"Healthy life expectancy at birth\": 71.275, \"Freedom to make life choices\": 0.563, \"Generosity\": -0.316, \"Perceptions of corruption\": 0.874, \"Positive affect\": 0.589, \"Negative affect\": 0.183, \"Regional indicator\": \"Western Europe\", \"_merge\": \"both\"}, {\"Country name\": \"Guatemala\", \"year\": 2022, \"Life Ladder\": 6.15, \"Log GDP per capita\": 9.116, \"Social support\": 0.806, \"Healthy life expectancy at birth\": 62.9, \"Freedom to make life choices\": 0.856, \"Generosity\": -0.057, \"Perceptions of corruption\": 0.835, \"Positive affect\": 0.835, \"Negative affect\": 0.263, \"Regional indicator\": \"Latin America and Caribbean\", \"_merge\": \"both\"}, {\"Country name\": \"Guinea\", \"year\": 2022, \"Life Ladder\": 5.317, \"Log GDP per capita\": 7.9, \"Social support\": 0.582, \"Healthy life expectancy at birth\": 54.65, \"Freedom to make life choices\": 0.729, \"Generosity\": 0.139, \"Perceptions of corruption\": 0.77, \"Positive affect\": 0.699, \"Negative affect\": 0.492, \"Regional indicator\": \"Sub-Saharan Africa\", \"_merge\": \"both\"}, {\"Country name\": \"Honduras\", \"year\": 2022, \"Life Ladder\": 5.932, \"Log GDP per capita\": 8.645, \"Social support\": 0.729, \"Healthy life expectancy at birth\": 64.275, \"Freedom to make life choices\": 0.851, \"Generosity\": 0.081, \"Perceptions of corruption\": 0.834, \"Positive affect\": 0.775, \"Negative affect\": 0.289, \"Regional indicator\": \"Latin America and Caribbean\", \"_merge\": \"both\"}, {\"Country name\": \"Hungary\", \"year\": 2022, \"Life Ladder\": 5.861, \"Log GDP per capita\": 10.484, \"Social support\": 0.937, \"Healthy life expectancy at birth\": 67.65, \"Freedom to make life choices\": 0.776, \"Generosity\": -0.008, \"Perceptions of corruption\": 0.848, \"Positive affect\": 0.628, \"Negative affect\": 0.25, \"Regional indicator\": \"Central and Eastern Europe\", \"_merge\": \"both\"}, {\"Country name\": \"Iceland\", \"year\": 2022, \"Life Ladder\": 7.449, \"Log GDP per capita\": 10.935, \"Social support\": 0.985, \"Healthy life expectancy at birth\": 72.075, \"Freedom to make life choices\": 0.936, \"Generosity\": 0.222, \"Perceptions of corruption\": 0.692, \"Positive affect\": 0.768, \"Negative affect\": 0.178, \"Regional indicator\": \"Western Europe\", \"_merge\": \"both\"}, {\"Country name\": \"India\", \"year\": 2022, \"Life Ladder\": 3.93, \"Log GDP per capita\": 8.85, \"Social support\": 0.608, \"Healthy life expectancy at birth\": 61.2, \"Freedom to make life choices\": 0.893, \"Generosity\": 0.09, \"Perceptions of corruption\": 0.771, \"Positive affect\": 0.596, \"Negative affect\": 0.432, \"Regional indicator\": \"South Asia\", \"_merge\": \"both\"}, {\"Country name\": \"Indonesia\", \"year\": 2022, \"Life Ladder\": 5.585, \"Log GDP per capita\": 9.425, \"Social support\": 0.834, \"Healthy life expectancy at birth\": 63.175, \"Freedom to make life choices\": 0.903, \"Generosity\": 0.519, \"Perceptions of corruption\": 0.862, \"Positive affect\": 0.818, \"Negative affect\": 0.269, \"Regional indicator\": \"Southeast Asia\", \"_merge\": \"both\"}, {\"Country name\": \"Iran\", \"year\": 2022, \"Life Ladder\": 4.977, \"Log GDP per capita\": 9.638, \"Social support\": 0.8, \"Healthy life expectancy at birth\": 66.75, \"Freedom to make life choices\": 0.57, \"Generosity\": 0.212, \"Perceptions of corruption\": 0.766, \"Positive affect\": 0.521, \"Negative affect\": 0.466, \"Regional indicator\": \"Middle East and North Africa\", \"_merge\": \"both\"}, {\"Country name\": \"Ireland\", \"year\": 2022, \"Life Ladder\": 6.87, \"Log GDP per capita\": 11.625, \"Social support\": 0.906, \"Healthy life expectancy at birth\": 71.4, \"Freedom to make life choices\": 0.895, \"Generosity\": 0.14, \"Perceptions of corruption\": 0.358, \"Positive affect\": 0.738, \"Negative affect\": 0.234, \"Regional indicator\": \"Western Europe\", \"_merge\": \"both\"}, {\"Country name\": \"Israel\", \"year\": 2022, \"Life Ladder\": 7.662, \"Log GDP per capita\": 10.692, \"Social support\": 0.954, \"Healthy life expectancy at birth\": 72.85, \"Freedom to make life choices\": 0.775, \"Generosity\": -0.005, \"Perceptions of corruption\": 0.655, \"Positive affect\": 0.583, \"Negative affect\": 0.183, \"Regional indicator\": \"Middle East and North Africa\", \"_merge\": \"both\"}, {\"Country name\": \"Italy\", \"year\": 2022, \"Life Ladder\": 6.258, \"Log GDP per capita\": 10.685, \"Social support\": 0.869, \"Healthy life expectancy at birth\": 72.125, \"Freedom to make life choices\": 0.711, \"Generosity\": 0.028, \"Perceptions of corruption\": 0.819, \"Positive affect\": 0.624, \"Negative affect\": 0.298, \"Regional indicator\": \"Western Europe\", \"_merge\": \"both\"}, {\"Country name\": \"Ivory Coast\", \"year\": 2022, \"Life Ladder\": 4.849, \"Log GDP per capita\": 8.612, \"Social support\": 0.536, \"Healthy life expectancy at birth\": 56.525, \"Freedom to make life choices\": 0.713, \"Generosity\": -0.005, \"Perceptions of corruption\": 0.743, \"Positive affect\": 0.629, \"Negative affect\": 0.399, \"Regional indicator\": \"Sub-Saharan Africa\", \"_merge\": \"both\"}, {\"Country name\": \"Jamaica\", \"year\": 2022, \"Life Ladder\": 5.87, \"Log GDP per capita\": 9.198, \"Social support\": 0.868, \"Healthy life expectancy at birth\": 66.6, \"Freedom to make life choices\": 0.874, \"Generosity\": -0.088, \"Perceptions of corruption\": 0.91, \"Positive affect\": 0.718, \"Negative affect\": 0.269, \"Regional indicator\": \"Latin America and Caribbean\", \"_merge\": \"both\"}, {\"Country name\": \"Japan\", \"year\": 2022, \"Life Ladder\": 6.178, \"Log GDP per capita\": 10.636, \"Social support\": 0.899, \"Healthy life expectancy at birth\": 74.475, \"Freedom to make life choices\": 0.789, \"Generosity\": -0.235, \"Perceptions of corruption\": 0.643, \"Positive affect\": 0.67, \"Negative affect\": 0.165, \"Regional indicator\": \"East Asia\", \"_merge\": \"both\"}, {\"Country name\": \"Jordan\", \"year\": 2022, \"Life Ladder\": 4.356, \"Log GDP per capita\": 9.134, \"Social support\": 0.774, \"Healthy life expectancy at birth\": 67.6, \"Freedom to make life choices\": 0.759, \"Generosity\": -0.153, \"Perceptions of corruption\": 0.715, \"Positive affect\": 0.521, \"Negative affect\": 0.435, \"Regional indicator\": \"Middle East and North Africa\", \"_merge\": \"both\"}, {\"Country name\": \"Kazakhstan\", \"year\": 2022, \"Life Ladder\": 6.006, \"Log GDP per capita\": 10.187, \"Social support\": 0.923, \"Healthy life expectancy at birth\": 66.2, \"Freedom to make life choices\": 0.883, \"Generosity\": 0.022, \"Perceptions of corruption\": 0.72, \"Positive affect\": 0.652, \"Negative affect\": 0.132, \"Regional indicator\": \"Commonwealth of Independent States\", \"_merge\": \"both\"}, {\"Country name\": \"Kenya\", \"year\": 2022, \"Life Ladder\": 4.448, \"Log GDP per capita\": 8.499, \"Social support\": 0.691, \"Healthy life expectancy at birth\": 58.9, \"Freedom to make life choices\": 0.706, \"Generosity\": 0.294, \"Perceptions of corruption\": 0.878, \"Positive affect\": 0.725, \"Negative affect\": 0.281, \"Regional indicator\": \"Sub-Saharan Africa\", \"_merge\": \"both\"}, {\"Country name\": \"Kosovo\", \"year\": 2022, \"Life Ladder\": 6.16, \"Log GDP per capita\": 9.416, \"Social support\": 0.888, \"Healthy life expectancy at birth\": null, \"Freedom to make life choices\": 0.865, \"Generosity\": 0.211, \"Perceptions of corruption\": 0.846, \"Positive affect\": 0.549, \"Negative affect\": 0.142, \"Regional indicator\": \"Central and Eastern Europe\", \"_merge\": \"both\"}, {\"Country name\": \"Kyrgyzstan\", \"year\": 2022, \"Life Ladder\": 5.668, \"Log GDP per capita\": 8.517, \"Social support\": 0.927, \"Healthy life expectancy at birth\": 67.375, \"Freedom to make life choices\": 0.948, \"Generosity\": 0.236, \"Perceptions of corruption\": 0.876, \"Positive affect\": 0.646, \"Negative affect\": 0.204, \"Regional indicator\": \"Commonwealth of Independent States\", \"_merge\": \"both\"}, {\"Country name\": \"Latvia\", \"year\": 2022, \"Life Ladder\": 6.055, \"Log GDP per capita\": 10.407, \"Social support\": 0.928, \"Healthy life expectancy at birth\": 66.5, \"Freedom to make life choices\": 0.817, \"Generosity\": 0.019, \"Perceptions of corruption\": 0.844, \"Positive affect\": 0.632, \"Negative affect\": 0.161, \"Regional indicator\": \"Central and Eastern Europe\", \"_merge\": \"both\"}, {\"Country name\": \"Lebanon\", \"year\": 2022, \"Life Ladder\": 2.352, \"Log GDP per capita\": 9.428, \"Social support\": 0.535, \"Healthy life expectancy at birth\": 66.225, \"Freedom to make life choices\": 0.45, \"Generosity\": -0.126, \"Perceptions of corruption\": 0.883, \"Positive affect\": 0.298, \"Negative affect\": 0.43, \"Regional indicator\": \"Middle East and North Africa\", \"_merge\": \"both\"}, {\"Country name\": \"Liberia\", \"year\": 2022, \"Life Ladder\": 4.042, \"Log GDP per capita\": 7.277, \"Social support\": 0.597, \"Healthy life expectancy at birth\": 56.7, \"Freedom to make life choices\": 0.732, \"Generosity\": 0.154, \"Perceptions of corruption\": 0.828, \"Positive affect\": 0.637, \"Negative affect\": 0.439, \"Regional indicator\": \"Sub-Saharan Africa\", \"_merge\": \"both\"}, {\"Country name\": \"Lithuania\", \"year\": 2022, \"Life Ladder\": 7.038, \"Log GDP per capita\": 10.602, \"Social support\": 0.937, \"Healthy life expectancy at birth\": 67.75, \"Freedom to make life choices\": 0.71, \"Generosity\": -0.191, \"Perceptions of corruption\": 0.685, \"Positive affect\": 0.471, \"Negative affect\": 0.132, \"Regional indicator\": \"Central and Eastern Europe\", \"_merge\": \"both\"}, {\"Country name\": \"Luxembourg\", \"year\": 2022, \"Life Ladder\": 7.228, \"Log GDP per capita\": 11.66, \"Social support\": 0.878, \"Healthy life expectancy at birth\": 71.675, \"Freedom to make life choices\": 0.915, \"Generosity\": 0.024, \"Perceptions of corruption\": 0.345, \"Positive affect\": 0.718, \"Negative affect\": 0.218, \"Regional indicator\": \"Western Europe\", \"_merge\": \"both\"}, {\"Country name\": \"Madagascar\", \"year\": 2022, \"Life Ladder\": 4.019, \"Log GDP per capita\": 7.29, \"Social support\": 0.642, \"Healthy life expectancy at birth\": 58.05, \"Freedom to make life choices\": 0.523, \"Generosity\": 0.075, \"Perceptions of corruption\": 0.74, \"Positive affect\": 0.687, \"Negative affect\": 0.345, \"Regional indicator\": \"Sub-Saharan Africa\", \"_merge\": \"both\"}, {\"Country name\": \"Malawi\", \"year\": 2022, \"Life Ladder\": 3.356, \"Log GDP per capita\": 7.296, \"Social support\": 0.503, \"Healthy life expectancy at birth\": 58.75, \"Freedom to make life choices\": 0.744, \"Generosity\": 0.02, \"Perceptions of corruption\": 0.755, \"Positive affect\": 0.536, \"Negative affect\": 0.329, \"Regional indicator\": \"Sub-Saharan Africa\", \"_merge\": \"both\"}, {\"Country name\": \"Mali\", \"year\": 2022, \"Life Ladder\": 4.211, \"Log GDP per capita\": 7.645, \"Social support\": 0.642, \"Healthy life expectancy at birth\": 55.8, \"Freedom to make life choices\": 0.818, \"Generosity\": -0.019, \"Perceptions of corruption\": 0.746, \"Positive affect\": 0.655, \"Negative affect\": 0.408, \"Regional indicator\": \"Sub-Saharan Africa\", \"_merge\": \"both\"}, {\"Country name\": \"Malta\", \"year\": 2022, \"Life Ladder\": 6.299, \"Log GDP per capita\": null, \"Social support\": 0.932, \"Healthy life expectancy at birth\": 71.65, \"Freedom to make life choices\": 0.838, \"Generosity\": null, \"Perceptions of corruption\": 0.758, \"Positive affect\": 0.671, \"Negative affect\": 0.37, \"Regional indicator\": \"Western Europe\", \"_merge\": \"both\"}, {\"Country name\": \"Mauritania\", \"year\": 2022, \"Life Ladder\": 4.724, \"Log GDP per capita\": 8.591, \"Social support\": 0.648, \"Healthy life expectancy at birth\": 60.475, \"Freedom to make life choices\": 0.624, \"Generosity\": -0.013, \"Perceptions of corruption\": 0.657, \"Positive affect\": 0.631, \"Negative affect\": 0.389, \"Regional indicator\": \"Sub-Saharan Africa\", \"_merge\": \"both\"}, {\"Country name\": \"Mauritius\", \"year\": 2022, \"Life Ladder\": 5.741, \"Log GDP per capita\": 10.007, \"Social support\": 0.887, \"Healthy life expectancy at birth\": 63.825, \"Freedom to make life choices\": 0.798, \"Generosity\": -0.038, \"Perceptions of corruption\": 0.769, \"Positive affect\": 0.725, \"Negative affect\": 0.168, \"Regional indicator\": \"Sub-Saharan Africa\", \"_merge\": \"both\"}, {\"Country name\": \"Mexico\", \"year\": 2022, \"Life Ladder\": 7.038, \"Log GDP per capita\": 9.876, \"Social support\": 0.858, \"Healthy life expectancy at birth\": 65.8, \"Freedom to make life choices\": 0.861, \"Generosity\": -0.121, \"Perceptions of corruption\": 0.78, \"Positive affect\": 0.818, \"Negative affect\": 0.205, \"Regional indicator\": \"Latin America and Caribbean\", \"_merge\": \"both\"}, {\"Country name\": \"Moldova\", \"year\": 2022, \"Life Ladder\": 5.687, \"Log GDP per capita\": 9.54, \"Social support\": 0.817, \"Healthy life expectancy at birth\": 65.7, \"Freedom to make life choices\": 0.829, \"Generosity\": -0.087, \"Perceptions of corruption\": 0.885, \"Positive affect\": 0.552, \"Negative affect\": 0.276, \"Regional indicator\": \"Commonwealth of Independent States\", \"_merge\": \"both\"}, {\"Country name\": \"Mongolia\", \"year\": 2022, \"Life Ladder\": 5.788, \"Log GDP per capita\": 9.388, \"Social support\": 0.951, \"Healthy life expectancy at birth\": 60.6, \"Freedom to make life choices\": 0.717, \"Generosity\": 0.214, \"Perceptions of corruption\": 0.847, \"Positive affect\": 0.55, \"Negative affect\": 0.209, \"Regional indicator\": \"East Asia\", \"_merge\": \"both\"}, {\"Country name\": \"Morocco\", \"year\": 2022, \"Life Ladder\": 4.596, \"Log GDP per capita\": 8.996, \"Social support\": 0.564, \"Healthy life expectancy at birth\": 64.0, \"Freedom to make life choices\": 0.795, \"Generosity\": -0.254, \"Perceptions of corruption\": 0.802, \"Positive affect\": 0.573, \"Negative affect\": 0.414, \"Regional indicator\": \"Middle East and North Africa\", \"_merge\": \"both\"}, {\"Country name\": \"Mozambique\", \"year\": 2022, \"Life Ladder\": 4.74, \"Log GDP per capita\": 7.12, \"Social support\": 0.711, \"Healthy life expectancy at birth\": 51.75, \"Freedom to make life choices\": 0.884, \"Generosity\": 0.047, \"Perceptions of corruption\": 0.688, \"Positive affect\": 0.629, \"Negative affect\": 0.351, \"Regional indicator\": \"Sub-Saharan Africa\", \"_merge\": \"both\"}, {\"Country name\": \"Namibia\", \"year\": 2022, \"Life Ladder\": 4.949, \"Log GDP per capita\": 9.132, \"Social support\": 0.808, \"Healthy life expectancy at birth\": 57.225, \"Freedom to make life choices\": 0.683, \"Generosity\": -0.12, \"Perceptions of corruption\": 0.849, \"Positive affect\": 0.676, \"Negative affect\": 0.261, \"Regional indicator\": \"Sub-Saharan Africa\", \"_merge\": \"both\"}, {\"Country name\": \"Nepal\", \"year\": 2022, \"Life Ladder\": 5.474, \"Log GDP per capita\": 8.285, \"Social support\": 0.753, \"Healthy life expectancy at birth\": 62.125, \"Freedom to make life choices\": 0.844, \"Generosity\": 0.153, \"Perceptions of corruption\": 0.76, \"Positive affect\": 0.473, \"Negative affect\": 0.342, \"Regional indicator\": \"South Asia\", \"_merge\": \"both\"}, {\"Country name\": \"Netherlands\", \"year\": 2022, \"Life Ladder\": 7.39, \"Log GDP per capita\": 10.981, \"Social support\": 0.929, \"Healthy life expectancy at birth\": 71.625, \"Freedom to make life choices\": 0.868, \"Generosity\": 0.224, \"Perceptions of corruption\": 0.459, \"Positive affect\": 0.711, \"Negative affect\": 0.198, \"Regional indicator\": \"Western Europe\", \"_merge\": \"both\"}, {\"Country name\": \"New Zealand\", \"year\": 2022, \"Life Ladder\": 6.975, \"Log GDP per capita\": 10.682, \"Social support\": 0.956, \"Healthy life expectancy at birth\": 70.425, \"Freedom to make life choices\": 0.831, \"Generosity\": 0.187, \"Perceptions of corruption\": 0.281, \"Positive affect\": 0.706, \"Negative affect\": 0.21, \"Regional indicator\": \"North America and ANZ\", \"_merge\": \"both\"}, {\"Country name\": \"Nicaragua\", \"year\": 2022, \"Life Ladder\": 6.392, \"Log GDP per capita\": 8.664, \"Social support\": 0.844, \"Healthy life expectancy at birth\": 65.725, \"Freedom to make life choices\": 0.914, \"Generosity\": -0.001, \"Perceptions of corruption\": 0.57, \"Positive affect\": 0.787, \"Negative affect\": 0.339, \"Regional indicator\": \"Latin America and Caribbean\", \"_merge\": \"both\"}, {\"Country name\": \"Niger\", \"year\": 2022, \"Life Ladder\": 4.501, \"Log GDP per capita\": 7.091, \"Social support\": 0.587, \"Healthy life expectancy at birth\": 56.55, \"Freedom to make life choices\": 0.793, \"Generosity\": 0.032, \"Perceptions of corruption\": 0.74, \"Positive affect\": 0.787, \"Negative affect\": 0.366, \"Regional indicator\": \"Sub-Saharan Africa\", \"_merge\": \"both\"}, {\"Country name\": \"North Macedonia\", \"year\": 2022, \"Life Ladder\": 5.167, \"Log GDP per capita\": 9.733, \"Social support\": 0.85, \"Healthy life expectancy at birth\": 66.7, \"Freedom to make life choices\": 0.723, \"Generosity\": 0.072, \"Perceptions of corruption\": 0.937, \"Positive affect\": 0.555, \"Negative affect\": 0.277, \"Regional indicator\": \"Central and Eastern Europe\", \"_merge\": \"both\"}, {\"Country name\": \"Norway\", \"year\": 2022, \"Life Ladder\": 7.295, \"Log GDP per capita\": 11.111, \"Social support\": 0.927, \"Healthy life expectancy at birth\": 71.55, \"Freedom to make life choices\": 0.939, \"Generosity\": 0.185, \"Perceptions of corruption\": 0.314, \"Positive affect\": 0.759, \"Negative affect\": 0.211, \"Regional indicator\": \"Western Europe\", \"_merge\": \"both\"}, {\"Country name\": \"Panama\", \"year\": 2022, \"Life Ladder\": 5.979, \"Log GDP per capita\": 10.333, \"Social support\": 0.891, \"Healthy life expectancy at birth\": 69.0, \"Freedom to make life choices\": 0.899, \"Generosity\": -0.121, \"Perceptions of corruption\": 0.887, \"Positive affect\": 0.821, \"Negative affect\": 0.259, \"Regional indicator\": \"Latin America and Caribbean\", \"_merge\": \"both\"}, {\"Country name\": \"Paraguay\", \"year\": 2022, \"Life Ladder\": 6.138, \"Log GDP per capita\": 9.508, \"Social support\": 0.899, \"Healthy life expectancy at birth\": 65.95, \"Freedom to make life choices\": 0.922, \"Generosity\": -0.011, \"Perceptions of corruption\": 0.839, \"Positive affect\": 0.821, \"Negative affect\": 0.238, \"Regional indicator\": \"Latin America and Caribbean\", \"_merge\": \"both\"}, {\"Country name\": \"Peru\", \"year\": 2022, \"Life Ladder\": 5.892, \"Log GDP per capita\": 9.449, \"Social support\": 0.823, \"Healthy life expectancy at birth\": 70.025, \"Freedom to make life choices\": 0.764, \"Generosity\": -0.178, \"Perceptions of corruption\": 0.884, \"Positive affect\": 0.755, \"Negative affect\": 0.378, \"Regional indicator\": \"Latin America and Caribbean\", \"_merge\": \"both\"}, {\"Country name\": \"Poland\", \"year\": 2022, \"Life Ladder\": 6.666, \"Log GDP per capita\": 10.509, \"Social support\": 0.886, \"Healthy life expectancy at birth\": 69.225, \"Freedom to make life choices\": 0.8, \"Generosity\": -0.207, \"Perceptions of corruption\": 0.667, \"Positive affect\": 0.594, \"Negative affect\": 0.14, \"Regional indicator\": \"Central and Eastern Europe\", \"_merge\": \"both\"}, {\"Country name\": \"Portugal\", \"year\": 2022, \"Life Ladder\": 5.953, \"Log GDP per capita\": 10.487, \"Social support\": 0.862, \"Healthy life expectancy at birth\": 71.375, \"Freedom to make life choices\": 0.903, \"Generosity\": -0.137, \"Perceptions of corruption\": 0.893, \"Positive affect\": 0.638, \"Negative affect\": 0.316, \"Regional indicator\": \"Western Europe\", \"_merge\": \"both\"}, {\"Country name\": \"Romania\", \"year\": 2022, \"Life Ladder\": 6.437, \"Log GDP per capita\": 10.404, \"Social support\": 0.83, \"Healthy life expectancy at birth\": 67.175, \"Freedom to make life choices\": 0.836, \"Generosity\": -0.172, \"Perceptions of corruption\": 0.941, \"Positive affect\": 0.615, \"Negative affect\": 0.258, \"Regional indicator\": \"Central and Eastern Europe\", \"_merge\": \"both\"}, {\"Country name\": \"Russia\", \"year\": 2022, \"Life Ladder\": 6.044, \"Log GDP per capita\": 10.203, \"Social support\": 0.92, \"Healthy life expectancy at birth\": 65.325, \"Freedom to make life choices\": 0.776, \"Generosity\": -0.07, \"Perceptions of corruption\": 0.767, \"Positive affect\": 0.614, \"Negative affect\": 0.211, \"Regional indicator\": \"Commonwealth of Independent States\", \"_merge\": \"both\"}, {\"Country name\": \"Saudi Arabia\", \"year\": 2022, \"Life Ladder\": 6.382, \"Log GDP per capita\": 10.781, \"Social support\": 0.9, \"Healthy life expectancy at birth\": 64.6, \"Freedom to make life choices\": null, \"Generosity\": -0.027, \"Perceptions of corruption\": null, \"Positive affect\": 0.677, \"Negative affect\": 0.205, \"Regional indicator\": \"Middle East and North Africa\", \"_merge\": \"both\"}, {\"Country name\": \"Senegal\", \"year\": 2022, \"Life Ladder\": 4.907, \"Log GDP per capita\": 8.18, \"Social support\": 0.609, \"Healthy life expectancy at birth\": 60.3, \"Freedom to make life choices\": 0.758, \"Generosity\": 0.052, \"Perceptions of corruption\": 0.854, \"Positive affect\": 0.813, \"Negative affect\": 0.287, \"Regional indicator\": \"Sub-Saharan Africa\", \"_merge\": \"both\"}, {\"Country name\": \"Sierra Leone\", \"year\": 2022, \"Life Ladder\": 2.56, \"Log GDP per capita\": 7.401, \"Social support\": 0.502, \"Healthy life expectancy at birth\": 55.3, \"Freedom to make life choices\": 0.66, \"Generosity\": 0.101, \"Perceptions of corruption\": 0.862, \"Positive affect\": 0.494, \"Negative affect\": 0.505, \"Regional indicator\": \"Sub-Saharan Africa\", \"_merge\": \"both\"}, {\"Country name\": \"Slovenia\", \"year\": 2022, \"Life Ladder\": 6.723, \"Log GDP per capita\": 10.644, \"Social support\": 0.942, \"Healthy life expectancy at birth\": 71.225, \"Freedom to make life choices\": 0.93, \"Generosity\": 0.101, \"Perceptions of corruption\": 0.762, \"Positive affect\": 0.625, \"Negative affect\": 0.242, \"Regional indicator\": \"Central and Eastern Europe\", \"_merge\": \"both\"}, {\"Country name\": \"South Korea\", \"year\": 2022, \"Life Ladder\": 5.95, \"Log GDP per capita\": 10.726, \"Social support\": 0.81, \"Healthy life expectancy at birth\": 73.925, \"Freedom to make life choices\": 0.723, \"Generosity\": 0.003, \"Perceptions of corruption\": 0.747, \"Positive affect\": 0.585, \"Negative affect\": 0.233, \"Regional indicator\": \"East Asia\", \"_merge\": \"both\"}, {\"Country name\": \"Spain\", \"year\": 2022, \"Life Ladder\": 6.337, \"Log GDP per capita\": 10.587, \"Social support\": 0.934, \"Healthy life expectancy at birth\": 72.475, \"Freedom to make life choices\": 0.781, \"Generosity\": 0.001, \"Perceptions of corruption\": 0.673, \"Positive affect\": 0.636, \"Negative affect\": 0.32, \"Regional indicator\": \"Western Europe\", \"_merge\": \"both\"}, {\"Country name\": \"Sweden\", \"year\": 2022, \"Life Ladder\": 7.431, \"Log GDP per capita\": 10.913, \"Social support\": 0.949, \"Healthy life expectancy at birth\": 72.275, \"Freedom to make life choices\": 0.939, \"Generosity\": 0.234, \"Perceptions of corruption\": 0.213, \"Positive affect\": 0.75, \"Negative affect\": 0.163, \"Regional indicator\": \"Western Europe\", \"_merge\": \"both\"}, {\"Country name\": \"Switzerland\", \"year\": 2022, \"Life Ladder\": 6.884, \"Log GDP per capita\": 11.184, \"Social support\": 0.881, \"Healthy life expectancy at birth\": 73.1, \"Freedom to make life choices\": 0.848, \"Generosity\": 0.128, \"Perceptions of corruption\": 0.235, \"Positive affect\": 0.71, \"Negative affect\": 0.18, \"Regional indicator\": \"Western Europe\", \"_merge\": \"both\"}, {\"Country name\": \"Taiwan Province of China\", \"year\": 2022, \"Life Ladder\": 6.607, \"Log GDP per capita\": null, \"Social support\": 0.883, \"Healthy life expectancy at birth\": null, \"Freedom to make life choices\": 0.8, \"Generosity\": null, \"Perceptions of corruption\": 0.658, \"Positive affect\": 0.717, \"Negative affect\": 0.095, \"Regional indicator\": \"East Asia\", \"_merge\": \"both\"}, {\"Country name\": \"Tanzania\", \"year\": 2022, \"Life Ladder\": 3.616, \"Log GDP per capita\": 7.872, \"Social support\": 0.6, \"Healthy life expectancy at birth\": 59.85, \"Freedom to make life choices\": 0.856, \"Generosity\": 0.136, \"Perceptions of corruption\": 0.584, \"Positive affect\": 0.707, \"Negative affect\": 0.195, \"Regional indicator\": \"Sub-Saharan Africa\", \"_merge\": \"both\"}, {\"Country name\": \"Thailand\", \"year\": 2022, \"Life Ladder\": 6.007, \"Log GDP per capita\": 9.777, \"Social support\": 0.867, \"Healthy life expectancy at birth\": 68.525, \"Freedom to make life choices\": 0.881, \"Generosity\": 0.301, \"Perceptions of corruption\": 0.868, \"Positive affect\": 0.773, \"Negative affect\": 0.218, \"Regional indicator\": \"Southeast Asia\", \"_merge\": \"both\"}, {\"Country name\": \"Togo\", \"year\": 2022, \"Life Ladder\": 4.239, \"Log GDP per capita\": 7.685, \"Social support\": 0.579, \"Healthy life expectancy at birth\": 57.7, \"Freedom to make life choices\": 0.696, \"Generosity\": 0.007, \"Perceptions of corruption\": 0.713, \"Positive affect\": 0.594, \"Negative affect\": 0.414, \"Regional indicator\": \"Sub-Saharan Africa\", \"_merge\": \"both\"}, {\"Country name\": \"Tunisia\", \"year\": 2022, \"Life Ladder\": 4.261, \"Log GDP per capita\": 9.266, \"Social support\": 0.755, \"Healthy life expectancy at birth\": 67.05, \"Freedom to make life choices\": 0.474, \"Generosity\": -0.231, \"Perceptions of corruption\": 0.908, \"Positive affect\": 0.458, \"Negative affect\": 0.304, \"Regional indicator\": \"Middle East and North Africa\", \"_merge\": \"both\"}, {\"Country name\": \"Ukraine\", \"year\": 2022, \"Life Ladder\": 4.637, \"Log GDP per capita\": 9.049, \"Social support\": 0.863, \"Healthy life expectancy at birth\": 64.675, \"Freedom to make life choices\": 0.829, \"Generosity\": 0.428, \"Perceptions of corruption\": 0.852, \"Positive affect\": 0.527, \"Negative affect\": 0.39, \"Regional indicator\": \"Commonwealth of Independent States\", \"_merge\": \"both\"}, {\"Country name\": \"United Arab Emirates\", \"year\": 2022, \"Life Ladder\": 6.738, \"Log GDP per capita\": 11.202, \"Social support\": 0.798, \"Healthy life expectancy at birth\": 66.45, \"Freedom to make life choices\": 0.932, \"Generosity\": 0.171, \"Perceptions of corruption\": null, \"Positive affect\": 0.715, \"Negative affect\": 0.242, \"Regional indicator\": \"Middle East and North Africa\", \"_merge\": \"both\"}, {\"Country name\": \"United Kingdom\", \"year\": 2022, \"Life Ladder\": 6.722, \"Log GDP per capita\": 10.754, \"Social support\": 0.863, \"Healthy life expectancy at birth\": 70.4, \"Freedom to make life choices\": 0.857, \"Generosity\": 0.309, \"Perceptions of corruption\": 0.426, \"Positive affect\": 0.723, \"Negative affect\": 0.27, \"Regional indicator\": \"Western Europe\", \"_merge\": \"both\"}, {\"Country name\": \"United States\", \"year\": 2022, \"Life Ladder\": 6.693, \"Log GDP per capita\": 11.079, \"Social support\": 0.9, \"Healthy life expectancy at birth\": 65.725, \"Freedom to make life choices\": 0.736, \"Generosity\": 0.191, \"Perceptions of corruption\": 0.701, \"Positive affect\": 0.712, \"Negative affect\": 0.267, \"Regional indicator\": \"North America and ANZ\", \"_merge\": \"both\"}, {\"Country name\": \"Uruguay\", \"year\": 2022, \"Life Ladder\": 6.671, \"Log GDP per capita\": 10.084, \"Social support\": 0.905, \"Healthy life expectancy at birth\": 67.5, \"Freedom to make life choices\": 0.878, \"Generosity\": -0.052, \"Perceptions of corruption\": 0.631, \"Positive affect\": 0.775, \"Negative affect\": 0.267, \"Regional indicator\": \"Latin America and Caribbean\", \"_merge\": \"both\"}, {\"Country name\": \"Uzbekistan\", \"year\": 2022, \"Life Ladder\": 6.016, \"Log GDP per capita\": 8.99, \"Social support\": 0.879, \"Healthy life expectancy at birth\": 65.6, \"Freedom to make life choices\": 0.959, \"Generosity\": 0.309, \"Perceptions of corruption\": 0.616, \"Positive affect\": 0.741, \"Negative affect\": 0.225, \"Regional indicator\": \"Commonwealth of Independent States\", \"_merge\": \"both\"}, {\"Country name\": \"Venezuela\", \"year\": 2022, \"Life Ladder\": 5.949, \"Log GDP per capita\": null, \"Social support\": 0.899, \"Healthy life expectancy at birth\": 63.875, \"Freedom to make life choices\": 0.77, \"Generosity\": null, \"Perceptions of corruption\": 0.798, \"Positive affect\": 0.754, \"Negative affect\": 0.292, \"Regional indicator\": \"Latin America and Caribbean\", \"_merge\": \"both\"}, {\"Country name\": \"Vietnam\", \"year\": 2022, \"Life Ladder\": 6.267, \"Log GDP per capita\": 9.333, \"Social support\": 0.879, \"Healthy life expectancy at birth\": 65.6, \"Freedom to make life choices\": 0.975, \"Generosity\": -0.179, \"Perceptions of corruption\": 0.703, \"Positive affect\": 0.774, \"Negative affect\": 0.108, \"Regional indicator\": \"Southeast Asia\", \"_merge\": \"both\"}, {\"Country name\": \"Zimbabwe\", \"year\": 2022, \"Life Ladder\": 3.296, \"Log GDP per capita\": 7.67, \"Social support\": 0.666, \"Healthy life expectancy at birth\": 54.525, \"Freedom to make life choices\": 0.652, \"Generosity\": -0.07, \"Perceptions of corruption\": 0.753, \"Positive affect\": 0.641, \"Negative affect\": 0.191, \"Regional indicator\": \"Sub-Saharan Africa\", \"_merge\": \"both\"}]}}, {\"mode\": \"vega-lite\"});\n",
       "</script>"
      ],
      "text/plain": [
       "alt.Chart(...)"
      ]
     },
     "execution_count": 21,
     "metadata": {},
     "output_type": "execute_result"
    }
   ],
   "source": [
    "#alt.Chart(happy)"
   ]
  },
  {
   "cell_type": "markdown",
   "metadata": {},
   "source": [
    "Ya podemos empezar a decidir nuestro gráfico. Primero queremos decidir qué marcas (marks) geométricas queremos que tenga. Elegimos el atributo `mark_point()`. \n",
    "Así como `point`, existen otros tipos de _marks_\n",
    "- point\n",
    "- line\n",
    "- bar\n",
    "- area\n",
    "- rect\n",
    "- geoshape\n",
    "- text\n",
    "- circle\n",
    "- square\n",
    "- rule\n",
    "- tick"
   ]
  },
  {
   "cell_type": "code",
   "execution_count": null,
   "metadata": {},
   "outputs": [],
   "source": [
    "alt.Chart(happy).mark_rect()"
   ]
  },
  {
   "cell_type": "markdown",
   "metadata": {},
   "source": [
    "Aquí todavía no estamos dando una ubicación a los datos, así que está graficando todo en un mismo punto. Sin embargo, podemos especificar posiciones para nuestos puntos. Para ello usaremos el método `encode` para darle _encodings_ visuales a nuestos datos. En este caso, en el eje y colocaremos a los países de Latinoamérica."
   ]
  },
  {
   "cell_type": "code",
   "execution_count": 22,
   "metadata": {},
   "outputs": [],
   "source": [
    "happy_lac = happy[happy['Regional indicator'] == \"Latin America and Caribbean\"]"
   ]
  },
  {
   "cell_type": "code",
   "execution_count": 23,
   "metadata": {},
   "outputs": [
    {
     "data": {
      "text/html": [
       "<div>\n",
       "<style scoped>\n",
       "    .dataframe tbody tr th:only-of-type {\n",
       "        vertical-align: middle;\n",
       "    }\n",
       "\n",
       "    .dataframe tbody tr th {\n",
       "        vertical-align: top;\n",
       "    }\n",
       "\n",
       "    .dataframe thead th {\n",
       "        text-align: right;\n",
       "    }\n",
       "</style>\n",
       "<table border=\"1\" class=\"dataframe\">\n",
       "  <thead>\n",
       "    <tr style=\"text-align: right;\">\n",
       "      <th></th>\n",
       "      <th>Country name</th>\n",
       "      <th>year</th>\n",
       "      <th>Life Ladder</th>\n",
       "      <th>Log GDP per capita</th>\n",
       "      <th>Social support</th>\n",
       "      <th>Healthy life expectancy at birth</th>\n",
       "      <th>Freedom to make life choices</th>\n",
       "      <th>Generosity</th>\n",
       "      <th>Perceptions of corruption</th>\n",
       "      <th>Positive affect</th>\n",
       "      <th>Negative affect</th>\n",
       "      <th>Regional indicator</th>\n",
       "      <th>_merge</th>\n",
       "    </tr>\n",
       "  </thead>\n",
       "  <tbody>\n",
       "    <tr>\n",
       "      <th>108</th>\n",
       "      <td>Venezuela</td>\n",
       "      <td>2022</td>\n",
       "      <td>5.949</td>\n",
       "      <td>NaN</td>\n",
       "      <td>0.899</td>\n",
       "      <td>63.875</td>\n",
       "      <td>0.77</td>\n",
       "      <td>NaN</td>\n",
       "      <td>0.798</td>\n",
       "      <td>0.754</td>\n",
       "      <td>0.292</td>\n",
       "      <td>Latin America and Caribbean</td>\n",
       "      <td>both</td>\n",
       "    </tr>\n",
       "  </tbody>\n",
       "</table>\n",
       "</div>"
      ],
      "text/plain": [
       "    Country name  year  Life Ladder  Log GDP per capita  Social support  \\\n",
       "108    Venezuela  2022        5.949                 NaN           0.899   \n",
       "\n",
       "     Healthy life expectancy at birth  Freedom to make life choices  \\\n",
       "108                            63.875                          0.77   \n",
       "\n",
       "     Generosity  Perceptions of corruption  Positive affect  Negative affect  \\\n",
       "108         NaN                      0.798            0.754            0.292   \n",
       "\n",
       "              Regional indicator _merge  \n",
       "108  Latin America and Caribbean   both  "
      ]
     },
     "execution_count": 23,
     "metadata": {},
     "output_type": "execute_result"
    }
   ],
   "source": [
    "happy[happy['Country name'] == 'Venezuela']"
   ]
  },
  {
   "cell_type": "code",
   "execution_count": 24,
   "metadata": {},
   "outputs": [
    {
     "data": {
      "text/html": [
       "\n",
       "<style>\n",
       "  #altair-viz-50d2e68cbf7345b7af66230eeb978fae.vega-embed {\n",
       "    width: 100%;\n",
       "    display: flex;\n",
       "  }\n",
       "\n",
       "  #altair-viz-50d2e68cbf7345b7af66230eeb978fae.vega-embed details,\n",
       "  #altair-viz-50d2e68cbf7345b7af66230eeb978fae.vega-embed details summary {\n",
       "    position: relative;\n",
       "  }\n",
       "</style>\n",
       "<div id=\"altair-viz-50d2e68cbf7345b7af66230eeb978fae\"></div>\n",
       "<script type=\"text/javascript\">\n",
       "  var VEGA_DEBUG = (typeof VEGA_DEBUG == \"undefined\") ? {} : VEGA_DEBUG;\n",
       "  (function(spec, embedOpt){\n",
       "    let outputDiv = document.currentScript.previousElementSibling;\n",
       "    if (outputDiv.id !== \"altair-viz-50d2e68cbf7345b7af66230eeb978fae\") {\n",
       "      outputDiv = document.getElementById(\"altair-viz-50d2e68cbf7345b7af66230eeb978fae\");\n",
       "    }\n",
       "    const paths = {\n",
       "      \"vega\": \"https://cdn.jsdelivr.net/npm/vega@5?noext\",\n",
       "      \"vega-lib\": \"https://cdn.jsdelivr.net/npm/vega-lib?noext\",\n",
       "      \"vega-lite\": \"https://cdn.jsdelivr.net/npm/vega-lite@5.16.3?noext\",\n",
       "      \"vega-embed\": \"https://cdn.jsdelivr.net/npm/vega-embed@6?noext\",\n",
       "    };\n",
       "\n",
       "    function maybeLoadScript(lib, version) {\n",
       "      var key = `${lib.replace(\"-\", \"\")}_version`;\n",
       "      return (VEGA_DEBUG[key] == version) ?\n",
       "        Promise.resolve(paths[lib]) :\n",
       "        new Promise(function(resolve, reject) {\n",
       "          var s = document.createElement('script');\n",
       "          document.getElementsByTagName(\"head\")[0].appendChild(s);\n",
       "          s.async = true;\n",
       "          s.onload = () => {\n",
       "            VEGA_DEBUG[key] = version;\n",
       "            return resolve(paths[lib]);\n",
       "          };\n",
       "          s.onerror = () => reject(`Error loading script: ${paths[lib]}`);\n",
       "          s.src = paths[lib];\n",
       "        });\n",
       "    }\n",
       "\n",
       "    function showError(err) {\n",
       "      outputDiv.innerHTML = `<div class=\"error\" style=\"color:red;\">${err}</div>`;\n",
       "      throw err;\n",
       "    }\n",
       "\n",
       "    function displayChart(vegaEmbed) {\n",
       "      vegaEmbed(outputDiv, spec, embedOpt)\n",
       "        .catch(err => showError(`Javascript Error: ${err.message}<br>This usually means there's a typo in your chart specification. See the javascript console for the full traceback.`));\n",
       "    }\n",
       "\n",
       "    if(typeof define === \"function\" && define.amd) {\n",
       "      requirejs.config({paths});\n",
       "      require([\"vega-embed\"], displayChart, err => showError(`Error loading script: ${err.message}`));\n",
       "    } else {\n",
       "      maybeLoadScript(\"vega\", \"5\")\n",
       "        .then(() => maybeLoadScript(\"vega-lite\", \"5.16.3\"))\n",
       "        .then(() => maybeLoadScript(\"vega-embed\", \"6\"))\n",
       "        .catch(showError)\n",
       "        .then(() => displayChart(vegaEmbed));\n",
       "    }\n",
       "  })({\"config\": {\"view\": {\"continuousWidth\": 300, \"continuousHeight\": 300}}, \"data\": {\"name\": \"data-d6f2fa7d3b46e8375cb1e664682de5f6\"}, \"mark\": {\"type\": \"point\"}, \"encoding\": {\"x\": {\"field\": \"Country name\", \"type\": \"nominal\"}}, \"$schema\": \"https://vega.github.io/schema/vega-lite/v5.16.3.json\", \"datasets\": {\"data-d6f2fa7d3b46e8375cb1e664682de5f6\": [{\"Country name\": \"Argentina\", \"year\": 2022, \"Life Ladder\": 6.261, \"Log GDP per capita\": 10.011, \"Social support\": 0.893, \"Healthy life expectancy at birth\": 67.25, \"Freedom to make life choices\": 0.825, \"Generosity\": -0.128, \"Perceptions of corruption\": 0.81, \"Positive affect\": 0.724, \"Negative affect\": 0.284, \"Regional indicator\": \"Latin America and Caribbean\", \"_merge\": \"both\"}, {\"Country name\": \"Bolivia\", \"year\": 2022, \"Life Ladder\": 5.929, \"Log GDP per capita\": 9.014, \"Social support\": 0.824, \"Healthy life expectancy at birth\": 63.75, \"Freedom to make life choices\": 0.865, \"Generosity\": -0.08, \"Perceptions of corruption\": 0.84, \"Positive affect\": 0.738, \"Negative affect\": 0.426, \"Regional indicator\": \"Latin America and Caribbean\", \"_merge\": \"both\"}, {\"Country name\": \"Brazil\", \"year\": 2022, \"Life Ladder\": 6.257, \"Log GDP per capita\": 9.611, \"Social support\": 0.866, \"Healthy life expectancy at birth\": 65.925, \"Freedom to make life choices\": 0.83, \"Generosity\": -0.061, \"Perceptions of corruption\": 0.742, \"Positive affect\": 0.681, \"Negative affect\": 0.341, \"Regional indicator\": \"Latin America and Caribbean\", \"_merge\": \"both\"}, {\"Country name\": \"Chile\", \"year\": 2022, \"Life Ladder\": 6.415, \"Log GDP per capita\": 10.154, \"Social support\": 0.887, \"Healthy life expectancy at birth\": 70.45, \"Freedom to make life choices\": 0.793, \"Generosity\": -0.011, \"Perceptions of corruption\": 0.796, \"Positive affect\": 0.775, \"Negative affect\": 0.253, \"Regional indicator\": \"Latin America and Caribbean\", \"_merge\": \"both\"}, {\"Country name\": \"Colombia\", \"year\": 2022, \"Life Ladder\": 5.892, \"Log GDP per capita\": 9.66, \"Social support\": 0.877, \"Healthy life expectancy at birth\": 69.525, \"Freedom to make life choices\": 0.799, \"Generosity\": -0.162, \"Perceptions of corruption\": 0.863, \"Positive affect\": 0.762, \"Negative affect\": 0.306, \"Regional indicator\": \"Latin America and Caribbean\", \"_merge\": \"both\"}, {\"Country name\": \"Costa Rica\", \"year\": 2022, \"Life Ladder\": 7.077, \"Log GDP per capita\": 9.998, \"Social support\": 0.902, \"Healthy life expectancy at birth\": 70.0, \"Freedom to make life choices\": 0.91, \"Generosity\": -0.047, \"Perceptions of corruption\": 0.751, \"Positive affect\": 0.793, \"Negative affect\": 0.272, \"Regional indicator\": \"Latin America and Caribbean\", \"_merge\": \"both\"}, {\"Country name\": \"Dominican Republic\", \"year\": 2022, \"Life Ladder\": 5.518, \"Log GDP per capita\": 9.874, \"Social support\": 0.82, \"Healthy life expectancy at birth\": 64.6, \"Freedom to make life choices\": 0.853, \"Generosity\": -0.084, \"Perceptions of corruption\": 0.656, \"Positive affect\": 0.723, \"Negative affect\": 0.306, \"Regional indicator\": \"Latin America and Caribbean\", \"_merge\": \"both\"}, {\"Country name\": \"Ecuador\", \"year\": 2022, \"Life Ladder\": 5.887, \"Log GDP per capita\": 9.29, \"Social support\": 0.825, \"Healthy life expectancy at birth\": 69.25, \"Freedom to make life choices\": 0.759, \"Generosity\": -0.08, \"Perceptions of corruption\": 0.866, \"Positive affect\": 0.777, \"Negative affect\": 0.356, \"Regional indicator\": \"Latin America and Caribbean\", \"_merge\": \"both\"}, {\"Country name\": \"El Salvador\", \"year\": 2022, \"Life Ladder\": 6.492, \"Log GDP per capita\": 9.135, \"Social support\": 0.772, \"Healthy life expectancy at birth\": 65.95, \"Freedom to make life choices\": 0.914, \"Generosity\": -0.112, \"Perceptions of corruption\": 0.621, \"Positive affect\": 0.823, \"Negative affect\": 0.296, \"Regional indicator\": \"Latin America and Caribbean\", \"_merge\": \"both\"}, {\"Country name\": \"Guatemala\", \"year\": 2022, \"Life Ladder\": 6.15, \"Log GDP per capita\": 9.116, \"Social support\": 0.806, \"Healthy life expectancy at birth\": 62.9, \"Freedom to make life choices\": 0.856, \"Generosity\": -0.057, \"Perceptions of corruption\": 0.835, \"Positive affect\": 0.835, \"Negative affect\": 0.263, \"Regional indicator\": \"Latin America and Caribbean\", \"_merge\": \"both\"}, {\"Country name\": \"Honduras\", \"year\": 2022, \"Life Ladder\": 5.932, \"Log GDP per capita\": 8.645, \"Social support\": 0.729, \"Healthy life expectancy at birth\": 64.275, \"Freedom to make life choices\": 0.851, \"Generosity\": 0.081, \"Perceptions of corruption\": 0.834, \"Positive affect\": 0.775, \"Negative affect\": 0.289, \"Regional indicator\": \"Latin America and Caribbean\", \"_merge\": \"both\"}, {\"Country name\": \"Jamaica\", \"year\": 2022, \"Life Ladder\": 5.87, \"Log GDP per capita\": 9.198, \"Social support\": 0.868, \"Healthy life expectancy at birth\": 66.6, \"Freedom to make life choices\": 0.874, \"Generosity\": -0.088, \"Perceptions of corruption\": 0.91, \"Positive affect\": 0.718, \"Negative affect\": 0.269, \"Regional indicator\": \"Latin America and Caribbean\", \"_merge\": \"both\"}, {\"Country name\": \"Mexico\", \"year\": 2022, \"Life Ladder\": 7.038, \"Log GDP per capita\": 9.876, \"Social support\": 0.858, \"Healthy life expectancy at birth\": 65.8, \"Freedom to make life choices\": 0.861, \"Generosity\": -0.121, \"Perceptions of corruption\": 0.78, \"Positive affect\": 0.818, \"Negative affect\": 0.205, \"Regional indicator\": \"Latin America and Caribbean\", \"_merge\": \"both\"}, {\"Country name\": \"Nicaragua\", \"year\": 2022, \"Life Ladder\": 6.392, \"Log GDP per capita\": 8.664, \"Social support\": 0.844, \"Healthy life expectancy at birth\": 65.725, \"Freedom to make life choices\": 0.914, \"Generosity\": -0.001, \"Perceptions of corruption\": 0.57, \"Positive affect\": 0.787, \"Negative affect\": 0.339, \"Regional indicator\": \"Latin America and Caribbean\", \"_merge\": \"both\"}, {\"Country name\": \"Panama\", \"year\": 2022, \"Life Ladder\": 5.979, \"Log GDP per capita\": 10.333, \"Social support\": 0.891, \"Healthy life expectancy at birth\": 69.0, \"Freedom to make life choices\": 0.899, \"Generosity\": -0.121, \"Perceptions of corruption\": 0.887, \"Positive affect\": 0.821, \"Negative affect\": 0.259, \"Regional indicator\": \"Latin America and Caribbean\", \"_merge\": \"both\"}, {\"Country name\": \"Paraguay\", \"year\": 2022, \"Life Ladder\": 6.138, \"Log GDP per capita\": 9.508, \"Social support\": 0.899, \"Healthy life expectancy at birth\": 65.95, \"Freedom to make life choices\": 0.922, \"Generosity\": -0.011, \"Perceptions of corruption\": 0.839, \"Positive affect\": 0.821, \"Negative affect\": 0.238, \"Regional indicator\": \"Latin America and Caribbean\", \"_merge\": \"both\"}, {\"Country name\": \"Peru\", \"year\": 2022, \"Life Ladder\": 5.892, \"Log GDP per capita\": 9.449, \"Social support\": 0.823, \"Healthy life expectancy at birth\": 70.025, \"Freedom to make life choices\": 0.764, \"Generosity\": -0.178, \"Perceptions of corruption\": 0.884, \"Positive affect\": 0.755, \"Negative affect\": 0.378, \"Regional indicator\": \"Latin America and Caribbean\", \"_merge\": \"both\"}, {\"Country name\": \"Uruguay\", \"year\": 2022, \"Life Ladder\": 6.671, \"Log GDP per capita\": 10.084, \"Social support\": 0.905, \"Healthy life expectancy at birth\": 67.5, \"Freedom to make life choices\": 0.878, \"Generosity\": -0.052, \"Perceptions of corruption\": 0.631, \"Positive affect\": 0.775, \"Negative affect\": 0.267, \"Regional indicator\": \"Latin America and Caribbean\", \"_merge\": \"both\"}, {\"Country name\": \"Venezuela\", \"year\": 2022, \"Life Ladder\": 5.949, \"Log GDP per capita\": null, \"Social support\": 0.899, \"Healthy life expectancy at birth\": 63.875, \"Freedom to make life choices\": 0.77, \"Generosity\": null, \"Perceptions of corruption\": 0.798, \"Positive affect\": 0.754, \"Negative affect\": 0.292, \"Regional indicator\": \"Latin America and Caribbean\", \"_merge\": \"both\"}]}}, {\"mode\": \"vega-lite\"});\n",
       "</script>"
      ],
      "text/plain": [
       "alt.Chart(...)"
      ]
     },
     "execution_count": 24,
     "metadata": {},
     "output_type": "execute_result"
    }
   ],
   "source": [
    "alt.Chart(happy_lac).mark_point().encode(\n",
    "    x = \"Country name\")"
   ]
  },
  {
   "cell_type": "markdown",
   "metadata": {},
   "source": [
    "El método del encoding crea un un mapeo de key-value entre varios encodings (x, y, color, forma, tamaño, etc) a las variables de nuestra base de datos, tan sólo usando sus nombres. Noten que Altair detecta el tipo de datos de un dataframe de pandas.  Aún tenemos varios puntos que se superponen, los separaremos agregando un encoding para x. \n"
   ]
  },
  {
   "cell_type": "code",
   "execution_count": null,
   "metadata": {},
   "outputs": [],
   "source": [
    "alt.Chart(happy_lac).mark_point().encode(\n",
    "    x = \"Life Ladder\",\n",
    "    y = \"Country name\"\n",
    "    )"
   ]
  },
  {
   "cell_type": "code",
   "execution_count": null,
   "metadata": {},
   "outputs": [],
   "source": [
    "#happy_lac[['Life Ladder', 'Country name']]"
   ]
  },
  {
   "cell_type": "markdown",
   "metadata": {},
   "source": [
    "Una forma más generalizada de realizar este mismo códig, es agregar `alt.X`  y `alt.Y`, lo cual permitirá agregar más parámetros, y por tanto, más personalización a nuestro gráfico. "
   ]
  },
  {
   "cell_type": "code",
   "execution_count": null,
   "metadata": {},
   "outputs": [],
   "source": [
    "alt.Chart(happy_lac).mark_point().encode(\n",
    "    alt.X(\"Life Ladder\"),\n",
    "    alt.Y(\"Country name\")\n",
    ")"
   ]
  },
  {
   "cell_type": "markdown",
   "metadata": {},
   "source": [
    "¿ Qué pasa si queremos un gráfico de barras?"
   ]
  },
  {
   "cell_type": "code",
   "execution_count": null,
   "metadata": {},
   "outputs": [],
   "source": [
    "alt.Chart(happy_lac).mark_bar().encode(\n",
    "    alt.Y(\"Life Ladder\"),\n",
    "    alt.X(\"Country name\")\n",
    ")"
   ]
  },
  {
   "cell_type": "code",
   "execution_count": null,
   "metadata": {},
   "outputs": [],
   "source": [
    "alt.Chart(happy_lac).mark_point().encode(\n",
    "    alt.X(\"Life Ladder\"),\n",
    "    alt.Y(\"Country name\")\n",
    ")"
   ]
  },
  {
   "cell_type": "markdown",
   "metadata": {},
   "source": [
    "A veces es necesario decirle explícitamente a Altair el tipo de datos de nuestras variables. \n",
    "Estos tipos pueden ser/se especifican de la siguiente forma:\n",
    "\n",
    "- `'nombre_variable:N'` Tipo de datos Nominal (datos categóricos no ordenados),\n",
    "\n",
    "- `'nombre_variable:O'` Tipo de datos Ordinal (datos categóricos ordenados),\n",
    "\n",
    "- `'nombre_variable:Q'` Tipo de datos cuantitativo (datos numéricos) y\n",
    "\n",
    "- `'nombre_variable:T'` Variables de tiempo como fechas o años (casi no hemos visto esto)\n",
    "\n",
    "Volviendo al primer ejemplo:"
   ]
  },
  {
   "cell_type": "code",
   "execution_count": null,
   "metadata": {},
   "outputs": [],
   "source": [
    "alt.Chart(happy_lac).mark_point().encode(\n",
    "    x = \"Life Ladder:Q\",\n",
    "    y = \"Country name:N\"\n",
    "    )"
   ]
  },
  {
   "cell_type": "markdown",
   "metadata": {},
   "source": [
    "En el siguiente ejemplo haremos un scatterplot de la relación entre felicidad y PBI:"
   ]
  },
  {
   "cell_type": "code",
   "execution_count": null,
   "metadata": {},
   "outputs": [],
   "source": [
    "alt.Chart(happy).mark_point().encode(\n",
    "    x = alt.X(\"Life Ladder:Q\"),\n",
    "    y = alt.Y(\"Log GDP per capita:Q\")\n",
    "    )"
   ]
  },
  {
   "cell_type": "code",
   "execution_count": null,
   "metadata": {},
   "outputs": [],
   "source": [
    "happy.columns"
   ]
  },
  {
   "cell_type": "markdown",
   "metadata": {},
   "source": [
    "Podemos agregar un encoding adicional: El color. En este caso, color significará la región de pertenencia. "
   ]
  },
  {
   "cell_type": "code",
   "execution_count": null,
   "metadata": {},
   "outputs": [],
   "source": [
    "alt.Chart(happy).mark_point().encode(\n",
    "    x = alt.X(\"Life Ladder:Q\"),\n",
    "        y = alt.Y(\"Log GDP per capita:Q\"),\n",
    "    color = \"Regional indicator\"\n",
    "    )\n",
    "# Notar que  las regiones son variables nominales, por ello elige diferentes colores como encoding. "
   ]
  },
  {
   "cell_type": "markdown",
   "metadata": {},
   "source": [
    "¿Qué pasa si coloreamos por una variable cuantitativa?"
   ]
  },
  {
   "cell_type": "code",
   "execution_count": null,
   "metadata": {},
   "outputs": [],
   "source": [
    "alt.Chart(happy).mark_point().encode(\n",
    "    x = alt.X(\"Life Ladder:Q\"),\n",
    "    y = alt.Y(\"Log GDP per capita:Q\"),\n",
    "    color = 'Healthy life expectancy at birth'\n",
    "    )"
   ]
  },
  {
   "cell_type": "markdown",
   "metadata": {},
   "source": [
    "Agregando interactividad básica:"
   ]
  },
  {
   "cell_type": "code",
   "execution_count": null,
   "metadata": {},
   "outputs": [],
   "source": [
    "alt.Chart(happy).mark_point().encode(\n",
    "    x = alt.X(\"Life Ladder:Q\"),\n",
    "    y = alt.Y(\"Log GDP per capita:Q\"),\n",
    "    color = \"Regional indicator\"\n",
    "    ).interactive()\n"
   ]
  },
  {
   "cell_type": "markdown",
   "metadata": {},
   "source": [
    "Qué pasaría si queremos agregar el _tooltip_ "
   ]
  },
  {
   "cell_type": "code",
   "execution_count": null,
   "metadata": {},
   "outputs": [],
   "source": [
    "alt.Chart(happy).mark_point().encode(\n",
    "    x = alt.X(\"Life Ladder:Q\"),\n",
    "    y = alt.Y(\"Log GDP per capita:Q\"),\n",
    "    color = \"Regional indicator\", \n",
    "    tooltip = [\"Country name\", \"Life Ladder\"]\n",
    "    ).interactive()"
   ]
  },
  {
   "cell_type": "markdown",
   "metadata": {},
   "source": [
    "Qué pasa si queremos agregar un gráfico por región:"
   ]
  },
  {
   "cell_type": "code",
   "execution_count": null,
   "metadata": {},
   "outputs": [],
   "source": [
    "alt.Chart(happy).mark_point().encode(\n",
    "    x = alt.X(\"Life Ladder:Q\"),\n",
    "    y = alt.Y(\"Log GDP per capita:Q\"),\n",
    "    color = alt.Color(\"Regional indicator\"),\n",
    "    column = alt.Column(\"Regional indicator\")\n",
    "    )"
   ]
  },
  {
   "cell_type": "code",
   "execution_count": null,
   "metadata": {},
   "outputs": [],
   "source": [
    "alt.Chart(happy).mark_point(filled = True).encode(\n",
    "    x = alt.X(\"Life Ladder:Q\"),\n",
    "    y = alt.Y(\"Log GDP per capita:Q\"),\n",
    "    color = alt.Color(\"Regional indicator\", \n",
    "            legend=alt.Legend(orient='bottom', titleOrient='left')),\n",
    "    column = alt.Column(\"Regional indicator\")\n",
    "    ).properties(width=150, height=150)"
   ]
  },
  {
   "cell_type": "markdown",
   "metadata": {},
   "source": [
    "Qué pasa si queremos agregar un encoding más respecto al tamaño de los puntos:"
   ]
  },
  {
   "cell_type": "code",
   "execution_count": null,
   "metadata": {},
   "outputs": [],
   "source": [
    "alt.Chart(happy).mark_point().encode(\n",
    "    x = alt.X(\"Life Ladder:Q\"),\n",
    "    y = alt.Y(\"Log GDP per capita:Q\"),\n",
    "    color = alt.Color(\"Regional indicator\"),\n",
    "    size = alt.Size('Generosity')\n",
    "    ).interactive()"
   ]
  },
  {
   "cell_type": "code",
   "execution_count": null,
   "metadata": {},
   "outputs": [],
   "source": [
    "happy_peru = happy_all[happy_all['Country name'] == 'Peru']"
   ]
  },
  {
   "cell_type": "code",
   "execution_count": null,
   "metadata": {},
   "outputs": [],
   "source": [
    "elem1 = alt.Chart(happy_peru).mark_line().encode(\n",
    "x = alt.X('year'),\n",
    "y = alt.Y('Life Ladder:Q')\n",
    ")"
   ]
  },
  {
   "cell_type": "code",
   "execution_count": null,
   "metadata": {},
   "outputs": [],
   "source": [
    "elem2 = alt.Chart(happy_peru).mark_area().encode(\n",
    "x = alt.X('year'),\n",
    "y = alt.Y('Life Ladder:Q')\n",
    ")\n",
    "\n",
    "#color='red', opacity = 0.5"
   ]
  },
  {
   "cell_type": "code",
   "execution_count": null,
   "metadata": {},
   "outputs": [],
   "source": [
    "elem1 + elem2"
   ]
  }
 ],
 "metadata": {
  "kernelspec": {
   "display_name": "Python 3 (ipykernel)",
   "language": "python",
   "name": "python3"
  },
  "language_info": {
   "codemirror_mode": {
    "name": "ipython",
    "version": 3
   },
   "file_extension": ".py",
   "mimetype": "text/x-python",
   "name": "python",
   "nbconvert_exporter": "python",
   "pygments_lexer": "ipython3",
   "version": "3.11.7"
  }
 },
 "nbformat": 4,
 "nbformat_minor": 4
}
