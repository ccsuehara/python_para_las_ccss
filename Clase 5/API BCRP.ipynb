{
 "cells": [
  {
   "cell_type": "markdown",
   "id": "3c541e5e",
   "metadata": {},
   "source": [
    "# APIs "
   ]
  },
  {
   "cell_type": "code",
   "execution_count": null,
   "id": "9aba50c5",
   "metadata": {},
   "outputs": [],
   "source": [
    "#Api del BCR\n",
    "\n",
    "import requests as re\n",
    "import pandas as pd\n",
    "import json"
   ]
  },
  {
   "cell_type": "code",
   "execution_count": null,
   "id": "ed155fef",
   "metadata": {},
   "outputs": [],
   "source": [
    "url = \"https://estadisticas.bcrp.gob.pe/estadisticas/series/api/PN38705PM/json\""
   ]
  },
  {
   "cell_type": "code",
   "execution_count": null,
   "id": "60974c1d",
   "metadata": {},
   "outputs": [],
   "source": [
    "r = re.get(url)"
   ]
  },
  {
   "cell_type": "code",
   "execution_count": null,
   "id": "13c00aad",
   "metadata": {},
   "outputs": [],
   "source": [
    "data = json.loads(r.text)\n",
    "#pd.DataFrame.from_dict(data)\n",
    "data['periods'][0]['name']\n",
    "\n",
    "data['periods'][0]['values']"
   ]
  },
  {
   "cell_type": "code",
   "execution_count": null,
   "id": "2b212577",
   "metadata": {},
   "outputs": [],
   "source": []
  }
 ],
 "metadata": {
  "kernelspec": {
   "display_name": "Python 3 (ipykernel)",
   "language": "python",
   "name": "python3"
  },
  "language_info": {
   "codemirror_mode": {
    "name": "ipython",
    "version": 3
   },
   "file_extension": ".py",
   "mimetype": "text/x-python",
   "name": "python",
   "nbconvert_exporter": "python",
   "pygments_lexer": "ipython3",
   "version": "3.11.7"
  }
 },
 "nbformat": 4,
 "nbformat_minor": 5
}
