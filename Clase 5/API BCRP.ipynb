{
 "cells": [
  {
   "cell_type": "markdown",
   "id": "3c541e5e",
   "metadata": {},
   "source": [
    "# APIs "
   ]
  },
  {
   "cell_type": "markdown",
   "id": "c9ce45b2",
   "metadata": {},
   "source": [
    "### What is an API?\n",
    "API is an abbreviation for Application Programming Interface which is a collection of communication protocols and subroutines used by various programs to communicate between them. A programmer can make use of various API tools to make their program easier and simpler. Also, an API facilitates programmers with an efficient way to develop their software programs. Thus in simpler terms, an API helps two programs or applications to communicate with each other by providing them with the necessary tools and functions. It takes the request from the user and sends it to the service provider and then again sends the result generated from the service provider to the desired user. \n",
    "\n",
    "A developer extensively uses APIs in her software to implement various features by using an API call without writing complex codes for the same. We can create an API for an operating system, database system, hardware system, JavaScript file, or similar object-oriented files. Also, an API is similar to a GUI(Graphical User Interface) with one major difference. Unlike GUIs, an API helps software developers to access web tools while a GUI helps to make a program easier to understand by users. \n",
    "\n",
    "### How do APIs Work?\n",
    "The working of an API can be clearly explained with a few simple steps. Think of a client-server architecture where the client sends the request via a medium to the server and receives the response through the same medium. An API acts as a communication medium between two programs or systems for functioning. The client is the user/customer (who sends the request), the medium is the API, and the server is the backend (where the request is accepted and a response is provided). Steps followed in the working of APIs –\n",
    "\n",
    "- The client initiates the requests via the APIs URI (Uniform Resource Identifier)\n",
    "- The API makes a call to the server after receiving the request\n",
    "- Then the server sends the response back to the API with the information\n",
    "- Finally, the API transfers the data to the client\n",
    "\n",
    "https://www.geeksforgeeks.org/what-is-an-api/\n"
   ]
  },
  {
   "cell_type": "code",
   "execution_count": 1,
   "id": "9aba50c5",
   "metadata": {},
   "outputs": [],
   "source": [
    "#Api del BCR\n",
    "\n",
    "import requests\n",
    "import pandas as pd\n",
    "import json"
   ]
  },
  {
   "cell_type": "code",
   "execution_count": 3,
   "id": "ed155fef",
   "metadata": {},
   "outputs": [],
   "source": [
    "#cod = \"PN38706PM\"\n",
    "\n",
    "url = \"https://estadisticas.bcrp.gob.pe/estadisticas/series/api/PN38705PM/json\""
   ]
  },
  {
   "cell_type": "code",
   "execution_count": 4,
   "id": "60974c1d",
   "metadata": {},
   "outputs": [
    {
     "data": {
      "text/plain": [
       "200"
      ]
     },
     "execution_count": 4,
     "metadata": {},
     "output_type": "execute_result"
    }
   ],
   "source": [
    "r = requests.get(url)\n",
    "\n",
    "r.status_code"
   ]
  },
  {
   "cell_type": "code",
   "execution_count": 53,
   "id": "68ad7084",
   "metadata": {},
   "outputs": [
    {
     "data": {
      "text/plain": [
       "'100.037268'"
      ]
     },
     "execution_count": 53,
     "metadata": {},
     "output_type": "execute_result"
    }
   ],
   "source": [
    "#help(requests)\n",
    "data['periods'][0]['values'][0]"
   ]
  },
  {
   "cell_type": "code",
   "execution_count": 31,
   "id": "f89be7da",
   "metadata": {},
   "outputs": [
    {
     "data": {
      "text/plain": [
       "['100.34884']"
      ]
     },
     "execution_count": 31,
     "metadata": {},
     "output_type": "execute_result"
    }
   ],
   "source": [
    "#data = r.json()\n",
    "\n"
   ]
  },
  {
   "cell_type": "code",
   "execution_count": 50,
   "id": "3de2e0d1",
   "metadata": {},
   "outputs": [],
   "source": [
    "lista_fechas = []\n",
    "lista_valores = []\n",
    "\n",
    "for elem in data['periods']:\n",
    "    lista_fechas.append(elem['name'])\n",
    "    lista_valores.append(elem['values'][0])\n",
    "\n"
   ]
  },
  {
   "cell_type": "code",
   "execution_count": 51,
   "id": "126eb93f",
   "metadata": {},
   "outputs": [
    {
     "data": {
      "text/html": [
       "<div>\n",
       "<style scoped>\n",
       "    .dataframe tbody tr th:only-of-type {\n",
       "        vertical-align: middle;\n",
       "    }\n",
       "\n",
       "    .dataframe tbody tr th {\n",
       "        vertical-align: top;\n",
       "    }\n",
       "\n",
       "    .dataframe thead th {\n",
       "        text-align: right;\n",
       "    }\n",
       "</style>\n",
       "<table border=\"1\" class=\"dataframe\">\n",
       "  <thead>\n",
       "    <tr style=\"text-align: right;\">\n",
       "      <th></th>\n",
       "      <th>fecha</th>\n",
       "      <th>valores</th>\n",
       "    </tr>\n",
       "  </thead>\n",
       "  <tbody>\n",
       "    <tr>\n",
       "      <th>0</th>\n",
       "      <td>Ene.2022</td>\n",
       "      <td>100.037268</td>\n",
       "    </tr>\n",
       "    <tr>\n",
       "      <th>1</th>\n",
       "      <td>Feb.2022</td>\n",
       "      <td>100.34884</td>\n",
       "    </tr>\n",
       "    <tr>\n",
       "      <th>2</th>\n",
       "      <td>Mar.2022</td>\n",
       "      <td>101.836672</td>\n",
       "    </tr>\n",
       "    <tr>\n",
       "      <th>3</th>\n",
       "      <td>Abr.2022</td>\n",
       "      <td>102.816232</td>\n",
       "    </tr>\n",
       "    <tr>\n",
       "      <th>4</th>\n",
       "      <td>May.2022</td>\n",
       "      <td>103.211072</td>\n",
       "    </tr>\n",
       "    <tr>\n",
       "      <th>5</th>\n",
       "      <td>Jun.2022</td>\n",
       "      <td>104.439931</td>\n",
       "    </tr>\n",
       "    <tr>\n",
       "      <th>6</th>\n",
       "      <td>Jul.2022</td>\n",
       "      <td>105.422597</td>\n",
       "    </tr>\n",
       "    <tr>\n",
       "      <th>7</th>\n",
       "      <td>Ago.2022</td>\n",
       "      <td>106.125283</td>\n",
       "    </tr>\n",
       "    <tr>\n",
       "      <th>8</th>\n",
       "      <td>Sep.2022</td>\n",
       "      <td>106.679849</td>\n",
       "    </tr>\n",
       "    <tr>\n",
       "      <th>9</th>\n",
       "      <td>Oct.2022</td>\n",
       "      <td>107.050724</td>\n",
       "    </tr>\n",
       "    <tr>\n",
       "      <th>10</th>\n",
       "      <td>Nov.2022</td>\n",
       "      <td>107.604861</td>\n",
       "    </tr>\n",
       "    <tr>\n",
       "      <th>11</th>\n",
       "      <td>Dic.2022</td>\n",
       "      <td>108.459162</td>\n",
       "    </tr>\n",
       "    <tr>\n",
       "      <th>12</th>\n",
       "      <td>Ene.2023</td>\n",
       "      <td>108.704764</td>\n",
       "    </tr>\n",
       "    <tr>\n",
       "      <th>13</th>\n",
       "      <td>Feb.2023</td>\n",
       "      <td>109.024924</td>\n",
       "    </tr>\n",
       "    <tr>\n",
       "      <th>14</th>\n",
       "      <td>Mar.2023</td>\n",
       "      <td>110.391537</td>\n",
       "    </tr>\n",
       "    <tr>\n",
       "      <th>15</th>\n",
       "      <td>Abr.2023</td>\n",
       "      <td>111.005592</td>\n",
       "    </tr>\n",
       "    <tr>\n",
       "      <th>16</th>\n",
       "      <td>May.2023</td>\n",
       "      <td>111.358436</td>\n",
       "    </tr>\n",
       "    <tr>\n",
       "      <th>17</th>\n",
       "      <td>Jun.2023</td>\n",
       "      <td>111.188314</td>\n",
       "    </tr>\n",
       "    <tr>\n",
       "      <th>18</th>\n",
       "      <td>Jul.2023</td>\n",
       "      <td>111.623134</td>\n",
       "    </tr>\n",
       "    <tr>\n",
       "      <th>19</th>\n",
       "      <td>Ago.2023</td>\n",
       "      <td>112.042985</td>\n",
       "    </tr>\n",
       "    <tr>\n",
       "      <th>20</th>\n",
       "      <td>Sep.2023</td>\n",
       "      <td>112.061363</td>\n",
       "    </tr>\n",
       "    <tr>\n",
       "      <th>21</th>\n",
       "      <td>Oct.2023</td>\n",
       "      <td>111.700024</td>\n",
       "    </tr>\n",
       "    <tr>\n",
       "      <th>22</th>\n",
       "      <td>Nov.2023</td>\n",
       "      <td>111.517885</td>\n",
       "    </tr>\n",
       "    <tr>\n",
       "      <th>23</th>\n",
       "      <td>Dic.2023</td>\n",
       "      <td>111.9704</td>\n",
       "    </tr>\n",
       "  </tbody>\n",
       "</table>\n",
       "</div>"
      ],
      "text/plain": [
       "       fecha     valores\n",
       "0   Ene.2022  100.037268\n",
       "1   Feb.2022   100.34884\n",
       "2   Mar.2022  101.836672\n",
       "3   Abr.2022  102.816232\n",
       "4   May.2022  103.211072\n",
       "5   Jun.2022  104.439931\n",
       "6   Jul.2022  105.422597\n",
       "7   Ago.2022  106.125283\n",
       "8   Sep.2022  106.679849\n",
       "9   Oct.2022  107.050724\n",
       "10  Nov.2022  107.604861\n",
       "11  Dic.2022  108.459162\n",
       "12  Ene.2023  108.704764\n",
       "13  Feb.2023  109.024924\n",
       "14  Mar.2023  110.391537\n",
       "15  Abr.2023  111.005592\n",
       "16  May.2023  111.358436\n",
       "17  Jun.2023  111.188314\n",
       "18  Jul.2023  111.623134\n",
       "19  Ago.2023  112.042985\n",
       "20  Sep.2023  112.061363\n",
       "21  Oct.2023  111.700024\n",
       "22  Nov.2023  111.517885\n",
       "23  Dic.2023    111.9704"
      ]
     },
     "execution_count": 51,
     "metadata": {},
     "output_type": "execute_result"
    }
   ],
   "source": [
    "df = pd.DataFrame()\n",
    "df['fecha'] = lista_fechas\n",
    "df['valores'] = lista_valores\n",
    "\n",
    "df"
   ]
  },
  {
   "cell_type": "code",
   "execution_count": null,
   "id": "13c00aad",
   "metadata": {},
   "outputs": [],
   "source": [
    "data = json.loads(r.text)\n",
    "#pd.DataFrame.from_dict(data)\n",
    "data['periods'][0]['name']\n",
    "\n",
    "data['periods'][0]['values']"
   ]
  },
  {
   "cell_type": "code",
   "execution_count": null,
   "id": "2b212577",
   "metadata": {},
   "outputs": [],
   "source": []
  }
 ],
 "metadata": {
  "kernelspec": {
   "display_name": "Python 3 (ipykernel)",
   "language": "python",
   "name": "python3"
  },
  "language_info": {
   "codemirror_mode": {
    "name": "ipython",
    "version": 3
   },
   "file_extension": ".py",
   "mimetype": "text/x-python",
   "name": "python",
   "nbconvert_exporter": "python",
   "pygments_lexer": "ipython3",
   "version": "3.11.7"
  }
 },
 "nbformat": 4,
 "nbformat_minor": 5
}
