{
 "cells": [
  {
   "cell_type": "markdown",
   "metadata": {
    "slideshow": {
     "slide_type": "slide"
    }
   },
   "source": [
    "# Clase 3: Estructuras de datos en Python\n",
    "\n",
    "<a class=\"anchor\" id=\"principio\"></a> \n",
    "\n"
   ]
  },
  {
   "cell_type": "markdown",
   "metadata": {
    "slideshow": {
     "slide_type": "slide"
    }
   },
   "source": [
    "## Diccionarios\n",
    "- Es una de las estructuras de datos más versátiles y poderosas dentro de Python. \n",
    "- Es mutable. \n",
    "- Se basa en un   \n",
    "        - índice, o **key** (clave, ó identificador único)   \n",
    "        - y un valor.   \n",
    "- Es decir, el par key-value (clave-valor) son la base de esta estructura. \n",
    "\n",
    "- Se llaman así porque, como los diccionarios (e.g. RAE), el _key_ (clave) está ligado a una definición (valor, o valores).\n",
    "\n",
    "**¿Por qué son importantes?**\n",
    "\n",
    "- Porque nos ayudan a guardar información. \n",
    "- Porque nos ayudan a buscar información rápidamente. \n",
    "\n",
    "más información en https://www.quora.com/What-are-the-advantages-of-using-dictionaries-over-lists-in-Python-How-many-ways-can-we-convert-from-one-to-another-and-why-is-it-important\n"
   ]
  },
  {
   "cell_type": "markdown",
   "metadata": {
    "slideshow": {
     "slide_type": "subslide"
    }
   },
   "source": [
    "### Cómo crear un diccionario\n",
    "Para crear un diccionario usamos las llaves de los sets, pero también empleamos los `:`. \n",
    "El elemento a la izquierda de ``:`` es el key(clave) y aquel a la derecha es el value (valor). Los diccionarios tienen un único key. "
   ]
  },
  {
   "cell_type": "code",
   "execution_count": 2,
   "metadata": {
    "slideshow": {
     "slide_type": "fragment"
    }
   },
   "outputs": [
    {
     "data": {
      "text/plain": [
       "{'Juana': 'gallina',\n",
       " 'Martin': 'gato',\n",
       " 'Carla': 'conejo',\n",
       " 'Cristina': 'gato',\n",
       " 'Diego': 'perro'}"
      ]
     },
     "execution_count": 2,
     "metadata": {},
     "output_type": "execute_result"
    }
   ],
   "source": [
    "ejem_dict =  {\"Juana\": \"gallina\", \n",
    "              \"Martin\": \"gato\",\n",
    "              \"Carla\": \"conejo\",\n",
    "              \"Cristina\": \"gato\",\n",
    "              \"Diego\": \"perro\"}\n",
    "ejem_dict"
   ]
  },
  {
   "cell_type": "code",
   "execution_count": 3,
   "metadata": {
    "slideshow": {
     "slide_type": "subslide"
    }
   },
   "outputs": [],
   "source": [
    "ejem_dict =  {\"Carla\": [\"salario\", \"direccion\", \"telefono\"],\n",
    "              \"Cristina\": \"gato\",\n",
    "              \"Diego\": \"perro\"}\n"
   ]
  },
  {
   "cell_type": "code",
   "execution_count": 4,
   "metadata": {
    "slideshow": {
     "slide_type": "fragment"
    }
   },
   "outputs": [
    {
     "data": {
      "text/plain": [
       "dict"
      ]
     },
     "execution_count": 4,
     "metadata": {},
     "output_type": "execute_result"
    }
   ],
   "source": [
    "type(ejem_dict)"
   ]
  },
  {
   "cell_type": "code",
   "execution_count": 6,
   "metadata": {
    "slideshow": {
     "slide_type": "slide"
    }
   },
   "outputs": [
    {
     "data": {
      "text/plain": [
       "{'Carla': 'gato', 'Cristina': 'gato', 'Diego': 'perro'}"
      ]
     },
     "execution_count": 6,
     "metadata": {},
     "output_type": "execute_result"
    }
   ],
   "source": [
    "ejem_dict =  {\"Carla\": \"conejo\",\n",
    "              \"Cristina\": \"gato\",\n",
    "              \"Diego\": \"perro\",\n",
    "              \"Carla\": \"gato\" \n",
    "              \n",
    "}\n",
    "## No reconocerá al 2do Carla porque ya es usado.\n",
    "ejem_dict\n"
   ]
  },
  {
   "cell_type": "code",
   "execution_count": 2,
   "metadata": {
    "slideshow": {
     "slide_type": "fragment"
    }
   },
   "outputs": [],
   "source": [
    "## Creando un diccionario en bucle. \n",
    "image_urls = {}\n",
    "for i in range(100,120):\n",
    "    image_urls[i] = f'https://picsum.photos/{i}'\n"
   ]
  },
  {
   "cell_type": "markdown",
   "metadata": {
    "slideshow": {
     "slide_type": "slide"
    }
   },
   "source": [
    "Usando el constructor de diccionarios, tambien podemos  crearlos haciendo lo siguiente:"
   ]
  },
  {
   "cell_type": "code",
   "execution_count": 6,
   "metadata": {},
   "outputs": [],
   "source": [
    "dict_1 = dict(Jaime = 3,\n",
    "              Carla2= 10,\n",
    "              Cristina = 13 ,\n",
    "              Diego = 14,\n",
    "              Rebeca = 15,\n",
    "              Hitoshi =  16)\n",
    "\n",
    "dict_1 = {\"Jaime\": 3,'Carla2': 10,\n",
    " 'Cristina': 13,\n",
    " 'Diego': 14,\n",
    " 'Rebeca': 15,\n",
    " 'Hitoshi': 16}"
   ]
  },
  {
   "cell_type": "code",
   "execution_count": null,
   "metadata": {},
   "outputs": [],
   "source": [
    "dict_2 = dict(Carla =  [1,3,4,2,2],\n",
    "              Cristina = [6,5,3,1,3],\n",
    "              Diego = [3,4,2,5,1])\n",
    "dict_2\n",
    "\n",
    "\n",
    "dict_3 = dict(Carla =  [1,[2,3]] , Cristina = [6,5,3,1,3],  Diego = [3,4,2,5,1])\n",
    "\n",
    "dict_3['Carla'][0][1]"
   ]
  },
  {
   "cell_type": "code",
   "execution_count": null,
   "metadata": {},
   "outputs": [],
   "source": [
    "\n",
    "## Con tuplas: \n",
    "dict_3 = dict([(\"Carla\", [1,3,4,2,2]),\n",
    "               (\"Cristina\",[6,5,3,1,3]),\n",
    "               (\"Diego\" ,[3,4,2,5,1])\n",
    "               \n",
    "])\n",
    "dict_3"
   ]
  },
  {
   "cell_type": "markdown",
   "metadata": {},
   "source": [
    "Muchas veces nos sirve crear un diccionario vacío que iremos llenando"
   ]
  },
  {
   "cell_type": "code",
   "execution_count": null,
   "metadata": {},
   "outputs": [],
   "source": [
    "\n",
    "dict_vacio = {}\n",
    "type(dict_vacio)"
   ]
  },
  {
   "cell_type": "markdown",
   "metadata": {
    "slideshow": {
     "slide_type": "slide"
    }
   },
   "source": [
    "#### Los keys de los diccionarios tienen que ser elementos inmutables \n",
    "Por ejemplo, una lista no puede ser un key (sin embargo, una forma de resolver esto, es volverlo una tupla). "
   ]
  },
  {
   "cell_type": "code",
   "execution_count": 8,
   "metadata": {
    "slideshow": {
     "slide_type": "fragment"
    }
   },
   "outputs": [
    {
     "ename": "TypeError",
     "evalue": "unhashable type: 'list'",
     "output_type": "error",
     "traceback": [
      "\u001b[0;31m---------------------------------------------------------------------------\u001b[0m",
      "\u001b[0;31mTypeError\u001b[0m                                 Traceback (most recent call last)",
      "Cell \u001b[0;32mIn[8], line 1\u001b[0m\n\u001b[0;32m----> 1\u001b[0m otro_ejem_dict \u001b[38;5;241m=\u001b[39m  {[\u001b[38;5;124m\"\u001b[39m\u001b[38;5;124mCarla\u001b[39m\u001b[38;5;124m\"\u001b[39m, \u001b[38;5;124m\"\u001b[39m\u001b[38;5;124mCristina\u001b[39m\u001b[38;5;124m\"\u001b[39m]: \u001b[38;5;124m\"\u001b[39m\u001b[38;5;124mconejo\u001b[39m\u001b[38;5;124m\"\u001b[39m,\n\u001b[1;32m      2\u001b[0m                    \u001b[38;5;124m\"\u001b[39m\u001b[38;5;124mCristina2\u001b[39m\u001b[38;5;124m\"\u001b[39m: \u001b[38;5;124m\"\u001b[39m\u001b[38;5;124mgato\u001b[39m\u001b[38;5;124m\"\u001b[39m,\n\u001b[1;32m      3\u001b[0m                    \u001b[38;5;124m\"\u001b[39m\u001b[38;5;124mDiego\u001b[39m\u001b[38;5;124m\"\u001b[39m: \u001b[38;5;124m\"\u001b[39m\u001b[38;5;124mperro\u001b[39m\u001b[38;5;124m\"\u001b[39m}\n\u001b[1;32m      4\u001b[0m otro_ejem_dict\n",
      "\u001b[0;31mTypeError\u001b[0m: unhashable type: 'list'"
     ]
    }
   ],
   "source": [
    "otro_ejem_dict =  {[\"Carla\", \"Cristina\"]: \"conejo\", ##  Nótese que no se puede usar una lista como key. \n",
    "                   \"Cristina2\": \"gato\",\n",
    "                   \"Diego\": \"perro\"}\n",
    "otro_ejem_dict"
   ]
  },
  {
   "cell_type": "code",
   "execution_count": 9,
   "metadata": {
    "slideshow": {
     "slide_type": "slide"
    }
   },
   "outputs": [
    {
     "data": {
      "text/plain": [
       "{('Carla', 'Cristina'): 'conejo', 'Cristina2': 'gato', 'Diego': 'perro'}"
      ]
     },
     "execution_count": 9,
     "metadata": {},
     "output_type": "execute_result"
    }
   ],
   "source": [
    "## Aquí estamos utilizando una tupla, que sí es un objeto inmutable. \n",
    "otro_ejem_dict =  {(\"Carla\", \"Cristina\"): \"conejo\", \"Cristina2\": \"gato\",  \"Diego\": \"perro\"}\n",
    "otro_ejem_dict"
   ]
  },
  {
   "cell_type": "markdown",
   "metadata": {
    "slideshow": {
     "slide_type": "slide"
    }
   },
   "source": [
    "#### Los values de los diccionarios pueden ser cualquier objeto.\n",
    "Por ejemplo, ahora las mismas personas que tienen mascotas juegan dados y obtienen los siguientes números:"
   ]
  },
  {
   "cell_type": "code",
   "execution_count": 10,
   "metadata": {
    "slideshow": {
     "slide_type": "fragment"
    }
   },
   "outputs": [],
   "source": [
    "otro_ejem_dict =  {\"Carla\": [1,3,4,2,2],\n",
    "                   \"Cristina\": [6,5,3,1,3],\n",
    "                   \"Diego\": [3,4,2,5,1]}"
   ]
  },
  {
   "cell_type": "markdown",
   "metadata": {
    "slideshow": {
     "slide_type": "fragment"
    }
   },
   "source": [
    "Más adelante veremos que podemos albergar funciones,dataframes, etc etc "
   ]
  },
  {
   "cell_type": "code",
   "execution_count": 16,
   "metadata": {
    "slideshow": {
     "slide_type": "fragment"
    }
   },
   "outputs": [
    {
     "data": {
      "text/plain": [
       "{'Carla': [1, 3, 4, 2, 2],\n",
       " 'Cristina': [6, 5, 3, 1, 3],\n",
       " 'Diego': [3, 4, 2, 5, 1]}"
      ]
     },
     "execution_count": 16,
     "metadata": {},
     "output_type": "execute_result"
    }
   ],
   "source": [
    "#dict_3 = dict([(\"Carla\",[1,3,4,2,2]), (\"Cristina\",[6,5,3,1,3]),  (\"Diego\" ,[3,4,2,5,1])])"
   ]
  },
  {
   "cell_type": "markdown",
   "metadata": {
    "slideshow": {
     "slide_type": "slide"
    }
   },
   "source": [
    "### Seleccionando valores en un diccionario"
   ]
  },
  {
   "cell_type": "code",
   "execution_count": 20,
   "metadata": {
    "slideshow": {
     "slide_type": "fragment"
    }
   },
   "outputs": [
    {
     "data": {
      "text/plain": [
       "3"
      ]
     },
     "execution_count": 20,
     "metadata": {},
     "output_type": "execute_result"
    }
   ],
   "source": [
    "dict_1['Jaime']\n",
    "dict_1['Juan'] ##dict_1 no tiene como key a Juan, por eso no sale nada. "
   ]
  },
  {
   "cell_type": "code",
   "execution_count": 21,
   "metadata": {
    "slideshow": {
     "slide_type": "fragment"
    }
   },
   "outputs": [
    {
     "ename": "KeyError",
     "evalue": "'Juan'",
     "output_type": "error",
     "traceback": [
      "\u001b[0;31m---------------------------------------------------------------------------\u001b[0m",
      "\u001b[0;31mKeyError\u001b[0m                                  Traceback (most recent call last)",
      "Cell \u001b[0;32mIn[21], line 1\u001b[0m\n\u001b[0;32m----> 1\u001b[0m \u001b[43mdict_1\u001b[49m\u001b[43m[\u001b[49m\u001b[38;5;124;43m'\u001b[39;49m\u001b[38;5;124;43mJuan\u001b[39;49m\u001b[38;5;124;43m'\u001b[39;49m\u001b[43m]\u001b[49m \u001b[38;5;66;03m##dict_1 no tiene como key a Juan, por eso no sale nada. \u001b[39;00m\n",
      "\u001b[0;31mKeyError\u001b[0m: 'Juan'"
     ]
    }
   ],
   "source": [
    "### Selección segura de un valor en un diccionario.\n",
    "\n",
    "dict_1.get('Jaime', \"No existe\")\n",
    "\n",
    "dict_1.get('Evaluna', \"No existe\")"
   ]
  },
  {
   "cell_type": "code",
   "execution_count": 22,
   "metadata": {
    "slideshow": {
     "slide_type": "fragment"
    }
   },
   "outputs": [
    {
     "data": {
      "text/plain": [
       "10"
      ]
     },
     "execution_count": 22,
     "metadata": {},
     "output_type": "execute_result"
    }
   ],
   "source": [
    "dict_1['Carla2']"
   ]
  },
  {
   "cell_type": "code",
   "execution_count": 24,
   "metadata": {
    "slideshow": {
     "slide_type": "fragment"
    }
   },
   "outputs": [
    {
     "data": {
      "text/plain": [
       "{'Jaime': 3,\n",
       " 'Carla2': 13,\n",
       " 'Cristina': 13,\n",
       " 'Diego': 14,\n",
       " 'Rebeca': 15,\n",
       " 'Hitoshi': 16}"
      ]
     },
     "execution_count": 24,
     "metadata": {},
     "output_type": "execute_result"
    }
   ],
   "source": [
    "dict_1['Carla2'] = 13\n",
    "dict_1"
   ]
  },
  {
   "cell_type": "code",
   "execution_count": null,
   "metadata": {
    "slideshow": {
     "slide_type": "fragment"
    }
   },
   "outputs": [],
   "source": [
    "dict_1['Diego']"
   ]
  },
  {
   "cell_type": "code",
   "execution_count": 26,
   "metadata": {
    "slideshow": {
     "slide_type": "subslide"
    }
   },
   "outputs": [
    {
     "data": {
      "text/plain": [
       "dict_keys(['Jaime', 'Carla2', 'Cristina', 'Diego', 'Rebeca', 'Hitoshi', 'Juan'])"
      ]
     },
     "execution_count": 26,
     "metadata": {},
     "output_type": "execute_result"
    }
   ],
   "source": [
    "dict_1['Juan'] = 16\n",
    "\n",
    "dict_1.keys()"
   ]
  },
  {
   "cell_type": "code",
   "execution_count": 27,
   "metadata": {
    "slideshow": {
     "slide_type": "fragment"
    }
   },
   "outputs": [
    {
     "data": {
      "text/plain": [
       "16"
      ]
     },
     "execution_count": 27,
     "metadata": {},
     "output_type": "execute_result"
    }
   ],
   "source": [
    "dict_1['Juan']"
   ]
  },
  {
   "cell_type": "code",
   "execution_count": 29,
   "metadata": {
    "slideshow": {
     "slide_type": "fragment"
    }
   },
   "outputs": [],
   "source": [
    "del dict_1[\"Carla2\"]\n"
   ]
  },
  {
   "cell_type": "code",
   "execution_count": 30,
   "metadata": {
    "slideshow": {
     "slide_type": "fragment"
    }
   },
   "outputs": [
    {
     "data": {
      "text/plain": [
       "{'Jaime': 3,\n",
       " 'Cristina': 13,\n",
       " 'Diego': 14,\n",
       " 'Rebeca': 15,\n",
       " 'Hitoshi': 16,\n",
       " 'Juan': 16}"
      ]
     },
     "execution_count": 30,
     "metadata": {},
     "output_type": "execute_result"
    }
   ],
   "source": [
    "dict_1"
   ]
  },
  {
   "cell_type": "markdown",
   "metadata": {
    "slideshow": {
     "slide_type": "slide"
    }
   },
   "source": [
    "### Métodos de un diccionario \n",
    "A continuación veremos los métodos de un diccionario: \n",
    "\n",
    "| Método   | Descripción                                                                                       |\n",
    "|----------|---------------------------------------------------------------------------------------------------|\n",
    "| `keys()`   | Da un lista de los keys del diccionario |\n",
    "| `values()` | Da una lista de los valores del diccionario |\n",
    "| `items()`  | Da una lista de todos los pares clave-valor  |\n",
    "| `clear()`  | Elimina todos los elementos del diccionario.                                         |\n",
    "| `update()` | Agrega nuevos elementos al diccionario o actualiza elementos existentes.              |\n",
    "| `get()`    | Recupera el valor de un key dado, o un valor predeterminado si el key no existe. |\n",
    "| `pop()`    | Elimina el elemento con el key determinado y devuelve el valor del elemento eliminado. Opcionalmente, si la clave no existe, devuelve un valor predeterminado. |\n",
    "| `copy()`   | Devuelve una copia superficial del diccionario.                                       |\n"
   ]
  },
  {
   "cell_type": "code",
   "execution_count": 7,
   "metadata": {},
   "outputs": [
    {
     "data": {
      "text/plain": [
       "dict_items([('Jaime', 3), ('Carla2', 10), ('Cristina', 13), ('Diego', 14), ('Rebeca', 15), ('Hitoshi', 16)])"
      ]
     },
     "execution_count": 7,
     "metadata": {},
     "output_type": "execute_result"
    }
   ],
   "source": [
    "# dict_1.items()\n",
    "# dict_1.keys()\n",
    "# dict_1.values()\n",
    "# dict_1.update({\"Juan\": 16, \"Carla2\": 13})\n",
    "# dict_1.get('Hitoshi')\n",
    "# dict_1['Hitoshi']"
   ]
  },
  {
   "cell_type": "markdown",
   "metadata": {
    "slideshow": {
     "slide_type": "slide"
    }
   },
   "source": [
    "### Iterando  los elementos de un diccionario:"
   ]
  },
  {
   "cell_type": "code",
   "execution_count": 47,
   "metadata": {
    "slideshow": {
     "slide_type": "slide"
    }
   },
   "outputs": [
    {
     "name": "stdout",
     "output_type": "stream",
     "text": [
      "Jaime 3\n",
      "Cristina 13\n",
      "Diego 14\n",
      "Rebeca 15\n",
      "Hitoshi 16\n",
      "Juan 16\n"
     ]
    }
   ],
   "source": [
    "#dict_1.keys()\n",
    "for key, valor in dict_1.items():\n",
    "    print(key, valor)\n"
   ]
  },
  {
   "cell_type": "code",
   "execution_count": 52,
   "metadata": {
    "slideshow": {
     "slide_type": "slide"
    }
   },
   "outputs": [
    {
     "name": "stdout",
     "output_type": "stream",
     "text": [
      "{'Jaime': 13}\n",
      "{'Jaime': 13, 'Cristina': 23}\n",
      "{'Jaime': 13, 'Cristina': 23, 'Diego': 24}\n",
      "{'Jaime': 13, 'Cristina': 23, 'Diego': 24, 'Rebeca': 25}\n",
      "{'Jaime': 13, 'Cristina': 23, 'Diego': 24, 'Rebeca': 25, 'Hitoshi': 26}\n",
      "{'Jaime': 13, 'Cristina': 23, 'Diego': 24, 'Rebeca': 25, 'Hitoshi': 26, 'Juan': 26}\n"
     ]
    }
   ],
   "source": [
    "new_dic = {}\n",
    "for key, val in dict_1.items():\n",
    "    #dict_1[key] = val + 2\n",
    "    new_dic[key] = val + 10\n",
    "    print(new_dic)\n",
    "\n"
   ]
  },
  {
   "cell_type": "code",
   "execution_count": 54,
   "metadata": {},
   "outputs": [
    {
     "data": {
      "text/plain": [
       "dict_items([('Jaime', 3), ('Cristina', 13), ('Diego', 14), ('Rebeca', 15), ('Hitoshi', 16), ('Juan', 16)])"
      ]
     },
     "execution_count": 54,
     "metadata": {},
     "output_type": "execute_result"
    }
   ],
   "source": [
    "# print(dict_1.values())\n",
    "# print(new_dic.values())\n",
    "dict_1.items()"
   ]
  },
  {
   "cell_type": "code",
   "execution_count": null,
   "metadata": {
    "slideshow": {
     "slide_type": "fragment"
    }
   },
   "outputs": [],
   "source": [
    "for key in dict_1.keys():\n",
    "    print(key)"
   ]
  },
  {
   "cell_type": "code",
   "execution_count": 53,
   "metadata": {
    "slideshow": {
     "slide_type": "subslide"
    }
   },
   "outputs": [
    {
     "name": "stdout",
     "output_type": "stream",
     "text": [
      "Jaime\n",
      "Cristina\n",
      "Diego\n",
      "Rebeca\n",
      "Hitoshi\n",
      "Juan\n"
     ]
    }
   ],
   "source": [
    "for key in dict_1:\n",
    "    print(key)"
   ]
  },
  {
   "cell_type": "code",
   "execution_count": 57,
   "metadata": {
    "slideshow": {
     "slide_type": "slide"
    }
   },
   "outputs": [
    {
     "name": "stdout",
     "output_type": "stream",
     "text": [
      "0 Carla\n",
      "1 Cristina\n",
      "2 Diego\n",
      "3 Hitoshi\n",
      "4 Lila\n",
      "5 John\n",
      "{'Carla': 0, 'Cristina': 1, 'Diego': 2, 'Hitoshi': 3, 'Lila': 4, 'John': 5}\n"
     ]
    }
   ],
   "source": [
    "dict_vacio = {}\n",
    "\n",
    "nombres = ['Carla', 'Cristina', 'Diego', 'Hitoshi', 'Lila', 'John']\n",
    "\n",
    "for i, nombre in enumerate(nombres):\n",
    "    print(i, nombre)\n",
    "    dict_vacio[nombre] = i\n",
    "    \n",
    "print(dict_vacio)"
   ]
  }
 ],
 "metadata": {
  "celltoolbar": "Slideshow",
  "kernelspec": {
   "display_name": "Python [conda env:anaconda3-2]",
   "language": "python",
   "name": "conda-env-anaconda3-2-py"
  },
  "language_info": {
   "codemirror_mode": {
    "name": "ipython",
    "version": 3
   },
   "file_extension": ".py",
   "mimetype": "text/x-python",
   "name": "python",
   "nbconvert_exporter": "python",
   "pygments_lexer": "ipython3",
   "version": "3.8.8"
  }
 },
 "nbformat": 4,
 "nbformat_minor": 4
}
