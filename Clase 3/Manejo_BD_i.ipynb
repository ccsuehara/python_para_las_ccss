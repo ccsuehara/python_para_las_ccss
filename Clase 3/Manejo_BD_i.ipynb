{
 "cells": [
  {
   "cell_type": "markdown",
   "metadata": {
    "slideshow": {
     "slide_type": "slide"
    }
   },
   "source": [
    "# Manejo de bases de datos para las ciencias sociales I\n",
    "\n",
    "## Introducción \n"
   ]
  },
  {
   "cell_type": "markdown",
   "metadata": {
    "slideshow": {
     "slide_type": "slide"
    }
   },
   "source": [
    "## Introducción \n",
    "\n",
    "_Previo: Tipos de datos._ \n",
    "\n",
    "Al 2025, Python tiene una serie de librerías que manejan bases de datos tabulares <sup>1</sup>. \n",
    "\n",
    "[Pandas](https://pandas.pydata.org/docs/getting_started/index.html) es la librería más popular de Python para realizar análisis de datos. Esta se especializa en trabajar con ciertos tipos de datos. Los más importantes son:\n",
    "\n",
    "- Data tabular, como los dataframes (o cualquier base de datos estructurada que tengamos).\n",
    "- Series\n",
    "- Series de tiempo\n",
    "\n",
    "Los objetos de Pandas más importantes son 2: \n",
    "- Series\n",
    "- Dataframes (nuestro enfoque principal). \n",
    "\n",
    "<sup>1</sup> Recientemente, la discusión ha virado a mejores métodos para tratar big data. Paquetes como dask, y tipos de archivos binarios como parquet, son un punto inicial. Lo importante es lo siguiente: Son extensiones de Pandas! :)\n",
    "\n"
   ]
  },
  {
   "cell_type": "markdown",
   "metadata": {
    "slideshow": {
     "slide_type": "slide"
    }
   },
   "source": [
    "\n",
    "\n",
    "Esta librería es un _must_ en el aprendizaje del análisis de datos, machine learning, etc por una serie de motivos:\n",
    "- Se integra perfectamente con librerías como scikit-learn (machine learning), matplotlib, seaborn y altair (visualización de datos), statsmodels (modelos estadísticos listos para usar), análisis de texto, análisis espacial (geopandas, etc).\n",
    "\n",
    "- La gran parte de la comunidad que hace data analysis, y que se apoya mediante foros y demás, usa Pandas. \n",
    "- Pandas es muy amplio y tiene muchas funcionalidades. "
   ]
  },
  {
   "cell_type": "markdown",
   "metadata": {
    "slideshow": {
     "slide_type": "slide"
    }
   },
   "source": [
    "### 1. Importar pandas"
   ]
  },
  {
   "cell_type": "code",
   "execution_count": 3,
   "metadata": {
    "slideshow": {
     "slide_type": "fragment"
    }
   },
   "outputs": [],
   "source": [
    "import pandas as pd"
   ]
  },
  {
   "cell_type": "markdown",
   "metadata": {
    "slideshow": {
     "slide_type": "slide"
    }
   },
   "source": [
    "### 2. Hacer disponible nuestro dataframe\n",
    "\n",
    "- Casi siempre trabajaremos con dataframes. \n",
    "\n",
    "Pero qué es un dataframe? \n",
    "\n",
    "\n",
    "- Es el **objeto** principal de pandas, el cual representa una estructura de datos de dos dimensiones: filas y columnas. \n",
    "- Cada fila es una observación o registro;  cada columna, una variable, atributo, _feature_, etc.\n",
    "- Hay un sólo valor por celda.   \n",
    "- El dataframe sirve para representar datos tabulares. \n",
    "\n",
    "\n",
    "Adicionalmente, todo dataframe tiene un **índice**, que funge como identificador único de cada fila. \n",
    "Las columnas no necesitan ello, porque por regla, los nombres ya son su identificador único. Por ello, no se acepta nombres repetidos de columna. \n",
    "\n",
    "2 maneras de usar dataframes: crearlo por nosotros mismos ó leer datos.\n"
   ]
  },
  {
   "cell_type": "markdown",
   "metadata": {
    "slideshow": {
     "slide_type": "slide"
    }
   },
   "source": [
    "<img src=\"../img/db_example.jpeg\" width=\"800\">\n",
    "\n",
    "\n",
    "\n",
    "<br>\n",
    "</br>"
   ]
  },
  {
   "cell_type": "markdown",
   "metadata": {
    "slideshow": {
     "slide_type": "slide"
    }
   },
   "source": [
    "####  Una forma simple de crear dataframes: "
   ]
  },
  {
   "cell_type": "markdown",
   "metadata": {},
   "source": [
    "- Por filas"
   ]
  },
  {
   "cell_type": "code",
   "execution_count": null,
   "metadata": {},
   "outputs": [],
   "source": [
    "\n",
    "\n",
    "nombres_columnas = ['rural', 'pobreza', 'num_ccpp_urbano', 'desnutricion_cronica',\n",
    "                   'centros_rural', 'es_juntos']\n",
    "\n",
    "obs1 = [True, 40, 1, 50, 60, True]\n",
    "obs2 = [True, 55, 2, 30, 55, True]\n",
    "obs3 = [False, 25, 3, 40, 40, True]\n",
    "\n",
    "obs4 = [True, 30, 2, 25, 55, False]\n",
    "\n",
    "data = [obs1, obs2, obs3, obs4]\n",
    "\n",
    "#ejemplo_df = pd.DataFrame(data = data, columns = nombres_columnas)\n",
    "\n",
    "ejemplo_df  = pd.DataFrame(data = data, columns = nombres_columnas)\n",
    "\n",
    "\n",
    "ejemplo_df"
   ]
  },
  {
   "cell_type": "markdown",
   "metadata": {},
   "source": [
    "- Por columnas "
   ]
  },
  {
   "cell_type": "code",
   "execution_count": null,
   "metadata": {
    "scrolled": true
   },
   "outputs": [],
   "source": [
    "# Ejemplo cuna más de anterior clase\n",
    "df = pd.DataFrame()\n",
    "\n",
    "df['rural'] = [True, True, False, True, False]\n",
    "df['pobreza'] = [40, 55, 25, 60, 30]\n",
    "df['rnum_ccpp_urbano'] =[1,2,3,4,5]\n",
    "df['rdesnutricion_cronica'] = [50,30,40,20,45]\n",
    "df['rcentros_rural'] = [60,55,40,50,20]\n",
    "df['res_juntos'] = [True, True, True, True, True]\n",
    "\n",
    "\n",
    "## df['cuna_o_no'] = [False, True, True, False, True]\n",
    "df"
   ]
  },
  {
   "cell_type": "markdown",
   "metadata": {},
   "source": [
    "### Vectorización:\n",
    "La vectorización se define como aplicar una operación sobre el conjunto de elementos de un vector, en lugar de hacerlo sobre cada elemento de forma individual. \n",
    "Pandas integra dicha vectorización tal que las operaciones se realizan más rápida, fácil y eficientemente. \n",
    "\n",
    "\n"
   ]
  },
  {
   "cell_type": "code",
   "execution_count": null,
   "metadata": {},
   "outputs": [],
   "source": [
    "# Ejemplo de vectorización:\n",
    "## Nótese: Aquí creamos un dataframe con un diccionario, donde las llaves son los nombres de las columnas y\n",
    "#  los valores son listas con los valores de cada columna.\n",
    "df = pd.DataFrame({'Vec': [1, 2, 3, 4, 5],\n",
    "                   'NonVec': [1, 2, 3, 4, 5]})\n",
    "\n",
    "# No vectorizado: Se utiliza un bucle para realizar la operación. \n",
    "for i in range(len(df)):\n",
    "    df.at[i, 'NonVec'] += 10\n",
    "\n",
    "print(df)\n",
    "# Vewctorizado: Se llama al nombre de la variable como si fuera un vector.\n",
    "df['Vec'] = df['Vec'] + 10\n",
    "\n",
    "print(df)"
   ]
  },
  {
   "cell_type": "markdown",
   "metadata": {},
   "source": [
    "#### Leyendo la información:  \n",
    "Los archivos que tenemos pueden estar en distintos formatos: dta, sav, json, csv, txt. Pandas puede leer cualquiera de dichos tipos de archivos. \n",
    "Lo importante es que en esencia, todos ellos representan datos **tabulares**, o datos que tienen \n",
    "\n",
    "\n",
    "| Método de pandas según file | Tipo de archivo        | Descripción                              |\n",
    "|------------------|------------------------|------------------------------------------|\n",
    "| `read_csv()`     | CSV                    | Lee archivos de valores separados por comas (CSV). |\n",
    "| `read_json()`    | JSON                   | Lee datos estructurados como JSON. |\n",
    "| `read_stata()`   | Stata                  | Lee archivos de datos en Stata.          |\n",
    "| `read_spss()`    | SPSS                   | Lee archivos de datos en SPSS.           |\n",
    "| `read_excel()`   | Excel (xls, xlsx)      | Lee archivos Excel.              |\n",
    "| `read_pickle()`  | Pickle                 | Lee objetos Python serializados almacenados en archivos Pickle. |\n",
    "| `read_parquet()` | Parquet                | Lee archivos Parquet.         |\n",
    "| `read_feather()` | Feather                | Lee archivos Feather.         |\n",
    "| `read_sql()`     | SQL Query / Database   | Lee de una base de datos usando una consulta SQL. |\n",
    "| `read_sas()`     | SAS                    | Lee archivos de datos de SAS.            |\n",
    "| `read_hdf()`     | HDF5                   | Lee archivos HDF5.            |\n",
    "| `read_orc()`     | ORC                    | Lee archivos ORC.             |\n",
    "| `read_fwf()`     | Fixed-Width Formatted  | Lee archivos de texto con ancho fijo.    |\n",
    "\n",
    "- Los métodos están organizados según importancia. \n",
    "- Hay otros métodos como `read_html`, `read_orc`, y `read_fwf`. Otros paquetes adicionales leen, por ejemplo, archivos .RData (R). "
   ]
  },
  {
   "cell_type": "markdown",
   "metadata": {},
   "source": [
    "### Desafíos comunes con archivos de datos. \n",
    "\n",
    "Recibir datos de terceros va a ser muy habitual en la labor de data scientists. Algunas situaciones a tener en cuenta (para el futuro), en particular con exceles y csvs, son las siguientes:\n",
    "\n",
    "Con CSV:\n",
    "- Problemas con los delimitadores: Lo común es  que el delimitador sea la coma `,`, sin embargo,`|`,  `;` ó incluso `Tab` pueden aparecer, lo que  originará errores de lectura si no se especifica el delimitador correcto. \n",
    "- Comillas que no cierran: `\"\"\"  \"\"`. \n",
    "- Codificación diferente: \n",
    "    - Datos en español en una codificación anglosajona (e.g.) ocasionará caracteres extraños. \n",
    "    - Tipo de datos diferente (string en vez de numérico).\n",
    "- Datos faltantes: la falta de comas puede ocasionar errores en cargar los datos. \n",
    "- Saltos de línea no sistemáticos\n",
    "\n",
    "Con Excel:\n",
    "- Datos no tabulares: Exceles que no tienen datos tabulares pueden ocasionar errores de lectura. \n",
    "- Más de un valor por celda. \n",
    "- Fórmulas de excel. "
   ]
  },
  {
   "cell_type": "markdown",
   "metadata": {},
   "source": [
    "### Trabajando con datos\n",
    "\n",
    "Hoy nos enfocaremos en la base de datos de postulantes de la Universidad Nacional de Ingeniería: \n",
    "https://www.datosabiertos.gob.pe/dataset/postulantes-al-concurso-de-admisi%C3%B3n-de-la-universidad-nacional-de-ingenier%C3%ADa-uni"
   ]
  },
  {
   "cell_type": "markdown",
   "metadata": {},
   "source": [
    "### Exploración inicial \n",
    "\n",
    "Los siguientes son métodos/atributos de exploración que aplicamos sobre el dataframe mismo. \n",
    "\n",
    "| Método / Atributo         | Descripción                                                                                             |\n",
    "|-----------------|---------------------------------------------------------------------------------------------------------|\n",
    "| `head(n)`/`tail(n)` | Muestra las primeras/últimas n filas del DataFrame.\n",
    "| `describe()`    | Da estadísticas como el promedio, desviación estándar, mínimo y máximo de **columnas numéricas**. |\n",
    "| `info()`        | Nos ofrece información importante como los tipos de los atributos y sus valores nulos.     |\n",
    "| `dtypes`        | Da los tipos de datos del dataframe                                             |\n",
    "| `shape`         | Informa sobre la dimensión del dataframe en forma de tupla `(nfilas, ncolumnas)` |\n",
    "| `columns`         | Informa sobre el nombre de las columnas del dataframe. |\n"
   ]
  },
  {
   "cell_type": "code",
   "execution_count": 4,
   "metadata": {},
   "outputs": [],
   "source": [
    "## Leyendo los archivos. \n",
    "locacion_datos = \"aqui  coloca el string con la locación de tus datos\"\n",
    "locacion_datos = \"/Users/ccsuehara/Downloads/Datos_abiertos_admision_2021_1_2024_1.csv\" # este es el mio\n",
    "df = pd.read_csv(locacion_datos)"
   ]
  },
  {
   "cell_type": "markdown",
   "metadata": {
    "scrolled": true
   },
   "source": [
    "### Explorando los datos: "
   ]
  },
  {
   "cell_type": "code",
   "execution_count": null,
   "metadata": {},
   "outputs": [],
   "source": [
    "#df.describe()\n",
    "#df.info()\n",
    "#df.head()\n",
    "#df.tail(4)\n",
    "\n",
    "#df.dtypes\n",
    "#df.shape\n",
    "#df.columnns"
   ]
  },
  {
   "cell_type": "markdown",
   "metadata": {},
   "source": [
    "Ahora exploraremos una columna en particular. Aquí se utilizará la exploración para una columna determinada (luego veremos que estas son Series). \n",
    "\n",
    "| Método          | Descripción                                                                                       |\n",
    "|-----------------|---------------------------------------------------------------------------------------------------|\n",
    "| `unique()`      | Da los valores únicos de la serie.                                                          |\n",
    "| `nunique()`     | Cuenta cuántos elementos únicos hay en la serie.                                                 |\n",
    "| `sort_values()` | Ordena la serie.         |\n",
    "| `value_counts()`| Da distribución de frecuencias de cada valor único de la serie.                                             |\n",
    "\n",
    "\n",
    "Para datos numéricos:                                                    \n",
    "`sum()`, `mean()`,  `min()`, `max()`, `mode()`, `median()` ,  `std()`"
   ]
  },
  {
   "cell_type": "markdown",
   "metadata": {},
   "source": [
    "Ejercicios: \n",
    "- Averigua cuáles son los 5 primeros departamentos en donde nacen los postulantes. \n",
    "- Cuenta cuántos hombres/mujeres postulan a la UNI. \n",
    "- Cuenta cuántos ingresan.  \n",
    "Hint: value_counts()"
   ]
  },
  {
   "cell_type": "markdown",
   "metadata": {},
   "source": [
    "#### Cómo seleccionar datos\n",
    "\n",
    "A veces sólo necesitamos entender una parte de todos nuestros datos. Por ejemplo, queremos ver los datos de los partidos políticos:"
   ]
  },
  {
   "cell_type": "code",
   "execution_count": null,
   "metadata": {},
   "outputs": [],
   "source": [
    "# df['ANIO_NACIMIENTO'].unique()\n",
    "# df['ANIO_NACIMIENTO'].nunique()\n",
    "# df['NACIMIENTO_DEPA'].value_counts()\n",
    "# df['NACIMIENTO_DEPA'].value_counts(normalize = True)"
   ]
  },
  {
   "cell_type": "markdown",
   "metadata": {},
   "source": [
    "Un dataframe está compuesto de varias series: una columna es una serie diferente. "
   ]
  },
  {
   "cell_type": "code",
   "execution_count": null,
   "metadata": {},
   "outputs": [],
   "source": [
    "type(df['ANIO_NACIMIENTO']) # Forma de acceder a una columna. \n",
    "# Otra forma: \n",
    "# df.ANIO_NACIMIENTO # Mejor utilizar la anterior! \n",
    "\n",
    "# Acceder a varias columnas:\n",
    "df[['ANIO_NACIMIENTO', 'NACIMIENTO_DEPA']]\n"
   ]
  },
  {
   "cell_type": "code",
   "execution_count": null,
   "metadata": {},
   "outputs": [],
   "source": [
    "#### Explorando más de una columna: "
   ]
  },
  {
   "cell_type": "code",
   "execution_count": 2,
   "metadata": {},
   "outputs": [
    {
     "ename": "NameError",
     "evalue": "name 'pd' is not defined",
     "output_type": "error",
     "traceback": [
      "\u001b[0;31m---------------------------------------------------------------------------\u001b[0m",
      "\u001b[0;31mNameError\u001b[0m                                 Traceback (most recent call last)",
      "Cell \u001b[0;32mIn[2], line 1\u001b[0m\n\u001b[0;32m----> 1\u001b[0m \u001b[43mpd\u001b[49m\u001b[38;5;241m.\u001b[39mcrosstab(df[\u001b[38;5;124m'\u001b[39m\u001b[38;5;124mNACIMIENTO_DEPA\u001b[39m\u001b[38;5;124m'\u001b[39m], df[\u001b[38;5;124m'\u001b[39m\u001b[38;5;124mSEXO\u001b[39m\u001b[38;5;124m'\u001b[39m]) \u001b[38;5;66;03m# esta funcion nos permite hacer tablas cruzadas entre dos columnas. \u001b[39;00m\n",
      "\u001b[0;31mNameError\u001b[0m: name 'pd' is not defined"
     ]
    }
   ],
   "source": [
    "pd.crosstab(df['NACIMIENTO_DEPA'], df['SEXO']) # esta funcion nos permite hacer tablas cruzadas entre dos columnas. "
   ]
  },
  {
   "cell_type": "markdown",
   "metadata": {},
   "source": [
    "### Selección de datos"
   ]
  },
  {
   "cell_type": "markdown",
   "metadata": {},
   "source": [
    "#### Selección de columnas "
   ]
  },
  {
   "cell_type": "code",
   "execution_count": 17,
   "metadata": {},
   "outputs": [],
   "source": [
    "# por nombre: \n",
    "peque_lst = ['ANIO_NACIMIENTO', 'NACIMIENTO_DEPA']"
   ]
  },
  {
   "cell_type": "code",
   "execution_count": null,
   "metadata": {},
   "outputs": [],
   "source": [
    "df_small = df[peque_lst].copy()\n",
    "df_small"
   ]
  },
  {
   "cell_type": "markdown",
   "metadata": {},
   "source": [
    "#### Selección y filtración de filas/columnas con ``` iloc``` y ```loc ```\n",
    "\n",
    "Primero seleccionaremos columnas, para lo que utilizaremos  ``` iloc``` y ```loc ```. "
   ]
  },
  {
   "cell_type": "markdown",
   "metadata": {},
   "source": [
    "##### Utilizando el iloc\n",
    "El iloc ubica las observaciones que corresponden al índice que le indicamos. \n",
    "Recordando nuestra base de postulantes: "
   ]
  },
  {
   "cell_type": "code",
   "execution_count": null,
   "metadata": {},
   "outputs": [],
   "source": [
    "# Agarrando observaciones puntuales\n",
    "\n",
    "df.iloc[3]"
   ]
  },
  {
   "cell_type": "code",
   "execution_count": null,
   "metadata": {},
   "outputs": [],
   "source": [
    "# Agarrando observaciones puntuales\n",
    "rows = [1, 2, 10,13,3000]\n",
    "df.iloc[rows]"
   ]
  },
  {
   "cell_type": "code",
   "execution_count": null,
   "metadata": {},
   "outputs": [],
   "source": [
    "rows = [10,13, 2]\n",
    "cols = [2,4,6]\n",
    "df.iloc[rows, cols]"
   ]
  },
  {
   "cell_type": "code",
   "execution_count": null,
   "metadata": {},
   "outputs": [],
   "source": [
    "# qué pasa si  hago...\n",
    "#df.iloc[rows, ['COLEGIO_DEPA', 'COLEGIO_PROV', 'COLEGIO_ANIO_EGRESO']]"
   ]
  },
  {
   "cell_type": "code",
   "execution_count": null,
   "metadata": {},
   "outputs": [],
   "source": [
    "df.iloc[:3,:3]"
   ]
  },
  {
   "cell_type": "markdown",
   "metadata": {},
   "source": [
    "##### Utilizando el ```loc```\n",
    "\n",
    "El ``` loc``` es una forma de ubicar observaciones que se basa en las etiquetas, tanto de columnas como de filas. \n"
   ]
  },
  {
   "cell_type": "code",
   "execution_count": null,
   "metadata": {},
   "outputs": [],
   "source": [
    "columnas = ['COLEGIO_DEPA', 'COLEGIO_PROV', 'COLEGIO_ANIO_EGRESO']\n",
    "filas = range(0,6)\n",
    "df.loc[filas, columnas]\n",
    "\n"
   ]
  },
  {
   "cell_type": "code",
   "execution_count": null,
   "metadata": {},
   "outputs": [],
   "source": [
    "df.loc[:, columnas]\n",
    "\n",
    "#  Con .iloc y .loc, hemos visto nuevas formas de acceder a las filas/columnas de un dataframe:\n",
    "# df.loc[:, ['ANIO_NACIMIENTO', 'NACIMIENTO_DEPA']]\n",
    "# df.loc[1:3, ['ANIO_NACIMIENTO', 'NACIMIENTO_DEPA']]\n",
    "# df.iloc[:, [1, 2]]\n",
    "# df.iloc[1:3, 2:4]\n"
   ]
  },
  {
   "cell_type": "markdown",
   "metadata": {},
   "source": [
    "### Filtrando información\n",
    "\n",
    "Muchas veces querremos quedarnos con un subconjunto de datos que cumplen cierta condición. Las condiciones tienen que evaluarse a un booleano."
   ]
  },
  {
   "cell_type": "markdown",
   "metadata": {},
   "source": [
    "### Filtrando información con condiciones"
   ]
  },
  {
   "cell_type": "code",
   "execution_count": null,
   "metadata": {},
   "outputs": [],
   "source": [
    "# Podemos guardar las condiciones como variables y luego hacer el filtro.\n",
    "\n",
    "condicion = [True]*(len(df) - 5) + [False] * (5) # Tenemos una lista de booleanons de la longitud del dataframe. \n",
    "df[condicion] # Filtramos el dataframe con la condición. "
   ]
  },
  {
   "cell_type": "code",
   "execution_count": null,
   "metadata": {},
   "outputs": [],
   "source": [
    "cond = df['COLEGIO_DEPA'] == 'LIMA'\n",
    "# explora qué bota el cond. \n",
    "\n",
    "df[cond]\n",
    "# df[cond].reset_index()"
   ]
  },
  {
   "cell_type": "code",
   "execution_count": null,
   "metadata": {},
   "outputs": [],
   "source": [
    "cond_1 = df['COLEGIO_DEPA'] == \"LIMA\"\n",
    "cond_2 = df['INGRESO'] == \"NO\"\n",
    "\n",
    "cond_filtrado_and = df[cond_1 & cond_2] ## Pregunta: por qué no usamos el and y or, como habíamos visto antes? \n",
    "\n",
    "cond_filtrado_or = df[cond_1 | cond_2]\n",
    "\n",
    "## equivalente a: \n",
    "df[(df['COLEGIO_DEPA'] == \"LIMA\") & (df['INGRESO'] == \"NO\")] ## necesitamos cerrarlo en paréntesis. \n",
    "\n",
    "df[(df['COLEGIO_DEPA'] == \"LIMA\") | (df['INGRESO'] == \"NO\")]\n",
    "\n",
    "# Nota1: Si queremos hacer un filtro con más de una condición, necesitamos cerrar cada condición en paréntesis.\n",
    "# Nota2: Podemos almacenar el resultado como una variable, que será un dataframe nuevo."
   ]
  },
  {
   "cell_type": "code",
   "execution_count": null,
   "metadata": {},
   "outputs": [],
   "source": [
    "## Ejercicio: Filtra el dataframe para que solo te quedes con las observaciones que sean de Lima y que hayan ingresado."
   ]
  },
  {
   "cell_type": "code",
   "execution_count": 5,
   "metadata": {},
   "outputs": [
    {
     "data": {
      "text/html": [
       "<div>\n",
       "<style scoped>\n",
       "    .dataframe tbody tr th:only-of-type {\n",
       "        vertical-align: middle;\n",
       "    }\n",
       "\n",
       "    .dataframe tbody tr th {\n",
       "        vertical-align: top;\n",
       "    }\n",
       "\n",
       "    .dataframe thead th {\n",
       "        text-align: right;\n",
       "    }\n",
       "</style>\n",
       "<table border=\"1\" class=\"dataframe\">\n",
       "  <thead>\n",
       "    <tr style=\"text-align: right;\">\n",
       "      <th></th>\n",
       "      <th>IDHASH</th>\n",
       "      <th>COLEGIO</th>\n",
       "      <th>COLEGIO_DEPA</th>\n",
       "      <th>COLEGIO_PROV</th>\n",
       "      <th>COLEGIO_DIST</th>\n",
       "      <th>COLEGIO_PAIS</th>\n",
       "      <th>COLEGIO_ANIO_EGRESO</th>\n",
       "      <th>ESPECIALIDAD</th>\n",
       "      <th>ANIO_POSTULA</th>\n",
       "      <th>CICLO_POSTULA</th>\n",
       "      <th>...</th>\n",
       "      <th>DOMICILIO_DIST</th>\n",
       "      <th>ANIO_NACIMIENTO</th>\n",
       "      <th>NACIMIENTO_PAIS</th>\n",
       "      <th>NACIMIENTO_DEPA</th>\n",
       "      <th>NACIMIENTO_PROV</th>\n",
       "      <th>NACIMIENTO_DIST</th>\n",
       "      <th>SEXO</th>\n",
       "      <th>CALIF_FINAL</th>\n",
       "      <th>INGRESO</th>\n",
       "      <th>MODALIDAD</th>\n",
       "    </tr>\n",
       "  </thead>\n",
       "  <tbody>\n",
       "    <tr>\n",
       "      <th>0</th>\n",
       "      <td>E4287C2FE19F63C5E6641955147E36684A5A2FF8064676...</td>\n",
       "      <td>LA DIVINA PROVIDENCIA</td>\n",
       "      <td>LIMA</td>\n",
       "      <td>LIMA</td>\n",
       "      <td>SURQUILLO</td>\n",
       "      <td>PERÚ</td>\n",
       "      <td>2020</td>\n",
       "      <td>INGENIERÍA DE SISTEMAS</td>\n",
       "      <td>2021</td>\n",
       "      <td>1</td>\n",
       "      <td>...</td>\n",
       "      <td>SAN JUAN DE MIRAFLORES</td>\n",
       "      <td>2004</td>\n",
       "      <td>PERÚ</td>\n",
       "      <td>LIMA</td>\n",
       "      <td>LIMA</td>\n",
       "      <td>VILLA EL SALVADOR</td>\n",
       "      <td>MASCULINO</td>\n",
       "      <td>3.110</td>\n",
       "      <td>NO</td>\n",
       "      <td>EXTRAORDINARIO1 - DEPORTISTAS CALIFICADOS DE A...</td>\n",
       "    </tr>\n",
       "    <tr>\n",
       "      <th>1</th>\n",
       "      <td>2DC37F0B9727B6591EC72D7A942647797A200F45D47C9E...</td>\n",
       "      <td>86019 LA LIBERTAD</td>\n",
       "      <td>ÁNCASH</td>\n",
       "      <td>HUARAZ</td>\n",
       "      <td>HUARAZ</td>\n",
       "      <td>PERÚ</td>\n",
       "      <td>2017</td>\n",
       "      <td>INGENIERÍA DE TELECOMUNICACIONES</td>\n",
       "      <td>2021</td>\n",
       "      <td>1</td>\n",
       "      <td>...</td>\n",
       "      <td>HUARAZ</td>\n",
       "      <td>2001</td>\n",
       "      <td>PERÚ</td>\n",
       "      <td>ÁNCASH</td>\n",
       "      <td>HUARAZ</td>\n",
       "      <td>HUARAZ</td>\n",
       "      <td>FEMENINO</td>\n",
       "      <td>3.580</td>\n",
       "      <td>NO</td>\n",
       "      <td>ORDINARIO</td>\n",
       "    </tr>\n",
       "    <tr>\n",
       "      <th>2</th>\n",
       "      <td>3B8677B90781D7BB8F2F967C05FA2DBBE153BBB682DF05...</td>\n",
       "      <td>0113 DANIEL ALOMIAS ROBLES</td>\n",
       "      <td>LIMA</td>\n",
       "      <td>LIMA</td>\n",
       "      <td>SAN JUAN DE LURIGANCHO</td>\n",
       "      <td>PERÚ</td>\n",
       "      <td>2016</td>\n",
       "      <td>INGENIERÍA MECÁNICA</td>\n",
       "      <td>2021</td>\n",
       "      <td>1</td>\n",
       "      <td>...</td>\n",
       "      <td>SAN JUAN DE LURIGANCHO</td>\n",
       "      <td>2000</td>\n",
       "      <td>PERÚ</td>\n",
       "      <td>LIMA</td>\n",
       "      <td>LIMA</td>\n",
       "      <td>JESÚS MARÍA</td>\n",
       "      <td>MASCULINO</td>\n",
       "      <td>8.040</td>\n",
       "      <td>NO</td>\n",
       "      <td>ORDINARIO</td>\n",
       "    </tr>\n",
       "    <tr>\n",
       "      <th>3</th>\n",
       "      <td>FA366704D9E9F6FB5E5F55C1FB0CEEE973C626A5616F55...</td>\n",
       "      <td>SEBASTIAN SALAZAR BONDY</td>\n",
       "      <td>LIMA</td>\n",
       "      <td>LIMA</td>\n",
       "      <td>SANTA ANITA</td>\n",
       "      <td>PERÚ</td>\n",
       "      <td>2018</td>\n",
       "      <td>INGENIERÍA ELECTRÓNICA</td>\n",
       "      <td>2021</td>\n",
       "      <td>1</td>\n",
       "      <td>...</td>\n",
       "      <td>SANTA ANITA</td>\n",
       "      <td>2002</td>\n",
       "      <td>PERÚ</td>\n",
       "      <td>LIMA</td>\n",
       "      <td>LIMA</td>\n",
       "      <td>LIMA</td>\n",
       "      <td>MASCULINO</td>\n",
       "      <td>10.820</td>\n",
       "      <td>NO</td>\n",
       "      <td>EXTRAORDINARIO2 – INGRESO DIRECTO CEPRE</td>\n",
       "    </tr>\n",
       "    <tr>\n",
       "      <th>4</th>\n",
       "      <td>E31CF8F30F3AE60B3D8A14F6E1020E9AD26EE975F0823B...</td>\n",
       "      <td>TRILCE LOS OLIVOS</td>\n",
       "      <td>LIMA</td>\n",
       "      <td>LIMA</td>\n",
       "      <td>SAN MARTÍN DE PORRES</td>\n",
       "      <td>PERÚ</td>\n",
       "      <td>2020</td>\n",
       "      <td>ARQUITECTURA</td>\n",
       "      <td>2021</td>\n",
       "      <td>1</td>\n",
       "      <td>...</td>\n",
       "      <td>INDEPENDENCIA</td>\n",
       "      <td>2004</td>\n",
       "      <td>PERÚ</td>\n",
       "      <td>LIMA</td>\n",
       "      <td>LIMA</td>\n",
       "      <td>COMAS</td>\n",
       "      <td>FEMENINO</td>\n",
       "      <td>6.210</td>\n",
       "      <td>NO</td>\n",
       "      <td>ORDINARIO</td>\n",
       "    </tr>\n",
       "    <tr>\n",
       "      <th>...</th>\n",
       "      <td>...</td>\n",
       "      <td>...</td>\n",
       "      <td>...</td>\n",
       "      <td>...</td>\n",
       "      <td>...</td>\n",
       "      <td>...</td>\n",
       "      <td>...</td>\n",
       "      <td>...</td>\n",
       "      <td>...</td>\n",
       "      <td>...</td>\n",
       "      <td>...</td>\n",
       "      <td>...</td>\n",
       "      <td>...</td>\n",
       "      <td>...</td>\n",
       "      <td>...</td>\n",
       "      <td>...</td>\n",
       "      <td>...</td>\n",
       "      <td>...</td>\n",
       "      <td>...</td>\n",
       "      <td>...</td>\n",
       "      <td>...</td>\n",
       "    </tr>\n",
       "    <tr>\n",
       "      <th>42511</th>\n",
       "      <td>370728AB03E7ECDE69265AC64B0A682887B0BA3E40644F...</td>\n",
       "      <td>BARTOLOME HERRERA</td>\n",
       "      <td>LIMA</td>\n",
       "      <td>LIMA</td>\n",
       "      <td>SAN MIGUEL</td>\n",
       "      <td>NaN</td>\n",
       "      <td>2019</td>\n",
       "      <td>INGENIERÍA CIVIL</td>\n",
       "      <td>2023</td>\n",
       "      <td>1</td>\n",
       "      <td>...</td>\n",
       "      <td>LA PERLA</td>\n",
       "      <td>2002</td>\n",
       "      <td>PERÚ</td>\n",
       "      <td>CALLAO</td>\n",
       "      <td>PROV CONST DEL CALLAO</td>\n",
       "      <td>BELLAVISTA</td>\n",
       "      <td>MASCULINO</td>\n",
       "      <td>5.906</td>\n",
       "      <td>NO</td>\n",
       "      <td>ORDINARIO</td>\n",
       "    </tr>\n",
       "    <tr>\n",
       "      <th>42512</th>\n",
       "      <td>C03C7AC74210DA0F4862BFEDAE45CF3BB5AE9813FCF409...</td>\n",
       "      <td>FE Y ALEGRIA 59</td>\n",
       "      <td>CALLAO</td>\n",
       "      <td>PROV CONST DEL CALLAO</td>\n",
       "      <td>VENTANILLA</td>\n",
       "      <td>NaN</td>\n",
       "      <td>2021</td>\n",
       "      <td>INGENIERÍA CIVIL</td>\n",
       "      <td>2023</td>\n",
       "      <td>1</td>\n",
       "      <td>...</td>\n",
       "      <td>VENTANILLA</td>\n",
       "      <td>2004</td>\n",
       "      <td>PERÚ</td>\n",
       "      <td>CALLAO</td>\n",
       "      <td>PROV CONST DEL CALLAO</td>\n",
       "      <td>CALLAO</td>\n",
       "      <td>FEMENINO</td>\n",
       "      <td>2.621</td>\n",
       "      <td>NO</td>\n",
       "      <td>ORDINARIO</td>\n",
       "    </tr>\n",
       "    <tr>\n",
       "      <th>42513</th>\n",
       "      <td>E6337F43BAEF0F59EDF11F6F16A47A908717DE288B7886...</td>\n",
       "      <td>CIENCIAS</td>\n",
       "      <td>AYACUCHO</td>\n",
       "      <td>HUAMANGA</td>\n",
       "      <td>SAN JUAN BAUTISTA</td>\n",
       "      <td>NaN</td>\n",
       "      <td>2022</td>\n",
       "      <td>ARQUITECTURA</td>\n",
       "      <td>2023</td>\n",
       "      <td>1</td>\n",
       "      <td>...</td>\n",
       "      <td>AYACUCHO</td>\n",
       "      <td>2006</td>\n",
       "      <td>PERÚ</td>\n",
       "      <td>AYACUCHO</td>\n",
       "      <td>HUAMANGA</td>\n",
       "      <td>AYACUCHO</td>\n",
       "      <td>FEMENINO</td>\n",
       "      <td>7.974</td>\n",
       "      <td>NO</td>\n",
       "      <td>ORDINARIO</td>\n",
       "    </tr>\n",
       "    <tr>\n",
       "      <th>42514</th>\n",
       "      <td>13F7CD09C661B02F61218445885DA7C4FDBD87392F7522...</td>\n",
       "      <td>SAN CARLOS</td>\n",
       "      <td>LIMA</td>\n",
       "      <td>LIMA</td>\n",
       "      <td>LURIGANCHO</td>\n",
       "      <td>NaN</td>\n",
       "      <td>2021</td>\n",
       "      <td>ARQUITECTURA</td>\n",
       "      <td>2023</td>\n",
       "      <td>1</td>\n",
       "      <td>...</td>\n",
       "      <td>LURIGANCHO</td>\n",
       "      <td>2004</td>\n",
       "      <td>PERÚ</td>\n",
       "      <td>LIMA</td>\n",
       "      <td>LIMA</td>\n",
       "      <td>MIRAFLORES</td>\n",
       "      <td>FEMENINO</td>\n",
       "      <td>9.477</td>\n",
       "      <td>NO</td>\n",
       "      <td>ORDINARIO</td>\n",
       "    </tr>\n",
       "    <tr>\n",
       "      <th>42515</th>\n",
       "      <td>89BFAB90B1C8C25D61557264958F988E305385A9351B5C...</td>\n",
       "      <td>TRILCE SAN JUAN</td>\n",
       "      <td>LIMA</td>\n",
       "      <td>LIMA</td>\n",
       "      <td>SAN JUAN DE LURIGANCHO</td>\n",
       "      <td>NaN</td>\n",
       "      <td>2021</td>\n",
       "      <td>INGENIERÍA DE SISTEMAS</td>\n",
       "      <td>2023</td>\n",
       "      <td>1</td>\n",
       "      <td>...</td>\n",
       "      <td>SAN JUAN DE LURIGANCHO</td>\n",
       "      <td>2005</td>\n",
       "      <td>PERÚ</td>\n",
       "      <td>LIMA</td>\n",
       "      <td>LIMA</td>\n",
       "      <td>SAN JUAN DE LURIGANCHO</td>\n",
       "      <td>MASCULINO</td>\n",
       "      <td>7.228</td>\n",
       "      <td>NO</td>\n",
       "      <td>ORDINARIO</td>\n",
       "    </tr>\n",
       "  </tbody>\n",
       "</table>\n",
       "<p>42516 rows × 22 columns</p>\n",
       "</div>"
      ],
      "text/plain": [
       "                                                  IDHASH  \\\n",
       "0      E4287C2FE19F63C5E6641955147E36684A5A2FF8064676...   \n",
       "1      2DC37F0B9727B6591EC72D7A942647797A200F45D47C9E...   \n",
       "2      3B8677B90781D7BB8F2F967C05FA2DBBE153BBB682DF05...   \n",
       "3      FA366704D9E9F6FB5E5F55C1FB0CEEE973C626A5616F55...   \n",
       "4      E31CF8F30F3AE60B3D8A14F6E1020E9AD26EE975F0823B...   \n",
       "...                                                  ...   \n",
       "42511  370728AB03E7ECDE69265AC64B0A682887B0BA3E40644F...   \n",
       "42512  C03C7AC74210DA0F4862BFEDAE45CF3BB5AE9813FCF409...   \n",
       "42513  E6337F43BAEF0F59EDF11F6F16A47A908717DE288B7886...   \n",
       "42514  13F7CD09C661B02F61218445885DA7C4FDBD87392F7522...   \n",
       "42515  89BFAB90B1C8C25D61557264958F988E305385A9351B5C...   \n",
       "\n",
       "                          COLEGIO COLEGIO_DEPA           COLEGIO_PROV  \\\n",
       "0           LA DIVINA PROVIDENCIA         LIMA                   LIMA   \n",
       "1               86019 LA LIBERTAD       ÁNCASH                 HUARAZ   \n",
       "2      0113 DANIEL ALOMIAS ROBLES         LIMA                   LIMA   \n",
       "3         SEBASTIAN SALAZAR BONDY         LIMA                   LIMA   \n",
       "4               TRILCE LOS OLIVOS         LIMA                   LIMA   \n",
       "...                           ...          ...                    ...   \n",
       "42511           BARTOLOME HERRERA         LIMA                   LIMA   \n",
       "42512             FE Y ALEGRIA 59       CALLAO  PROV CONST DEL CALLAO   \n",
       "42513                    CIENCIAS     AYACUCHO               HUAMANGA   \n",
       "42514                  SAN CARLOS         LIMA                   LIMA   \n",
       "42515             TRILCE SAN JUAN         LIMA                   LIMA   \n",
       "\n",
       "                 COLEGIO_DIST COLEGIO_PAIS  COLEGIO_ANIO_EGRESO  \\\n",
       "0                   SURQUILLO         PERÚ                 2020   \n",
       "1                      HUARAZ         PERÚ                 2017   \n",
       "2      SAN JUAN DE LURIGANCHO         PERÚ                 2016   \n",
       "3                 SANTA ANITA         PERÚ                 2018   \n",
       "4        SAN MARTÍN DE PORRES         PERÚ                 2020   \n",
       "...                       ...          ...                  ...   \n",
       "42511              SAN MIGUEL          NaN                 2019   \n",
       "42512              VENTANILLA          NaN                 2021   \n",
       "42513       SAN JUAN BAUTISTA          NaN                 2022   \n",
       "42514              LURIGANCHO          NaN                 2021   \n",
       "42515  SAN JUAN DE LURIGANCHO          NaN                 2021   \n",
       "\n",
       "                           ESPECIALIDAD  ANIO_POSTULA  CICLO_POSTULA  ...  \\\n",
       "0                INGENIERÍA DE SISTEMAS          2021              1  ...   \n",
       "1      INGENIERÍA DE TELECOMUNICACIONES          2021              1  ...   \n",
       "2                   INGENIERÍA MECÁNICA          2021              1  ...   \n",
       "3                INGENIERÍA ELECTRÓNICA          2021              1  ...   \n",
       "4                          ARQUITECTURA          2021              1  ...   \n",
       "...                                 ...           ...            ...  ...   \n",
       "42511                  INGENIERÍA CIVIL          2023              1  ...   \n",
       "42512                  INGENIERÍA CIVIL          2023              1  ...   \n",
       "42513                      ARQUITECTURA          2023              1  ...   \n",
       "42514                      ARQUITECTURA          2023              1  ...   \n",
       "42515            INGENIERÍA DE SISTEMAS          2023              1  ...   \n",
       "\n",
       "               DOMICILIO_DIST ANIO_NACIMIENTO NACIMIENTO_PAIS  \\\n",
       "0      SAN JUAN DE MIRAFLORES            2004            PERÚ   \n",
       "1                      HUARAZ            2001            PERÚ   \n",
       "2      SAN JUAN DE LURIGANCHO            2000            PERÚ   \n",
       "3                 SANTA ANITA            2002            PERÚ   \n",
       "4               INDEPENDENCIA            2004            PERÚ   \n",
       "...                       ...             ...             ...   \n",
       "42511                LA PERLA            2002            PERÚ   \n",
       "42512              VENTANILLA            2004            PERÚ   \n",
       "42513                AYACUCHO            2006            PERÚ   \n",
       "42514              LURIGANCHO            2004            PERÚ   \n",
       "42515  SAN JUAN DE LURIGANCHO            2005            PERÚ   \n",
       "\n",
       "       NACIMIENTO_DEPA        NACIMIENTO_PROV         NACIMIENTO_DIST  \\\n",
       "0                 LIMA                   LIMA       VILLA EL SALVADOR   \n",
       "1               ÁNCASH                 HUARAZ                  HUARAZ   \n",
       "2                 LIMA                   LIMA             JESÚS MARÍA   \n",
       "3                 LIMA                   LIMA                    LIMA   \n",
       "4                 LIMA                   LIMA                   COMAS   \n",
       "...                ...                    ...                     ...   \n",
       "42511           CALLAO  PROV CONST DEL CALLAO              BELLAVISTA   \n",
       "42512           CALLAO  PROV CONST DEL CALLAO                  CALLAO   \n",
       "42513         AYACUCHO               HUAMANGA                AYACUCHO   \n",
       "42514             LIMA                   LIMA              MIRAFLORES   \n",
       "42515             LIMA                   LIMA  SAN JUAN DE LURIGANCHO   \n",
       "\n",
       "            SEXO CALIF_FINAL INGRESO  \\\n",
       "0      MASCULINO       3.110      NO   \n",
       "1       FEMENINO       3.580      NO   \n",
       "2      MASCULINO       8.040      NO   \n",
       "3      MASCULINO      10.820      NO   \n",
       "4       FEMENINO       6.210      NO   \n",
       "...          ...         ...     ...   \n",
       "42511  MASCULINO       5.906      NO   \n",
       "42512   FEMENINO       2.621      NO   \n",
       "42513   FEMENINO       7.974      NO   \n",
       "42514   FEMENINO       9.477      NO   \n",
       "42515  MASCULINO       7.228      NO   \n",
       "\n",
       "                                               MODALIDAD  \n",
       "0      EXTRAORDINARIO1 - DEPORTISTAS CALIFICADOS DE A...  \n",
       "1                                              ORDINARIO  \n",
       "2                                              ORDINARIO  \n",
       "3                EXTRAORDINARIO2 – INGRESO DIRECTO CEPRE  \n",
       "4                                              ORDINARIO  \n",
       "...                                                  ...  \n",
       "42511                                          ORDINARIO  \n",
       "42512                                          ORDINARIO  \n",
       "42513                                          ORDINARIO  \n",
       "42514                                          ORDINARIO  \n",
       "42515                                          ORDINARIO  \n",
       "\n",
       "[42516 rows x 22 columns]"
      ]
     },
     "execution_count": 5,
     "metadata": {},
     "output_type": "execute_result"
    }
   ],
   "source": [
    "df"
   ]
  },
  {
   "cell_type": "markdown",
   "metadata": {},
   "source": [
    "## Filtrando información \n",
    "Pandas tiene una serie de métodos para filtrar información: \n",
    "\n",
    "\n",
    "| Método         | Ejemplo de uso                                                                                                        |\n",
    "|----------------|-----------------------------------------------------------------------------------------------------------------------|\n",
    "| `loc`          | `df.loc[(df['ANIO_POSTULA'] > 2020) & (df['ANIO_NACIMIENTO'] < 2000), 'ANIO_NACIMIENTO']`    |\n",
    "| `iloc`         | `df.iloc[0:5, 0:2]` Accede a las primeras 5 filas y primeras 2 columnas.                                                |\n",
    "| `query`        | `df.query('(ANIO_POSTULA > 2020) & (ANIO_NACIMIENTO < 2000)')` \n",
    "| `filter`       | `df.filter(items=['ANIO_NACIMIENTO', 'ANIO_POSTULA'])`                                          |\n",
    "| `where`        | `df.where((df['ANIO_POSTULA'] > 2020) & (df['ANIO_NACIMIENTO'] < 2000))` Preserva shape pero rellena con Nan     |\n",
    "| `mask`         | `df.mask((df['ANIO_POSTULA'] > 2020) & (df['ANIO_NACIMIENTO'] < 2000))` Cambia a NaN los valores donde 'A' > 1 y 'B' < 6.                            |\n",
    "| `isin`         | `df[df['ANIO_NACIMIENTO'].isin([2000, 2001])]` "
   ]
  },
  {
   "cell_type": "markdown",
   "metadata": {},
   "source": [
    "## Ejercicio: \n",
    "1. Filtra el dataframe y quédate con quienes postularon a la 'ESPECIALIDAD' de INGENIERÍA MECATRÓNICA y cuyo lugar de nacimiento sea Callao. \n",
    "2. Filtra el dataframe y quédate con los postulantes cuyo país de estudio no haya sido Perú. \n",
    "3. Filtra el dataframe y quédate con los postulantes de nacieron en Cajamarca y sí ingresaron.\n",
    "4. Filtra el dataframe y quédate con los postulantes que obtuvieron una calificación final mayor a 17 e ingresaron por modalidad ordinario. \n"
   ]
  },
  {
   "cell_type": "markdown",
   "metadata": {},
   "source": []
  }
 ],
 "metadata": {
  "celltoolbar": "Slideshow",
  "kernelspec": {
   "display_name": "strmlt",
   "language": "python",
   "name": "python3"
  },
  "language_info": {
   "codemirror_mode": {
    "name": "ipython",
    "version": 3
   },
   "file_extension": ".py",
   "mimetype": "text/x-python",
   "name": "python",
   "nbconvert_exporter": "python",
   "pygments_lexer": "ipython3",
   "version": "3.12.3"
  }
 },
 "nbformat": 4,
 "nbformat_minor": 4
}
