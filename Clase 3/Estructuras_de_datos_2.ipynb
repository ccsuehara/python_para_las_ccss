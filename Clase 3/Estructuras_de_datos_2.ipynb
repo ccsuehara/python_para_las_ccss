{
 "cells": [
  {
   "cell_type": "markdown",
   "metadata": {},
   "source": [
    "# Clase 3: Estructuras de datos en Python\n"
   ]
  },
  {
   "cell_type": "markdown",
   "metadata": {
    "vscode": {
     "languageId": "plaintext"
    }
   },
   "source": [
    "<a class=\"anchor\" id=\"tuplas\"></a>\n",
    "\n",
    "## Tuplas\n",
    "\n",
    "Las tuplas comparten mucha similaridad con las listas pues pueden almacenar variables de cualquier tipo. Sin embargo, su propiedad más importante es que son **inmutables**, por lo que cuando se crean, no pueden ser cambiadas de ninguna forma. \n",
    "\n",
    "Se crean de dos formas: "
   ]
  },
  {
   "cell_type": "code",
   "execution_count": 20,
   "metadata": {},
   "outputs": [
    {
     "data": {
      "text/plain": [
       "tuple"
      ]
     },
     "execution_count": 20,
     "metadata": {},
     "output_type": "execute_result"
    }
   ],
   "source": [
    "\n",
    "tupla_a = 1,2,3\n",
    "type(tupla_a)"
   ]
  },
  {
   "cell_type": "code",
   "execution_count": 22,
   "metadata": {},
   "outputs": [
    {
     "data": {
      "text/plain": [
       "(1, 2, 3)"
      ]
     },
     "execution_count": 22,
     "metadata": {},
     "output_type": "execute_result"
    }
   ],
   "source": [
    "tupla_a"
   ]
  },
  {
   "cell_type": "code",
   "execution_count": 24,
   "metadata": {},
   "outputs": [
    {
     "data": {
      "text/plain": [
       "tuple"
      ]
     },
     "execution_count": 24,
     "metadata": {},
     "output_type": "execute_result"
    }
   ],
   "source": [
    "tupla_b = (1,2,3)\n",
    "type(tupla_b)"
   ]
  },
  {
   "cell_type": "code",
   "execution_count": null,
   "metadata": {},
   "outputs": [],
   "source": [
    "tupla_a == tupla_b"
   ]
  },
  {
   "cell_type": "markdown",
   "metadata": {
    "vscode": {
     "languageId": "plaintext"
    }
   },
   "source": [
    "Sin embargo, la convención es usar los paréntesis para crear las tuplas.  \n",
    "\n",
    "Al ser inmutables, no pueden ser modificadas"
   ]
  },
  {
   "cell_type": "markdown",
   "metadata": {},
   "source": [
    "#### Creando una tupla de un solo elemento\n",
    "\n",
    "Vean que cuando hago una tupla de un solo elemento, pasa algo curioso: no lo reconoce como tal. Como hemos visto antes, en la situación en que estamos escribiendo expresiones, los paréntesis significan priorizar el orden de los cálculos. Lo distintivo de la tupla es la coma ``` , ```"
   ]
  },
  {
   "cell_type": "code",
   "execution_count": null,
   "metadata": {},
   "outputs": [],
   "source": [
    "a = (23233,)\n",
    "print(type(a))\n",
    "b = 2,\n",
    "print(type(b))\n"
   ]
  },
  {
   "cell_type": "code",
   "execution_count": 26,
   "metadata": {},
   "outputs": [
    {
     "data": {
      "text/plain": [
       "(1, 2, 3, 4)"
      ]
     },
     "execution_count": 26,
     "metadata": {},
     "output_type": "execute_result"
    }
   ],
   "source": [
    "### Usando un constructor para la tupla\n",
    "lst = [1,2,3,4]\n",
    "tupla_lst = tuple(lst) ## el keyword tuple es el constructor en este caso, y \"construye\" dicho tipo.\n",
    "tupla_lst"
   ]
  },
  {
   "cell_type": "code",
   "execution_count": 28,
   "metadata": {},
   "outputs": [
    {
     "data": {
      "text/plain": [
       "(1, 'b', [1, 2, 3], False)"
      ]
     },
     "execution_count": 28,
     "metadata": {},
     "output_type": "execute_result"
    }
   ],
   "source": [
    "#Pueden albergar distintos tipos de datos\n",
    "tupla_varia = (1, 'b', [1,2,3], False)\n",
    "tupla_varia"
   ]
  },
  {
   "cell_type": "code",
   "execution_count": 30,
   "metadata": {},
   "outputs": [
    {
     "name": "stdout",
     "output_type": "stream",
     "text": [
      "(1, 3, 5, 7, 9, 11, 13, 15, 17, 19)\n",
      "('a', 'q', 'u', 'e', 'l', 'a', 'r', 'r', 'e')\n"
     ]
    }
   ],
   "source": [
    "print(tuple(range(1,20,2)))\n",
    "print(tuple(\"aquelarre\"))\n"
   ]
  },
  {
   "cell_type": "markdown",
   "metadata": {},
   "source": [
    "#### ¿Por qué usar tuplas y no listas? \n",
    "\n",
    "Las tuplas tienen varias restricciones, y si aparecen es porque el programa está informando que los datos son \"fijos\".   \n",
    "Cuando veamos los diccionarios, nos daremos cuenta que las tuplas pueden ser identificadores (keys), pero las listas no. \n",
    "\n",
    "Volviendo a las listas: \n",
    "Cuando una lista se altera, el id sigue  siendo el mismo.   \n",
    "Cuando hacemos una modificación a una tupla, eso no pasa (pues es inmutable)  "
   ]
  },
  {
   "cell_type": "code",
   "execution_count": 3,
   "metadata": {},
   "outputs": [
    {
     "name": "stdout",
     "output_type": "stream",
     "text": [
      "4559469248\n",
      "4559469248\n"
     ]
    }
   ],
   "source": [
    "lst_a = [1,2,3] # aquí creo  una lista\n",
    "print(id(lst_a))\n",
    "\n",
    "lst_a.append(4) # le añado un elemento\n",
    "print(id(lst_a))\n",
    "# los ids son los mismos"
   ]
  },
  {
   "cell_type": "markdown",
   "metadata": {},
   "source": [
    "### Desempaque de tuplas\n",
    "\n",
    "En programación, podemos usar el \"desempaque\" de las tuplas: \n"
   ]
  },
  {
   "cell_type": "code",
   "execution_count": 34,
   "metadata": {},
   "outputs": [
    {
     "data": {
      "text/plain": [
       "'ojo'"
      ]
     },
     "execution_count": 34,
     "metadata": {},
     "output_type": "execute_result"
    }
   ],
   "source": [
    "elem1, elem2 = (1,\"ojo\")\n",
    "\n",
    "elem2\n",
    "\n"
   ]
  },
  {
   "cell_type": "code",
   "execution_count": 38,
   "metadata": {},
   "outputs": [
    {
     "name": "stdout",
     "output_type": "stream",
     "text": [
      "Carla  tiene un  conejo\n",
      "Cristina  tiene un  gato\n",
      "Diego  tiene un  perro\n"
     ]
    }
   ],
   "source": [
    "### Otro uso del desempaque de tuplas:\n",
    "nom_mascota = [(\"Carla\", \"conejo\"), (\"Cristina\", \"gato\"), (\"Diego\", \"perro\")]\n",
    "#nombre, mascota\n",
    "for nombre, mascotaa in nom_mascota:\n",
    "    print(nombre, \" tiene un \", mascotaa)\n",
    "    #print(elem)"
   ]
  },
  {
   "cell_type": "markdown",
   "metadata": {},
   "source": [
    "Esto es útil cuando queremos retornar más de un elemento de una función."
   ]
  },
  {
   "cell_type": "code",
   "execution_count": 40,
   "metadata": {},
   "outputs": [],
   "source": [
    "def grado_escolar(edad):\n",
    "    \n",
    "    ''' calcula el grado escolar al que pertences segun tu edad\n",
    "    Input: \n",
    "    edad : int\n",
    "    output: tupla, compuestad de \n",
    "        grado: string\n",
    "        esp: especifico que grado\n",
    "    \n",
    "    '''\n",
    "    assert edad >= 0\n",
    "    \n",
    "    if ((edad < 6) or (edad > 17)):\n",
    "        return \"No está en edad escolar\"\n",
    "\n",
    "    elif ((edad >=6) and (edad < 12)):\n",
    "        grado = \"Primaria\"\n",
    "        if edad == 6:\n",
    "            esp = \"1er grado\"\n",
    "        elif edad == 7:\n",
    "            esp = \"2do grado\"\n",
    "        elif edad == 8:\n",
    "            esp = \"3er grado\"\n",
    "        elif edad == 9:\n",
    "            esp = \"4to grado\"\n",
    "        elif edad == 10:\n",
    "            esp = \"5to grado\"\n",
    "        else:\n",
    "            esp = \"6to grado\"      \n",
    "    else:\n",
    "        grado = \"Secundaria\"\n",
    "        if edad == 12:\n",
    "            esp = \"1er año\"\n",
    "        elif edad == 13:\n",
    "            esp = \"2do año\"\n",
    "        elif edad == 14:\n",
    "            esp = \"3er año\"\n",
    "        elif edad == 15:\n",
    "            esp = \"4to año\"\n",
    "        else:\n",
    "            esp = \"5to año\"\n",
    "            \n",
    "    return grado, esp"
   ]
  },
  {
   "cell_type": "code",
   "execution_count": 42,
   "metadata": {},
   "outputs": [
    {
     "ename": "AssertionError",
     "evalue": "",
     "output_type": "error",
     "traceback": [
      "\u001b[0;31m---------------------------------------------------------------------------\u001b[0m",
      "\u001b[0;31mAssertionError\u001b[0m                            Traceback (most recent call last)",
      "\u001b[0;32m<ipython-input-42-2c5e3c07a37e>\u001b[0m in \u001b[0;36m<module>\u001b[0;34m\u001b[0m\n\u001b[0;32m----> 1\u001b[0;31m \u001b[0mgrado_escolar\u001b[0m\u001b[0;34m(\u001b[0m\u001b[0;34m-\u001b[0m\u001b[0;36m1\u001b[0m\u001b[0;34m)\u001b[0m\u001b[0;34m\u001b[0m\u001b[0;34m\u001b[0m\u001b[0m\n\u001b[0m",
      "\u001b[0;32m<ipython-input-40-abee6b36ff9d>\u001b[0m in \u001b[0;36mgrado_escolar\u001b[0;34m(edad)\u001b[0m\n\u001b[1;32m      9\u001b[0m \u001b[0;34m\u001b[0m\u001b[0m\n\u001b[1;32m     10\u001b[0m     '''\n\u001b[0;32m---> 11\u001b[0;31m     \u001b[0;32massert\u001b[0m \u001b[0medad\u001b[0m \u001b[0;34m>\u001b[0m \u001b[0;36m0\u001b[0m\u001b[0;34m\u001b[0m\u001b[0;34m\u001b[0m\u001b[0m\n\u001b[0m\u001b[1;32m     12\u001b[0m     \u001b[0;32mif\u001b[0m \u001b[0;34m(\u001b[0m\u001b[0;34m(\u001b[0m\u001b[0medad\u001b[0m \u001b[0;34m<\u001b[0m \u001b[0;36m6\u001b[0m\u001b[0;34m)\u001b[0m \u001b[0;34m|\u001b[0m \u001b[0;34m(\u001b[0m\u001b[0medad\u001b[0m \u001b[0;34m>\u001b[0m \u001b[0;36m17\u001b[0m\u001b[0;34m)\u001b[0m\u001b[0;34m)\u001b[0m\u001b[0;34m:\u001b[0m\u001b[0;34m\u001b[0m\u001b[0;34m\u001b[0m\u001b[0m\n\u001b[1;32m     13\u001b[0m         \u001b[0;32mreturn\u001b[0m \u001b[0;34m\"No está en edad escolar\"\u001b[0m\u001b[0;34m\u001b[0m\u001b[0;34m\u001b[0m\u001b[0m\n",
      "\u001b[0;31mAssertionError\u001b[0m: "
     ]
    }
   ],
   "source": [
    "grado_escolar(-1)"
   ]
  },
  {
   "cell_type": "code",
   "execution_count": 48,
   "metadata": {},
   "outputs": [],
   "source": [
    "grado_, esp_ = grado_escolar(15)"
   ]
  },
  {
   "cell_type": "code",
   "execution_count": 50,
   "metadata": {},
   "outputs": [
    {
     "data": {
      "text/plain": [
       "'Secundaria'"
      ]
     },
     "execution_count": 50,
     "metadata": {},
     "output_type": "execute_result"
    }
   ],
   "source": [
    "grado_"
   ]
  },
  {
   "cell_type": "markdown",
   "metadata": {},
   "source": [
    "### Operaciones con tuplas \n",
    "\n",
    "Se pueden hacer algunas operaciones con tuplas (eso no significa que las tuplas dejen de ser inmutables)"
   ]
  },
  {
   "cell_type": "code",
   "execution_count": 10,
   "metadata": {},
   "outputs": [
    {
     "name": "stdout",
     "output_type": "stream",
     "text": [
      "(1, 2, 3, 4, 5, 6, 7, 8)\n"
     ]
    },
    {
     "ename": "TypeError",
     "evalue": "unsupported operand type(s) for -: 'tuple' and 'tuple'",
     "output_type": "error",
     "traceback": [
      "\u001b[0;31m---------------------------------------------------------------------------\u001b[0m",
      "\u001b[0;31mTypeError\u001b[0m                                 Traceback (most recent call last)",
      "Cell \u001b[0;32mIn[10], line 5\u001b[0m\n\u001b[1;32m      2\u001b[0m tupla_b \u001b[38;5;241m=\u001b[39m (\u001b[38;5;241m5\u001b[39m,\u001b[38;5;241m6\u001b[39m,\u001b[38;5;241m7\u001b[39m,\u001b[38;5;241m8\u001b[39m)\n\u001b[1;32m      3\u001b[0m \u001b[38;5;28mprint\u001b[39m(tupla_a \u001b[38;5;241m+\u001b[39m tupla_b)\n\u001b[0;32m----> 5\u001b[0m \u001b[43mtupla_a\u001b[49m\u001b[43m \u001b[49m\u001b[38;5;241;43m-\u001b[39;49m\u001b[43m \u001b[49m\u001b[43mtupla_b\u001b[49m \u001b[38;5;66;03m## no se puede restar\u001b[39;00m\n",
      "\u001b[0;31mTypeError\u001b[0m: unsupported operand type(s) for -: 'tuple' and 'tuple'"
     ]
    }
   ],
   "source": [
    "tupla_a = (1,2,3,4)\n",
    "tupla_b = (5,6,7,8)\n",
    "print(tupla_a + tupla_b)\n",
    "\n",
    "tupla_a - tupla_b ## no se puede restar"
   ]
  },
  {
   "cell_type": "markdown",
   "metadata": {},
   "source": [
    "## Conjuntos\n",
    "\n",
    "Los conjuntos son tipos de datos **mutables** pero los elementos que los componen  son **únicos**. \n",
    "\n",
    "Estos son valores no ordenados. \n",
    "\n",
    "\n",
    "Estos son creados usando llaves {}"
   ]
  },
  {
   "cell_type": "code",
   "execution_count": 58,
   "metadata": {},
   "outputs": [],
   "source": [
    "set_a = {1,2,3,4,4,4,4}\n",
    "set_mult = {True, False, True, \"hola\", 1}\n",
    "\n",
    "set_b = set('abracadabra') ## Utilizando el constructor \n"
   ]
  },
  {
   "cell_type": "code",
   "execution_count": 62,
   "metadata": {},
   "outputs": [
    {
     "data": {
      "text/plain": [
       "{'a', 'b', 'c', 'd', 'r'}"
      ]
     },
     "execution_count": 62,
     "metadata": {},
     "output_type": "execute_result"
    }
   ],
   "source": [
    "set_b"
   ]
  },
  {
   "cell_type": "markdown",
   "metadata": {},
   "source": [
    "### Métodos de los conjuntos\n",
    "```\n",
    "s1 = {1,2,3,4}\n",
    "s2 = {3,4,5,6}\n",
    "```\n",
    "| Método         | Descripción                                                       | Ejemplo                  |\n",
    "|----------------|-------------------------------------------------------------------|---------------------------------|\n",
    "| `add()`       | Añade `x` al conjunto si no existe en este.         | `s1.add(5)`                      |\n",
    "| `union()`    | Devuelve un nuevo conjunto con todos los elementos de ambos sets. | `new_set = s1.union(s2)`         |\n",
    "| `update()`   | Añade los elementos de `s2` a `s1`.                                | `s1.update(s2)`                  |\n",
    "| `intersection()` | Devuelve un nuevo conjunto con los elementos comunes a ambos sets. | `set_comun = s1.intersection(s2)`|\n",
    "| `difference()`  | Devuelve un nuevo conjunto con los elementos de `s1` que no están en `s2`. | `diff_set = s1.difference(s2)`  |\n",
    "| `remove()`    | Elimina  `x` del conjunto. Da error si no existe.| `s1.remove(5)`                   |\n",
    "| `discard()`   | Elimina `x` si existe en este.          | `s1.discard(5)`                  |\n",
    "| `pop()`        | Elimina y retorna elemento aleatorio del conjunto.            | `element = s1.pop()`             |\n",
    "| `clear()`      | Elimina todos los elementos del conjunto.                         | `s1.clear()`                     |\n",
    "| `issubset(s2)` | Verifica si elementos de `s1` están en `s2`.            | `s1.issubset(s2)`               |\n",
    "| `issuperset(s2)` | Comprueba si todos los elementos de `s2` están en `s1`.          | `s1.issuperset(s2)`             |\n"
   ]
  },
  {
   "cell_type": "code",
   "execution_count": 84,
   "metadata": {},
   "outputs": [],
   "source": [
    "s1 = {1,2,3,4}\n",
    "s2 = {3,4,5,6}\n",
    "s3  = {3,4,10}"
   ]
  },
  {
   "cell_type": "code",
   "execution_count": 86,
   "metadata": {},
   "outputs": [
    {
     "data": {
      "text/plain": [
       "False"
      ]
     },
     "execution_count": 86,
     "metadata": {},
     "output_type": "execute_result"
    }
   ],
   "source": [
    "s3.issubset(s1)\n"
   ]
  },
  {
   "cell_type": "code",
   "execution_count": 88,
   "metadata": {},
   "outputs": [],
   "source": [
    "set_a = set(range(1,10))\n",
    "set_b = set(range(5,15))\n",
    "\n",
    "#Unión\n",
    "#set_a | set_b  # otra forma de hacer unión. \n",
    "#print(set_a.union(set_b))\n",
    "\n",
    "#Intersección\n",
    "#set_a & set_b # otra forma de hacer intersección\n",
    "#set_\n",
    "\n",
    "#Diferencia\n",
    "#set_a - set_b # otra forma de hacer diferencia\n",
    "#set_b - set_a # verifica que el resultado sea diferente a la lína anterior anterior. \n",
    "\n",
    "# Verificando pertenencia\n",
    "#1 in set_a\n"
   ]
  },
  {
   "cell_type": "code",
   "execution_count": 90,
   "metadata": {},
   "outputs": [
    {
     "data": {
      "text/plain": [
       "True"
      ]
     },
     "execution_count": 90,
     "metadata": {},
     "output_type": "execute_result"
    }
   ],
   "source": [
    "1 in set_a"
   ]
  },
  {
   "cell_type": "code",
   "execution_count": 92,
   "metadata": {},
   "outputs": [
    {
     "data": {
      "text/plain": [
       "True"
      ]
     },
     "execution_count": 92,
     "metadata": {},
     "output_type": "execute_result"
    }
   ],
   "source": [
    "'ua' in 'Juana'"
   ]
  },
  {
   "cell_type": "code",
   "execution_count": 94,
   "metadata": {},
   "outputs": [
    {
     "data": {
      "text/plain": [
       "True"
      ]
     },
     "execution_count": 94,
     "metadata": {},
     "output_type": "execute_result"
    }
   ],
   "source": [
    "1 in [1,2,3]"
   ]
  },
  {
   "cell_type": "code",
   "execution_count": 96,
   "metadata": {},
   "outputs": [
    {
     "data": {
      "text/plain": [
       "True"
      ]
     },
     "execution_count": 96,
     "metadata": {},
     "output_type": "execute_result"
    }
   ],
   "source": [
    "2 in (2,3)"
   ]
  },
  {
   "cell_type": "code",
   "execution_count": null,
   "metadata": {},
   "outputs": [],
   "source": []
  }
 ],
 "metadata": {
  "kernelspec": {
   "display_name": "Python [conda env:anaconda3-2]",
   "language": "python",
   "name": "conda-env-anaconda3-2-py"
  },
  "language_info": {
   "codemirror_mode": {
    "name": "ipython",
    "version": 3
   },
   "file_extension": ".py",
   "mimetype": "text/x-python",
   "name": "python",
   "nbconvert_exporter": "python",
   "pygments_lexer": "ipython3",
   "version": "3.8.8"
  }
 },
 "nbformat": 4,
 "nbformat_minor": 4
}
