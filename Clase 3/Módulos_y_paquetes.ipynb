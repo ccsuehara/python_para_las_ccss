{
 "cells": [
  {
   "cell_type": "markdown",
   "id": "68a1fc28-3980-4777-934f-2cf71c09c198",
   "metadata": {},
   "source": [
    "# Módulos y paquetes\n",
    "\n",
    "## A. Importación de módulos y paquetes\n",
    "\n",
    "- En Python, los módulos son archivos que contienen definiciones de funciones, clases y variables que se pueden reutilizar en otros programas.\n",
    "\n",
    "- Los paquetes son directorios que contienen múltiples módulos relacionados.\n",
    "\n",
    "- La importación de módulos y paquetes se realiza utilizando la palabra clave <font color='blue'>import</font>.\n",
    "\n",
    "- Se pueden importar módulos completos, funciones o clases específicas de un módulo, o utilizar un alias para el módulo importado.\n",
    "\n",
    "Ejemplo:\n",
    "\n",
    "~~~python\n",
    "import math                # Importa el módulo math completo\n",
    "from math import sqrt      # Importa la función sqrt del módulo math\n",
    "import numpy as np         # Importa el módulo numpy con el alias np\n",
    "from scipy import stats    # Importa el submódulo stats del paquete scipy\n",
    "\n",
    "import random\n",
    "\n",
    "# Generar un número aleatorio entre 0 y 1\n",
    "numero_aleatorio = random.random()\n",
    "print(\"Número aleatorio:\", numero_aleatorio)\n",
    "\n",
    "# Generar un número entero aleatorio entre 1 y 10\n",
    "numero_entero = random.randint(1, 10)\n",
    "print(\"Número entero aleatorio:\", numero_entero)\n",
    "\n",
    "from math import pi\n",
    "\n",
    "# Calcular el área de un círculo\n",
    "radio = 5\n",
    "area_circulo = pi * radio ** 2\n",
    "print(\"Área del círculo:\", area_circulo)\n",
    "~~~\n",
    "\n",
    "## B. Creación de módulos y paquetes\n",
    "\n",
    "- Para crear un módulo en Python, simplemente crea un archivo con la extensión <font color='blue'>.py</font> y define las funciones, clases y variables que deseas incluir en el módulo.\n",
    "\n",
    "- Para crear un paquete, crea un directorio con un archivo <font color='blue'>__init__.py</font> (que puede estar vacío) y coloca los módulos relacionados dentro de ese directorio.\n",
    "\n",
    "- La estructura de un paquete puede ser similar a la siguiente:\n",
    "\n",
    "~~~bash\n",
    "mi_paquete/\n",
    "    __init__.py\n",
    "    modulo1.py\n",
    "    modulo2.py\n",
    "    subpaquete/\n",
    "        __init__.py\n",
    "        modulo3.py\n",
    "~~~\n",
    "\n",
    "Ejemplo:\n",
    "\n",
    "Supongamos que queremos crear un paquete llamado  <font color='blue'>estadisticas</font> con dos módulos:  <font color='blue'>>descriptiva.py</font> y  <font color='blue'>inferencial.py</font>.\n",
    "\n",
    "~~~python\n",
    "# estadisticas/descriptiva.py\n",
    "def calcular_media(datos):\n",
    "    return sum(datos) / len(datos)\n",
    "\n",
    "def calcular_mediana(datos):\n",
    "    datos_ordenados = sorted(datos)\n",
    "    n = len(datos_ordenados)\n",
    "    if n % 2 == 0:\n",
    "        indice = n // 2\n",
    "        mediana = (datos_ordenados[indice - 1] + datos_ordenados[indice]) / 2\n",
    "    else:\n",
    "        indice = (n - 1) // 2\n",
    "        mediana = datos_ordenados[indice]\n",
    "    return mediana\n",
    "~~~\n",
    "\n",
    "~~~python\n",
    "# estadisticas/inferencial.py\n",
    "from scipy import stats\n",
    "\n",
    "def prueba_t(muestra1, muestra2):\n",
    "    t_statistic, p_value = stats.ttest_ind(muestra1, muestra2)\n",
    "    return t_statistic, p_value\n",
    "\n",
    "def prueba_anova(muestras):\n",
    "    f_statistic, p_value = stats.f_oneway(*muestras)\n",
    "    return f_statistic, p_value\n",
    "~~~\n",
    "\n",
    "Para utilizar los módulos del paquete estadisticas, podemos importarlos de la siguiente manera:\n",
    "\n",
    "~~~python\n",
    "from estadisticas.descriptiva import calcular_media, calcular_mediana\n",
    "from estadisticas.inferencial import prueba_t, prueba_anova\n",
    "\n",
    "datos = [4, 7, 2, 9, 3, 6]\n",
    "media = calcular_media(datos)\n",
    "mediana = calcular_mediana(datos)\n",
    "print(\"Media:\", media)\n",
    "print(\"Mediana:\", mediana)\n",
    "\n",
    "muestra1 = [2, 4, 6, 8, 10]\n",
    "muestra2 = [1, 3, 5, 7, 9]\n",
    "t_statistic, p_value = prueba_t(muestra1, muestra2)\n",
    "print(\"Estadístico t:\", t_statistic)\n",
    "print(\"Valor p:\", p_value)\n",
    "~~~"
   ]
  },
  {
   "cell_type": "markdown",
   "id": "e9c1a3d2-1b68-4f2e-a1f8-cdd5c7535004",
   "metadata": {},
   "source": [
    "Tomado del material preparado por el profesor [Clifford Torres](https://www.linkedin.com/in/ctorresp27) en el marco del Programa Extensión Universitaria de Ciencia del Dato, que dictamos en conjunto. "
   ]
  },
  {
   "cell_type": "code",
   "execution_count": 69,
   "id": "c33f2642-caf0-4683-8b0e-0b2c3b795be1",
   "metadata": {},
   "outputs": [],
   "source": [
    "class Estudiante:\n",
    "    def __init__(self, nombre, carrera,\n",
    "                 universidad, anio_egreso):\n",
    "\n",
    "        ## despues del __init__ defino ATRIBUTOS\n",
    "        self.nombre = nombre\n",
    "        self.universidad = universidad\n",
    "        self.carrera = carrera\n",
    "        self.anio_egreso = anio_egreso\n",
    "        self.notas = []\n",
    "        \n",
    "    ## DEFINO METODOS: \n",
    "    def agrega_nota(self, nota):\n",
    "         self.notas.append(nota)\n",
    "\n",
    "    def modifica_nota(self, nota_nueva, i):\n",
    "        self.notas[i] = nota_nueva\n",
    "\n",
    "    def elimina_nota_mas_baja(self):\n",
    "        self.notas.remove(min(self.notas))\n",
    "\n",
    "    def correccion_automatica(self):\n",
    "        self.agrega_nota(5)\n"
   ]
  },
  {
   "cell_type": "code",
   "execution_count": 12,
   "id": "8f34648b-7faa-4cab-92a2-2e40b331d634",
   "metadata": {},
   "outputs": [
    {
     "data": {
      "text/plain": [
       "type"
      ]
     },
     "execution_count": 12,
     "metadata": {},
     "output_type": "execute_result"
    }
   ],
   "source": [
    "type(Estudiante)"
   ]
  },
  {
   "cell_type": "code",
   "execution_count": 49,
   "id": "feda770b-5202-4e66-9768-6034a59d47fc",
   "metadata": {},
   "outputs": [],
   "source": [
    "estudiante1 = Estudiante(\"Carla Solis\",\n",
    "                         \"Economía\",\n",
    "                        \"PUCP\", \"2012\")"
   ]
  },
  {
   "cell_type": "code",
   "execution_count": 51,
   "id": "a4cc9e64-66f0-4943-ad1b-604aef8ac54d",
   "metadata": {},
   "outputs": [
    {
     "data": {
      "text/plain": [
       "[]"
      ]
     },
     "execution_count": 51,
     "metadata": {},
     "output_type": "execute_result"
    }
   ],
   "source": [
    "estudiante1.notas"
   ]
  },
  {
   "cell_type": "code",
   "execution_count": 53,
   "id": "7a1e424e-1dc7-4ecb-850d-9ad486bc8aef",
   "metadata": {},
   "outputs": [],
   "source": [
    "estudiante1.agrega_nota(10)"
   ]
  },
  {
   "cell_type": "code",
   "execution_count": 55,
   "id": "1adc6897-5d65-4229-8bb1-6e05c7e1e5d8",
   "metadata": {},
   "outputs": [],
   "source": [
    "estudiante1.agrega_nota(14)"
   ]
  },
  {
   "cell_type": "code",
   "execution_count": 57,
   "id": "42366e06-3790-4f33-82ac-f52f1cbd4ca9",
   "metadata": {},
   "outputs": [],
   "source": [
    "estudiante1.agrega_nota(14.5)"
   ]
  },
  {
   "cell_type": "code",
   "execution_count": 59,
   "id": "b719bf25-9847-42c9-86aa-1e861feb0c27",
   "metadata": {},
   "outputs": [],
   "source": [
    "estudiante1.agrega_nota(15)"
   ]
  },
  {
   "cell_type": "code",
   "execution_count": 63,
   "id": "a716f095-7840-4180-838f-1e0f7b8b27cb",
   "metadata": {},
   "outputs": [],
   "source": [
    "estudiante1.elimina_nota_mas_baja()"
   ]
  },
  {
   "cell_type": "code",
   "execution_count": 67,
   "id": "109f54e2-3316-4d39-aa33-f3cf546f4d28",
   "metadata": {},
   "outputs": [
    {
     "data": {
      "text/plain": [
       "[14, 14.5, 15]"
      ]
     },
     "execution_count": 67,
     "metadata": {},
     "output_type": "execute_result"
    }
   ],
   "source": [
    "estudiante1.notas"
   ]
  },
  {
   "cell_type": "code",
   "execution_count": 71,
   "id": "6d88487e-a2c2-4843-9b41-d46eb4a39340",
   "metadata": {},
   "outputs": [
    {
     "data": {
      "text/plain": [
       "'Carla Solis'"
      ]
     },
     "execution_count": 71,
     "metadata": {},
     "output_type": "execute_result"
    }
   ],
   "source": [
    "estudiante1.nombre"
   ]
  },
  {
   "cell_type": "code",
   "execution_count": 73,
   "id": "af40e48b-a70c-4842-9cf6-3deba5799f60",
   "metadata": {},
   "outputs": [],
   "source": [
    "estudiante1.agrega_nota(20)"
   ]
  },
  {
   "cell_type": "code",
   "execution_count": 77,
   "id": "6a7836db-b5d4-4fdc-b22c-df0e9cec3069",
   "metadata": {},
   "outputs": [
    {
     "data": {
      "text/plain": [
       "[14, 14.5, 15, 20]"
      ]
     },
     "execution_count": 77,
     "metadata": {},
     "output_type": "execute_result"
    }
   ],
   "source": [
    "estudiante1.notas"
   ]
  },
  {
   "cell_type": "code",
   "execution_count": 83,
   "id": "2a07ab01-9a04-4b49-ba4d-736a95544c38",
   "metadata": {},
   "outputs": [],
   "source": [
    "lista_personas = []\n",
    "for year in range(2010, 2030): \n",
    "    lista_personas.append([\"Carla Solis\",\"Economía\",\"PUCP\", f\"{year}\"]),\n"
   ]
  },
  {
   "cell_type": "code",
   "execution_count": 105,
   "id": "8f81867b-58a0-4bda-9ba4-4a5bf5940e7d",
   "metadata": {},
   "outputs": [
    {
     "data": {
      "text/plain": [
       "[['Carla Solis', 'Economía', 'PUCP', '2010'],\n",
       " ['Carla Solis', 'Economía', 'PUCP', '2011'],\n",
       " ['Carla Solis', 'Economía', 'PUCP', '2012'],\n",
       " ['Carla Solis', 'Economía', 'PUCP', '2013'],\n",
       " ['Carla Solis', 'Economía', 'PUCP', '2014'],\n",
       " ['Carla Solis', 'Economía', 'PUCP', '2015'],\n",
       " ['Carla Solis', 'Economía', 'PUCP', '2016'],\n",
       " ['Carla Solis', 'Economía', 'PUCP', '2017'],\n",
       " ['Carla Solis', 'Economía', 'PUCP', '2018'],\n",
       " ['Carla Solis', 'Economía', 'PUCP', '2019'],\n",
       " ['Carla Solis', 'Economía', 'PUCP', '2020'],\n",
       " ['Carla Solis', 'Economía', 'PUCP', '2021'],\n",
       " ['Carla Solis', 'Economía', 'PUCP', '2022'],\n",
       " ['Carla Solis', 'Economía', 'PUCP', '2023'],\n",
       " ['Carla Solis', 'Economía', 'PUCP', '2024'],\n",
       " ['Carla Solis', 'Economía', 'PUCP', '2025'],\n",
       " ['Carla Solis', 'Economía', 'PUCP', '2026'],\n",
       " ['Carla Solis', 'Economía', 'PUCP', '2027'],\n",
       " ['Carla Solis', 'Economía', 'PUCP', '2028'],\n",
       " ['Carla Solis', 'Economía', 'PUCP', '2029']]"
      ]
     },
     "execution_count": 105,
     "metadata": {},
     "output_type": "execute_result"
    }
   ],
   "source": [
    "lista_personas"
   ]
  },
  {
   "cell_type": "code",
   "execution_count": 91,
   "id": "880d1582-912d-400a-9a1f-cf68510e34b6",
   "metadata": {},
   "outputs": [],
   "source": [
    "estudiantes_objeto = {}\n",
    "for i, persona in enumerate(lista_personas):\n",
    "    estudiantes_objeto[i] = Estudiante(persona[0], persona[1],\n",
    "                                       persona[2], persona[3])\n",
    "    "
   ]
  }
 ],
 "metadata": {
  "kernelspec": {
   "display_name": "Python [conda env:anaconda3-2]",
   "language": "python",
   "name": "conda-env-anaconda3-2-py"
  },
  "language_info": {
   "codemirror_mode": {
    "name": "ipython",
    "version": 3
   },
   "file_extension": ".py",
   "mimetype": "text/x-python",
   "name": "python",
   "nbconvert_exporter": "python",
   "pygments_lexer": "ipython3",
   "version": "3.8.8"
  }
 },
 "nbformat": 4,
 "nbformat_minor": 5
}
