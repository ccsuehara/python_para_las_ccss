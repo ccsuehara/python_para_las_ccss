{
 "cells": [
  {
   "cell_type": "code",
   "execution_count": 1,
   "id": "7beb5cf6-2037-4799-b26e-18419ec59336",
   "metadata": {},
   "outputs": [
    {
     "data": {
      "text/plain": [
       "[1, 2, 3, 4, 5]"
      ]
     },
     "execution_count": 1,
     "metadata": {},
     "output_type": "execute_result"
    }
   ],
   "source": [
    "#Creando una lista#\n",
    "lista = [1, 2, 3, 4, 5] ## los brackets [] son lo principal para crear una lista, los elementos se separan por comas. \n",
    "lista\n"
   ]
  },
  {
   "cell_type": "code",
   "execution_count": 5,
   "id": "15ee855e-0fd0-4111-b980-a3031c966d8b",
   "metadata": {},
   "outputs": [],
   "source": [
    "lista2 = [1, 5, 6, 7]\n",
    "# si no se define la lista, se genera un error."
   ]
  },
  {
   "cell_type": "code",
   "execution_count": 11,
   "id": "b514eece-0063-4058-abe5-79c651028346",
   "metadata": {},
   "outputs": [
    {
     "data": {
      "text/plain": [
       "['Historia',\n",
       " 'Economía',\n",
       " 'Antropología',\n",
       " 'RSP',\n",
       " 'Derecho',\n",
       " 'Sociología',\n",
       " 'Filosofía',\n",
       " 'Psicología',\n",
       " 'Ciencia Política',\n",
       " 'Geografía']"
      ]
     },
     "execution_count": 11,
     "metadata": {},
     "output_type": "execute_result"
    }
   ],
   "source": [
    "cursos = [\"Historia\", \"Economía\", \"Antropología\", \"RSP\", \"Derecho\", \"Sociología\", \"Filosofía\", \"Psicología\", \"Ciencia Política\", \"Geografía\"]\n",
    "cursos"
   ]
  },
  {
   "cell_type": "code",
   "execution_count": 13,
   "id": "a877a4df-f977-4def-b81a-56e8695b950e",
   "metadata": {},
   "outputs": [
    {
     "data": {
      "text/plain": [
       "[5, 'hola', 50.55, True, 'chau']"
      ]
     },
     "execution_count": 13,
     "metadata": {},
     "output_type": "execute_result"
    }
   ],
   "source": [
    "mi_lista = [5, \"hola\", 50.55, True, \"chau\"]\n",
    "mi_lista"
   ]
  },
  {
   "cell_type": "code",
   "execution_count": 17,
   "id": "83dd4385-4d3a-46f8-b42b-e3777928569d",
   "metadata": {},
   "outputs": [
    {
     "data": {
      "text/plain": [
       "[]"
      ]
     },
     "execution_count": 17,
     "metadata": {},
     "output_type": "execute_result"
    }
   ],
   "source": [
    "vacia=[]\n",
    "vacia"
   ]
  },
  {
   "cell_type": "code",
   "execution_count": null,
   "id": "1de583b2-39aa-4c67-ab03-26c870788f78",
   "metadata": {},
   "outputs": [],
   "source": []
  },
  {
   "cell_type": "code",
   "execution_count": null,
   "id": "41f7eb36-d804-4712-a24c-57ff4eedd9bd",
   "metadata": {},
   "outputs": [],
   "source": []
  },
  {
   "cell_type": "code",
   "execution_count": null,
   "id": "5482bbef-fc73-40b1-b0ac-b8ed4e8a83b3",
   "metadata": {},
   "outputs": [],
   "source": []
  },
  {
   "cell_type": "code",
   "execution_count": null,
   "id": "ebbd397a-470f-4929-ae7b-f77c7ff456aa",
   "metadata": {},
   "outputs": [],
   "source": []
  },
  {
   "cell_type": "code",
   "execution_count": null,
   "id": "d4a0ac4a-a63f-42d7-89c6-8e2f0b6d3ce9",
   "metadata": {},
   "outputs": [],
   "source": []
  }
 ],
 "metadata": {
  "kernelspec": {
   "display_name": "Python [conda env:base] *",
   "language": "python",
   "name": "conda-base-py"
  },
  "language_info": {
   "codemirror_mode": {
    "name": "ipython",
    "version": 3
   },
   "file_extension": ".py",
   "mimetype": "text/x-python",
   "name": "python",
   "nbconvert_exporter": "python",
   "pygments_lexer": "ipython3",
   "version": "3.12.7"
  }
 },
 "nbformat": 4,
 "nbformat_minor": 5
}
