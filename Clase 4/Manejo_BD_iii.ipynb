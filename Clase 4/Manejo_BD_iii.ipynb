{
 "cells": [
  {
   "cell_type": "markdown",
   "metadata": {
    "vscode": {
     "languageId": "plaintext"
    }
   },
   "source": [
    "# Manejo de bases de datos para las ciencias sociales III"
   ]
  },
  {
   "cell_type": "markdown",
   "metadata": {},
   "source": [
    "### Juntar datos (merge)\n",
    "\n",
    "A veces tenemos los datos que nos interesan, esparcidos en diferentes dataframes.   \n",
    "1er paso para hacer la unión de datos: Identificar el identificador único!\n"
   ]
  },
  {
   "cell_type": "markdown",
   "metadata": {},
   "source": [
    "\n",
    "La sintaxis más general de un merge es la siguiente: \n",
    "\n",
    "``` python\n",
    "pd.merge(left = left_df,\n",
    "         right=right_df,\n",
    "         left_on=colname, \n",
    "         right_on=colname,\n",
    "         how=merge_type)\n",
    "\n",
    "```\n",
    "\n",
    "El merge_type (o tipo de merge puede ser):\n",
    "\n",
    "- left: quedan todas las observaciones (por keys) de las mano izquierda\n",
    "- right: quedan todas las observaciones (por keys) de la mano derecha\n",
    "- outer: es la unión de los keys de ambas bases\n",
    "- inner: es la intersección de los keys de ambas bases. "
   ]
  },
  {
   "cell_type": "code",
   "execution_count": 21,
   "metadata": {},
   "outputs": [],
   "source": [
    "\n",
    "import pandas as pd\n",
    "\n",
    "## Leyendo los archivos. \n",
    "locacion_datos = \"aqui  coloca el string con la locación de tus datos\"\n",
    "locacion_datos = \"/Users/ccsuehara/Downloads/Datos_abiertos_admision_2021_1_2024_1.csv\" # este es el mio\n",
    "df = pd.read_csv(locacion_datos)\n",
    "pbi = pd.read_csv(\"datos/pbi.csv\")\n",
    "\n",
    "def str_replace(txt):\n",
    "    return txt.replace(\"á\", \"a\").replace(\"é\", \"e\").replace(\"í\", \"i\").replace(\n",
    "        \"ó\", \"o\").replace(\"ú\", \"u\").replace(\"Á\", \"A\").replace('Prov. Const. del Callao', 'Callao')"
   ]
  },
  {
   "cell_type": "code",
   "execution_count": 25,
   "metadata": {},
   "outputs": [],
   "source": [
    "df['DOMICILIO_DEPA'] = df['DOMICILIO_DEPA'].str.title()\n",
    "pbi_long = pbi.melt(id_vars=\"Anio\", var_name = \"departamento\", value_name = \"pbi\")\n",
    "\n",
    "df['DOMICILIO_DEPA'] = df['DOMICILIO_DEPA'].apply(str_replace)\n",
    "pbi_long['departamento'] = pbi_long['departamento'].apply(str_replace)\n",
    "\n",
    "pbi_2019 = pbi_long[pbi_long['Anio'] == 2019]"
   ]
  },
  {
   "cell_type": "code",
   "execution_count": null,
   "metadata": {},
   "outputs": [],
   "source": [
    "lst = df['DOMICILIO_DEPA'].unique()\n",
    "\n",
    "lst.sort()\n",
    "lst"
   ]
  },
  {
   "cell_type": "code",
   "execution_count": null,
   "metadata": {},
   "outputs": [],
   "source": [
    "pbi_long['departamento'].unique().sort()\n",
    "lst2 = pbi_long['departamento'].unique()\n",
    "lst2.sort()\n",
    "lst2"
   ]
  },
  {
   "cell_type": "code",
   "execution_count": null,
   "metadata": {},
   "outputs": [],
   "source": [
    "pd.merge(df, pbi_2019,\n",
    "        left_on = 'DOMICILIO_DEPA',\n",
    "        right_on = 'departamento'\n",
    "        #, how = 'left'\n",
    "        )\n",
    "\n"
   ]
  },
  {
   "cell_type": "markdown",
   "metadata": {},
   "source": [
    "### Guardando los datos\n",
    "\n",
    "Finalmente, guardamos los datos en un archivo de nuestra elección. Así como los métodos de lectura de archivos, existe una variedad de tipos de archivos a los que podemos guardar nuestros datos. En este caso, guardaremos los datos en un archivo CSV."
   ]
  },
  {
   "cell_type": "code",
   "execution_count": null,
   "metadata": {},
   "outputs": [],
   "source": [
    "df.to_csv(\"datos_procesados.csv\")"
   ]
  }
 ],
 "metadata": {
  "kernelspec": {
   "display_name": "strmlt",
   "language": "python",
   "name": "python3"
  },
  "language_info": {
   "codemirror_mode": {
    "name": "ipython",
    "version": 3
   },
   "file_extension": ".py",
   "mimetype": "text/x-python",
   "name": "python",
   "nbconvert_exporter": "python",
   "pygments_lexer": "ipython3",
   "version": "3.12.3"
  }
 },
 "nbformat": 4,
 "nbformat_minor": 2
}
