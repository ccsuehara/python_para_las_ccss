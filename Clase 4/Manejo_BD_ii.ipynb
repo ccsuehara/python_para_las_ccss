{
 "cells": [
  {
   "cell_type": "markdown",
   "metadata": {},
   "source": [
    "# Manejo de bases de datos para las ciencias sociales II\n"
   ]
  },
  {
   "cell_type": "markdown",
   "metadata": {},
   "source": [
    "## Manipulando la base de datos \n",
    "\n",
    "- [Sorting](#sorting)\n",
    "- [Creación de columnas](#create)\n",
    "- [Casting](#casting)\n",
    "- [Agregando datos](#agg)\n",
    "- [Resumiento datos](#resumiendo-datos-con-pivot_table)\n",
    "- [Manejando valores faltantes](#missing)\n",
    "\n",
    "A continuación veremos cuáles son los métodos más comunes para transformar nuestra base de datos y obtener nueva información. "
   ]
  },
  {
   "cell_type": "code",
   "execution_count": 84,
   "metadata": {},
   "outputs": [],
   "source": [
    "#importando pandas y leyendo nuestros datos\n",
    "\n",
    "import pandas as pd\n"
   ]
  },
  {
   "cell_type": "code",
   "execution_count": 4,
   "metadata": {},
   "outputs": [],
   "source": [
    "## Leyendo los archivos. \n",
    "locacion_datos = \"aqui  coloca el string con la locación de tus datos\"\n",
    "locacion_datos = \"/Users/ccsuehara/Downloads/Datos_abiertos_admision_2021_1_2024_1.csv\" # este es el mio\n",
    "df = pd.read_csv(locacion_datos)"
   ]
  },
  {
   "cell_type": "code",
   "execution_count": null,
   "metadata": {},
   "outputs": [],
   "source": [
    "df.columns"
   ]
  },
  {
   "cell_type": "markdown",
   "metadata": {},
   "source": [
    "<a class=\"anchor\" id=\"sorting\"></a> \n",
    "\n",
    "### Ordenar nuestra base de datos:\n"
   ]
  },
  {
   "cell_type": "code",
   "execution_count": null,
   "metadata": {},
   "outputs": [],
   "source": [
    "## una base de datos en no requiere que esté ordenada, pues la información mostrada es la misma,\n",
    "# pero a veces es útil para visualizarla o para hacer operaciones.\n",
    "df = df.sort_values('ANIO_NACIMIENTO', ascending = False) # por default, ascending es True. \n",
    "# lo mismo, pero inplace: \n",
    "#df.sort_values('ANIO_NACIMIENTO', ascending = False, inplace=True)\n",
    "\n",
    "# ordenar por dos O más columnas: \n",
    "df = df.sort_values(by=['ANIO_NACIMIENTO', 'NACIMIENTO_PAIS'])\n",
    "\n",
    "#df = df.sort_values(by=['ANIO_NACIMIENTO', 'NACIMIENTO_PAIS'], ascending=[False, True])\n",
    "\n"
   ]
  },
  {
   "cell_type": "markdown",
   "metadata": {},
   "source": [
    "<a class=\"anchor\" id=\"create\"></a> \n",
    "\n",
    "### Creando columnas nuevas. \n",
    "\n",
    "A continuación veremos varias maneras de crear variables nuevas, dependiendo de las circunstancias de los datos, así como nuestras necesidades/preferencias.\n",
    "\n"
   ]
  },
  {
   "cell_type": "code",
   "execution_count": 8,
   "metadata": {},
   "outputs": [],
   "source": [
    "# La manera más sencilla: \n",
    "# Crear una nueva columna a partir de la edad del postulante: \n",
    "df['MAYOR_EDAD'] = df['ANIO_NACIMIENTO'] <= 2006"
   ]
  },
  {
   "cell_type": "markdown",
   "metadata": {},
   "source": [
    "Los siguentes métodos que utilizamos para filtrar datos también sirven para crear variables: \n"
   ]
  },
  {
   "cell_type": "markdown",
   "metadata": {},
   "source": [
    "`.loc `\n",
    "\n",
    "Podemos crear nuevas variables ubicando en el dataframe los valores que cumplen cierta condición y reemplazando por otras. "
   ]
  },
  {
   "cell_type": "code",
   "execution_count": null,
   "metadata": {},
   "outputs": [],
   "source": [
    "df['SEXO_'] = 0\n",
    "df.loc[df['SEXO'] == 'FEMENINO', 'SEXO_'] = 1"
   ]
  },
  {
   "cell_type": "markdown",
   "metadata": {},
   "source": [
    "Si queremos cambiar varias categorías a la vez, podemos utilizar  `isin()`, `replace` o `where`: "
   ]
  },
  {
   "cell_type": "code",
   "execution_count": null,
   "metadata": {},
   "outputs": [],
   "source": [
    "paises = ['ARGENTINA', 'COLOMBIA', 'VENEZUELA', 'CHILE', 'ESPAÑA',\n",
    "       'ITALIA', 'EE.UU.', 'BOLIVIA', 'BRAZIL', 'JAPÓN', 'KOREA',\n",
    "       'URUGUAY', 'ECUADOR',  'GUATEMALA', 'HONDURAS',\n",
    "       'SUIZA', 'SIRIA', 'PARAGUAY', 'FRANCIA', 'MÉXICO'] ## df['NACIMIENTO_PAIS'].unique()\n",
    "\n",
    "df[\"extranjero\"] = 0\n",
    "df.loc[df['NACIMIENTO_PAIS'].isin(), \"extranjero\"] = 1"
   ]
  },
  {
   "cell_type": "code",
   "execution_count": null,
   "metadata": {},
   "outputs": [],
   "source": [
    "df['OTRO_SEXO'] = df['SEXO']\n",
    "df.replace({'OTRO_SEXO': {'FEMENINO': 1, 'MASCULINO': 0}}, inplace=True)"
   ]
  },
  {
   "cell_type": "code",
   "execution_count": 21,
   "metadata": {},
   "outputs": [],
   "source": [
    "# import numpy as np\n",
    "# df['extranjero'] = np.where(df['NACIMIENTO_PAIS'].isin(paises), 1, 0)\n"
   ]
  },
  {
   "cell_type": "code",
   "execution_count": null,
   "metadata": {},
   "outputs": [],
   "source": [
    "df.columns"
   ]
  },
  {
   "cell_type": "markdown",
   "metadata": {},
   "source": [
    "Utilizando `eval` podemos hacerlo con una sola expresión: \n"
   ]
  },
  {
   "cell_type": "code",
   "execution_count": null,
   "metadata": {},
   "outputs": [],
   "source": [
    "df['MAYOR_EDAD'] = df.eval('ANIO_NACIMIENTO <= 2006')\n",
    "df['INGRESANTES_NOLIMA'] = df.eval(\"INGRESO == 'NO' & DOMICILIO_DEPA != 'LIMA'\")\n",
    "\n"
   ]
  },
  {
   "cell_type": "markdown",
   "metadata": {},
   "source": [
    "### Una forma más general: Utilizando apply y funciones lambda. \n",
    "\n",
    "Recuerdan las funciones labmda que vimos en la clase pasada? Estas resultan muy útiles para hacer operaciones en columnas de un dataframe cuando la vectorización no es posible. A continuación veremos algunos ejemplos: "
   ]
  },
  {
   "cell_type": "code",
   "execution_count": null,
   "metadata": {},
   "outputs": [],
   "source": [
    "df['MAYOR_EDAD_'] = df['ANIO_NACIMIENTO'].apply(lambda x: x <= 2006)\n"
   ]
  },
  {
   "cell_type": "code",
   "execution_count": 27,
   "metadata": {},
   "outputs": [],
   "source": [
    "def mayor_edad(x):\n",
    "    if x <= 2006:\n",
    "        return True\n",
    "    else:\n",
    "        return False\n",
    "    \n",
    "df['MAYOR_EDAD_'] = df['ANIO_NACIMIENTO'].apply(lambda x: mayor_edad(x))\n",
    "\n",
    "# A  continuación, vamos a limpiar un poco los datos del departamento de nacimiento.\n",
    "def str_replace(txt):\n",
    "    return txt.replace(\"á\", \"a\").replace(\"é\", \"e\").replace(\"í\", \"i\").replace(\n",
    "        \"ó\", \"o\").replace(\"ú\", \"u\").replace(\"Á\", \"A\").replace('Prov. Const. del Callao', 'Callao')"
   ]
  },
  {
   "cell_type": "markdown",
   "metadata": {},
   "source": [
    "También podemos crear variables categóricas en base a variables contínuas con `cut`: "
   ]
  },
  {
   "cell_type": "code",
   "execution_count": 38,
   "metadata": {},
   "outputs": [],
   "source": [
    "categ_labels = ['cat_1', 'cat_2', 'cat_3', 'cat_4']\n",
    "categ_bins = [-1, 5, 10, 15, 20.01]"
   ]
  },
  {
   "cell_type": "code",
   "execution_count": null,
   "metadata": {},
   "outputs": [],
   "source": [
    "df['cat_calificacion'] = pd.cut(df['CALIF_FINAL'],\n",
    "                              bins = categ_bins, labels = categ_labels)"
   ]
  },
  {
   "cell_type": "code",
   "execution_count": null,
   "metadata": {},
   "outputs": [],
   "source": [
    "df['DOMICILIO_DEPA'] = df['DOMICILIO_DEPA'].apply(lambda x: str_replace(x))\n"
   ]
  },
  {
   "cell_type": "markdown",
   "metadata": {},
   "source": [
    "<a class=\"anchor\" id=\"casting\"></a> \n",
    "\n",
    "### Casting: Cambiando tipos de datos: \n",
    "Hay veces cuando necetaremos cambiar el tipo de dato de una columna.    \n",
    "\n",
    "- Por ejemplo, cuando el csv fue leido y una columna que debería ser numérica,  es leída como string.  \n",
    "- Otra situación se da cuando queremos optimizar el uso de memoria de nuestra base de datos, y por ejemplo, queremos reducir el número de decimales que el sistema guarda.  \n",
    "- Luego, cuando concatenamos bases de datos, los tipos entre uno y otro pueden no coincidir, y necesitaremos cambiarlos para poder hacer operaciones.\n"
   ]
  },
  {
   "cell_type": "code",
   "execution_count": null,
   "metadata": {},
   "outputs": [],
   "source": [
    "df['ANIO_NACIMIENTO'] = df['ANIO_NACIMIENTO'].astype('str') \n",
    "\n",
    "# Cuando leemos los archivos, existe un argumento que se llama dtype, que nos permite especificar el tipo de dato de cada columna.\n"
   ]
  },
  {
   "cell_type": "markdown",
   "metadata": {},
   "source": [
    "<a class=\"anchor\" id=\"agg\"></a> \n",
    "\n",
    "### Agregando datos\n",
    "\n",
    "\n",
    "Para hacer agregaciones por columnas: ```axis = 0``` ó ```axis = 'index' ```\n",
    "Para hacer agregaciones por filas: ```axis = 1``` ó ```axis = 'columns' ```\n",
    "\n",
    "(dato curioso: El axis 0 en realidad se refiere a las filas, pero lo invocamos para obtener datos agregados por columnas porque es como lo mantenemos \"fijo\". Lo mismo para hacer operaciones por filas). \n",
    "\n",
    "| Función     | Descripción                                               |\n",
    "|-------------|-----------------------------------------------------------|\n",
    "| `mean`      | Calcula el promedio de los valores.                       |\n",
    "| `median`    | Encuentra la mediana de los valores.                      |\n",
    "| `sum`       | Suma todos los valores.                                   |\n",
    "| `min`       | Encuentra el valor mínimo.                                |\n",
    "| `max`       | Encuentra el valor máximo.                                |\n",
    "| `quantile`  | Calcula el cuantil especificado de los valores.           |\n",
    "| `std`       | Calcula la desviación estándar de los valores.            |\n",
    "| `var`       | Calcula la varianza de los valores.                       |\n",
    "| `count`     | Cuenta el número de valores no nulos.                     |\n"
   ]
  },
  {
   "cell_type": "code",
   "execution_count": 57,
   "metadata": {},
   "outputs": [],
   "source": [
    "pbi = pd.read_csv(\"datos/pbi.csv\")\n",
    "\n",
    "departamentos = ['Amazonas', 'Áncash', 'Apurímac', 'Arequipa', 'Ayacucho',\n",
    "       'Cajamarca', 'Cusco', 'Huancavelica', 'Huánuco', 'Ica', 'Junín',\n",
    "       'La Libertad', 'Lambayeque', 'Lima', 'Prov. Const. del Callao',\n",
    "       'Región Lima', 'Provincia de Lima', 'Loreto', 'Madre de Dios',\n",
    "       'Moquegua', 'Pasco', 'Piura', 'Puno', 'San Martín', 'Tacna', 'Tumbes',\n",
    "       'Ucayali']"
   ]
  },
  {
   "cell_type": "code",
   "execution_count": null,
   "metadata": {},
   "outputs": [],
   "source": [
    "## Hallando la suma total de pbi departamental\n",
    "pbi['total'] = pbi[departamentos].sum(axis=1)\n",
    "\n",
    "## Hallando el promedio de pbi departamental de los últimos años:\n",
    "\n",
    "pbi[departamentos].mean() # axis = 0 es por default. b"
   ]
  },
  {
   "cell_type": "markdown",
   "metadata": {},
   "source": [
    "#### Utilizando el groupby:\n",
    "\n",
    "El groupby nos va a permitir agrupar los datos según una columna y aplicar una función a cada grupo. Es conveniente para cuando querramos obtener datos a un nivel más agregado. "
   ]
  },
  {
   "cell_type": "code",
   "execution_count": null,
   "metadata": {},
   "outputs": [],
   "source": [
    "df.columns"
   ]
  },
  {
   "cell_type": "code",
   "execution_count": null,
   "metadata": {},
   "outputs": [],
   "source": [
    "df.groupby('ESPECIALIDAD')['CALIF_FINAL'].mean()\n",
    "#.sort_values(ascending = False)"
   ]
  },
  {
   "cell_type": "code",
   "execution_count": null,
   "metadata": {},
   "outputs": [],
   "source": [
    "df.groupby(['ESPECIALIDAD', 'INGRESO'])['CALIF_FINAL'].mean()\n",
    "## qué pasa si colocas un .reset_index() al final? \n"
   ]
  },
  {
   "cell_type": "markdown",
   "metadata": {},
   "source": [
    "###  Una forma generalizada de hacer groupbys: "
   ]
  },
  {
   "cell_type": "code",
   "execution_count": null,
   "metadata": {},
   "outputs": [],
   "source": [
    "\n",
    "## aquí utilizamos el método agg para aplicar varias funciones a la vez. \n",
    "nueva_agregacion =df.groupby(['ESPECIALIDAD']).agg(\n",
    "{'CALIF_FINAL': ['mean', 'max','min'], \n",
    " 'ANIO_NACIMIENTO': ['min', 'median']}\n",
    ")\n",
    "\n"
   ]
  },
  {
   "cell_type": "code",
   "execution_count": null,
   "metadata": {},
   "outputs": [],
   "source": [
    "## los nombres de las columnas son una lista de strings, que al tener varios niveles, tendrán un multiIndex. \n",
    "# En este curso no lidiaaremos con  multiIndex, así que te propongo la siguiente solución: \n",
    "\n",
    "nueva_agregacion.columns = [''.join(col).strip() for col in nueva_agregacion.columns.values]\n"
   ]
  },
  {
   "cell_type": "code",
   "execution_count": null,
   "metadata": {},
   "outputs": [],
   "source": [
    "## Otra forma de hacerlo \n",
    "\n",
    "new_col = []\n",
    "for col in nueva_agregacion.columns.values:\n",
    "    a = ''.join(col).strip()\n",
    "    new_col.append(a)\n",
    "nueva_agregacion.columns = new_col\n"
   ]
  },
  {
   "cell_type": "code",
   "execution_count": null,
   "metadata": {},
   "outputs": [],
   "source": [
    "# Otra forma de hacerlo\n",
    "# df.groupby(['ESPECIALIDAD', 'INGRESO']).agg(nueva_var =  ('CALIF_FINAL', 'mean')).reset_index()"
   ]
  },
  {
   "cell_type": "markdown",
   "metadata": {},
   "source": [
    "\n",
    "### resumiendo datos con pivot_table()\n",
    "Pandas tiene un método que nos permite hacer tablas dinámicas (a lo Excel) para resumir información. \n",
    "\n"
   ]
  },
  {
   "cell_type": "code",
   "execution_count": null,
   "metadata": {},
   "outputs": [],
   "source": [
    "df['OTRO_SEXO'] = df['SEXO']\n",
    "df.replace({'OTRO_SEXO': {'FEMENINO': 1, 'MASCULINO': 0}}, inplace=True)"
   ]
  },
  {
   "cell_type": "code",
   "execution_count": null,
   "metadata": {},
   "outputs": [],
   "source": [
    "pd.pivot_table(df, values = 'CALIF_FINAL', #variable con los valores que vamos a resumir\n",
    "                index = 'ESPECIALIDAD', # filas\n",
    "                  columns = 'INGRESO', # columnas\n",
    "                    aggfunc = 'mean' # función de agregación\n",
    "                    )  "
   ]
  },
  {
   "cell_type": "code",
   "execution_count": null,
   "metadata": {},
   "outputs": [],
   "source": [
    "pd.pivot_table(df,\n",
    "                values = ['CALIF_FINAL', 'ANIO_NACIMIENTO'],\n",
    "                index = 'ESPECIALIDAD',\n",
    "                columns = 'INGRESO',\n",
    "                aggfunc = {'CALIF_FINAL': ['mean', 'median'], \n",
    "                            'ANIO_NACIMIENTO': 'median'})"
   ]
  },
  {
   "cell_type": "markdown",
   "metadata": {},
   "source": [
    "### Formatos Long-Wide:\n",
    "\n",
    "<img src=\"../img/wlong.png\" width=\"400\">"
   ]
  },
  {
   "cell_type": "code",
   "execution_count": null,
   "metadata": {},
   "outputs": [],
   "source": [
    "# ejemplo de wide  a long: \n",
    "\n",
    "pbi.melt(id_vars=\"Anio\") ## En caso tuviesemos más de una variable"
   ]
  },
  {
   "cell_type": "code",
   "execution_count": null,
   "metadata": {},
   "outputs": [],
   "source": [
    "#ejemplo de long a wide \n",
    "df_wide = pd.pivot_table(df, values = 'CALIF_FINAL', index = 'ESPECIALIDAD', columns = 'INGRESO', aggfunc = 'mean').reset_index()\n",
    "#ejemplo  de wide a long\n",
    "df_wide.melt(id_vars = 'ESPECIALIDAD', value_vars = ['NO', 'SI'])"
   ]
  },
  {
   "cell_type": "markdown",
   "metadata": {},
   "source": [
    "<a class=\"anchor\" id=\"missing\"></a> \n",
    "\n",
    "### Manejo de datos faltantes:\n",
    "Los datos faltantes pueden suceder por varias razones:\n",
    "-  Cuando no se necesita registrar los datos de dicha observación (por ejemplo, nivel educativo para menores de 3 años).  \n",
    "-  Sin embargo, esto puede afectar nuestro análisis si son errores en el levantamiento de la información.    \n",
    "    - ejemplo de variables sensibles de levantamiento. \n",
    "    - errores de levantamiento de datos. \n",
    "    \n",
    "Su identifcación y tratamiento es importante. \n"
   ]
  },
  {
   "cell_type": "code",
   "execution_count": null,
   "metadata": {},
   "outputs": [],
   "source": [
    "## IDentificando datos faltantes:\n",
    "df.isna().sum() # nos da la cantidad de datos faltantes por columna."
   ]
  },
  {
   "cell_type": "code",
   "execution_count": null,
   "metadata": {},
   "outputs": [],
   "source": [
    "## Observando datos faltantes de un subconjunto de columnas:\n",
    "df[['COLEGIO_DEPA', 'NACIMIENTO_DEPA']].isna().sum()\n",
    "\n",
    "df = df.fillna(0) # reemplaza los datos faltantes por 0.\n",
    "# \n",
    "df[['COLEGIO_DEPA', 'NACIMIENTO_DEPA']].fillna('No especificado')\n",
    "\n",
    "# Otros métodos: notna(), dropna() \n"
   ]
  }
 ],
 "metadata": {
  "kernelspec": {
   "display_name": "strmlt",
   "language": "python",
   "name": "python3"
  },
  "language_info": {
   "codemirror_mode": {
    "name": "ipython",
    "version": 3
   },
   "file_extension": ".py",
   "mimetype": "text/x-python",
   "name": "python",
   "nbconvert_exporter": "python",
   "pygments_lexer": "ipython3",
   "version": "3.12.3"
  }
 },
 "nbformat": 4,
 "nbformat_minor": 2
}
