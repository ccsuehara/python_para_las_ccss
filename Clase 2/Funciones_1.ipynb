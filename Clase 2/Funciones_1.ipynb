{
 "cells": [
  {
   "cell_type": "markdown",
   "metadata": {
    "slideshow": {
     "slide_type": "slide"
    }
   },
   "source": [
    "<a class=\"anchor\" id=\"principio\"></a> \n",
    "\n",
    "# Clase 2: Funciones\n",
    "\n",
    "\n",
    "- [Introdución](#intro)\n",
    "- [Escribiendo una función](#escrib)\n",
    "- [Anatomía de una función ](#anatomia)\n",
    "- [Funciones que no retornan nada](#nada)\n",
    "- [Diferencia entre parámetros y argumentos](#param_arg)    \n",
    "    -[Argumentos posicionales](#posic)  \n",
    "    -[Argumentos con palabras clave](#pclave)   \n",
    "\n"
   ]
  },
  {
   "cell_type": "markdown",
   "metadata": {
    "slideshow": {
     "slide_type": "fragment"
    }
   },
   "source": [
    "<a class=\"anchor\" id=\"intro\"></a>\n",
    "\n",
    "## Introducción\n",
    "\n",
    "*Una función es un bloque de código reutilizable que realiza una tarea específica*, y que puede ser utilizado repetidamente al llamar al nombre de la función. Puede tomar entradas (parámetros) únicas o múltiples, realizar operaciones y devolver un resultado o varios, pero también puede realizar acciones sin necesariamente devolver un valor.\n",
    "\n",
    "\n",
    "- Podemos ver 2 grandes tipos de funciones:  \n",
    "        - Funciones predefinidas de Python (Built-in functions). \n",
    "            - Ya hemos usado varias de ellas, como ```print()``` o ```len()```.  \n",
    "        - Funciones definidas por el usuario.\n",
    "\n",
    "\n",
    "Las funciones en Python sirven para:\n",
    "\n",
    "* Dividir problemas complejos en tareas más pequeñas y manejables\n",
    "* Crear bibliotecas y módulos reutilizables\n",
    "* Implementar algoritmos y lógica de negocio\n",
    "* Manejar eventos en programación orientada a objetos\n",
    "\n",
    "Con las funciones en Python, puedes:\n",
    "\n",
    "* Procesar datos\n",
    "* Realizar cálculos complejos\n",
    "* Interactuar con el sistema operativo\n",
    "* Crear interfaces de usuario\n",
    "* Implementar operaciones de entrada/salida\n",
    "* Gestionar bases de datos\n",
    "* Y mucho más...\n",
    "\n",
    "\n",
    "Los bullets de esta sección más los ejercicios propuestos y las funciones de orden superior de la continuación fueron tomados de la clase de Funciones preparada por [Clifford Torres](https://pe.linkedin.com/in/ctorresp27) en el marco del Programa de Extensión Universitaria del INEI dictado en conjunto. \n",
    "\n",
    "\n"
   ]
  },
  {
   "cell_type": "markdown",
   "metadata": {
    "slideshow": {
     "slide_type": "slide"
    }
   },
   "source": [
    "<a class=\"anchor\" id=\"escrib\"></a>\n",
    "\n",
    "## Escribiendo una función\n",
    "Imaginemos que queremos sumar dos números "
   ]
  },
  {
   "cell_type": "code",
   "execution_count": null,
   "metadata": {
    "slideshow": {
     "slide_type": "fragment"
    }
   },
   "outputs": [],
   "source": [
    "a = 1\n",
    "b = 5\n",
    "\n",
    "c = a + b\n",
    "c"
   ]
  },
  {
   "cell_type": "code",
   "execution_count": 1,
   "metadata": {
    "slideshow": {
     "slide_type": "slide"
    }
   },
   "outputs": [],
   "source": [
    "def sumar_numeros(a, b):\n",
    "    '''\n",
    "    suma dos inputs numericos\n",
    "    Inputs: \n",
    "        a: número,\n",
    "        b: número\n",
    "    Output: \n",
    "        número\n",
    "    '''\n",
    "    c = a + b\n",
    "    return c\n",
    "    "
   ]
  },
  {
   "cell_type": "code",
   "execution_count": 15,
   "metadata": {},
   "outputs": [
    {
     "data": {
      "text/plain": [
       "22"
      ]
     },
     "execution_count": 15,
     "metadata": {},
     "output_type": "execute_result"
    }
   ],
   "source": [
    "c = 10\n",
    "d = 4\n",
    "sumar_numeros(c + 5, d + 3)\n"
   ]
  },
  {
   "cell_type": "markdown",
   "metadata": {
    "slideshow": {
     "slide_type": "slide"
    }
   },
   "source": [
    "<a class=\"anchor\" id=\"anatomia\"></a>\n",
    "\n",
    "### Anatomía de una función \n",
    "\n",
    "Esto como función se vería así:\n",
    "\n",
    "```python\n",
    "def suma_numeros(a, b):\n",
    "    '''\n",
    "    Suma dos números\n",
    "    Insumo (input): \n",
    "        a: número\n",
    "        b: número\n",
    "    Producto (output):\n",
    "        resultado: un número\n",
    "    '''\n",
    "    resultado = a + b\n",
    "    return resultado\n",
    "\n",
    "```\n",
    "Vamos a ver cada una de las partes de esta función:\n",
    "\n",
    "```def ``` es la palabra clave para def-inir una función. Después se coloca el nombre de la función, que en este caso es ``` suma_numeros```. \n",
    "\n",
    "- Después del nombre de la función, se ponen, entre paréntesis, los parámetros de la función. Los parámetros son los _insumos_ de la función. \n",
    "\n",
    "- Luego, viene el ``` : ```. Al conjunto del ``` def```,los parámetros y el dos puntos, se le llama el encabezado de la función. \n",
    "\n",
    "- Luego, tenemos la documentación de la función: Aquí describimos qué hace nuestra función, qué necesita como insumo, y sobre todo de qué tipos son nuestros insumos, y qué produce nuestra función, y de qué tipo es esto. \n",
    "\n",
    "- A ello, le sigue el cuerpo de la función, o las instrucciones de cómo queremos que los parámetros sean usados dentro de nuestra función, o en qué los queremos convertir. Ojo que aquí queremos es dar las instrucciones. Cuando corramos la función, estas instrucciones serán asociadas al nombre de la  función pero no ejecutará ningún código (ni arrojará ningún resultado).\n",
    "\n",
    "- Al final, verás que hay una sentencia que empieza con  ``` return```. Esta palabra le antecede a lo queremos que nos arroje la función. \n",
    "\n",
    "\n",
    "Viéndolo como un diagrama, nuestros parámetros o insumos `a` y `b` son el insumo `x` que le damos a nuestra función `suma_numeros` que nos producirá un resultado `y` (llamado resultado).\n",
    "\n",
    "\n",
    "\n",
    "En el siguiente gráfico se ve que los insumos a y b  entran a la función, y lo que sale es el resultado y. "
   ]
  },
  {
   "cell_type": "markdown",
   "metadata": {
    "slideshow": {
     "slide_type": "slide"
    }
   },
   "source": [
    "<img src=\"img/func.png\" width=\"300\">\n",
    "\n",
    "\n",
    "\n",
    "<br>\n",
    "</br>\n",
    "\n",
    "Definiendo la función, tenemos:"
   ]
  },
  {
   "cell_type": "code",
   "execution_count": null,
   "metadata": {
    "slideshow": {
     "slide_type": "slide"
    }
   },
   "outputs": [],
   "source": [
    "def suma_numeros(a, b):\n",
    "    '''\n",
    "    Suma dos números\n",
    "    Insumo (input): \n",
    "        a: número\n",
    "        b: número\n",
    "    Producto (output):\n",
    "        resultado: un número\n",
    "    '''\n",
    "    resultado = a + b\n",
    "    return resultado"
   ]
  },
  {
   "cell_type": "code",
   "execution_count": null,
   "metadata": {
    "slideshow": {
     "slide_type": "slide"
    }
   },
   "outputs": [],
   "source": [
    "#Y ahora, para usarla, hacemos lo siguiente:\n",
    "\n",
    "#c = suma_numeros(1, 5)\n",
    "#c\n",
    "\n",
    "a = 1 \n",
    "b = 19\n",
    "\n",
    "suma_numeros(suma_numeros(1,2), 10)"
   ]
  },
  {
   "cell_type": "code",
   "execution_count": null,
   "metadata": {
    "slideshow": {
     "slide_type": "fragment"
    }
   },
   "outputs": [],
   "source": [
    "suma_numeros(1,2)"
   ]
  },
  {
   "cell_type": "code",
   "execution_count": null,
   "metadata": {
    "slideshow": {
     "slide_type": "fragment"
    }
   },
   "outputs": [],
   "source": [
    "a = 1\n",
    "b = 2\n",
    "\n",
    "suma_numeros(a,b)"
   ]
  },
  {
   "cell_type": "code",
   "execution_count": null,
   "metadata": {
    "slideshow": {
     "slide_type": "fragment"
    }
   },
   "outputs": [],
   "source": [
    "10 + suma_numeros(1,2)"
   ]
  },
  {
   "cell_type": "code",
   "execution_count": null,
   "metadata": {
    "slideshow": {
     "slide_type": "slide"
    }
   },
   "outputs": [],
   "source": [
    "c = suma_numeros(1,2)\n",
    "c"
   ]
  },
  {
   "cell_type": "code",
   "execution_count": null,
   "metadata": {
    "slideshow": {
     "slide_type": "fragment"
    }
   },
   "outputs": [],
   "source": [
    "a = 1\n",
    "b = 2\n",
    "suma_numeros(a + 5, b + 7)"
   ]
  },
  {
   "cell_type": "code",
   "execution_count": null,
   "metadata": {
    "slideshow": {
     "slide_type": "fragment"
    }
   },
   "outputs": [],
   "source": [
    "a = 1\n",
    "b = 2\n",
    "suma_numeros(a ,suma_numeros(a,b))"
   ]
  },
  {
   "cell_type": "markdown",
   "metadata": {
    "slideshow": {
     "slide_type": "fragment"
    }
   },
   "source": [
    "Hemos hecho varias llamadas a la función (o function call, como convencionalmente se llama en inglés), y hemos visto que podemos hacerlo de diferentes maneras! "
   ]
  },
  {
   "cell_type": "markdown",
   "metadata": {
    "slideshow": {
     "slide_type": "slide"
    }
   },
   "source": [
    "<a class=\"anchor\" id=\"nada\"></a>\n",
    "\n",
    "### Funciones que no retornan nada\n",
    "Podemos definir una función como la de arriba, pero en vez del return, utilizamos el print."
   ]
  },
  {
   "cell_type": "code",
   "execution_count": null,
   "metadata": {},
   "outputs": [],
   "source": [
    "import os ## Este módulo lo usamos para interactuar con el sistema operativo (operating system)\n",
    "\n",
    "def crear_folder(path):\n",
    "    if not os.path.exists(path):\n",
    "        os.makedirs(path)\n",
    "        print(\"Folder fue creado\")\n",
    "    else:\n",
    "        print(\"El folder ya existe\")\n"
   ]
  },
  {
   "cell_type": "code",
   "execution_count": 16,
   "metadata": {
    "slideshow": {
     "slide_type": "slide"
    }
   },
   "outputs": [],
   "source": [
    "def print_suma_numeros(a, b):\n",
    "    '''\n",
    "    Suma dos números\n",
    "    Insumo (input): \n",
    "        a: número\n",
    "        b: número\n",
    "    Producto (output):\n",
    "        no tiene ningun resultado\n",
    "    '''\n",
    "    resultado = a + b\n",
    "    print(resultado)\n",
    "    \n",
    "    \n",
    "    "
   ]
  },
  {
   "cell_type": "markdown",
   "metadata": {
    "slideshow": {
     "slide_type": "slide"
    }
   },
   "source": [
    "Cuando llamamos a la función, vemos que retorna lo siguiente:"
   ]
  },
  {
   "cell_type": "code",
   "execution_count": 22,
   "metadata": {
    "slideshow": {
     "slide_type": "slide"
    }
   },
   "outputs": [
    {
     "data": {
      "text/plain": [
       "'es el primer horario'"
      ]
     },
     "execution_count": 22,
     "metadata": {},
     "output_type": "execute_result"
    }
   ],
   "source": [
    "#c = print_suma_numeros(10, 2)\n",
    "\n",
    "# print(c, c, c,)\n",
    "# type(c)\n",
    "\n",
    "\n",
    "def horario_clase(var): \n",
    "    assert var in [3, 4]\n",
    "    if var == 3:\n",
    "        return \"es el primer horario\"\n",
    "    else:\n",
    "        return \"es el segundo horario\"\n",
    "    \n",
    "horario_clase(3)"
   ]
  },
  {
   "cell_type": "markdown",
   "metadata": {
    "slideshow": {
     "slide_type": "fragment"
    }
   },
   "source": [
    "Ahora, pese a que hay un resultado \"igual\", veremos que hay diferencias entre usar el print y el return. "
   ]
  },
  {
   "cell_type": "code",
   "execution_count": 20,
   "metadata": {
    "slideshow": {
     "slide_type": "slide"
    }
   },
   "outputs": [
    {
     "name": "stdout",
     "output_type": "stream",
     "text": [
      "6\n",
      "<class 'int'>\n",
      "<class 'NoneType'>\n"
     ]
    }
   ],
   "source": [
    "nuevo_c = print_suma_numeros(4, 2) ## Aquí asignamos al resultado de usar la función con print, una variable.  \n",
    "c = sumar_numeros(4,2)\n",
    "print(type(c)) ## Vemos qué tipo retorna el llamado a la función original\n",
    "print(type(nuevo_c)) ##Vemos qué retorna el tipo de la variable\n"
   ]
  },
  {
   "cell_type": "markdown",
   "metadata": {
    "slideshow": {
     "slide_type": "slide"
    }
   },
   "source": [
    "Cuando usamos un print, el tipo del resultado es ```None```. \n",
    "- Tener cuidado respecto a usar print! \n",
    "- Sobre todo si queremos usar el resultado de una función como parte de otro programa más grande."
   ]
  },
  {
   "cell_type": "markdown",
   "metadata": {
    "slideshow": {
     "slide_type": "slide"
    }
   },
   "source": [
    "<a class=\"anchor\" id=\"sinparam\"></a>\n",
    "\n",
    "### Funciones sin parámetros\n",
    "También podemos definir funciones sin parámetros, por ejemplo:"
   ]
  },
  {
   "cell_type": "code",
   "execution_count": 23,
   "metadata": {
    "slideshow": {
     "slide_type": "fragment"
    }
   },
   "outputs": [],
   "source": [
    "def ropa_limpia():\n",
    "    print(\"Hola, esta función te pregunta si aún tienes ropa limpia\")"
   ]
  },
  {
   "cell_type": "code",
   "execution_count": 24,
   "metadata": {},
   "outputs": [
    {
     "name": "stdout",
     "output_type": "stream",
     "text": [
      "Hola, esta función te pregunta si aún tienes ropa limpia\n"
     ]
    }
   ],
   "source": [
    "ropa_limpia()\n"
   ]
  },
  {
   "cell_type": "code",
   "execution_count": null,
   "metadata": {
    "slideshow": {
     "slide_type": "fragment"
    }
   },
   "outputs": [],
   "source": [
    "ropa_limpia()"
   ]
  },
  {
   "cell_type": "markdown",
   "metadata": {
    "slideshow": {
     "slide_type": "slide"
    }
   },
   "source": [
    "<a class=\"anchor\" id=\"param_arg\"></a>\n",
    "\n",
    "### Diferencia entre parámetros y argumentos: \n",
    "\n",
    "**Parámetros** son los nombres de las variables a la hora de definir la función. En el caso de `suma_numeros` es `a` y `b`.  \n",
    "**Argumentos** son los valores que toman los parámetros cuando llamamos a una función. Por ejemplo, cuando `a = 1` y `b = 2`. \n",
    "\n",
    "\n",
    " En resumen, la función se define con parámetros y se llama con argumentos.\n"
   ]
  },
  {
   "cell_type": "markdown",
   "metadata": {
    "slideshow": {
     "slide_type": "slide"
    }
   },
   "source": [
    "<a class=\"anchor\" id=\"posic\"></a>\n",
    "\n",
    "#### Argumentos posicionales\n",
    "\n",
    "- Los argumentos posicionales son pasados a la llamada de la función (function call) sin ser nombrados. \n",
    "- Dependen enteramente del orden en el que fueron colocados cuando creamos nuestra función. \n",
    "- El orden en que pasamos nuestros argumentos **importa**.   \n",
    "Tenemos una función que eleva a una potencia, un determinado número:\n"
   ]
  },
  {
   "cell_type": "code",
   "execution_count": 25,
   "metadata": {
    "slideshow": {
     "slide_type": "subslide"
    }
   },
   "outputs": [
    {
     "data": {
      "text/plain": [
       "8"
      ]
     },
     "execution_count": 25,
     "metadata": {},
     "output_type": "execute_result"
    }
   ],
   "source": [
    "def eleva_potencia(a,b):\n",
    "    '''\n",
    "    Eleva número \"a\" a la \"b\" potencia.\n",
    "    Insumo (input): \n",
    "        a: número\n",
    "        b: número\n",
    "    Producto (output):\n",
    "        resultado: un número\n",
    "    '''\n",
    "    resultado = a**b\n",
    "    return resultado\n",
    "    \n",
    "\n",
    "eleva_potencia(2,3)"
   ]
  },
  {
   "cell_type": "code",
   "execution_count": 26,
   "metadata": {
    "slideshow": {
     "slide_type": "fragment"
    }
   },
   "outputs": [
    {
     "data": {
      "text/plain": [
       "8"
      ]
     },
     "execution_count": 26,
     "metadata": {},
     "output_type": "execute_result"
    }
   ],
   "source": [
    "eleva_potencia(2,3)"
   ]
  },
  {
   "cell_type": "code",
   "execution_count": 27,
   "metadata": {
    "slideshow": {
     "slide_type": "fragment"
    }
   },
   "outputs": [
    {
     "data": {
      "text/plain": [
       "9"
      ]
     },
     "execution_count": 27,
     "metadata": {},
     "output_type": "execute_result"
    }
   ],
   "source": [
    "eleva_potencia(3,2)"
   ]
  },
  {
   "cell_type": "markdown",
   "metadata": {
    "slideshow": {
     "slide_type": "slide"
    }
   },
   "source": [
    "<a class=\"anchor\" id=\"pclave\"></a>\n",
    "\n",
    "### Argumentos con palabras clave\n",
    "Los argumentos con palabras clave son pasados a la llamada de la función con una indicación de qué parámetros queremos alterar, en este caso no importa el orden. \n",
    "\n",
    "En nuestro ejemplo de eleva potencia:"
   ]
  },
  {
   "cell_type": "code",
   "execution_count": 28,
   "metadata": {
    "slideshow": {
     "slide_type": "fragment"
    }
   },
   "outputs": [
    {
     "data": {
      "text/plain": [
       "8"
      ]
     },
     "execution_count": 28,
     "metadata": {},
     "output_type": "execute_result"
    }
   ],
   "source": [
    "eleva_potencia(a = 2, b = 3)"
   ]
  },
  {
   "cell_type": "code",
   "execution_count": 30,
   "metadata": {
    "slideshow": {
     "slide_type": "fragment"
    }
   },
   "outputs": [
    {
     "data": {
      "text/plain": [
       "8"
      ]
     },
     "execution_count": 30,
     "metadata": {},
     "output_type": "execute_result"
    }
   ],
   "source": [
    "eleva_potencia(b = 3, a =  2)"
   ]
  },
  {
   "cell_type": "markdown",
   "metadata": {
    "slideshow": {
     "slide_type": "subslide"
    }
   },
   "source": [
    "Cuando intercalamos la especificación de argumentos que mezclan posición con palabras claves, **primero** se definen a los posicionales y después a los de palabras clave."
   ]
  },
  {
   "cell_type": "code",
   "execution_count": 47,
   "metadata": {
    "slideshow": {
     "slide_type": "fragment"
    }
   },
   "outputs": [
    {
     "data": {
      "text/plain": [
       "4"
      ]
     },
     "execution_count": 47,
     "metadata": {},
     "output_type": "execute_result"
    }
   ],
   "source": [
    "def eleva_potencia_suma( a,b, c = 10):\n",
    "    '''\n",
    "    Eleva número \"a\" a la \"b\" potencia.\n",
    "    Insumo (input): \n",
    "        a: número\n",
    "        b: número\n",
    "    Producto (output):\n",
    "        resultado: un número\n",
    "    '''\n",
    "    \n",
    "\n",
    "    resultado = b**a + c\n",
    "    return resultado  \n",
    "\n",
    "eleva_potencia_suma(1,2, 2)"
   ]
  },
  {
   "cell_type": "code",
   "execution_count": null,
   "metadata": {
    "slideshow": {
     "slide_type": "fragment"
    }
   },
   "outputs": [],
   "source": [
    "eleva_potencia_suma(1, 2)"
   ]
  },
  {
   "cell_type": "markdown",
   "metadata": {
    "slideshow": {
     "slide_type": "subslide"
    }
   },
   "source": [
    "en la práctica, los argumentos posicionales se utilizan para poder llamar por defecto a un valor específico, pero que ocasionalmente podría cambiar. "
   ]
  },
  {
   "cell_type": "code",
   "execution_count": null,
   "metadata": {
    "slideshow": {
     "slide_type": "fragment"
    }
   },
   "outputs": [],
   "source": [
    "eleva_potencia_suma(1, 2, 5)"
   ]
  },
  {
   "cell_type": "code",
   "execution_count": null,
   "metadata": {
    "slideshow": {
     "slide_type": "fragment"
    }
   },
   "outputs": [],
   "source": [
    "eleva_potencia_suma(1, 2, 20)"
   ]
  },
  {
   "cell_type": "markdown",
   "metadata": {
    "slideshow": {
     "slide_type": "skip"
    }
   },
   "source": [
    "Fuentes:\n",
    "\n",
    "- https://automatetheboringstuff.com/chapter3/\n",
    "- http://bedford-computing.co.uk/learning/wp-content/uploads/2015/10/No.Starch.Python.Oct_.2015.ISBN_.1593276036.pdf (Chap 8)\n",
    "- https://www.w3schools.com/python/python_functions.asp\n",
    "\n",
    "\n",
    "Anatomía de una función: \n",
    "https://web.stanford.edu/class/archive/cs/cs106ap/cs106ap.1198/lectures/6-PythonFunctions/6-Python_Functions.pdf"
   ]
  },
  {
   "cell_type": "markdown",
   "metadata": {},
   "source": [
    "Ejercicios\n",
    "\n",
    "1. Crea una función llamada ``calcular_promedio`` que reciba una lista de números como argumento y retorne el promedio de esos números.\n",
    "2. Crea una función llamada ``eliminar_duplicados`` que reciba una lista como argumento y retorne una nueva lista sin elementos duplicados, sin modificar la lista original.\n",
    "3. Crea una función llamada ``calcular_estadisticas`` que reciba una lista de números y retorne la suma, el promedio, el valor mínimo y el valor máximo de la lista.\n",
    "4. Escribe una función llamada ``es_par`` que tome un número como parámetro y devuelva ``True`` si el número es par y ``False`` si es impar.\n",
    "5. Crea una función llamada ``calcular_factorial`` que tome un número entero positivo como parámetro y devuelva su factorial. El factorial de un número ``n`` se define como el producto de todos los números enteros positivos desde 1 hasta ``n``. Por ejemplo, el factorial de 5 es 5 * 4 * 3 * 2 * 1 = 120.\n",
    "6. Escribe una función llamada ``contar_vocales`` que tome una cadena de texto como parámetro y devuelva la cantidad de vocales que contiene. Considera tanto mayúsculas como minúsculas.\n",
    "7. Crea una función llamada ``es_palindromo`` que tome una cadena de texto como parámetro y devuelva ``True`` si la cadena es un palíndromo (se lee igual de izquierda a derecha que de derecha a izquierda) y ``False`` en caso contrario. Por ejemplo, \"radar\" y \"ana\" son palíndromos.\n",
    "8. Escribe una función llamada ``calcular_maximo`` que tome una cantidad variable de números como argumentos y devuelva el número más grande entre ellos.\n",
    "\n",
    "\n",
    "Los ejercicios fueron tomados de la clase de Funciones preparada por [Clifford Torres](https://pe.linkedin.com/in/ctorresp27) en el marco del Programa de Extensión Universitaria del INEI dictado en conjunto. \n"
   ]
  }
 ],
 "metadata": {
  "celltoolbar": "Slideshow",
  "kernelspec": {
   "display_name": "Python 3 (ipykernel)",
   "language": "python",
   "name": "python3"
  },
  "language_info": {
   "codemirror_mode": {
    "name": "ipython",
    "version": 3
   },
   "file_extension": ".py",
   "mimetype": "text/x-python",
   "name": "python",
   "nbconvert_exporter": "python",
   "pygments_lexer": "ipython3",
   "version": "3.11.7"
  }
 },
 "nbformat": 4,
 "nbformat_minor": 4
}
