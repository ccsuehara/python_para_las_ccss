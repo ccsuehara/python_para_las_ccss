{
 "cells": [
  {
   "cell_type": "markdown",
   "metadata": {},
   "source": [
    "# Estructuras de datos en Python\n",
    "- Los tipos de datos que hasta ahora hemos estudiado tienen un sólo elemento. \n",
    "- Hay estructuras más complejas que pueden contener varios de esos tipos de datos.\n",
    "\n",
    "En programación, una estructura de datos sirve para organizar y almacenar datos de la forma más eficiente. Más precisamente, una estructura de datos es una colección de valores de datos, las relaciones entre ellos y las funciones u operaciones que se pueden aplicar a los datos, es decir, es una estructura algebraica sobre datos.\n",
    "\n",
    "\n",
    "<img src=\"../img/estructuras.png\" width=\"400\">\n",
    "\n",
    "[source](https://en.wikipedia.org/wiki/File:Python_3._The_standard_type_hierarchy.png)\n",
    "\n",
    "Vimos las estructuras de datos más primitivas, ahora nos enfocaremos en estructuras que albergan más elementos."
   ]
  },
  {
   "cell_type": "markdown",
   "metadata": {
    "slideshow": {
     "slide_type": "slide"
    }
   },
   "source": [
    "# I. Listas\n",
    "\n",
    "Las listas nos permiten almacenar y trabajar varios tipos de datos como una lista ordenada de valores.\n",
    "\n",
    "Es una estructura de datos muy versátil y puede hacer muchas tareas. Se usa muchísimo al escribir Python ya que es muy sencilla y por ello muy ideal de aprender al principio."
   ]
  },
  {
   "cell_type": "markdown",
   "metadata": {
    "slideshow": {
     "slide_type": "slide"
    }
   },
   "source": [
    "### Creando una lista: "
   ]
  },
  {
   "cell_type": "code",
   "execution_count": 2,
   "metadata": {
    "slideshow": {
     "slide_type": "fragment"
    }
   },
   "outputs": [
    {
     "data": {
      "text/plain": [
       "[1, 2, 3, 4, 5]"
      ]
     },
     "execution_count": 2,
     "metadata": {},
     "output_type": "execute_result"
    }
   ],
   "source": [
    "lista = [1, 2, 3, 4, 5] ## los brackets [] son lo principal para crear una lista, los elementos se separan por comas. \n",
    "lista\n"
   ]
  },
  {
   "cell_type": "markdown",
   "metadata": {
    "slideshow": {
     "slide_type": "subslide"
    }
   },
   "source": [
    "¿Y si llamamos a ```lista2```?"
   ]
  },
  {
   "cell_type": "code",
   "execution_count": null,
   "metadata": {
    "slideshow": {
     "slide_type": "fragment"
    }
   },
   "outputs": [],
   "source": [
    "lista2 # si no se define la lista, se genera un error."
   ]
  },
  {
   "cell_type": "code",
   "execution_count": 13,
   "metadata": {
    "slideshow": {
     "slide_type": "subslide"
    }
   },
   "outputs": [],
   "source": [
    "cursos = [\"Historia\", \"Economía\", \"Antropología\", \"RSP\", \"Derecho\", \"Sociología\", \"Filosofía\", \"Psicología\", \"Ciencia Política\", \"Geografía\"]\n"
   ]
  },
  {
   "cell_type": "markdown",
   "metadata": {
    "slideshow": {
     "slide_type": "slide"
    }
   },
   "source": [
    "Las listas pueden contener elementos de diferentes tipos"
   ]
  },
  {
   "cell_type": "code",
   "execution_count": null,
   "metadata": {
    "slideshow": {
     "slide_type": "fragment"
    }
   },
   "outputs": [],
   "source": [
    "mi_lista = [5, \"hola\", 50.55, True, \"chau\"]\n",
    "mi_lista"
   ]
  },
  {
   "cell_type": "markdown",
   "metadata": {
    "slideshow": {
     "slide_type": "slide"
    }
   },
   "source": [
    "Normalmente trabajamos con listas que tienen datos del mismo tipo,   \n",
    "ya que iteramos con ellas y el código podría arrojar error. "
   ]
  },
  {
   "cell_type": "markdown",
   "metadata": {
    "slideshow": {
     "slide_type": "slide"
    }
   },
   "source": [
    "Aquí creamos una lista vacía"
   ]
  },
  {
   "cell_type": "code",
   "execution_count": null,
   "metadata": {
    "slideshow": {
     "slide_type": "fragment"
    }
   },
   "outputs": [],
   "source": [
    "vacia = []"
   ]
  },
  {
   "cell_type": "code",
   "execution_count": 1,
   "metadata": {},
   "outputs": [
    {
     "data": {
      "text/plain": [
       "[5, 'hola', 50.55, True, 'chau']"
      ]
     },
     "execution_count": 1,
     "metadata": {},
     "output_type": "execute_result"
    }
   ],
   "source": [
    "## Utilizando un constructor de listas\n",
    "mi_lista2 = list((5, \"hola\", 50.55, True, \"chau\"))\n",
    "mi_lista2"
   ]
  },
  {
   "cell_type": "markdown",
   "metadata": {
    "slideshow": {
     "slide_type": "slide"
    }
   },
   "source": [
    "Podemos crear listas al concatenar varias listas:"
   ]
  },
  {
   "cell_type": "code",
   "execution_count": 30,
   "metadata": {
    "slideshow": {
     "slide_type": "fragment"
    }
   },
   "outputs": [],
   "source": [
    "primera_parte = [1, 2, 3, 4, 5]\n",
    "segunda_parte = [6, 7, 8, 9, 10]\n",
    "\n",
    "primera_parte + segunda_parte\n",
    "#new = primera_parte + segunda_parte"
   ]
  },
  {
   "cell_type": "markdown",
   "metadata": {
    "slideshow": {
     "slide_type": "slide"
    }
   },
   "source": [
    "Podemos crear una lista de un tamaño determinado: "
   ]
  },
  {
   "cell_type": "code",
   "execution_count": 10,
   "metadata": {
    "slideshow": {
     "slide_type": "fragment"
    }
   },
   "outputs": [
    {
     "data": {
      "text/plain": [
       "[0, 0, 0, 0, 0, 0, 0, 0, 0, 0, 0, 0, 0, 0, 0]"
      ]
     },
     "execution_count": 10,
     "metadata": {},
     "output_type": "execute_result"
    }
   ],
   "source": [
    "n = 15\n",
    "lst = [0] * n\n",
    "lst"
   ]
  },
  {
   "cell_type": "code",
   "execution_count": 26,
   "metadata": {
    "slideshow": {
     "slide_type": "skip"
    }
   },
   "outputs": [
    {
     "name": "stdout",
     "output_type": "stream",
     "text": [
      "[[2, 3], [2, 3], [2, 3], [2, 3], [2, 3]]\n",
      "[1, [2, 3], [2, 3], [2, 3], [2, 3]]\n"
     ]
    }
   ],
   "source": [
    "elm = [2,3]\n",
    "new = [elm]*5\n",
    "print(new)\n",
    "new[0] = 1\n",
    "print(new)"
   ]
  },
  {
   "cell_type": "code",
   "execution_count": null,
   "metadata": {
    "slideshow": {
     "slide_type": "fragment"
    }
   },
   "outputs": [],
   "source": [
    "n = 10\n",
    "lst = [0, 1, 2] * n\n",
    "print(lst)   ## La multiplicación repite la lista n veces\n"
   ]
  },
  {
   "cell_type": "markdown",
   "metadata": {
    "slideshow": {
     "slide_type": "slide"
    }
   },
   "source": [
    "Podemos ver cuántos elementos tiene una lista"
   ]
  },
  {
   "cell_type": "code",
   "execution_count": null,
   "metadata": {
    "slideshow": {
     "slide_type": "fragment"
    }
   },
   "outputs": [],
   "source": [
    "print(len(mi_lista))\n",
    "print(len(segunda_parte))\n",
    "print(len(lst))"
   ]
  },
  {
   "cell_type": "markdown",
   "metadata": {
    "slideshow": {
     "slide_type": "slide"
    }
   },
   "source": [
    "### Indices de una lista. \n",
    "Las listas son ordenadas por naturaleza, por lo que habrá un índice con el que nos podremos referir a cada elemento de estas. A continuación aprenderemos a utilizar los índices de las listas.\n"
   ]
  },
  {
   "cell_type": "code",
   "execution_count": 22,
   "metadata": {
    "slideshow": {
     "slide_type": "fragment"
    }
   },
   "outputs": [],
   "source": [
    "cursos = ['Historia',\n",
    " 'Economía',\n",
    " 'Antropología',\n",
    " 'RSP',\n",
    " 'Derecho',\n",
    " 'Sociología',\n",
    " 'Filosofía',\n",
    " 'Psicología',\n",
    " 'Ciencia Política',\n",
    " 'Geografía']\n"
   ]
  },
  {
   "cell_type": "code",
   "execution_count": 4,
   "metadata": {
    "slideshow": {
     "slide_type": "fragment"
    }
   },
   "outputs": [
    {
     "data": {
      "text/plain": [
       "'Historia'"
      ]
     },
     "execution_count": 4,
     "metadata": {},
     "output_type": "execute_result"
    }
   ],
   "source": [
    "cursos[0]"
   ]
  },
  {
   "cell_type": "code",
   "execution_count": 5,
   "metadata": {
    "slideshow": {
     "slide_type": "fragment"
    }
   },
   "outputs": [
    {
     "data": {
      "text/plain": [
       "'RSP'"
      ]
     },
     "execution_count": 5,
     "metadata": {},
     "output_type": "execute_result"
    }
   ],
   "source": [
    "cursos[3]"
   ]
  },
  {
   "cell_type": "markdown",
   "metadata": {
    "slideshow": {
     "slide_type": "subslide"
    }
   },
   "source": [
    "A tener en cuenta: Aquí los brackets son diferentes a los que se usan para rebanar strings!"
   ]
  },
  {
   "cell_type": "code",
   "execution_count": 15,
   "metadata": {
    "slideshow": {
     "slide_type": "fragment"
    }
   },
   "outputs": [
    {
     "data": {
      "text/plain": [
       "'bonito'"
      ]
     },
     "execution_count": 15,
     "metadata": {},
     "output_type": "execute_result"
    }
   ],
   "source": [
    "mensaje = \"Mañana será bonito\"\n",
    "mensaje[0:6]\n",
    "mensaje[-6:]\n",
    "\n",
    "#len(mensaje)"
   ]
  },
  {
   "cell_type": "markdown",
   "metadata": {
    "slideshow": {
     "slide_type": "slide"
    }
   },
   "source": [
    "### List Slicing"
   ]
  },
  {
   "cell_type": "code",
   "execution_count": null,
   "metadata": {},
   "outputs": [],
   "source": [
    "cursos = ['Historia',\n",
    " 'Economía',\n",
    " 'Antropología',\n",
    " 'RSP',\n",
    " 'Derecho',\n",
    " 'Sociología',\n",
    " 'Filosofía',\n",
    " 'Psicología',\n",
    " 'Ciencia Política',\n",
    " 'Geografía']"
   ]
  },
  {
   "cell_type": "code",
   "execution_count": 16,
   "metadata": {
    "slideshow": {
     "slide_type": "subslide"
    }
   },
   "outputs": [
    {
     "data": {
      "text/plain": [
       "['Historia', 'Economía', 'Antropología', 'RSP']"
      ]
     },
     "execution_count": 16,
     "metadata": {},
     "output_type": "execute_result"
    }
   ],
   "source": [
    "cursos[0:4] ## Ojo: El ultimo elemento del intervalo no está incluido!"
   ]
  },
  {
   "cell_type": "code",
   "execution_count": 17,
   "metadata": {
    "slideshow": {
     "slide_type": "fragment"
    }
   },
   "outputs": [
    {
     "data": {
      "text/plain": [
       "'Geografía'"
      ]
     },
     "execution_count": 17,
     "metadata": {},
     "output_type": "execute_result"
    }
   ],
   "source": [
    "cursos[-1] # Eligiendo el último elemento de la  lista"
   ]
  },
  {
   "cell_type": "code",
   "execution_count": 18,
   "metadata": {
    "slideshow": {
     "slide_type": "fragment"
    }
   },
   "outputs": [
    {
     "data": {
      "text/plain": [
       "'Ciencia Política'"
      ]
     },
     "execution_count": 18,
     "metadata": {},
     "output_type": "execute_result"
    }
   ],
   "source": [
    "cursos[-2] # El penúltimo"
   ]
  },
  {
   "cell_type": "code",
   "execution_count": 20,
   "metadata": {},
   "outputs": [
    {
     "data": {
      "text/plain": [
       "['Economía', 'Filosofía']"
      ]
     },
     "execution_count": 20,
     "metadata": {},
     "output_type": "execute_result"
    }
   ],
   "source": [
    "cursos[1:10:5]"
   ]
  },
  {
   "cell_type": "code",
   "execution_count": null,
   "metadata": {
    "slideshow": {
     "slide_type": "fragment"
    }
   },
   "outputs": [],
   "source": [
    "print(cursos)\n",
    "print(cursos[1:-2]) # Eligiendo desde el elemento 2 hasta el penúltimo (útil cuando no sabemos el total de los elementos)"
   ]
  },
  {
   "cell_type": "code",
   "execution_count": null,
   "metadata": {
    "slideshow": {
     "slide_type": "fragment"
    }
   },
   "outputs": [],
   "source": [
    "cursos[3:len(cursos)] # Rebanando con el length de la lista"
   ]
  },
  {
   "cell_type": "code",
   "execution_count": 34,
   "metadata": {
    "slideshow": {
     "slide_type": "subslide"
    }
   },
   "outputs": [
    {
     "data": {
      "text/plain": [
       "[1, 3, 5, 7]"
      ]
     },
     "execution_count": 34,
     "metadata": {},
     "output_type": "execute_result"
    }
   ],
   "source": [
    "nums = [0,1,2,3,4,5,6,7,8,9]\n",
    "nums[1:8:2] #Rebanando desde el elemento 1 al 8(no inclusivo) cada 2 elementos. "
   ]
  },
  {
   "cell_type": "code",
   "execution_count": 35,
   "metadata": {
    "slideshow": {
     "slide_type": "fragment"
    }
   },
   "outputs": [
    {
     "data": {
      "text/plain": [
       "[9, 8, 7, 6, 5, 4, 3, 2, 1, 0]"
      ]
     },
     "execution_count": 35,
     "metadata": {},
     "output_type": "execute_result"
    }
   ],
   "source": [
    "nums[::-1] ## Así invertimos una lista.  Si los elementos se quedan vacíos, asume todo el rango. "
   ]
  },
  {
   "cell_type": "markdown",
   "metadata": {
    "slideshow": {
     "slide_type": "slide"
    }
   },
   "source": [
    "Las listas pueden tener indexes fuera de rango. En este ejemplo, el indice 20 se comporta igual que len(lst) + 1.  \n",
    "\n",
    "No tener que preocuparnos por los indexes, puede ser conveniente!"
   ]
  },
  {
   "cell_type": "code",
   "execution_count": 36,
   "metadata": {
    "slideshow": {
     "slide_type": "subslide"
    }
   },
   "outputs": [
    {
     "name": "stdout",
     "output_type": "stream",
     "text": [
      "[0, 1, 2, 3, 4, 5, 6, 7, 8, 9]\n",
      "[0, 1, 2, 3, 4, 5, 6, 7, 8, 9]\n",
      "[0, 1, 2, 3, 4, 5, 6, 7, 8, 9]\n"
     ]
    }
   ],
   "source": [
    "print(nums[0:20]) \n",
    "print(nums[0:len(nums) + 1])\n",
    "print(nums[0:len(nums)])"
   ]
  },
  {
   "cell_type": "code",
   "execution_count": null,
   "metadata": {
    "slideshow": {
     "slide_type": "fragment"
    }
   },
   "outputs": [],
   "source": [
    "len(nums)+ 1"
   ]
  },
  {
   "cell_type": "markdown",
   "metadata": {
    "slideshow": {
     "slide_type": "slide"
    }
   },
   "source": [
    "### Modificando una lista\n",
    "\n",
    "Las listas son objetos **mutables**, lo cual indica que sus valores se pueden modificar después de su creación (se pueden cambiar, agregar, eliminar elementos). Otras estructuras, como los strings y las tuplas, no se pueden cambiar. "
   ]
  },
  {
   "cell_type": "markdown",
   "metadata": {
    "slideshow": {
     "slide_type": "fragment"
    }
   },
   "source": [
    "Para modificar una lista, podemos hacer lo siguiente"
   ]
  },
  {
   "cell_type": "code",
   "execution_count": null,
   "metadata": {
    "slideshow": {
     "slide_type": "fragment"
    }
   },
   "outputs": [],
   "source": [
    "cursos[3] = \"Sociologia\"\n",
    "cursos\n"
   ]
  },
  {
   "cell_type": "markdown",
   "metadata": {
    "slideshow": {
     "slide_type": "slide"
    }
   },
   "source": [
    "### Una propiedad curiosa de las listas (Importante)"
   ]
  },
  {
   "cell_type": "markdown",
   "metadata": {
    "slideshow": {
     "slide_type": "subslide"
    }
   },
   "source": [
    "Imaginen que tenemos una lista, y queremos hacer una copia de dicha lista:"
   ]
  },
  {
   "cell_type": "code",
   "execution_count": null,
   "metadata": {
    "slideshow": {
     "slide_type": "subslide"
    }
   },
   "outputs": [],
   "source": [
    "lst_a = [1,2,3,4]\n",
    "lst_b = lst_a"
   ]
  },
  {
   "cell_type": "markdown",
   "metadata": {
    "slideshow": {
     "slide_type": "subslide"
    }
   },
   "source": [
    "Ahora, modifiquemos la lst_a:"
   ]
  },
  {
   "cell_type": "code",
   "execution_count": null,
   "metadata": {
    "slideshow": {
     "slide_type": "subslide"
    }
   },
   "outputs": [],
   "source": [
    "lst_a[2] = 5\n",
    "lst_a"
   ]
  },
  {
   "cell_type": "markdown",
   "metadata": {
    "slideshow": {
     "slide_type": "subslide"
    }
   },
   "source": [
    "¿ Qué pasó con la otra lista? "
   ]
  },
  {
   "cell_type": "code",
   "execution_count": null,
   "metadata": {
    "slideshow": {
     "slide_type": "subslide"
    }
   },
   "outputs": [],
   "source": [
    "lst_b"
   ]
  },
  {
   "cell_type": "markdown",
   "metadata": {
    "slideshow": {
     "slide_type": "subslide"
    }
   },
   "source": [
    "También ha cambiado!"
   ]
  },
  {
   "cell_type": "markdown",
   "metadata": {
    "slideshow": {
     "slide_type": "slide"
    }
   },
   "source": [
    "### ¿Por qué pasa esto? \n",
    "Cuando creamos una lista, como la lst_b, que hace referencia a otra lista, la lst_a, no estamos creando un objeto nuevo. Simplemente **hacemos referencia** al mismo objeto, pues los dos señalan el mismo espacio que dicho objeto ocupa en la memoria. Cualquier modificación que se haga, ya sea a lst_a o lst_b, modificará al mismo objeto. \n",
    "\n",
    "### ¿Cómo probamos cuándo hacemos referencia al mismo objeto?"
   ]
  },
  {
   "cell_type": "markdown",
   "metadata": {
    "slideshow": {
     "slide_type": "fragment"
    }
   },
   "source": [
    "Aquí introducimos el comando `id`"
   ]
  },
  {
   "cell_type": "code",
   "execution_count": null,
   "metadata": {
    "slideshow": {
     "slide_type": "subslide"
    }
   },
   "outputs": [],
   "source": [
    "print(id(lst_a))\n",
    "print(id(lst_b)) ## Tienen los mismos ids!"
   ]
  },
  {
   "cell_type": "markdown",
   "metadata": {
    "slideshow": {
     "slide_type": "fragment"
    }
   },
   "source": [
    "El operador `is` nos ayuda a determinar si dos variables se refieren al mismo objeto:"
   ]
  },
  {
   "cell_type": "code",
   "execution_count": null,
   "metadata": {
    "slideshow": {
     "slide_type": "fragment"
    }
   },
   "outputs": [],
   "source": [
    "lst_a is lst_b"
   ]
  },
  {
   "cell_type": "markdown",
   "metadata": {
    "slideshow": {
     "slide_type": "slide"
    }
   },
   "source": [
    "### Los nombres de variables son como referencias\n",
    "\n",
    "Cuando nombramos a una variable, la variable no es su nombre en sí, sino es una referencia a un lugar de la memoria. La `lst_a` no es [1,2,3,4] , sino hace referencia a dicho objeto. La `lst_b`, al haberla creado como `lst_b` = `lst_a`, también hace referencia al mismo objeto. \n",
    "\n",
    "Los nombres son como \"etiquetas\" o \"alias\" que se le dan a los objetos. En este caso, hicimos una copia falsa."
   ]
  },
  {
   "cell_type": "markdown",
   "metadata": {
    "slideshow": {
     "slide_type": "fragment"
    }
   },
   "source": [
    "<img src=\"img/lsts.png\" width=\"800\">\n"
   ]
  },
  {
   "cell_type": "markdown",
   "metadata": {
    "slideshow": {
     "slide_type": "slide"
    }
   },
   "source": [
    "### Haciendo una copia que no referencie al mismo objeto:\n",
    "\n",
    "Si queremos hacer una copia independiente basada en una lista preexistente, solo tenemos que hacer:"
   ]
  },
  {
   "cell_type": "code",
   "execution_count": null,
   "metadata": {
    "slideshow": {
     "slide_type": "fragment"
    }
   },
   "outputs": [],
   "source": [
    "lst_c  = lst_a[:]"
   ]
  },
  {
   "cell_type": "code",
   "execution_count": null,
   "metadata": {
    "slideshow": {
     "slide_type": "fragment"
    }
   },
   "outputs": [],
   "source": [
    "id(lst_c)"
   ]
  },
  {
   "cell_type": "code",
   "execution_count": null,
   "metadata": {
    "slideshow": {
     "slide_type": "fragment"
    }
   },
   "outputs": [],
   "source": [
    "id(lst_a)"
   ]
  },
  {
   "cell_type": "code",
   "execution_count": null,
   "metadata": {
    "slideshow": {
     "slide_type": "fragment"
    }
   },
   "outputs": [],
   "source": [
    "lst_c is lst_a"
   ]
  },
  {
   "cell_type": "code",
   "execution_count": null,
   "metadata": {
    "slideshow": {
     "slide_type": "fragment"
    }
   },
   "outputs": [],
   "source": [
    "lst_c == lst_a"
   ]
  },
  {
   "cell_type": "code",
   "execution_count": null,
   "metadata": {
    "slideshow": {
     "slide_type": "fragment"
    }
   },
   "outputs": [],
   "source": [
    "lst_d = lst_a.copy() ## Otra forma de crear una copia "
   ]
  },
  {
   "cell_type": "markdown",
   "metadata": {
    "slideshow": {
     "slide_type": "slide"
    }
   },
   "source": [
    "### Métodos que modifican a las listas\n"
   ]
  },
  {
   "cell_type": "markdown",
   "metadata": {},
   "source": [
    "| Método    | Descripción                                        | Ejemplo de Código                         |\n",
    "|-----------|----------------------------------------------------|-------------------------------------------|\n",
    "| `append()` | Añade un elemento al final de la lista.            | `frutas = ['aguacate', 'banana', 'cereza']`<br>`frutas.append('datil')` |\n",
    "| `extend()` | Añade los elementos de una lista al final de otra lista. | `frutas = ['aguacate', 'banana', 'cereza']`<br>`frutas.extend(['datil', 'fig'])` |\n",
    "| `insert()` | Añade un elemento en un índice específico.        | `frutas = ['aguacate', 'banana', 'cereza']`<br>`frutas.insert(1, 'arándano')` |\n",
    "| `remove()` | Elimina la primera aparición de un elemento.      | `frutas = ['aguacate', 'banana', 'cereza', 'banana']`<br>`frutas.remove('banana')` |\n",
    "| `pop()`    | Elimina y devuelve el elemento en un índice dado. | `frutas = ['aguacate', 'banana', 'cereza', 'datil']`<br>`fruta = frutas.pop(1)` |\n",
    "| `count()`  | Devuelve el número de veces que un valor aparece en la lista. | `frutas = ['cereza', 'banana', 'cereza', 'cereza', 'datil']`<br>`print(frutas.count('cereza'))` |\n",
    "| `sort()`   | Ordena la lista in situ.                           | `frutas = ['cereza', 'aguacate', 'datil', 'aguacate', 'banana']`<br>`frutas.sort()` |\n",
    "| `reverse()`| Invierte el orden de los elementos en la lista.   | `frutas = ['aguacate', 'banana', 'cereza']`<br>`frutas.reverse()` |\n"
   ]
  },
  {
   "cell_type": "markdown",
   "metadata": {},
   "source": [
    "## Ejercicios: \n",
    "\n",
    "Teniendo la siguiente lista:\n",
    "cursos = [\"Historia\", \"Economia\", \"Antropologia\", \"RSP\", \"Derecho\"]\n",
    "\n",
    "- Agrega el curso de \"Sociologia\" al final de la lista.\n",
    "- Agrega el curso de \"Filosofia\" al inicio de la lista.\n",
    "- Reemplaza el curso de \"RSP\" por \"Ciencia Política\"\n",
    "- Extiende la lista con los cursos de \"Psicología\" y \"Geografía\". \n",
    "- Elimina el curso de \"Derecho\" de la lista.\n",
    "\n",
    "\n",
    "num_lst = [1, 1, 2, 3, 4, 5, 6, 7, 8, 1, 9, 9]\n",
    "- Cuenta el número de veces que aparece el número 1 en la lista.\n",
    "- Verifica si el número 5 está en la lista. (hint: usa el operador `in`)\n",
    "- Verifica si el número 9 aparece más de una vez en la lista.\n",
    "- Ordena la lista. \n",
    "- Revierte la lista. "
   ]
  },
  {
   "cell_type": "markdown",
   "metadata": {
    "slideshow": {
     "slide_type": "slide"
    }
   },
   "source": [
    "### Funciones integradas\n",
    "\n",
    "Python viene con funciones integradas, las cuales se pueden aplicar a estructuras de datos como las listas. Aquí las siguientes:\n",
    "\n",
    "| Función    | Descripción                                                  | Ejemplo                    |\n",
    "|------------|--------------------------------------------------------------|---------------------------------------|\n",
    "| `sum()`    | Calcula la suma total de los elementos en la colección.      | `sum([1, 2, 3])` -> `6`               |\n",
    "| `len()`    | Devuelve el número de elementos en la colección.             | `len([1, 2, 3, 4, 5])` -> `5`               |\n",
    "| `max()`    | Encuentra el valor máximo entre los elementos.               | `max([1, 2, 3, 7])` -> `7`               |\n",
    "| `min()`    | Encuentra el valor mínimo entre los elementos.               | `min([-1, 1, 2, 3])` -> `- 1`               |\n",
    "| `sorted()` | Devuelve una nueva lista con los elementos ordenados.        | `sorted([3, 1, 2])` -> `[1, 2, 3]`    |\n"
   ]
  },
  {
   "cell_type": "markdown",
   "metadata": {
    "slideshow": {
     "slide_type": "subslide"
    }
   },
   "source": [
    "Ejercicios: \n",
    "\n",
    "- Crear una lista con los números del 1 al 10. Obtén el número, la suma  y el promedio de los elementos de la lista.\n"
   ]
  },
  {
   "cell_type": "markdown",
   "metadata": {
    "slideshow": {
     "slide_type": "fragment"
    }
   },
   "source": [
    "Se pueden hacer operaciones con los elementos (numéricos) de una lista"
   ]
  },
  {
   "cell_type": "code",
   "execution_count": 37,
   "metadata": {
    "slideshow": {
     "slide_type": "fragment"
    }
   },
   "outputs": [
    {
     "name": "stdout",
     "output_type": "stream",
     "text": [
      "6\n"
     ]
    }
   ],
   "source": [
    "nums = [0,1,2,3,4,5,6,7,8,9]\n",
    "\n",
    "print(nums[1] * nums[2] * nums[3])"
   ]
  },
  {
   "cell_type": "markdown",
   "metadata": {
    "slideshow": {
     "slide_type": "slide"
    }
   },
   "source": [
    "###  Listas de listas"
   ]
  },
  {
   "cell_type": "code",
   "execution_count": null,
   "metadata": {
    "slideshow": {
     "slide_type": "fragment"
    }
   },
   "outputs": [],
   "source": [
    "mat = [[1, 2, 3], [4, 5, 6], [7, 8, 9]]\n",
    "mat"
   ]
  },
  {
   "cell_type": "code",
   "execution_count": null,
   "metadata": {
    "slideshow": {
     "slide_type": "fragment"
    }
   },
   "outputs": [],
   "source": [
    "mat[0][1]"
   ]
  },
  {
   "cell_type": "code",
   "execution_count": null,
   "metadata": {
    "slideshow": {
     "slide_type": "fragment"
    }
   },
   "outputs": [],
   "source": [
    "mat[2][2]"
   ]
  },
  {
   "cell_type": "code",
   "execution_count": null,
   "metadata": {
    "slideshow": {
     "slide_type": "subslide"
    }
   },
   "outputs": [],
   "source": [
    "lista_vacia = []\n",
    "lista_llena= [[1,2,3,4,5], [6,7,8,9,10], ['Economia', ['Psicologia', 'Antropologia'], 'RSP', 'Derecho']]"
   ]
  },
  {
   "cell_type": "code",
   "execution_count": null,
   "metadata": {},
   "outputs": [],
   "source": [
    "lista_llena[2][2]"
   ]
  },
  {
   "cell_type": "code",
   "execution_count": 4,
   "metadata": {},
   "outputs": [
    {
     "name": "stdout",
     "output_type": "stream",
     "text": [
      "[1, 2, 3, 4, 5]\n",
      "2656578881472\n",
      "2656578881472\n",
      "[1, 2, 3, 4, 5, 6]\n"
     ]
    }
   ],
   "source": [
    "lista = [1,2,3,4,5]\n",
    "print(lista)\n",
    "print(id(lista))\n",
    "lista.append(6)\n",
    "print(id(lista))\n",
    "print(lista)\n"
   ]
  }
 ],
 "metadata": {
  "celltoolbar": "Slideshow",
  "kernelspec": {
   "display_name": "Python 3",
   "language": "python",
   "name": "python3"
  },
  "language_info": {
   "codemirror_mode": {
    "name": "ipython",
    "version": 3
   },
   "file_extension": ".py",
   "mimetype": "text/x-python",
   "name": "python",
   "nbconvert_exporter": "python",
   "pygments_lexer": "ipython3",
   "version": "3.8.5"
  }
 },
 "nbformat": 4,
 "nbformat_minor": 4
}
