{
 "cells": [
  {
   "cell_type": "markdown",
   "metadata": {},
   "source": [
    "# Clase 2 (cont.): Funciones\n",
    "<a class=\"anchor\" id=\"intro\"></a>\n",
    "\n",
    "- [1. Alcance de una variable](#alcance)\n",
    "- [2. _*args_ y _**kwargs_](#args)\n",
    "- [3. Más ejemplos](#masejemplos)\n",
    "- [4. Funciones anónimas](#anon)\n",
    "- [5. Funciones de orden superior](#highord)\n"
   ]
  },
  {
   "cell_type": "markdown",
   "metadata": {
    "slideshow": {
     "slide_type": "slide"
    }
   },
   "source": [
    "<a class=\"anchor\" id=\"alcance\"></a>\n",
    "\n",
    "\n",
    "\n",
    "## 1. Alcance de una variable\n",
    "\n",
    "Cuando escribimos funciones, es importante tener claro cuál es el **alcance** de las variables definidas dentro de las funciones. Tomando por ejemplo la función definida en la última clase: \n"
   ]
  },
  {
   "cell_type": "markdown",
   "metadata": {
    "slideshow": {
     "slide_type": "subslide"
    }
   },
   "source": [
    "Enfocándonos en la variable ``` a ```:"
   ]
  },
  {
   "cell_type": "code",
   "execution_count": null,
   "metadata": {
    "slideshow": {
     "slide_type": "fragment"
    }
   },
   "outputs": [],
   "source": [
    "a = 1\n",
    "b = 2\n",
    "\n",
    "\n",
    "\n",
    "def eleva_potencia(a,b):\n",
    "    '''\n",
    "    Eleva número \"a\" a la \"b\" potencia.\n",
    "    Insumo (input): \n",
    "        a: número\n",
    "        b: número\n",
    "    Producto (output):\n",
    "        resultado: un número\n",
    "    '''\n",
    "    c = 10\n",
    "    resultado = a**b \n",
    "    return resultado \n",
    "\n",
    "eleva_potencia(2,2)\n",
    "\n",
    "\n",
    "\n",
    "eleva_potencia(1,1)"
   ]
  },
  {
   "cell_type": "markdown",
   "metadata": {
    "slideshow": {
     "slide_type": "fragment"
    }
   },
   "source": [
    "Vemos que existe, y tiene un **_alcance global_**. Eso quiere decir que fue asignada _fuera_ de una función y su tiempo de vida se dará mientras corra el programa. "
   ]
  },
  {
   "cell_type": "markdown",
   "metadata": {
    "slideshow": {
     "slide_type": "subslide"
    }
   },
   "source": [
    "Sin embargo, si queremos acceder a la variable c, definida dentro de la función:"
   ]
  },
  {
   "cell_type": "code",
   "execution_count": null,
   "metadata": {},
   "outputs": [],
   "source": [
    "c"
   ]
  },
  {
   "cell_type": "markdown",
   "metadata": {
    "slideshow": {
     "slide_type": "subslide"
    }
   },
   "source": [
    "Nos sale un error! Eso es porque ```c``` solo tiene un **_alcance local_**. Es decir, está definida dentro de una función y solo existe cuando esta es llamada. Hacer esta distinción es muy importante porque: \n",
    "\n",
    "1. El código que  está en el alcance global (como nuestra variable a) no puede llamar a código de alcance local (como nuestra variable c). \n",
    "2. Sin  embargo, nuestra código de alcance local puede hacer operaciones con el código de alcance global. \n",
    "\n",
    "3. El código definido dentro de un alcance local no puede usarse en el alcance local de otra función. \n",
    "\n",
    "4. Se puede usar el mismo nombre para una variable si están en diferentes alcances. "
   ]
  },
  {
   "cell_type": "code",
   "execution_count": 27,
   "metadata": {
    "slideshow": {
     "slide_type": "subslide"
    }
   },
   "outputs": [],
   "source": [
    "\n",
    "### Ejemplo del punto 2 \n",
    "var_global = 5\n",
    "def eleva_potencia_a(a,b):\n",
    "    '''\n",
    "    Eleva número \"a\" a la \"b\" potencia.\n",
    "    Insumo (input): \n",
    "        a: número\n",
    "        b: número\n",
    "    Producto (output):\n",
    "        resultado: un número\n",
    "    '''\n",
    "    c = 10 + var_global ##c = 15\n",
    "    resultado = a**b + c\n",
    "    return resultado"
   ]
  },
  {
   "cell_type": "code",
   "execution_count": null,
   "metadata": {
    "slideshow": {
     "slide_type": "fragment"
    }
   },
   "outputs": [],
   "source": [
    "eleva_potencia_a(1,2)"
   ]
  },
  {
   "cell_type": "code",
   "execution_count": 37,
   "metadata": {
    "slideshow": {
     "slide_type": "subslide"
    }
   },
   "outputs": [],
   "source": [
    "### Ejemplo del punto 4\n",
    "z_var = 2\n",
    "\n",
    "def eleva_potencia_b(a,b):\n",
    "    '''\n",
    "    Eleva número \"a\" a la \"b\" potencia.\n",
    "    Insumo (input): \n",
    "        a: número\n",
    "        b: número\n",
    "    Producto (output):\n",
    "        resultado: un número\n",
    "    '''\n",
    "    z_var = 1\n",
    "    c = 0 + z_var\n",
    "    resultado = a**b + c\n",
    "    return resultado"
   ]
  },
  {
   "cell_type": "code",
   "execution_count": null,
   "metadata": {
    "slideshow": {
     "slide_type": "fragment"
    }
   },
   "outputs": [],
   "source": [
    "eleva_potencia_b(1,2) "
   ]
  },
  {
   "cell_type": "code",
   "execution_count": null,
   "metadata": {
    "slideshow": {
     "slide_type": "fragment"
    }
   },
   "outputs": [],
   "source": [
    "eleva_potencia_b(1,2)"
   ]
  },
  {
   "cell_type": "markdown",
   "metadata": {
    "slideshow": {
     "slide_type": "slide"
    }
   },
   "source": [
    "<a class=\"anchor\" id=\"args\"></a>\n",
    "\n",
    "# 2. *args y **kwargs\n",
    "\n",
    "Ejemplo adaptado de https://realpython.com/python-kwargs-and-args/"
   ]
  },
  {
   "cell_type": "markdown",
   "metadata": {
    "slideshow": {
     "slide_type": "fragment"
    }
   },
   "source": [
    "- Los ```*args``` y ```**kwargs``` permiten la flexibilidad en la definición de los parámetros de una función. \n",
    "- Los ```*args``` son tratados como una lista. \n",
    "- Los ```**kwargs``` son tratados como un diccionario. \n",
    "\n",
    "importante: tuple unpacking"
   ]
  },
  {
   "cell_type": "code",
   "execution_count": null,
   "metadata": {
    "slideshow": {
     "slide_type": "subslide"
    }
   },
   "outputs": [],
   "source": [
    "def suma_numeros(*args):\n",
    "    suma = 0\n",
    "\n",
    "    for arg in args:\n",
    "        suma+=arg\n",
    "    return suma"
   ]
  },
  {
   "cell_type": "code",
   "execution_count": null,
   "metadata": {
    "slideshow": {
     "slide_type": "fragment"
    }
   },
   "outputs": [],
   "source": [
    "suma_numeros(1,2,3,4,8,9)"
   ]
  },
  {
   "cell_type": "code",
   "execution_count": null,
   "metadata": {
    "slideshow": {
     "slide_type": "subslide"
    }
   },
   "outputs": [],
   "source": [
    "def checkea_kwargs(**kwargs):\n",
    "    suma = 0\n",
    "\n",
    "    for key, val in kwargs.items():\n",
    "        print(key, val)\n",
    "    "
   ]
  },
  {
   "cell_type": "code",
   "execution_count": null,
   "metadata": {
    "slideshow": {
     "slide_type": "fragment"
    }
   },
   "outputs": [],
   "source": [
    "checkea_kwargs(a = 1, b = 2, c = 3)"
   ]
  },
  {
   "cell_type": "markdown",
   "metadata": {},
   "source": [
    "<a class=\"anchor\" id=\"masejemplos\"></a>\n",
    "\n",
    "##  3. Ejemplos de funciones "
   ]
  },
  {
   "cell_type": "code",
   "execution_count": null,
   "metadata": {
    "slideshow": {
     "slide_type": "slide"
    }
   },
   "outputs": [],
   "source": [
    "# ¿Cómo se vería nuestra función de Cunamás?\n",
    "\n",
    "def clasifica_cunamas(rural, pobreza, num_ccpp_urbano  = False, centros_rural = False,\n",
    "              desnutricion_cronica  = False, es_juntos  = False):\n",
    "    '''\n",
    "    verifica si distrito es cunamas\n",
    "    insumos:\n",
    "    \n",
    "    retorna:\n",
    "        booleano\n",
    "    '''\n",
    "    \n",
    "    if rural:\n",
    "        UMBRAL_POBREZA = 50\n",
    "        UMBRAL_RURAL = 50\n",
    "        DESNUTRICION_CRONICA = 30\n",
    "\n",
    "        es_cunamas = ((pobreza >= UMBRAL_POBREZA) and (centros_rural >= UMBRAL_RURAL) and \\\n",
    "        (desnutricion_cronica >= DESNUTRICION_CRONICA)  \\\n",
    "        and es_juntos) \n",
    "    else:\n",
    "        UMBRAL_POBREZA = 19.1\n",
    "        CCPP_URBANO = 1\n",
    "        es_cunamas =((pobreza >= UMBRAL_POBREZA) and (num_ccpp_urbano >= CCPP_URBANO)) \n",
    "    return es_cunamas"
   ]
  },
  {
   "cell_type": "code",
   "execution_count": null,
   "metadata": {
    "slideshow": {
     "slide_type": "subslide"
    }
   },
   "outputs": [],
   "source": [
    "#Ejemplo urbano \n",
    "rural = False\n",
    "pobreza = 30\n",
    "num_ccpp_urbano = 3\n",
    "\n",
    "clasifica_cunamas(rural, pobreza, num_ccpp_urbano)\n"
   ]
  },
  {
   "cell_type": "code",
   "execution_count": null,
   "metadata": {
    "slideshow": {
     "slide_type": "subslide"
    }
   },
   "outputs": [],
   "source": [
    "#Ejemplo rural\n",
    "rural = True\n",
    "pobreza =  60\n",
    "centros_rural = 51\n",
    "desnutricion_cronica = 40\n",
    "es_juntos = True\n",
    "\n",
    "clasifica_cunamas(rural, pobreza, False ,centros_rural, desnutricion_cronica, es_juntos)\n"
   ]
  },
  {
   "cell_type": "code",
   "execution_count": null,
   "metadata": {
    "slideshow": {
     "slide_type": "slide"
    }
   },
   "outputs": [],
   "source": [
    "## Ejemplo del trio pitagórico\n",
    "set_ = range(1,25)\n",
    "for a in set_:\n",
    "    for b in set_:\n",
    "        for c in set_:\n",
    "            if a**2 + b**2 == c**2:\n",
    "                print(a,b,c)"
   ]
  },
  {
   "cell_type": "code",
   "execution_count": null,
   "metadata": {
    "slideshow": {
     "slide_type": "slide"
    }
   },
   "outputs": [],
   "source": [
    "###Cómo sería como función. \n",
    "\n",
    "def trio_pitagorico(min_, max_): ## Definiendo qué quiero parametrizar. \n",
    "\n",
    "    set_values = range(min_, max_)\n",
    "\n",
    "    lst_trio = []\n",
    "    \n",
    "    for a in set_values:\n",
    "        for b in set_values:\n",
    "            for c in set_values:\n",
    "                if a**2 + b**2 == c**2:\n",
    "                    lst_trio.append((a,b,c))\n",
    "    return lst_trio"
   ]
  },
  {
   "cell_type": "code",
   "execution_count": null,
   "metadata": {
    "slideshow": {
     "slide_type": "slide"
    }
   },
   "outputs": [],
   "source": [
    "ingresos = 100\n",
    "juegos_por_dia = 3\n",
    "\n",
    "def juegos_switch(ingresos, juegos_por_dia):\n",
    "\n",
    "\n",
    "    gastos = 0\n",
    "    precio_juegos_switch = 7\n",
    "    juegos_que_compre = 0\n",
    "    dias = 0 \n",
    "\n",
    "    while gastos < ingresos:\n",
    "        gastos += precio_juegos_switch * juegos_por_dia\n",
    "        juegos_que_compre += juegos_por_dia\n",
    "        dias += 1\n",
    "        \n",
    "    print(f'Me alcanzan para {juegos_que_compre} juegos, en {dias} días y me gasté {gastos} soles')\n"
   ]
  },
  {
   "cell_type": "code",
   "execution_count": null,
   "metadata": {
    "slideshow": {
     "slide_type": "fragment"
    }
   },
   "outputs": [],
   "source": [
    "juegos_switch(2000, 5)"
   ]
  },
  {
   "cell_type": "code",
   "execution_count": null,
   "metadata": {
    "slideshow": {
     "slide_type": "fragment"
    }
   },
   "outputs": [],
   "source": [
    "# El ejemplo de los gatitos\n",
    "\n",
    "gatitos = 0\n",
    "\n",
    "assert gatitos >= 0\n",
    "\n",
    "if gatitos == 1:\n",
    "    print(\"Que lindo gatito!\")\n",
    "elif gatitos >1:\n",
    "    print(\"Que lindos gatitos!\")\n",
    "else:\n",
    "    print(\"Deberia adoptar un gatito\")\n"
   ]
  },
  {
   "cell_type": "markdown",
   "metadata": {
    "slideshow": {
     "slide_type": "subslide"
    }
   },
   "source": [
    "¿Qué pasaría si quiero volver a correr nuestro programa porque nuestro número de gatitos cambia? Tengo que volver a definir una y otra vez la variable ```gatitos```?\n",
    "\n",
    "¿Qué pasaría si quiero agregar más condicionalidades a mi programa? \n",
    "\n",
    "¿Qué pasa si tengo varios amigos (que puedo representar como una lista) que también quieren probar el número de gatitos que tienen?\n",
    "\n"
   ]
  },
  {
   "cell_type": "code",
   "execution_count": null,
   "metadata": {},
   "outputs": [],
   "source": [
    "def contar_gatitos(gatitos):\n",
    "    '''\n",
    "    saluda gatitos dependiendo de cuantos tengas\n",
    "    \n",
    "    Input: un número entero\n",
    "    Output: nada, solo saluda a mi(s) gatitos\n",
    "    '''\n",
    "    assert gatitos >= 0\n",
    "\n",
    "    if gatitos == 1:\n",
    "        print(\"Que lindo gatito!\")\n",
    "    elif gatitos >1:\n",
    "        print(\"Que lindos gatitos!\")\n",
    "    else:\n",
    "        print(\"Deberia adoptar un gatito\")"
   ]
  },
  {
   "cell_type": "code",
   "execution_count": null,
   "metadata": {},
   "outputs": [],
   "source": [
    "contar_gatitos(0)"
   ]
  },
  {
   "cell_type": "markdown",
   "metadata": {
    "slideshow": {
     "slide_type": "slide"
    }
   },
   "source": [
    "<a class=\"anchor\" id=\"anon\"></a>\n",
    "\n",
    "## 4. Funciones anónimas (lambda)\n",
    "\n",
    "Una función lambda es una función anónima chica, que si bien no tiene límites en el número de argumentos, sólo puede tener _una_ expresión. \n"
   ]
  },
  {
   "cell_type": "code",
   "execution_count": null,
   "metadata": {
    "slideshow": {
     "slide_type": "fragment"
    }
   },
   "outputs": [],
   "source": [
    "suma = lambda x, y: x + y\n",
    "suma(5,6)"
   ]
  },
  {
   "cell_type": "code",
   "execution_count": null,
   "metadata": {},
   "outputs": [],
   "source": [
    "potencia = lambda x: x**2\n",
    "list(map(potencia, [1,2,3,4]))"
   ]
  },
  {
   "cell_type": "code",
   "execution_count": null,
   "metadata": {},
   "outputs": [],
   "source": [
    "def myfunc(n):\n",
    "    return lambda a : a * n\n",
    "\n",
    "mydoubler = myfunc(2)\n",
    "print(mydoubler(11))\n",
    "\n",
    "mytripler = myfunc(3)\n",
    "print(mytripler(11))\n",
    "\n",
    "\n",
    "#https://www.w3schools.com/python/python_lambda.asp\n",
    "\n",
    "\n"
   ]
  },
  {
   "cell_type": "markdown",
   "metadata": {
    "slideshow": {
     "slide_type": "fragment"
    }
   },
   "source": [
    "En el capítulo de pandas veremos lo útiles que son las funciones lambda para aplicar cambios no al vector, sino al elemento de la columna. \n"
   ]
  },
  {
   "cell_type": "markdown",
   "metadata": {},
   "source": [
    "<a class=\"anchor\" id=\"highord\"></a>\n",
    "\n",
    "## 5. Funciones de Orden Superior\n",
    "\n",
    "- Las funciones de orden superior son funciones que pueden tomar otras funciones como argumentos y/o devolver funciones como resultado.\n",
    "- En Python, las funciones  <font color='blue'>``map()``</font>,  <font color='blue'>``filter()``</font> y  <font color='blue'>``reduce()``</font> son ejemplos destacados de funciones de orden superior.\n",
    "\n",
    "### ``map()``\n",
    "- La función <font color='blue'>``map()``</font> aplica una función a cada elemento de un iterable (por ejemplo una  lista) y devuelve un nuevo iterable con los resultados."
   ]
  },
  {
   "cell_type": "code",
   "execution_count": null,
   "metadata": {
    "slideshow": {
     "slide_type": "slide"
    }
   },
   "outputs": [],
   "source": [
    "lst = [1,2,3,4,5]\n",
    "\n",
    "def incr(x):\n",
    "    return x + 1\n",
    "\n",
    "def mult(n):\n",
    "    return lambda a : a * n\n",
    "\n",
    "mymultdouble = mult(2)\n",
    "\n",
    "list(map(mymultdouble, lst))"
   ]
  },
  {
   "cell_type": "markdown",
   "metadata": {},
   "source": [
    "### ``filter()``\n",
    "- La función <font color='blue'>``filter()``</font> filtra los elementos de un iterable en función de un predicado (una función que devuelve True o False) y devuelve un nuevo iterable con los elementos que cumplen la condición."
   ]
  },
  {
   "cell_type": "code",
   "execution_count": null,
   "metadata": {
    "slideshow": {
     "slide_type": "fragment"
    }
   },
   "outputs": [],
   "source": [
    "lst_filtrar = [10,1,10,2,10,5]\n",
    "\n",
    "def solo_pares(x):\n",
    "    return x % 2 == 0\n",
    "\n",
    "list(filter(solo_pares, lst_filtrar))"
   ]
  },
  {
   "cell_type": "code",
   "execution_count": null,
   "metadata": {},
   "outputs": [],
   "source": [
    "filtro = lambda x:  x == 10\n",
    "list(filter(filtro, lst_filtrar))"
   ]
  },
  {
   "cell_type": "code",
   "execution_count": null,
   "metadata": {
    "slideshow": {
     "slide_type": "fragment"
    }
   },
   "outputs": [],
   "source": [
    "from functools import reduce\n",
    "reduce(suma, lst)"
   ]
  },
  {
   "cell_type": "markdown",
   "metadata": {
    "slideshow": {
     "slide_type": "fragment"
    }
   },
   "source": [
    "\n",
    "### ``reduce()``\n",
    "- La función <font color='blue'>``reduce()``</font> aplica una función de dos argumentos acumulativamente a los elementos de un iterable, reduciendo el iterable a un único valor.\n",
    "- A partir de Python 3, <font color='blue'>``reduce()``</font> se encuentra en el módulo functools."
   ]
  },
  {
   "cell_type": "code",
   "execution_count": null,
   "metadata": {},
   "outputs": [],
   "source": [
    "from functools import reduce\n",
    "\n",
    "def suma(x, y):\n",
    "    return x + y\n",
    "\n",
    "numeros = [1, 2, 3, 4, 5]\n",
    "suma_total = reduce(suma, numeros)\n",
    "print(suma_total)  # Salida: 15"
   ]
  }
 ],
 "metadata": {
  "celltoolbar": "Slideshow",
  "kernelspec": {
   "display_name": "Python 3",
   "language": "python",
   "name": "python3"
  },
  "language_info": {
   "codemirror_mode": {
    "name": "ipython",
    "version": 3
   },
   "file_extension": ".py",
   "mimetype": "text/x-python",
   "name": "python",
   "nbconvert_exporter": "python",
   "pygments_lexer": "ipython3",
   "version": "3.8.5"
  }
 },
 "nbformat": 4,
 "nbformat_minor": 4
}
